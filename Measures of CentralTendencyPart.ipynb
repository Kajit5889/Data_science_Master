{
 "cells": [
  {
   "cell_type": "markdown",
   "id": "b20d27bc-5a02-4e5b-8472-ab18a437d65a",
   "metadata": {},
   "source": [
    "## Measures of Central Tendency Part"
   ]
  },
  {
   "cell_type": "code",
   "execution_count": 3,
   "id": "4973c249-2b41-4e7a-a9d6-4086b6821e31",
   "metadata": {},
   "outputs": [],
   "source": [
    "## mean (Average)\n",
    "\n",
    "age = [12,13,14,21,24]"
   ]
  },
  {
   "cell_type": "code",
   "execution_count": 1,
   "id": "97ccfafd-483b-4956-8f66-81b93e3e10d4",
   "metadata": {},
   "outputs": [
    {
     "data": {
      "text/plain": [
       "16.8"
      ]
     },
     "execution_count": 1,
     "metadata": {},
     "output_type": "execute_result"
    }
   ],
   "source": [
    "(12 + 13 + 14 + 21 + 24 )/5"
   ]
  },
  {
   "cell_type": "code",
   "execution_count": 4,
   "id": "cb5e2295-7105-411a-88aa-8ad43b7a51df",
   "metadata": {},
   "outputs": [
    {
     "data": {
      "text/plain": [
       "16.8"
      ]
     },
     "execution_count": 4,
     "metadata": {},
     "output_type": "execute_result"
    }
   ],
   "source": [
    "import numpy as np\n",
    "np.mean(age)"
   ]
  },
  {
   "cell_type": "code",
   "execution_count": 5,
   "id": "6397ad57-7c1c-448b-a838-0f7487650bf3",
   "metadata": {},
   "outputs": [],
   "source": [
    "weights = [60,60,40,60, 50,20,80, 30]"
   ]
  },
  {
   "cell_type": "code",
   "execution_count": 6,
   "id": "b05f6f8a-9b02-46e5-9317-846ee81e26d7",
   "metadata": {},
   "outputs": [
    {
     "data": {
      "text/plain": [
       "50.0"
      ]
     },
     "execution_count": 6,
     "metadata": {},
     "output_type": "execute_result"
    }
   ],
   "source": [
    "np.mean(weights)"
   ]
  },
  {
   "cell_type": "code",
   "execution_count": 7,
   "id": "165a3097-d97d-477a-9ef4-df8ebbee699f",
   "metadata": {},
   "outputs": [
    {
     "data": {
      "text/plain": [
       "55.0"
      ]
     },
     "execution_count": 7,
     "metadata": {},
     "output_type": "execute_result"
    }
   ],
   "source": [
    "## Median\n",
    "np.median(weights)"
   ]
  },
  {
   "cell_type": "code",
   "execution_count": null,
   "id": "eb5811a7-1e30-4335-a8b6-0f092f5fcc86",
   "metadata": {},
   "outputs": [],
   "source": [
    "## mode ; numpy this function not available use scipy"
   ]
  },
  {
   "cell_type": "code",
   "execution_count": 10,
   "id": "0a556796-608e-4bf9-958d-c25ec12f8938",
   "metadata": {},
   "outputs": [],
   "source": [
    "from scipy import stats"
   ]
  },
  {
   "cell_type": "code",
   "execution_count": 11,
   "id": "e0fdfc7a-da30-48a6-b818-7d393f059672",
   "metadata": {},
   "outputs": [
    {
     "name": "stderr",
     "output_type": "stream",
     "text": [
      "/tmp/ipykernel_105/4197893964.py:1: FutureWarning: Unlike other reduction functions (e.g. `skew`, `kurtosis`), the default behavior of `mode` typically preserves the axis it acts along. In SciPy 1.11.0, this behavior will change: the default value of `keepdims` will become False, the `axis` over which the statistic is taken will be eliminated, and the value None will no longer be accepted. Set `keepdims` to True or False to avoid this warning.\n",
      "  stats.mode(weights)\n"
     ]
    },
    {
     "data": {
      "text/plain": [
       "ModeResult(mode=array([60]), count=array([3]))"
      ]
     },
     "execution_count": 11,
     "metadata": {},
     "output_type": "execute_result"
    }
   ],
   "source": [
    "stats.mode(weights)"
   ]
  },
  {
   "cell_type": "code",
   "execution_count": null,
   "id": "d6eb3649-4684-4db6-b7a7-bbdc8fcaf278",
   "metadata": {},
   "outputs": [],
   "source": []
  },
  {
   "cell_type": "code",
   "execution_count": null,
   "id": "1edaac0c-94ff-4911-a823-cd43b8327ce1",
   "metadata": {},
   "outputs": [],
   "source": []
  },
  {
   "cell_type": "code",
   "execution_count": null,
   "id": "7ba2533e-d667-4872-b585-b1999a9e1bf5",
   "metadata": {},
   "outputs": [],
   "source": []
  },
  {
   "cell_type": "code",
   "execution_count": null,
   "id": "42a56b9f-4053-4fec-928d-132dca4d0bc6",
   "metadata": {},
   "outputs": [],
   "source": []
  },
  {
   "cell_type": "code",
   "execution_count": null,
   "id": "b9bc028f-3712-4d6d-b1a7-5c7d5b9a0588",
   "metadata": {},
   "outputs": [],
   "source": []
  },
  {
   "cell_type": "code",
   "execution_count": null,
   "id": "56bfcc90-d019-4fc1-84aa-44a0ed68d06d",
   "metadata": {},
   "outputs": [],
   "source": []
  },
  {
   "cell_type": "code",
   "execution_count": null,
   "id": "7d248c76-8935-4576-8ca7-41df8d39d329",
   "metadata": {},
   "outputs": [],
   "source": []
  },
  {
   "cell_type": "code",
   "execution_count": null,
   "id": "b6f7bdab-99f3-40ac-9891-f585dce1bb59",
   "metadata": {},
   "outputs": [],
   "source": []
  },
  {
   "cell_type": "code",
   "execution_count": null,
   "id": "29117619-37f3-47a8-b022-c8949adc5f2e",
   "metadata": {},
   "outputs": [],
   "source": []
  },
  {
   "cell_type": "code",
   "execution_count": null,
   "id": "3c52d974-4f2c-41f1-9256-29ef8964b518",
   "metadata": {},
   "outputs": [],
   "source": []
  },
  {
   "cell_type": "code",
   "execution_count": null,
   "id": "418eb1f4-8b11-44b2-b5ed-9d5bbb75a5e7",
   "metadata": {},
   "outputs": [],
   "source": []
  },
  {
   "cell_type": "code",
   "execution_count": null,
   "id": "be7a85bb-a46d-4073-bd95-d6be52ada5a2",
   "metadata": {},
   "outputs": [],
   "source": []
  },
  {
   "cell_type": "code",
   "execution_count": null,
   "id": "773e3c15-6531-4860-af36-3774f520086c",
   "metadata": {},
   "outputs": [],
   "source": []
  },
  {
   "cell_type": "code",
   "execution_count": null,
   "id": "af439e8e-ff46-466d-a1d2-3e5a4fbfad20",
   "metadata": {},
   "outputs": [],
   "source": []
  },
  {
   "cell_type": "code",
   "execution_count": null,
   "id": "bac46f63-fd97-423b-8ece-c28d01c571f1",
   "metadata": {},
   "outputs": [],
   "source": []
  },
  {
   "cell_type": "code",
   "execution_count": null,
   "id": "7c17803f-74e3-47fe-b87e-94f2255c3a67",
   "metadata": {},
   "outputs": [],
   "source": []
  }
 ],
 "metadata": {
  "kernelspec": {
   "display_name": "Python 3 (ipykernel)",
   "language": "python",
   "name": "python3"
  },
  "language_info": {
   "codemirror_mode": {
    "name": "ipython",
    "version": 3
   },
   "file_extension": ".py",
   "mimetype": "text/x-python",
   "name": "python",
   "nbconvert_exporter": "python",
   "pygments_lexer": "ipython3",
   "version": "3.10.8"
  }
 },
 "nbformat": 4,
 "nbformat_minor": 5
}
