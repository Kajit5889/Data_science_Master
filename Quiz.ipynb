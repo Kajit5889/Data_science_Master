{
 "cells": [
  {
   "cell_type": "code",
   "execution_count": 39,
   "id": "64ea2985-da3c-450e-b608-d66c2f655735",
   "metadata": {},
   "outputs": [
    {
     "name": "stdout",
     "output_type": "stream",
     "text": [
      "PwSkills\n",
      "PwSkills\n"
     ]
    }
   ],
   "source": [
    "for course in ['Data Science Masters', 'ML', 'data science masters', 'DL']:\n",
    "\n",
    "    if len(course) != 2:\n",
    "\n",
    "        print('PwSkills')"
   ]
  },
  {
   "cell_type": "code",
   "execution_count": 41,
   "id": "c93a3140-c0ff-4f8b-870e-35297cd7e68e",
   "metadata": {},
   "outputs": [
    {
     "name": "stdout",
     "output_type": "stream",
     "text": [
      "pwskills\n"
     ]
    }
   ],
   "source": [
    "i=0\n",
    "\n",
    "while i< 1:\n",
    "\n",
    "    print('pwskills')\n",
    "    break\n",
    "    "
   ]
  },
  {
   "cell_type": "code",
   "execution_count": 45,
   "id": "80c9c985-6297-4fdc-8bc3-ecdf2c3520a3",
   "metadata": {},
   "outputs": [
    {
     "name": "stdout",
     "output_type": "stream",
     "text": [
      "105\n"
     ]
    }
   ],
   "source": [
    "sum = 0\n",
    "\n",
    "for i in range(1,100):\n",
    "\n",
    "    sum += i\n",
    "\n",
    "    if sum > 100:\n",
    "        print(sum)\n",
    "        \n",
    "    break\n",
    "\n"
   ]
  },
  {
   "cell_type": "code",
   "execution_count": null,
   "id": "c575827c-9958-4bc0-aebd-67742ac1f476",
   "metadata": {},
   "outputs": [],
   "source": [
    "##What is the purpose of the following code?\n",
    "\n",
    " \n",
    "\n",
    "num = 2\n",
    "\n",
    "sum = 0\n",
    "count=0\n",
    "\n",
    "while num <=20:\n",
    "    num += 2\n",
    "\n",
    "    sum += num\n",
    "\n",
    "    \n",
    "    count +=1\n",
    "\n",
    "print(count)"
   ]
  },
  {
   "cell_type": "code",
   "execution_count": 55,
   "id": "36d6ba44-6c4b-4434-96eb-f01a5ab12efb",
   "metadata": {},
   "outputs": [
    {
     "name": "stdout",
     "output_type": "stream",
     "text": [
      "['0', '10', '20', '30', '40', '50']\n"
     ]
    }
   ],
   "source": [
    "list_out=[]\n",
    "\n",
    "for i in range(0,51,10):\n",
    "\n",
    "    list_out.append(str(i))\n",
    "\n",
    "print(list_out)"
   ]
  },
  {
   "cell_type": "code",
   "execution_count": 57,
   "id": "46553057-431b-43e4-a086-48b4fd63feed",
   "metadata": {},
   "outputs": [
    {
     "data": {
      "text/plain": [
       "True"
      ]
     },
     "execution_count": 57,
     "metadata": {},
     "output_type": "execute_result"
    }
   ],
   "source": [
    "'string'.isalpha()"
   ]
  },
  {
   "cell_type": "code",
   "execution_count": 58,
   "id": "bfade507-a8cf-4ed8-8886-5eb7ed248db3",
   "metadata": {},
   "outputs": [
    {
     "data": {
      "text/plain": [
       "True"
      ]
     },
     "execution_count": 58,
     "metadata": {},
     "output_type": "execute_result"
    }
   ],
   "source": [
    "'5677'.isnumeric()"
   ]
  },
  {
   "cell_type": "code",
   "execution_count": 63,
   "id": "d1957b9d-fc7c-41b8-a9ec-de4a3183d3d7",
   "metadata": {},
   "outputs": [
    {
     "name": "stdout",
     "output_type": "stream",
     "text": [
      "I\n",
      "want\n",
      "to\n",
      "become\n",
      "a\n",
      "data\n",
      "scientist\n"
     ]
    }
   ],
   "source": [
    "s = \"I want to become a data scientist\"\n",
    "\n",
    "for i in s.split():\n",
    "\n",
    "   \n",
    "\n",
    "    print(i)"
   ]
  },
  {
   "cell_type": "code",
   "execution_count": 67,
   "id": "bc118d97-6400-4e98-9e79-f68873ce5ab2",
   "metadata": {},
   "outputs": [
    {
     "data": {
      "text/plain": [
       "'p w s k i l l s'"
      ]
     },
     "execution_count": 67,
     "metadata": {},
     "output_type": "execute_result"
    }
   ],
   "source": [
    "string = \"p w s k i l l s\"\n",
    "\n",
    "' '.join(string.replace(\" \", \"\"))"
   ]
  },
  {
   "cell_type": "code",
   "execution_count": 2,
   "id": "0294b41f-ef88-4f4f-8892-5b48e30b00ec",
   "metadata": {},
   "outputs": [],
   "source": [
    "atuple = (100, 200, 300, 400, 500)"
   ]
  },
  {
   "cell_type": "code",
   "execution_count": 3,
   "id": "528c2ef9-cfe5-4f6d-be55-f55fad01284c",
   "metadata": {},
   "outputs": [
    {
     "data": {
      "text/plain": [
       "(100, 200, 300, 400, 500)"
      ]
     },
     "execution_count": 3,
     "metadata": {},
     "output_type": "execute_result"
    }
   ],
   "source": [
    "atuple"
   ]
  },
  {
   "cell_type": "code",
   "execution_count": 4,
   "id": "dad0c325-c240-4677-a69a-b1fdefff7f86",
   "metadata": {},
   "outputs": [
    {
     "name": "stdout",
     "output_type": "stream",
     "text": [
      "400\n"
     ]
    }
   ],
   "source": [
    "\n",
    "print(atuple[-2])"
   ]
  },
  {
   "cell_type": "code",
   "execution_count": 5,
   "id": "527e0a02-21b6-494c-bb3d-8802970bc139",
   "metadata": {},
   "outputs": [
    {
     "name": "stdout",
     "output_type": "stream",
     "text": [
      "(200, 300, 400)\n"
     ]
    }
   ],
   "source": [
    "print(atuple[-4:-1])\n"
   ]
  },
  {
   "cell_type": "code",
   "execution_count": 6,
   "id": "ebcac28c-e9af-46c6-8b6c-d8846d2732a6",
   "metadata": {},
   "outputs": [
    {
     "name": "stdout",
     "output_type": "stream",
     "text": [
      "<class 'str'>\n"
     ]
    }
   ],
   "source": [
    "atuple = (\"Orange\")\n",
    "\n",
    "print(type(atuple))"
   ]
  },
  {
   "cell_type": "code",
   "execution_count": 9,
   "id": "968a828c-bc8c-460e-a795-fb95a7cfccd8",
   "metadata": {},
   "outputs": [
    {
     "name": "stdout",
     "output_type": "stream",
     "text": [
      "(100, 100)\n"
     ]
    }
   ],
   "source": [
    "atuple = (100,)\n",
    "\n",
    "print(atuple * 2)"
   ]
  },
  {
   "cell_type": "code",
   "execution_count": 10,
   "id": "e908873d-c808-44bb-8dca-6e8e96fdcdd4",
   "metadata": {},
   "outputs": [
    {
     "name": "stdout",
     "output_type": "stream",
     "text": [
      "True\n"
     ]
    }
   ],
   "source": [
    "dict1 = {\"key1\":1, \"key2\":2}\n",
    "\n",
    "dict2 = {\"key2\":2, \"key1\":1}\n",
    "\n",
    "print(dict1 == dict2)"
   ]
  },
  {
   "cell_type": "code",
   "execution_count": 11,
   "id": "c9ccc96b-a111-43a4-88b0-8e70456eb4d4",
   "metadata": {},
   "outputs": [],
   "source": [
    "s1={1,2,3,4}\n",
    "s2={6,7,8,9}"
   ]
  },
  {
   "cell_type": "code",
   "execution_count": 12,
   "id": "6cb6c655-85ae-4c6f-aee5-d87c69c08097",
   "metadata": {},
   "outputs": [
    {
     "data": {
      "text/plain": [
       "{1, 2, 3, 4}"
      ]
     },
     "execution_count": 12,
     "metadata": {},
     "output_type": "execute_result"
    }
   ],
   "source": [
    "s1"
   ]
  },
  {
   "cell_type": "code",
   "execution_count": 13,
   "id": "7bc49cff-ba41-40e9-94da-85e11b754582",
   "metadata": {},
   "outputs": [
    {
     "data": {
      "text/plain": [
       "{6, 7, 8, 9}"
      ]
     },
     "execution_count": 13,
     "metadata": {},
     "output_type": "execute_result"
    }
   ],
   "source": [
    "s2"
   ]
  },
  {
   "cell_type": "code",
   "execution_count": 15,
   "id": "bec8e8f2-c222-41dc-9ea4-f0fabe264bb2",
   "metadata": {},
   "outputs": [],
   "source": [
    "s2 = s1.copy()"
   ]
  },
  {
   "cell_type": "code",
   "execution_count": 16,
   "id": "2c583ab9-cb88-4e40-bf5e-73ddea66734d",
   "metadata": {},
   "outputs": [
    {
     "data": {
      "text/plain": [
       "{1, 2, 3, 4}"
      ]
     },
     "execution_count": 16,
     "metadata": {},
     "output_type": "execute_result"
    }
   ],
   "source": [
    "s2"
   ]
  },
  {
   "cell_type": "code",
   "execution_count": 17,
   "id": "e6dc90ba-589e-40a7-aa7d-1a3687300633",
   "metadata": {},
   "outputs": [],
   "source": [
    "s2=s1"
   ]
  },
  {
   "cell_type": "code",
   "execution_count": 18,
   "id": "aa4110e6-47d0-424b-8c4d-9a1c0dd5629c",
   "metadata": {},
   "outputs": [
    {
     "data": {
      "text/plain": [
       "{1, 2, 3, 4}"
      ]
     },
     "execution_count": 18,
     "metadata": {},
     "output_type": "execute_result"
    }
   ],
   "source": [
    "s2"
   ]
  },
  {
   "cell_type": "code",
   "execution_count": 19,
   "id": "28a6e374-0603-468a-897a-faeecc27744b",
   "metadata": {},
   "outputs": [
    {
     "data": {
      "text/plain": [
       "{1, 2, 3, 4}"
      ]
     },
     "execution_count": 19,
     "metadata": {},
     "output_type": "execute_result"
    }
   ],
   "source": [
    "s1"
   ]
  },
  {
   "cell_type": "code",
   "execution_count": 24,
   "id": "a76eddec-5d43-49bb-9007-f67174177a5b",
   "metadata": {},
   "outputs": [],
   "source": [
    "set2 = set(set1)"
   ]
  },
  {
   "cell_type": "code",
   "execution_count": 25,
   "id": "a32163b5-7315-4dd0-a87c-fc6e41eb1a77",
   "metadata": {},
   "outputs": [],
   "source": [
    "s1={1,2,3,4}\n",
    "s2={6,7,8,9}"
   ]
  },
  {
   "cell_type": "code",
   "execution_count": 27,
   "id": "a7fc6fdc-d692-496c-9095-1fac7a9a2ff7",
   "metadata": {},
   "outputs": [],
   "source": [
    "s2 = set(s1)"
   ]
  },
  {
   "cell_type": "code",
   "execution_count": 28,
   "id": "c83f6bc6-7b7b-4863-898b-ecab91a80aa5",
   "metadata": {},
   "outputs": [
    {
     "data": {
      "text/plain": [
       "{1, 2, 3, 4}"
      ]
     },
     "execution_count": 28,
     "metadata": {},
     "output_type": "execute_result"
    }
   ],
   "source": [
    "s2"
   ]
  },
  {
   "cell_type": "code",
   "execution_count": 29,
   "id": "6b5f57ff-f0a5-4f3c-b767-fb4f18862211",
   "metadata": {},
   "outputs": [],
   "source": [
    "s1={1,2,3,4}\n",
    "s2={6,7,8,9}"
   ]
  },
  {
   "cell_type": "code",
   "execution_count": 32,
   "id": "6a397b2e-2448-47f5-aef9-3debc8610153",
   "metadata": {},
   "outputs": [],
   "source": [
    "s2.update(s1)"
   ]
  },
  {
   "cell_type": "markdown",
   "id": "59628fde-b56b-4c48-af43-7afe1c7815ea",
   "metadata": {
    "jp-MarkdownHeadingCollapsed": true,
    "tags": []
   },
   "source": []
  },
  {
   "cell_type": "code",
   "execution_count": 33,
   "id": "ff2b6186-39d3-4037-a745-2a5aa8de381c",
   "metadata": {},
   "outputs": [
    {
     "data": {
      "text/plain": [
       "{1, 2, 3, 4}"
      ]
     },
     "execution_count": 33,
     "metadata": {},
     "output_type": "execute_result"
    }
   ],
   "source": [
    "s1"
   ]
  },
  {
   "cell_type": "code",
   "execution_count": 34,
   "id": "a44187c2-bb00-4cdf-a894-b74339b6c363",
   "metadata": {},
   "outputs": [
    {
     "data": {
      "text/plain": [
       "{1, 2, 3, 4, 6, 7, 8, 9}"
      ]
     },
     "execution_count": 34,
     "metadata": {},
     "output_type": "execute_result"
    }
   ],
   "source": [
    "s2"
   ]
  },
  {
   "cell_type": "code",
   "execution_count": 38,
   "id": "36907358-7515-47e5-b163-1d7f92a7ce83",
   "metadata": {},
   "outputs": [],
   "source": [
    "set1 = {\"Yellow\", \"Orange\", \"Black\"}\n",
    "\n",
    "set2 = {\"Orange\", \"Blue\", \"Pink\"}"
   ]
  },
  {
   "cell_type": "code",
   "execution_count": 39,
   "id": "3760e9e5-8c92-4e24-a49c-eb3120de521d",
   "metadata": {},
   "outputs": [
    {
     "data": {
      "text/plain": [
       "{'Blue', 'Pink'}"
      ]
     },
     "execution_count": 39,
     "metadata": {},
     "output_type": "execute_result"
    }
   ],
   "source": [
    "set2.difference(set1)"
   ]
  },
  {
   "cell_type": "code",
   "execution_count": 42,
   "id": "a621c3e8-5736-4882-a249-de910bcb7e0a",
   "metadata": {},
   "outputs": [],
   "source": [
    "dict1 = {\"name\": \"Mike\", \"salary\": 8000}"
   ]
  },
  {
   "cell_type": "code",
   "execution_count": 43,
   "id": "b96f31ac-7561-4385-86e7-6d52b33021aa",
   "metadata": {},
   "outputs": [],
   "source": [
    "temp = dict1.get(\"age\")"
   ]
  },
  {
   "cell_type": "code",
   "execution_count": 45,
   "id": "0023ee2f-43ba-48ae-a672-d2cd912782fb",
   "metadata": {},
   "outputs": [
    {
     "data": {
      "text/plain": [
       "dict_values(['Mike', 8000])"
      ]
     },
     "execution_count": 45,
     "metadata": {},
     "output_type": "execute_result"
    }
   ],
   "source": [
    "dict1.values()"
   ]
  },
  {
   "cell_type": "code",
   "execution_count": 46,
   "id": "b18dc407-adef-442e-965c-a524b7aa4dcc",
   "metadata": {},
   "outputs": [
    {
     "ename": "TypeError",
     "evalue": "'tuple' object does not support item assignment",
     "output_type": "error",
     "traceback": [
      "\u001b[0;31m---------------------------------------------------------------------------\u001b[0m",
      "\u001b[0;31mTypeError\u001b[0m                                 Traceback (most recent call last)",
      "Cell \u001b[0;32mIn[46], line 2\u001b[0m\n\u001b[1;32m      1\u001b[0m aTuple \u001b[38;5;241m=\u001b[39m (\u001b[38;5;241m100\u001b[39m, \u001b[38;5;241m200\u001b[39m, \u001b[38;5;241m300\u001b[39m, \u001b[38;5;241m400\u001b[39m, \u001b[38;5;241m500\u001b[39m)\n\u001b[0;32m----> 2\u001b[0m \u001b[43maTuple\u001b[49m\u001b[43m[\u001b[49m\u001b[38;5;241;43m1\u001b[39;49m\u001b[43m]\u001b[49m \u001b[38;5;241m=\u001b[39m \u001b[38;5;241m800\u001b[39m\n\u001b[1;32m      3\u001b[0m \u001b[38;5;28mprint\u001b[39m(aTuple)\n",
      "\u001b[0;31mTypeError\u001b[0m: 'tuple' object does not support item assignment"
     ]
    }
   ],
   "source": [
    "aTuple = (100, 200, 300, 400, 500)\n",
    "aTuple[1] = 800\n",
    "print(aTuple)"
   ]
  },
  {
   "cell_type": "code",
   "execution_count": 2,
   "id": "0fd94676-de42-43b1-abbc-789d66dcd36a",
   "metadata": {},
   "outputs": [],
   "source": [
    "aTuple = (100, 200, 300, 400, 500)"
   ]
  },
  {
   "cell_type": "code",
   "execution_count": 3,
   "id": "1ec9421d-7bb7-4cf3-a703-a2bf3d068ba4",
   "metadata": {},
   "outputs": [
    {
     "data": {
      "text/plain": [
       "(100, 200, 300, 400, 500)"
      ]
     },
     "execution_count": 3,
     "metadata": {},
     "output_type": "execute_result"
    }
   ],
   "source": [
    "aTuple"
   ]
  },
  {
   "cell_type": "code",
   "execution_count": 4,
   "id": "2f91bdb6-369d-45da-9717-4b8effcdba3b",
   "metadata": {},
   "outputs": [
    {
     "name": "stdout",
     "output_type": "stream",
     "text": [
      "<class 'str'>\n"
     ]
    }
   ],
   "source": [
    "atuple = (\"Orange\")\n",
    "\n",
    "print(type(atuple))"
   ]
  },
  {
   "cell_type": "code",
   "execution_count": null,
   "id": "b0336ffb-4cd6-4343-b0fc-879855bc594d",
   "metadata": {},
   "outputs": [],
   "source": []
  },
  {
   "cell_type": "code",
   "execution_count": null,
   "id": "62a6d5da-ef1d-4ee3-94e1-59efd32c3f21",
   "metadata": {},
   "outputs": [],
   "source": []
  }
 ],
 "metadata": {
  "kernelspec": {
   "display_name": "Python 3 (ipykernel)",
   "language": "python",
   "name": "python3"
  },
  "language_info": {
   "codemirror_mode": {
    "name": "ipython",
    "version": 3
   },
   "file_extension": ".py",
   "mimetype": "text/x-python",
   "name": "python",
   "nbconvert_exporter": "python",
   "pygments_lexer": "ipython3",
   "version": "3.10.8"
  }
 },
 "nbformat": 4,
 "nbformat_minor": 5
}
