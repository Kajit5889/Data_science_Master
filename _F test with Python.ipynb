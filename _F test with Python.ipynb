{
 "cells": [
  {
   "cell_type": "markdown",
   "id": "00f9aa14-96fa-4d17-be9d-52b8fc76c1c0",
   "metadata": {},
   "source": [
    "### F test with python"
   ]
  },
  {
   "cell_type": "code",
   "execution_count": null,
   "id": "bb1e6c82-5107-4530-bb44-c35f7fa5b6c3",
   "metadata": {},
   "outputs": [],
   "source": [
    "##evidence to say taht the two population variances are not rqua;.\n",
    "## check we come to conclusion whether one worker is better than the other"
   ]
  },
  {
   "cell_type": "code",
   "execution_count": 15,
   "id": "c3faf8fc-7915-45ed-bce9-8cd7cf1b7649",
   "metadata": {},
   "outputs": [],
   "source": [
    "worker1 =[18,19,22,25,27,28,41,45,51,55]\n",
    "worker2 =[14,15,15,17,18,22,25,25,27,34]"
   ]
  },
  {
   "cell_type": "code",
   "execution_count": 16,
   "id": "b130ad1f-ec74-4e35-b436-f33ebae4cb9d",
   "metadata": {},
   "outputs": [],
   "source": [
    "## calculate the f test statistics\n",
    "\n",
    "import numpy as np\n",
    "f_test = np.var(worker1)/np.var(worker2)"
   ]
  },
  {
   "cell_type": "code",
   "execution_count": 17,
   "id": "90c812ce-97d1-49a2-9136-a9fb512da633",
   "metadata": {},
   "outputs": [
    {
     "data": {
      "text/plain": [
       "4.387122002085506"
      ]
     },
     "execution_count": 17,
     "metadata": {},
     "output_type": "execute_result"
    }
   ],
   "source": [
    "f_test"
   ]
  },
  {
   "cell_type": "code",
   "execution_count": 18,
   "id": "6a900eb4-9c1d-407b-9ba8-70110b54dfbb",
   "metadata": {},
   "outputs": [],
   "source": [
    "## Degree of freedom\n",
    "\n",
    "df1 = len(worker1) -1\n",
    "df2 = len(worker2) -1\n",
    "significance_value= 0.05"
   ]
  },
  {
   "cell_type": "code",
   "execution_count": 19,
   "id": "ffe9a18a-5320-4265-846e-f2f8563fc8f1",
   "metadata": {},
   "outputs": [],
   "source": [
    "#critical value present in f table\n",
    "\n",
    "import scipy.stats as stat"
   ]
  },
  {
   "cell_type": "code",
   "execution_count": 22,
   "id": "e9af3bca-92cc-43df-8c54-772b0015be6b",
   "metadata": {},
   "outputs": [],
   "source": [
    "critical_value = stat.f.ppf(q=1-significance_value,dfn=df1,dfd=df2)"
   ]
  },
  {
   "cell_type": "code",
   "execution_count": 23,
   "id": "f5af0a14-9797-4b79-a4f1-91af51c324c2",
   "metadata": {},
   "outputs": [
    {
     "name": "stdout",
     "output_type": "stream",
     "text": [
      "Reject the Null Hypothesis\n"
     ]
    }
   ],
   "source": [
    "if f_test > critical_value:\n",
    "    print(\"Reject the Null Hypothesis\")\n",
    "else:\n",
    "    print(\"We fail to reject the null hypothesis\")"
   ]
  },
  {
   "cell_type": "code",
   "execution_count": null,
   "id": "c9f8d176-9dd9-4a9c-81b8-5175863c74c3",
   "metadata": {},
   "outputs": [],
   "source": []
  },
  {
   "cell_type": "code",
   "execution_count": null,
   "id": "d579744c-2e6c-42f4-8220-82a2c4235985",
   "metadata": {},
   "outputs": [],
   "source": []
  },
  {
   "cell_type": "code",
   "execution_count": null,
   "id": "258583d9-022b-493d-a055-c57284b2fdfe",
   "metadata": {},
   "outputs": [],
   "source": []
  },
  {
   "cell_type": "code",
   "execution_count": null,
   "id": "4612ecbe-6d46-45b2-a32b-dbec437c304d",
   "metadata": {},
   "outputs": [],
   "source": []
  },
  {
   "cell_type": "code",
   "execution_count": null,
   "id": "e5b36d08-eef4-4db7-b32e-1e8ef0c5fb86",
   "metadata": {},
   "outputs": [],
   "source": []
  },
  {
   "cell_type": "code",
   "execution_count": null,
   "id": "16aadb02-4189-463b-b22c-df6259afc3d0",
   "metadata": {},
   "outputs": [],
   "source": []
  },
  {
   "cell_type": "code",
   "execution_count": null,
   "id": "2d8bdd53-0e8d-424f-a061-a850bfc3bf27",
   "metadata": {},
   "outputs": [],
   "source": []
  },
  {
   "cell_type": "code",
   "execution_count": null,
   "id": "5106f384-beb6-4089-916e-36d0e3b57b1a",
   "metadata": {},
   "outputs": [],
   "source": []
  },
  {
   "cell_type": "code",
   "execution_count": null,
   "id": "d38f4d87-f47c-4801-bd4f-527d6bb4cba5",
   "metadata": {},
   "outputs": [],
   "source": []
  },
  {
   "cell_type": "code",
   "execution_count": null,
   "id": "6011b01d-48bf-4d97-84fe-63cf8eb83a6d",
   "metadata": {},
   "outputs": [],
   "source": []
  },
  {
   "cell_type": "code",
   "execution_count": null,
   "id": "21c6255f-9def-4ef4-9ab6-a44f9f0d92f1",
   "metadata": {},
   "outputs": [],
   "source": []
  },
  {
   "cell_type": "code",
   "execution_count": null,
   "id": "b7b756f2-f438-45c6-9b11-38fe873e2c32",
   "metadata": {},
   "outputs": [],
   "source": []
  },
  {
   "cell_type": "code",
   "execution_count": null,
   "id": "10cb3781-a4fa-4295-a547-4be4d17a2951",
   "metadata": {},
   "outputs": [],
   "source": []
  },
  {
   "cell_type": "code",
   "execution_count": null,
   "id": "ce271e70-569f-4aec-a8a6-1a4151825faf",
   "metadata": {},
   "outputs": [],
   "source": []
  },
  {
   "cell_type": "code",
   "execution_count": null,
   "id": "0c6a9bd7-9998-47bc-bbc8-bc60da2b8c16",
   "metadata": {},
   "outputs": [],
   "source": []
  },
  {
   "cell_type": "code",
   "execution_count": null,
   "id": "0a9ea91f-10e9-41ab-9515-39bf86f71168",
   "metadata": {},
   "outputs": [],
   "source": []
  },
  {
   "cell_type": "code",
   "execution_count": null,
   "id": "b7138ca9-35e4-4d5b-905c-529ebaae1c42",
   "metadata": {},
   "outputs": [],
   "source": []
  },
  {
   "cell_type": "code",
   "execution_count": null,
   "id": "793fd11a-529c-46ba-8b6e-89112b2573b1",
   "metadata": {},
   "outputs": [],
   "source": []
  },
  {
   "cell_type": "code",
   "execution_count": null,
   "id": "a4cb5fb5-32b6-4a2c-9f12-577d6e47b1c4",
   "metadata": {},
   "outputs": [],
   "source": []
  },
  {
   "cell_type": "code",
   "execution_count": null,
   "id": "d1335090-8aa9-4de6-b4b4-8a94cf420ba7",
   "metadata": {},
   "outputs": [],
   "source": []
  },
  {
   "cell_type": "code",
   "execution_count": null,
   "id": "ad2510e7-9994-4ded-86f6-e34e9639c291",
   "metadata": {},
   "outputs": [],
   "source": []
  },
  {
   "cell_type": "code",
   "execution_count": null,
   "id": "cfbe30ca-b4b7-4a54-9d52-1620f3c601b0",
   "metadata": {},
   "outputs": [],
   "source": []
  },
  {
   "cell_type": "code",
   "execution_count": null,
   "id": "7878a974-8226-4f7f-9043-799912be41c9",
   "metadata": {},
   "outputs": [],
   "source": []
  },
  {
   "cell_type": "code",
   "execution_count": null,
   "id": "b6aa9c48-4164-46be-ac11-7dac09fbfa5d",
   "metadata": {},
   "outputs": [],
   "source": []
  }
 ],
 "metadata": {
  "kernelspec": {
   "display_name": "Python 3 (ipykernel)",
   "language": "python",
   "name": "python3"
  },
  "language_info": {
   "codemirror_mode": {
    "name": "ipython",
    "version": 3
   },
   "file_extension": ".py",
   "mimetype": "text/x-python",
   "name": "python",
   "nbconvert_exporter": "python",
   "pygments_lexer": "ipython3",
   "version": "3.10.8"
  }
 },
 "nbformat": 4,
 "nbformat_minor": 5
}
