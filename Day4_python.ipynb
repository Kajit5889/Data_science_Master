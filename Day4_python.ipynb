{
 "cells": [
  {
   "cell_type": "code",
   "execution_count": 34,
   "id": "3d33f3b4-82a2-4b58-b53f-000c7d6e6505",
   "metadata": {},
   "outputs": [
    {
     "data": {
      "text/plain": [
       "(-1+3j)"
      ]
     },
     "execution_count": 34,
     "metadata": {},
     "output_type": "execute_result"
    }
   ],
   "source": [
    "num1= 23\n",
    "\n",
    "num2= 44\n",
    "num2= 2+3j\n",
    "num1= num2.imag\n",
    "num2-num1\n"
   ]
  },
  {
   "cell_type": "code",
   "execution_count": 18,
   "id": "6c70e998-4008-4010-bae0-a61a544b8558",
   "metadata": {},
   "outputs": [
    {
     "data": {
      "text/plain": [
       "True"
      ]
     },
     "execution_count": 18,
     "metadata": {},
     "output_type": "execute_result"
    }
   ],
   "source": [
    "'pwskills'.Iupper().lower().isalnum()"
   ]
  },
  {
   "cell_type": "code",
   "execution_count": 23,
   "id": "143f3927-de33-4f5b-94a3-198fc43775ca",
   "metadata": {},
   "outputs": [
    {
     "data": {
      "text/plain": [
       "'p'"
      ]
     },
     "execution_count": 23,
     "metadata": {},
     "output_type": "execute_result"
    }
   ],
   "source": [
    "Name = 'pwskills'\n",
    "\n",
    "Name[0]"
   ]
  },
  {
   "cell_type": "code",
   "execution_count": 28,
   "id": "2a0e07ec-f72f-4d7b-b537-dbaf17659656",
   "metadata": {},
   "outputs": [
    {
     "name": "stdout",
     "output_type": "stream",
     "text": [
      "4 2 8\n"
     ]
    }
   ],
   "source": [
    "num1, num2, num3 = 2, 6, 4\n",
    "\n",
    "num1, num2, num3 = num3, num1, num2 + 2\n",
    "\n",
    "print (num1,num2,num3)"
   ]
  },
  {
   "cell_type": "code",
   "execution_count": 1,
   "id": "4fbca962-986d-4331-a0b1-0ec749fcb828",
   "metadata": {},
   "outputs": [
    {
     "ename": "ZeroDivisionError",
     "evalue": "division by zero",
     "output_type": "error",
     "traceback": [
      "\u001b[0;31m---------------------------------------------------------------------------\u001b[0m",
      "\u001b[0;31mZeroDivisionError\u001b[0m                         Traceback (most recent call last)",
      "Cell \u001b[0;32mIn[1], line 1\u001b[0m\n\u001b[0;32m----> 1\u001b[0m \u001b[38;5;28;43;01mTrue\u001b[39;49;00m\u001b[38;5;241;43m/\u001b[39;49m\u001b[38;5;28;43;01mFalse\u001b[39;49;00m\n",
      "\u001b[0;31mZeroDivisionError\u001b[0m: division by zero"
     ]
    }
   ],
   "source": [
    "True/False"
   ]
  },
  {
   "cell_type": "code",
   "execution_count": 13,
   "id": "b0339aa4-ba4a-46b5-8d62-3a4158f306cc",
   "metadata": {},
   "outputs": [
    {
     "ename": "AttributeError",
     "evalue": "'complex' object has no attribute 'img'",
     "output_type": "error",
     "traceback": [
      "\u001b[0;31m---------------------------------------------------------------------------\u001b[0m",
      "\u001b[0;31mAttributeError\u001b[0m                            Traceback (most recent call last)",
      "Cell \u001b[0;32mIn[13], line 7\u001b[0m\n\u001b[1;32m      3\u001b[0m num2\u001b[38;5;241m=\u001b[39m \u001b[38;5;241m44\u001b[39m\n\u001b[1;32m      5\u001b[0m num2\u001b[38;5;241m=\u001b[39m \u001b[38;5;241m2\u001b[39m\u001b[38;5;241m+\u001b[39m\u001b[38;5;241m3\u001b[39mj\n\u001b[0;32m----> 7\u001b[0m num1\u001b[38;5;241m=\u001b[39m \u001b[43mnum2\u001b[49m\u001b[38;5;241;43m.\u001b[39;49m\u001b[43mimg\u001b[49m\n\u001b[1;32m      9\u001b[0m num2\u001b[38;5;241m-\u001b[39mnum1\n",
      "\u001b[0;31mAttributeError\u001b[0m: 'complex' object has no attribute 'img'"
     ]
    }
   ],
   "source": [
    "num1= 23\n",
    "\n",
    "num2= 44\n",
    "\n",
    "num2= 2+3j\n",
    "\n",
    "num1= num2.img\n",
    "\n",
    "num2-num1"
   ]
  },
  {
   "cell_type": "code",
   "execution_count": 11,
   "id": "fa73f685-23f0-4b3c-a7a8-1ef2720916b2",
   "metadata": {},
   "outputs": [
    {
     "data": {
      "text/plain": [
       "False"
      ]
     },
     "execution_count": 11,
     "metadata": {},
     "output_type": "execute_result"
    }
   ],
   "source": [
    "'PWSKILLS'.upper().lower().isupper()"
   ]
  },
  {
   "cell_type": "code",
   "execution_count": 23,
   "id": "ec41e020-c5cf-494b-8ed6-63dbb2bf49ad",
   "metadata": {},
   "outputs": [],
   "source": [
    "num1= 23\n",
    "\n",
    "num2= 44\n",
    "\n",
    "num2= 2+3j\n",
    "\n",
    "num1= num1.imag\n"
   ]
  },
  {
   "cell_type": "code",
   "execution_count": 1,
   "id": "e205d0cd-fe27-4662-88af-63b127ade626",
   "metadata": {},
   "outputs": [],
   "source": [
    "## iterate strings in reverse direction\n",
    "\n",
    "str1=\"pwskills\""
   ]
  },
  {
   "cell_type": "code",
   "execution_count": 7,
   "id": "4ff46e44-dd01-4710-9fa6-90ff642ae09d",
   "metadata": {},
   "outputs": [
    {
     "data": {
      "text/plain": [
       "['s', 'l', 'l', 'i', 'k', 's', 'w', 'p']"
      ]
     },
     "execution_count": 7,
     "metadata": {},
     "output_type": "execute_result"
    }
   ],
   "source": [
    "while str1\n",
    "\n",
    "(reversed(str1))"
   ]
  },
  {
   "cell_type": "code",
   "execution_count": 15,
   "id": "a615d402-82dc-4261-812b-69d22c0ff80c",
   "metadata": {},
   "outputs": [
    {
     "data": {
      "text/plain": [
       "7"
      ]
     },
     "execution_count": 15,
     "metadata": {},
     "output_type": "execute_result"
    }
   ],
   "source": [
    "str2=\"pwskills\"\n",
    "len(str2)-1"
   ]
  },
  {
   "cell_type": "code",
   "execution_count": 4,
   "id": "61cbbe39-c922-41c4-bcdf-9263dd884811",
   "metadata": {},
   "outputs": [
    {
     "name": "stdout",
     "output_type": "stream",
     "text": [
      "s\n",
      "l\n",
      "l\n",
      "i\n",
      "k\n",
      "s\n",
      "w\n",
      "p\n"
     ]
    }
   ],
   "source": [
    "#It is going with the reverse order...\n",
    "## len(str2)-1,-1, >> it will go last index to -1 \n",
    "# -1 IT MEANS Start calculating from the reverse order\n",
    "str2=\"pwskills\"\n",
    "for i in range(len(str2)-1 ,-1 , -1):\n",
    "    print(str2[i])\n",
    "   "
   ]
  },
  {
   "cell_type": "code",
   "execution_count": 5,
   "id": "e569a577-fccb-490d-b389-c04f51d8a18d",
   "metadata": {},
   "outputs": [
    {
     "name": "stdout",
     "output_type": "stream",
     "text": [
      "s\n",
      "l\n",
      "k\n",
      "w\n"
     ]
    }
   ],
   "source": [
    "str2=\"pwskills\"\n",
    "for i in range(len(str2)-1 ,-1 , -2):\n",
    "    print(str2[i])\n",
    "   "
   ]
  },
  {
   "cell_type": "code",
   "execution_count": 10,
   "id": "9e792f8c-b1d7-428f-8431-6e66c454d4db",
   "metadata": {},
   "outputs": [
    {
     "name": "stdout",
     "output_type": "stream",
     "text": [
      "l\n",
      "l\n",
      "i\n",
      "k\n",
      "s\n",
      "w\n",
      "p\n"
     ]
    }
   ],
   "source": [
    "string = \"pwskill\"\n",
    "ch= len(string) - 1\n",
    "while ch >=0:\n",
    "    print(string[ch])\n",
    "    ch = ch -1 "
   ]
  },
  {
   "cell_type": "code",
   "execution_count": 29,
   "id": "be0aa0f7-4856-4d8d-84ac-67348fd0f74e",
   "metadata": {},
   "outputs": [
    {
     "name": "stdout",
     "output_type": "stream",
     "text": [
      "it's not vowels\n",
      "it's not vowels\n",
      "it's not vowels\n",
      "it's not vowels\n",
      "i is vowels\n",
      "it's not vowels\n",
      "it's not vowels\n",
      "it's not vowels\n"
     ]
    }
   ],
   "source": [
    "Name = \"pwskills\"\n",
    "vowels=\"AaEeIiOoUu\"\n",
    "for ch in Name:\n",
    "    if ch in vowels:\n",
    "        print(f\"{ch} is vowels\")\n",
    "        \n",
    "    else:\n",
    "        print(\"it's not vowels\")\n",
    "    \n",
    "    \n",
    "\n"
   ]
  },
  {
   "cell_type": "markdown",
   "id": "f32ad145-3922-4f56-813e-10c40b0726e8",
   "metadata": {},
   "source": [
    "# list"
   ]
  },
  {
   "cell_type": "code",
   "execution_count": 34,
   "id": "a258cfeb-8e8b-4694-81df-6e1633353d26",
   "metadata": {},
   "outputs": [
    {
     "data": {
      "text/plain": [
       "['Welcome', 'to', 'the', 'pw', 'skill', 'master', 'data', 'science']"
      ]
     },
     "execution_count": 34,
     "metadata": {},
     "output_type": "execute_result"
    }
   ],
   "source": [
    "## Multi nested list\n",
    "\n",
    "str1=\"Welcome to the pw skill master data science\"\n",
    "list(str1.split(\" \"))"
   ]
  },
  {
   "cell_type": "code",
   "execution_count": 36,
   "id": "3827fc74-6a19-4498-8fa5-a0d40593dcf7",
   "metadata": {},
   "outputs": [],
   "source": [
    "lst1=str1.split(\" \")"
   ]
  },
  {
   "cell_type": "code",
   "execution_count": 37,
   "id": "24e2fb8a-a814-4737-90e7-fe5e98c62c89",
   "metadata": {},
   "outputs": [
    {
     "data": {
      "text/plain": [
       "['to', 'the', 'pw', 'skill', 'master', 'data', 'science']"
      ]
     },
     "execution_count": 37,
     "metadata": {},
     "output_type": "execute_result"
    }
   ],
   "source": [
    "lst1[1:]"
   ]
  },
  {
   "cell_type": "code",
   "execution_count": 38,
   "id": "43447638-e951-4d0c-b81b-c7767fdb0b80",
   "metadata": {},
   "outputs": [
    {
     "data": {
      "text/plain": [
       "['Welcome', 'to', 'the', 'pw', 'skill', 'master', 'data', 'science']"
      ]
     },
     "execution_count": 38,
     "metadata": {},
     "output_type": "execute_result"
    }
   ],
   "source": [
    "lst1"
   ]
  },
  {
   "cell_type": "code",
   "execution_count": 39,
   "id": "a7111568-d755-4b85-90c7-d3b9ab72f442",
   "metadata": {},
   "outputs": [
    {
     "data": {
      "text/plain": [
       "'master'"
      ]
     },
     "execution_count": 39,
     "metadata": {},
     "output_type": "execute_result"
    }
   ],
   "source": [
    "lst1[-3]"
   ]
  },
  {
   "cell_type": "code",
   "execution_count": 40,
   "id": "91b76c5e-112d-493f-8cb6-03a0c2fb4440",
   "metadata": {},
   "outputs": [
    {
     "data": {
      "text/plain": [
       "['Welcome', 'the', 'skill', 'data']"
      ]
     },
     "execution_count": 40,
     "metadata": {},
     "output_type": "execute_result"
    }
   ],
   "source": [
    "lst1[::2]  ## every 2 nd element"
   ]
  },
  {
   "cell_type": "code",
   "execution_count": null,
   "id": "6a79982a-6b79-40e5-80cb-0341568db68c",
   "metadata": {},
   "outputs": [],
   "source": [
    "\n",
    "## concatination ; list inside a list called multi-nested list........\n",
    "\n"
   ]
  },
  {
   "cell_type": "code",
   "execution_count": 41,
   "id": "5f7ae0a9-d1db-46cd-a893-051cf8e29f8a",
   "metadata": {},
   "outputs": [
    {
     "data": {
      "text/plain": [
       "['Welcome', 'to', 'the', 'pw', 'skill', 'master', 'data', 'science']"
      ]
     },
     "execution_count": 41,
     "metadata": {},
     "output_type": "execute_result"
    }
   ],
   "source": [
    "lst1"
   ]
  },
  {
   "cell_type": "code",
   "execution_count": 49,
   "id": "641b3808-04ba-418c-8a5c-809e870b85c8",
   "metadata": {},
   "outputs": [
    {
     "data": {
      "text/plain": [
       "['Welcome',\n",
       " 'to',\n",
       " 'the',\n",
       " 'pw',\n",
       " 'skill',\n",
       " 'master',\n",
       " 'data',\n",
       " 'science',\n",
       " 'new Rubby',\n",
       " 'Rails',\n",
       " 1]"
      ]
     },
     "execution_count": 49,
     "metadata": {},
     "output_type": "execute_result"
    }
   ],
   "source": [
    "lst1 + [\"new Rubby\" , \"Rails\" , 1]"
   ]
  },
  {
   "cell_type": "code",
   "execution_count": 52,
   "id": "5f1f1c71-72da-4d44-ace5-e4008e71b8b0",
   "metadata": {},
   "outputs": [],
   "source": [
    "ne_list=lst1 + [[\"new Rubby\" , \"Rails\" , 1]]"
   ]
  },
  {
   "cell_type": "code",
   "execution_count": 53,
   "id": "c31d470a-d4af-491c-97fa-d35213ee091a",
   "metadata": {},
   "outputs": [
    {
     "data": {
      "text/plain": [
       "['Welcome',\n",
       " 'to',\n",
       " 'the',\n",
       " 'pw',\n",
       " 'skill',\n",
       " 'master',\n",
       " 'data',\n",
       " 'science',\n",
       " ['new Rubby', 'Rails', 1]]"
      ]
     },
     "execution_count": 53,
     "metadata": {},
     "output_type": "execute_result"
    }
   ],
   "source": [
    "ne_list"
   ]
  },
  {
   "cell_type": "code",
   "execution_count": 63,
   "id": "86434d2e-1e3e-41c7-9e8b-9819cc6a4482",
   "metadata": {},
   "outputs": [
    {
     "data": {
      "text/plain": [
       "'Rails'"
      ]
     },
     "execution_count": 63,
     "metadata": {},
     "output_type": "execute_result"
    }
   ],
   "source": [
    "ne_list[-1][1]"
   ]
  },
  {
   "cell_type": "code",
   "execution_count": 64,
   "id": "7eed7790-200d-4210-adcc-651cdfd5e862",
   "metadata": {},
   "outputs": [
    {
     "data": {
      "text/plain": [
       "['Welcome',\n",
       " 'to',\n",
       " 'the',\n",
       " 'pw',\n",
       " 'skill',\n",
       " 'master',\n",
       " 'data',\n",
       " 'science',\n",
       " ['new Rubby', 'Rails', 1]]"
      ]
     },
     "execution_count": 64,
     "metadata": {},
     "output_type": "execute_result"
    }
   ],
   "source": [
    "ne_list"
   ]
  },
  {
   "cell_type": "code",
   "execution_count": 75,
   "id": "009719da-4371-4ffa-a050-edfe97100f2a",
   "metadata": {},
   "outputs": [
    {
     "data": {
      "text/plain": [
       "['Welcome',\n",
       " 'to',\n",
       " 'the',\n",
       " 'pw',\n",
       " 'skill',\n",
       " 'master',\n",
       " 'data',\n",
       " 'science',\n",
       " ['new Rubby', 'Rails', 1]]"
      ]
     },
     "execution_count": 75,
     "metadata": {},
     "output_type": "execute_result"
    }
   ],
   "source": [
    "ne_list\n",
    "\n",
    "        \n",
    "        "
   ]
  },
  {
   "cell_type": "code",
   "execution_count": 83,
   "id": "662b5c4e-627e-44a1-b7d2-1b3f01837be3",
   "metadata": {},
   "outputs": [
    {
     "name": "stdout",
     "output_type": "stream",
     "text": [
      "not exist ['Welcome', 'to', 'the', 'pw', 'skill', 'master', 'data', 'science', ['new Rubby', 'Rails', 1]]\n",
      "not exist ['Welcome', 'to', 'the', 'pw', 'skill', 'master', 'data', 'science', ['new Rubby', 'Rails', 1]]\n",
      "not exist ['Welcome', 'to', 'the', 'pw', 'skill', 'master', 'data', 'science', ['new Rubby', 'Rails', 1]]\n",
      "not exist ['Welcome', 'to', 'the', 'pw', 'skill', 'master', 'data', 'science', ['new Rubby', 'Rails', 1]]\n",
      "not exist ['Welcome', 'to', 'the', 'pw', 'skill', 'master', 'data', 'science', ['new Rubby', 'Rails', 1]]\n",
      "not exist ['Welcome', 'to', 'the', 'pw', 'skill', 'master', 'data', 'science', ['new Rubby', 'Rails', 1]]\n",
      "not exist ['Welcome', 'to', 'the', 'pw', 'skill', 'master', 'data', 'science', ['new Rubby', 'Rails', 1]]\n",
      "exist\n",
      "not exist ['Welcome', 'to', 'the', 'pw', 'skill', 'master', 'data', 'science', ['new Rubby', 'Rails', 1]]\n"
     ]
    }
   ],
   "source": [
    "for i in ne_list:\n",
    "    if i =='science':\n",
    "        print(\"exist\")\n",
    "    else:\n",
    "        print(\"not exist {}\".format(ne_list))"
   ]
  },
  {
   "cell_type": "code",
   "execution_count": 84,
   "id": "b0759e50-37dc-44f3-9971-8a4c038cb71d",
   "metadata": {},
   "outputs": [
    {
     "data": {
      "text/plain": [
       "['Welcome',\n",
       " 'to',\n",
       " 'the',\n",
       " 'pw',\n",
       " 'skill',\n",
       " 'master',\n",
       " 'data',\n",
       " 'science',\n",
       " ['new Rubby', 'Rails', 1]]"
      ]
     },
     "execution_count": 84,
     "metadata": {},
     "output_type": "execute_result"
    }
   ],
   "source": [
    "ne_list"
   ]
  },
  {
   "cell_type": "code",
   "execution_count": 88,
   "id": "efadfe9e-9a3d-4f3b-87e7-c198cbd20418",
   "metadata": {},
   "outputs": [
    {
     "data": {
      "text/plain": [
       "True"
      ]
     },
     "execution_count": 88,
     "metadata": {},
     "output_type": "execute_result"
    }
   ],
   "source": [
    "ne_list\n",
    "\"to\" in ne_list\n"
   ]
  },
  {
   "cell_type": "code",
   "execution_count": 95,
   "id": "78e92a3b-2802-413d-9268-8026bffaf83c",
   "metadata": {},
   "outputs": [
    {
     "data": {
      "text/plain": [
       "False"
      ]
     },
     "execution_count": 95,
     "metadata": {},
     "output_type": "execute_result"
    }
   ],
   "source": [
    "1.99999 in [2, 4, 6, 8]"
   ]
  },
  {
   "cell_type": "code",
   "execution_count": 96,
   "id": "63c13153-33bf-4104-b1e0-979d990d6be5",
   "metadata": {},
   "outputs": [],
   "source": [
    "lst11=[1,3,4,5,6,7,7,8,9,9,9,]"
   ]
  },
  {
   "cell_type": "code",
   "execution_count": 97,
   "id": "9cd6300e-06ba-4eae-a99f-564ad792e63b",
   "metadata": {},
   "outputs": [
    {
     "data": {
      "text/plain": [
       "[1, 3, 4, 5, 6, 7, 7, 8, 9, 9, 9]"
      ]
     },
     "execution_count": 97,
     "metadata": {},
     "output_type": "execute_result"
    }
   ],
   "source": [
    "lst11"
   ]
  },
  {
   "cell_type": "code",
   "execution_count": 101,
   "id": "1c58f9d5-dd31-4528-810a-5dcdd20e5a7c",
   "metadata": {},
   "outputs": [],
   "source": [
    "lst11.append([12,13,14,15,16,16,16,56,687])"
   ]
  },
  {
   "cell_type": "code",
   "execution_count": 99,
   "id": "fc9fdcfb-83e0-4a6d-82ef-32c7b1986de3",
   "metadata": {},
   "outputs": [
    {
     "data": {
      "text/plain": [
       "[1, 3, 4, 5, 6, 7, 7, 8, 9, 9, 9, [12, 13, 14, 15, 16, 16, 16, 56, 687]]"
      ]
     },
     "execution_count": 99,
     "metadata": {},
     "output_type": "execute_result"
    }
   ],
   "source": [
    "lst11"
   ]
  },
  {
   "cell_type": "code",
   "execution_count": 102,
   "id": "8c4dceae-23a0-49f0-904a-7886677808ad",
   "metadata": {},
   "outputs": [],
   "source": [
    "lst11.append((12,13,14,15,16,16,16,56,687))"
   ]
  },
  {
   "cell_type": "code",
   "execution_count": 103,
   "id": "036ec567-22ef-41d1-af22-d5b572be257a",
   "metadata": {},
   "outputs": [
    {
     "data": {
      "text/plain": [
       "[1,\n",
       " 3,\n",
       " 4,\n",
       " 5,\n",
       " 6,\n",
       " 7,\n",
       " 7,\n",
       " 8,\n",
       " 9,\n",
       " 9,\n",
       " 9,\n",
       " [12, 13, 14, 15, 16, 16, 16, 56, 687],\n",
       " [12, 13, 14, 15, 16, 16, 16, 56, 687],\n",
       " (12, 13, 14, 15, 16, 16, 16, 56, 687)]"
      ]
     },
     "execution_count": 103,
     "metadata": {},
     "output_type": "execute_result"
    }
   ],
   "source": [
    "lst11"
   ]
  },
  {
   "cell_type": "code",
   "execution_count": 1,
   "id": "89595d6e-2975-405b-86b1-83ca283ae189",
   "metadata": {},
   "outputs": [],
   "source": [
    "data = [\"Dog\", \"Cat\" , \"cow\"]"
   ]
  },
  {
   "cell_type": "code",
   "execution_count": 2,
   "id": "065f9db2-75ee-419a-b1da-4110db6e9afa",
   "metadata": {},
   "outputs": [
    {
     "data": {
      "text/plain": [
       "['Dog', 'Cat', 'cow']"
      ]
     },
     "execution_count": 2,
     "metadata": {},
     "output_type": "execute_result"
    }
   ],
   "source": [
    "data"
   ]
  },
  {
   "cell_type": "code",
   "execution_count": 3,
   "id": "af99edb4-a4cc-4d9c-ba8a-439c4c8c1da2",
   "metadata": {},
   "outputs": [
    {
     "data": {
      "text/plain": [
       "'cow'"
      ]
     },
     "execution_count": 3,
     "metadata": {},
     "output_type": "execute_result"
    }
   ],
   "source": [
    "data.pop()"
   ]
  },
  {
   "cell_type": "code",
   "execution_count": 4,
   "id": "6f53b334-e75d-42ab-879d-59d1d83dda4f",
   "metadata": {},
   "outputs": [
    {
     "data": {
      "text/plain": [
       "['Dog', 'Cat']"
      ]
     },
     "execution_count": 4,
     "metadata": {},
     "output_type": "execute_result"
    }
   ],
   "source": [
    "data"
   ]
  },
  {
   "cell_type": "code",
   "execution_count": 5,
   "id": "2202b187-5af4-4b98-b15d-e5bcc78a33a0",
   "metadata": {},
   "outputs": [
    {
     "data": {
      "text/plain": [
       "'Cat'"
      ]
     },
     "execution_count": 5,
     "metadata": {},
     "output_type": "execute_result"
    }
   ],
   "source": [
    "data.pop() ## remove the data in reverse order from the list "
   ]
  },
  {
   "cell_type": "code",
   "execution_count": 6,
   "id": "a33a1d71-6754-4cc0-91e4-cfa7859373a1",
   "metadata": {},
   "outputs": [
    {
     "data": {
      "text/plain": [
       "['Dog']"
      ]
     },
     "execution_count": 6,
     "metadata": {},
     "output_type": "execute_result"
    }
   ],
   "source": [
    "data"
   ]
  },
  {
   "cell_type": "code",
   "execution_count": 7,
   "id": "344ed5e7-bd29-47b5-afdb-733e38086209",
   "metadata": {},
   "outputs": [],
   "source": [
    "# inplace \n",
    "\n",
    "list=[1,2,3,4,5,6,7,8,9,0,10]"
   ]
  },
  {
   "cell_type": "code",
   "execution_count": 9,
   "id": "af0bb0db-d3d5-4ecd-a56f-e2c0ef8f0986",
   "metadata": {},
   "outputs": [
    {
     "data": {
      "text/plain": [
       "[10, 0, 9, 8, 7, 6, 5, 4, 3, 2, 1]"
      ]
     },
     "execution_count": 9,
     "metadata": {},
     "output_type": "execute_result"
    }
   ],
   "source": [
    "list[::-1]"
   ]
  },
  {
   "cell_type": "code",
   "execution_count": 5,
   "id": "f1a2ab5e-1b2f-4d2e-9007-2565d450eb69",
   "metadata": {},
   "outputs": [],
   "source": [
    "# inplace \n",
    "\n",
    "list.reverse()"
   ]
  },
  {
   "cell_type": "code",
   "execution_count": 7,
   "id": "fe58f86c-3dff-487a-85e1-535fa143c640",
   "metadata": {},
   "outputs": [
    {
     "data": {
      "text/plain": [
       "[10, 0, 9, 8, 7, 6, 5, 4, 3, 2, 1]"
      ]
     },
     "execution_count": 7,
     "metadata": {},
     "output_type": "execute_result"
    }
   ],
   "source": [
    "list"
   ]
  },
  {
   "cell_type": "code",
   "execution_count": 8,
   "id": "f817df22-6c7b-4867-95ec-6230d4303593",
   "metadata": {},
   "outputs": [],
   "source": [
    "list.sort() # shorting"
   ]
  },
  {
   "cell_type": "code",
   "execution_count": 9,
   "id": "818b867a-e3f0-4e60-b20d-66973172daf4",
   "metadata": {},
   "outputs": [
    {
     "data": {
      "text/plain": [
       "[0, 1, 2, 3, 4, 5, 6, 7, 8, 9, 10]"
      ]
     },
     "execution_count": 9,
     "metadata": {},
     "output_type": "execute_result"
    }
   ],
   "source": [
    "list\n"
   ]
  },
  {
   "cell_type": "markdown",
   "id": "62b1255b-ec5d-4cdf-9de9-0accc6bf2237",
   "metadata": {},
   "source": [
    "# Nested list"
   ]
  },
  {
   "cell_type": "code",
   "execution_count": 10,
   "id": "b837ffd6-b9b5-474d-a35f-d5de20d5e6db",
   "metadata": {},
   "outputs": [],
   "source": [
    "mat_1=[1,2,3]\n",
    "mat_2=[4,5,6]\n",
    "mat_3=[7,8,9]\n",
    "\n",
    "mat_n=[mat_1, mat_2, mat_3]"
   ]
  },
  {
   "cell_type": "code",
   "execution_count": 11,
   "id": "1b36262f-4c08-4a06-9cbe-c9e90c9ef1db",
   "metadata": {},
   "outputs": [
    {
     "data": {
      "text/plain": [
       "[[1, 2, 3], [4, 5, 6], [7, 8, 9]]"
      ]
     },
     "execution_count": 11,
     "metadata": {},
     "output_type": "execute_result"
    }
   ],
   "source": [
    "mat_n"
   ]
  },
  {
   "cell_type": "code",
   "execution_count": 28,
   "id": "46afd075-1d5b-4b14-9383-0efe50458d16",
   "metadata": {},
   "outputs": [
    {
     "data": {
      "text/plain": [
       "(1, 4, 7)"
      ]
     },
     "execution_count": 28,
     "metadata": {},
     "output_type": "execute_result"
    }
   ],
   "source": [
    "mat_n[0][0] , mat_n[1][0] , mat_n[2][0]"
   ]
  },
  {
   "cell_type": "code",
   "execution_count": 32,
   "id": "dfd51ccc-62b0-4128-b0b3-f50032bf6078",
   "metadata": {},
   "outputs": [
    {
     "data": {
      "text/plain": [
       "[0, 1, 2, 3, 4, 5, 6, 7, 8, 9, 10, 11, 12, 13, 14, 15, 16, 17, 18, 19]"
      ]
     },
     "execution_count": 32,
     "metadata": {},
     "output_type": "execute_result"
    }
   ],
   "source": [
    "### List comprehension\n",
    "\n",
    "[i for i in range(0,20)]"
   ]
  },
  {
   "cell_type": "code",
   "execution_count": 36,
   "id": "c529ba83-2c9a-4400-ac93-644a19369b80",
   "metadata": {},
   "outputs": [
    {
     "data": {
      "text/plain": [
       "[0, '', 2, '', 4, '', 6, '', 8, '', 10, '', 12, '', 14, '', 16, '', 18, '']"
      ]
     },
     "execution_count": 36,
     "metadata": {},
     "output_type": "execute_result"
    }
   ],
   "source": [
    "# even number\n",
    "\n",
    "[i if i%2==0 else \"\" for i in range(0,20)]"
   ]
  },
  {
   "cell_type": "code",
   "execution_count": 13,
   "id": "68a44cb8-40f2-4e16-8a43-fc19bb27ebff",
   "metadata": {},
   "outputs": [
    {
     "data": {
      "text/plain": [
       "[0,\n",
       " 'ODD',\n",
       " 2,\n",
       " 'ODD',\n",
       " 4,\n",
       " 'ODD',\n",
       " 6,\n",
       " 'ODD',\n",
       " 8,\n",
       " 'ODD',\n",
       " 10,\n",
       " 'ODD',\n",
       " 12,\n",
       " 'ODD',\n",
       " 14,\n",
       " 'ODD',\n",
       " 16,\n",
       " 'ODD',\n",
       " 18,\n",
       " 'ODD']"
      ]
     },
     "execution_count": 13,
     "metadata": {},
     "output_type": "execute_result"
    }
   ],
   "source": [
    "[i if i%2==0 else \"ODD\" for i in range(0,20)]"
   ]
  },
  {
   "cell_type": "code",
   "execution_count": 81,
   "id": "214ce35d-bb01-4c64-90a3-d9e9b354fb4b",
   "metadata": {},
   "outputs": [],
   "source": [
    "lst = [1,2,3,4,5,6,7,8,9]\n",
    "\n",
    "even_sum=sum([i for i in lst if i%2==0 ])\n",
    "odd_sum=sum([i for i in lst if i%2 !=0 ])\n"
   ]
  },
  {
   "cell_type": "code",
   "execution_count": 82,
   "id": "3588705a-f436-4bf4-911a-ba128ed1a82e",
   "metadata": {},
   "outputs": [
    {
     "data": {
      "text/plain": [
       "20"
      ]
     },
     "execution_count": 82,
     "metadata": {},
     "output_type": "execute_result"
    }
   ],
   "source": [
    "even\n"
   ]
  },
  {
   "cell_type": "code",
   "execution_count": 83,
   "id": "cbcf42ee-97a1-434d-90a4-03f2239b11a2",
   "metadata": {},
   "outputs": [
    {
     "data": {
      "text/plain": [
       "25"
      ]
     },
     "execution_count": 83,
     "metadata": {},
     "output_type": "execute_result"
    }
   ],
   "source": [
    "odd"
   ]
  },
  {
   "cell_type": "code",
   "execution_count": 88,
   "id": "cbfd1868-b25d-4bec-ba15-1706b3126588",
   "metadata": {},
   "outputs": [
    {
     "data": {
      "text/plain": [
       "[1, 4, 9, 16, 25, 36, 49, 64, 81]"
      ]
     },
     "execution_count": 88,
     "metadata": {},
     "output_type": "execute_result"
    }
   ],
   "source": [
    "lst = [1,2,3,4,5,6,7,8,9]\n",
    "\n",
    "[num**2 for num in lst ]"
   ]
  },
  {
   "cell_type": "code",
   "execution_count": 89,
   "id": "9a3505c5-6462-432c-8dc1-74226f3fed07",
   "metadata": {},
   "outputs": [
    {
     "data": {
      "text/plain": [
       "[1, 2, 3, 4, 5, 6, 7, 8, 9]"
      ]
     },
     "execution_count": 89,
     "metadata": {},
     "output_type": "execute_result"
    }
   ],
   "source": [
    "lst = [1,2,3,4,5,6,7,8,9,-1,-3,]\n",
    "\n",
    "[num for num in lst if num >=0]"
   ]
  },
  {
   "cell_type": "code",
   "execution_count": 92,
   "id": "77dd1ea3-d7c9-4f6a-9f7d-2f3b752c8752",
   "metadata": {},
   "outputs": [
    {
     "ename": "TypeError",
     "evalue": "can't multiply sequence by non-int of type 'float'",
     "output_type": "error",
     "traceback": [
      "\u001b[0;31m---------------------------------------------------------------------------\u001b[0m",
      "\u001b[0;31mTypeError\u001b[0m                                 Traceback (most recent call last)",
      "Cell \u001b[0;32mIn[92], line 2\u001b[0m\n\u001b[1;32m      1\u001b[0m temp\u001b[38;5;241m=\u001b[39m[\u001b[38;5;241m10\u001b[39m,\u001b[38;5;241m20\u001b[39m,\u001b[38;5;241m30\u001b[39m]\n\u001b[0;32m----> 2\u001b[0m body_temp\u001b[38;5;241m=\u001b[39m\u001b[43m(\u001b[49m\u001b[38;5;241;43m9\u001b[39;49m\u001b[38;5;241;43m/\u001b[39;49m\u001b[38;5;241;43m5\u001b[39;49m\u001b[43m)\u001b[49m\u001b[38;5;241;43m*\u001b[39;49m\u001b[43mtemp\u001b[49m\u001b[38;5;241m+\u001b[39m\u001b[38;5;241m32\u001b[39m\n",
      "\u001b[0;31mTypeError\u001b[0m: can't multiply sequence by non-int of type 'float'"
     ]
    }
   ],
   "source": [
    "temp=[10,20,30]\n",
    "body_temp=(9/5)*temp+32"
   ]
  },
  {
   "cell_type": "code",
   "execution_count": 95,
   "id": "b6f6f9e4-7c8d-4ef1-a660-0ed74667108e",
   "metadata": {},
   "outputs": [
    {
     "data": {
      "text/plain": [
       "[32.0, 50.0, 68.0, 86.0, 104.0, 122.0]"
      ]
     },
     "execution_count": 95,
     "metadata": {},
     "output_type": "execute_result"
    }
   ],
   "source": [
    "cel = [0, 10, 20, 30, 40, 50]\n",
    "[(9/5)*cell+32 for cell in cel]"
   ]
  },
  {
   "cell_type": "code",
   "execution_count": 15,
   "id": "7f605cff-bf22-43db-9efc-d444fca96435",
   "metadata": {},
   "outputs": [
    {
     "data": {
      "text/plain": [
       "[1, 2, 3, 4, 5, 6, 7, 8, 9]"
      ]
     },
     "execution_count": 15,
     "metadata": {},
     "output_type": "execute_result"
    }
   ],
   "source": [
    "##flatten a list of lists in a single list\n",
    "list=[[1, 2, 3],[4, 5, 6],[7, 8, 9]]\n",
    "[num for sublist in list for num in sublist]"
   ]
  },
  {
   "cell_type": "code",
   "execution_count": 17,
   "id": "0813cb0e-27d6-458b-8b3d-60266d992c4f",
   "metadata": {},
   "outputs": [],
   "source": [
    "## code and comprehension\n",
    "## only prime number\n",
    "nm = [1, 2, 3, 4, 5, 6, 7, 8, 9]\n"
   ]
  },
  {
   "cell_type": "code",
   "execution_count": null,
   "id": "1e22892d-7db5-4771-bdc6-3df840b2ac2c",
   "metadata": {},
   "outputs": [],
   "source": []
  },
  {
   "cell_type": "code",
   "execution_count": 111,
   "id": "4b466277-6f8c-45d1-a0af-024aa33f6f64",
   "metadata": {},
   "outputs": [
    {
     "name": "stdout",
     "output_type": "stream",
     "text": [
      "[2, 3, 5, 7]\n"
     ]
    }
   ],
   "source": [
    "def find_prime_numbers(nm):\n",
    "    prime_numbers = []\n",
    "    for num in nm:\n",
    "        if num > 1:\n",
    "            for i in range(2, num):\n",
    "                if (num % i) == 0:\n",
    "                    break\n",
    "            else:\n",
    "                prime_numbers.append(num)\n",
    "    return prime_numbers\n",
    "\n",
    "print(find_prime_numbers(nm))\n"
   ]
  },
  {
   "cell_type": "code",
   "execution_count": 20,
   "id": "8807b866-3d12-463e-9a47-5d3bcb4c5dff",
   "metadata": {},
   "outputs": [
    {
     "data": {
      "text/plain": [
       "[2, 3, 5, 7]"
      ]
     },
     "execution_count": 20,
     "metadata": {},
     "output_type": "execute_result"
    }
   ],
   "source": [
    "[num for num in nm if all(num % i != 0 for i in range(2, num)) and num > 1]\n"
   ]
  },
  {
   "cell_type": "code",
   "execution_count": null,
   "id": "87dead45-dac7-43a4-8b29-b18fa7f75a9f",
   "metadata": {},
   "outputs": [],
   "source": [
    "##create a list for all possible combination 2 eliment from a list\n",
    "nm = [1, 2, 3, 4, 5, 6, 7, 8, 9]"
   ]
  },
  {
   "cell_type": "code",
   "execution_count": 118,
   "id": "57f4ce00-9375-4fe3-8d6e-7dbdf55310ea",
   "metadata": {},
   "outputs": [
    {
     "ename": "TypeError",
     "evalue": "'list' object is not callable",
     "output_type": "error",
     "traceback": [
      "\u001b[0;31m---------------------------------------------------------------------------\u001b[0m",
      "\u001b[0;31mTypeError\u001b[0m                                 Traceback (most recent call last)",
      "Cell \u001b[0;32mIn[118], line 5\u001b[0m\n\u001b[1;32m      3\u001b[0m nm \u001b[38;5;241m=\u001b[39m [\u001b[38;5;241m1\u001b[39m, \u001b[38;5;241m2\u001b[39m, \u001b[38;5;241m3\u001b[39m, \u001b[38;5;241m4\u001b[39m, \u001b[38;5;241m5\u001b[39m, \u001b[38;5;241m6\u001b[39m, \u001b[38;5;241m7\u001b[39m, \u001b[38;5;241m8\u001b[39m, \u001b[38;5;241m9\u001b[39m]\n\u001b[1;32m      4\u001b[0m comb \u001b[38;5;241m=\u001b[39m combinations(nm, \u001b[38;5;241m2\u001b[39m)\n\u001b[0;32m----> 5\u001b[0m result \u001b[38;5;241m=\u001b[39m \u001b[38;5;28;43mlist\u001b[39;49m\u001b[43m(\u001b[49m\u001b[43mcomb\u001b[49m\u001b[43m)\u001b[49m\n\u001b[1;32m      6\u001b[0m \u001b[38;5;28mprint\u001b[39m(result)\n",
      "\u001b[0;31mTypeError\u001b[0m: 'list' object is not callable"
     ]
    }
   ],
   "source": [
    "\n",
    "\n",
    "##from itertools import combinations\n",
    "\n",
    "nm = [1, 2, 3, 4, 5, 6, 7, 8, 9]\n",
    "comb = combinations(nm, 2)\n",
    "result = list(comb)\n",
    "print(result)\n"
   ]
  },
  {
   "cell_type": "code",
   "execution_count": 119,
   "id": "2707311c-b57c-4b0a-98ea-0baffe6c6bc3",
   "metadata": {},
   "outputs": [
    {
     "name": "stdout",
     "output_type": "stream",
     "text": [
      "[(1, 2), (1, 3), (1, 4), (1, 5), (1, 6), (1, 7), (1, 8), (1, 9), (2, 3), (2, 4), (2, 5), (2, 6), (2, 7), (2, 8), (2, 9), (3, 4), (3, 5), (3, 6), (3, 7), (3, 8), (3, 9), (4, 5), (4, 6), (4, 7), (4, 8), (4, 9), (5, 6), (5, 7), (5, 8), (5, 9), (6, 7), (6, 8), (6, 9), (7, 8), (7, 9), (8, 9)]\n"
     ]
    }
   ],
   "source": [
    "nm = [1, 2, 3, 4, 5, 6, 7, 8, 9]\n",
    "result = [(nm[i], nm[j]) for i in range(len(nm)) for j in range(i+1, len(nm))]\n",
    "print(result)\n"
   ]
  },
  {
   "cell_type": "code",
   "execution_count": 25,
   "id": "6969142b-1cdd-46a0-bee5-c429fca723e1",
   "metadata": {},
   "outputs": [
    {
     "name": "stdout",
     "output_type": "stream",
     "text": [
      "[(1, 1), (1, 2), (1, 3), (2, 1), (2, 2), (2, 3), (3, 1), (3, 2), (3, 3)]\n"
     ]
    }
   ],
   "source": [
    "nm = [1, 2, 3]\n",
    "result = [(nm[i], nm[j]) for i in range(len(nm)) for j in range(0, len(nm))]\n",
    "print(result)"
   ]
  },
  {
   "cell_type": "code",
   "execution_count": null,
   "id": "c03db49e-aa16-41b5-b9b0-004aa9708049",
   "metadata": {},
   "outputs": [],
   "source": []
  }
 ],
 "metadata": {
  "kernelspec": {
   "display_name": "Python 3 (ipykernel)",
   "language": "python",
   "name": "python3"
  },
  "language_info": {
   "codemirror_mode": {
    "name": "ipython",
    "version": 3
   },
   "file_extension": ".py",
   "mimetype": "text/x-python",
   "name": "python",
   "nbconvert_exporter": "python",
   "pygments_lexer": "ipython3",
   "version": "3.10.8"
  }
 },
 "nbformat": 4,
 "nbformat_minor": 5
}
