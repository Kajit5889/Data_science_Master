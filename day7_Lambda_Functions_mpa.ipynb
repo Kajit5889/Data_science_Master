{
 "cells": [
  {
   "cell_type": "markdown",
   "id": "f490e97e-2457-476e-a24b-8ec902ed8506",
   "metadata": {},
   "source": [
    "## Lambda function"
   ]
  },
  {
   "cell_type": "code",
   "execution_count": 1,
   "id": "41d225b4-fab3-4076-9ad1-f5704c32acc7",
   "metadata": {},
   "outputs": [],
   "source": [
    "def test(n, p):\n",
    "    return n**p"
   ]
  },
  {
   "cell_type": "code",
   "execution_count": 2,
   "id": "fb033b67-ea0f-455d-8d62-e23f8a6ae629",
   "metadata": {},
   "outputs": [
    {
     "data": {
      "text/plain": [
       "8"
      ]
     },
     "execution_count": 2,
     "metadata": {},
     "output_type": "execute_result"
    }
   ],
   "source": [
    "test(2,3)"
   ]
  },
  {
   "cell_type": "code",
   "execution_count": 7,
   "id": "14f3aaaf-c96e-4b5a-9653-9b9318d7a737",
   "metadata": {},
   "outputs": [
    {
     "data": {
      "text/plain": [
       "6561"
      ]
     },
     "execution_count": 7,
     "metadata": {},
     "output_type": "execute_result"
    }
   ],
   "source": [
    "test(9,4)"
   ]
  },
  {
   "cell_type": "code",
   "execution_count": 3,
   "id": "ac74513b-37b4-47b2-90a3-745f3a85348f",
   "metadata": {},
   "outputs": [
    {
     "data": {
      "text/plain": [
       "<function __main__.<lambda>(n, p)>"
      ]
     },
     "execution_count": 3,
     "metadata": {},
     "output_type": "execute_result"
    }
   ],
   "source": [
    "lambda n,p : n**p  ## Adhoc function"
   ]
  },
  {
   "cell_type": "code",
   "execution_count": 4,
   "id": "c6c1c4e1-8403-431a-abf7-c1e35245d96b",
   "metadata": {},
   "outputs": [],
   "source": [
    "a = lambda n,p : n**p"
   ]
  },
  {
   "cell_type": "code",
   "execution_count": 5,
   "id": "8ac7a29f-b072-4c29-b2f4-3ffc2d478a88",
   "metadata": {},
   "outputs": [
    {
     "data": {
      "text/plain": [
       "8"
      ]
     },
     "execution_count": 5,
     "metadata": {},
     "output_type": "execute_result"
    }
   ],
   "source": [
    "a(2,3)"
   ]
  },
  {
   "cell_type": "code",
   "execution_count": 6,
   "id": "6c2eff43-e8cf-4e7f-acf8-402976e1c6f6",
   "metadata": {},
   "outputs": [
    {
     "data": {
      "text/plain": [
       "6561"
      ]
     },
     "execution_count": 6,
     "metadata": {},
     "output_type": "execute_result"
    }
   ],
   "source": [
    "a(9,4)"
   ]
  },
  {
   "cell_type": "code",
   "execution_count": 8,
   "id": "5fdd8540-6a24-42c4-877b-b59026817e71",
   "metadata": {},
   "outputs": [],
   "source": [
    "b = lambda x,y : x+y"
   ]
  },
  {
   "cell_type": "code",
   "execution_count": 9,
   "id": "50ca95dc-43ae-452f-a196-2c65cce48b3a",
   "metadata": {},
   "outputs": [
    {
     "data": {
      "text/plain": [
       "105"
      ]
     },
     "execution_count": 9,
     "metadata": {},
     "output_type": "execute_result"
    }
   ],
   "source": [
    "b(100, 5)"
   ]
  },
  {
   "cell_type": "code",
   "execution_count": 10,
   "id": "a8355e95-c71d-4281-ba00-5ae158e6de62",
   "metadata": {},
   "outputs": [],
   "source": [
    "## covert celcious into farenite \n",
    "\n",
    "c_to_f = lambda c : (9/5)*c+32"
   ]
  },
  {
   "cell_type": "code",
   "execution_count": 11,
   "id": "d0cdb5f1-1113-4f29-8fdc-c93d5e6379d2",
   "metadata": {},
   "outputs": [
    {
     "data": {
      "text/plain": [
       "113.0"
      ]
     },
     "execution_count": 11,
     "metadata": {},
     "output_type": "execute_result"
    }
   ],
   "source": [
    "c_to_f(45)"
   ]
  },
  {
   "cell_type": "code",
   "execution_count": 12,
   "id": "eee1d10a-6390-4369-98d5-39b492168b21",
   "metadata": {},
   "outputs": [
    {
     "data": {
      "text/plain": [
       "98.60000000000001"
      ]
     },
     "execution_count": 12,
     "metadata": {},
     "output_type": "execute_result"
    }
   ],
   "source": [
    "c_to_f(37)"
   ]
  },
  {
   "cell_type": "code",
   "execution_count": 13,
   "id": "dcf1ee46-9635-4f34-a39b-348032774b84",
   "metadata": {},
   "outputs": [],
   "source": [
    "max_two = lambda a,b : a if a > b else b"
   ]
  },
  {
   "cell_type": "code",
   "execution_count": 14,
   "id": "088273fe-51cd-48ec-b22f-bb5daa17f2e6",
   "metadata": {},
   "outputs": [
    {
     "data": {
      "text/plain": [
       "5"
      ]
     },
     "execution_count": 14,
     "metadata": {},
     "output_type": "execute_result"
    }
   ],
   "source": [
    "max_two(4,5)"
   ]
  },
  {
   "cell_type": "code",
   "execution_count": 15,
   "id": "b1034fe3-b90e-4dcc-b341-3b751886842e",
   "metadata": {},
   "outputs": [
    {
     "data": {
      "text/plain": [
       "8"
      ]
     },
     "execution_count": 15,
     "metadata": {},
     "output_type": "execute_result"
    }
   ],
   "source": [
    "max_two(8,2)"
   ]
  },
  {
   "cell_type": "code",
   "execution_count": 17,
   "id": "7308434b-0fae-4985-9213-09cfd61e4dfa",
   "metadata": {},
   "outputs": [],
   "source": [
    "s=\"abcedff\""
   ]
  },
  {
   "cell_type": "code",
   "execution_count": 18,
   "id": "ed4c632f-01fb-4eae-bec3-889957be5853",
   "metadata": {},
   "outputs": [
    {
     "data": {
      "text/plain": [
       "7"
      ]
     },
     "execution_count": 18,
     "metadata": {},
     "output_type": "execute_result"
    }
   ],
   "source": [
    "len(s)"
   ]
  },
  {
   "cell_type": "code",
   "execution_count": 19,
   "id": "07388a6d-7620-492c-936d-68477f5076aa",
   "metadata": {},
   "outputs": [],
   "source": [
    "len_lamb = lambda s : len(s) # shorting : adhoc "
   ]
  },
  {
   "cell_type": "code",
   "execution_count": 21,
   "id": "5ccc289c-da9c-4132-b890-56b51bbc15fb",
   "metadata": {},
   "outputs": [
    {
     "data": {
      "text/plain": [
       "7"
      ]
     },
     "execution_count": 21,
     "metadata": {},
     "output_type": "execute_result"
    }
   ],
   "source": [
    "len_lamb(s)"
   ]
  },
  {
   "cell_type": "code",
   "execution_count": 22,
   "id": "17bcc9f2-5c13-4219-9c67-ff8a5d586e5d",
   "metadata": {},
   "outputs": [
    {
     "data": {
      "text/plain": [
       "<function __main__.<lambda>(s)>"
      ]
     },
     "execution_count": 22,
     "metadata": {},
     "output_type": "execute_result"
    }
   ],
   "source": [
    "len_lamb"
   ]
  },
  {
   "cell_type": "markdown",
   "id": "2a8ea1e4-771d-42b2-bbb3-7f446ad02522",
   "metadata": {},
   "source": [
    "###  Map, Reduce Filter Functions"
   ]
  },
  {
   "cell_type": "code",
   "execution_count": 36,
   "id": "ebb2425f-b1bc-468c-986c-2718b327abe6",
   "metadata": {},
   "outputs": [],
   "source": [
    "l = [1,2,3,4,5,6,7,8,9]"
   ]
  },
  {
   "cell_type": "code",
   "execution_count": 37,
   "id": "1d27c02b-2e81-4cc7-8bf0-a34cc17a27a2",
   "metadata": {},
   "outputs": [
    {
     "data": {
      "text/plain": [
       "[1, 2, 3, 4, 5, 6, 7, 8, 9]"
      ]
     },
     "execution_count": 37,
     "metadata": {},
     "output_type": "execute_result"
    }
   ],
   "source": [
    "l"
   ]
  },
  {
   "cell_type": "code",
   "execution_count": 47,
   "id": "77e3d5f1-d04f-4704-ad4c-9d5e54599549",
   "metadata": {},
   "outputs": [],
   "source": [
    "def test(l):\n",
    "    n = []\n",
    "    for i in l:\n",
    "        n.append(i**2)\n",
    "    return n"
   ]
  },
  {
   "cell_type": "code",
   "execution_count": 48,
   "id": "243d40b1-a80b-4266-9477-9f75ebf21c28",
   "metadata": {},
   "outputs": [
    {
     "data": {
      "text/plain": [
       "[1, 4, 9, 16, 25, 36, 49, 64, 81]"
      ]
     },
     "execution_count": 48,
     "metadata": {},
     "output_type": "execute_result"
    }
   ],
   "source": [
    "test(l)"
   ]
  },
  {
   "cell_type": "code",
   "execution_count": 50,
   "id": "020bed15-b623-43f5-bf8a-0a4801bdef4d",
   "metadata": {},
   "outputs": [],
   "source": [
    "list_a = [1,2,3,4,5,6,7,8,9]"
   ]
  },
  {
   "cell_type": "code",
   "execution_count": 52,
   "id": "2202dc23-f8b8-483f-9a5b-a5a778757db8",
   "metadata": {},
   "outputs": [
    {
     "data": {
      "text/plain": [
       "[1, 4, 9, 16, 25, 36, 49, 64, 81]"
      ]
     },
     "execution_count": 52,
     "metadata": {},
     "output_type": "execute_result"
    }
   ],
   "source": [
    "def sq(x):\n",
    "    return x**2\n",
    "list(map(sq, list_a))"
   ]
  },
  {
   "cell_type": "code",
   "execution_count": 53,
   "id": "8202dad8-b178-4ff4-90c2-8a394920611d",
   "metadata": {},
   "outputs": [
    {
     "data": {
      "text/plain": [
       "[1, 4, 9, 16, 25, 36, 49, 64, 81]"
      ]
     },
     "execution_count": 53,
     "metadata": {},
     "output_type": "execute_result"
    }
   ],
   "source": [
    "list(map(lambda x : x**2, list_a))"
   ]
  },
  {
   "cell_type": "code",
   "execution_count": 61,
   "id": "29bccabd-a64c-486b-9030-fd36e7ed4d39",
   "metadata": {},
   "outputs": [],
   "source": [
    "list_1=[1,2,3,4,5]\n",
    "list_2=[6,7,8,9,10]"
   ]
  },
  {
   "cell_type": "code",
   "execution_count": 62,
   "id": "ddc4d3f4-1fe5-44a4-b90b-c5fd4e22aa8f",
   "metadata": {},
   "outputs": [
    {
     "data": {
      "text/plain": [
       "[7, 9, 11, 13, 15]"
      ]
     },
     "execution_count": 62,
     "metadata": {},
     "output_type": "execute_result"
    }
   ],
   "source": [
    "list(map(lambda x,y : x + y , list_1,list_2) )"
   ]
  },
  {
   "cell_type": "code",
   "execution_count": 66,
   "id": "8cdb779d-855a-4e55-a892-2ce3eeacfd38",
   "metadata": {},
   "outputs": [
    {
     "data": {
      "text/plain": [
       "[7, 9, 11, 13, 15]"
      ]
     },
     "execution_count": 66,
     "metadata": {},
     "output_type": "execute_result"
    }
   ],
   "source": [
    "f = lambda x,y : x+y\n",
    "list(map(f, list_1,list_2))"
   ]
  },
  {
   "cell_type": "code",
   "execution_count": 67,
   "id": "51066887-b6de-468f-a81f-a3fdd16fc2e3",
   "metadata": {},
   "outputs": [
    {
     "data": {
      "text/plain": [
       "['P', 'W', 'S', 'K', 'I', 'L', 'L', 'S']"
      ]
     },
     "execution_count": 67,
     "metadata": {},
     "output_type": "execute_result"
    }
   ],
   "source": [
    "## mapping of an eliment \n",
    "## available inside list or itterable\n",
    "s = \"pwskills\"\n",
    "list(map(lambda x : x.upper() ,s))"
   ]
  },
  {
   "cell_type": "code",
   "execution_count": null,
   "id": "82533174-bfb8-49ce-adc8-bb87436ea895",
   "metadata": {},
   "outputs": [],
   "source": [
    "###default it no listed reduce"
   ]
  },
  {
   "cell_type": "markdown",
   "id": "4dd3b61d-2955-46a5-82d9-8fc43d67eb66",
   "metadata": {},
   "source": [
    "##reduce"
   ]
  },
  {
   "cell_type": "code",
   "execution_count": 76,
   "id": "d8129944-f7eb-46ad-bb80-8daa159142d7",
   "metadata": {},
   "outputs": [],
   "source": [
    "l = [1,2,3,4,5]"
   ]
  },
  {
   "cell_type": "code",
   "execution_count": 80,
   "id": "5cf3b803-1595-49c7-a5b5-43ec2d8c7233",
   "metadata": {},
   "outputs": [
    {
     "data": {
      "text/plain": [
       "15"
      ]
     },
     "execution_count": 80,
     "metadata": {},
     "output_type": "execute_result"
    }
   ],
   "source": [
    "from functools import reduce\n",
    "reduce(lambda x, y : x + y, l)"
   ]
  },
  {
   "cell_type": "code",
   "execution_count": 81,
   "id": "a401358e-efc0-4d29-a0b9-5cd8b149fa79",
   "metadata": {},
   "outputs": [],
   "source": [
    "## external function :\n",
    "\n",
    "def add(x,y):\n",
    "    return x + y"
   ]
  },
  {
   "cell_type": "code",
   "execution_count": 82,
   "id": "c15a0093-69fc-4b60-b4d8-6fddc30643c9",
   "metadata": {},
   "outputs": [
    {
     "data": {
      "text/plain": [
       "15"
      ]
     },
     "execution_count": 82,
     "metadata": {},
     "output_type": "execute_result"
    }
   ],
   "source": [
    "reduce (add , l)"
   ]
  },
  {
   "cell_type": "code",
   "execution_count": null,
   "id": "21337b16-62f4-483f-8752-0dbcbece48b2",
   "metadata": {},
   "outputs": [],
   "source": [
    "## always it take two argument at any point of time"
   ]
  },
  {
   "cell_type": "raw",
   "id": "6352880b-c0d9-44b6-a223-097e42df3a05",
   "metadata": {},
   "source": [
    "list_1 = [1,2,3,4,5]\n",
    "reduce(lambda x, y : x + y, [1])"
   ]
  },
  {
   "cell_type": "code",
   "execution_count": 83,
   "id": "97f2cc4b-edd7-4264-bf0a-882c97900fd4",
   "metadata": {},
   "outputs": [
    {
     "data": {
      "text/plain": [
       "1"
      ]
     },
     "execution_count": 83,
     "metadata": {},
     "output_type": "execute_result"
    }
   ],
   "source": [
    "reduce(lambda x, y : x + y, [1])"
   ]
  },
  {
   "cell_type": "code",
   "execution_count": null,
   "id": "d456a402-907d-415a-ad25-b4d7c8779589",
   "metadata": {},
   "outputs": [],
   "source": [
    "# with exceptional case; "
   ]
  },
  {
   "cell_type": "code",
   "execution_count": 86,
   "id": "05088350-d1f0-4197-8c39-f78b7b31f8b5",
   "metadata": {},
   "outputs": [
    {
     "data": {
      "text/plain": [
       "5"
      ]
     },
     "execution_count": 86,
     "metadata": {},
     "output_type": "execute_result"
    }
   ],
   "source": [
    "reduce(lambda x,y : x if x>y else y, list_1)"
   ]
  },
  {
   "cell_type": "code",
   "execution_count": null,
   "id": "5c4bb568-576f-4335-b5c5-9808fba6896c",
   "metadata": {},
   "outputs": [],
   "source": [
    "## x>y false 2 > 3 false , 3 > 4 false , 4 > 5 false , else 5"
   ]
  },
  {
   "cell_type": "markdown",
   "id": "ad8edc72-2768-44c0-9e6d-12ba3dc68927",
   "metadata": {},
   "source": [
    "\n",
    "######### filter "
   ]
  },
  {
   "cell_type": "code",
   "execution_count": 87,
   "id": "16074aff-8874-43e5-a13b-eaa0a6073087",
   "metadata": {},
   "outputs": [
    {
     "data": {
      "text/plain": [
       "[1, 2, 3, 4, 5]"
      ]
     },
     "execution_count": 87,
     "metadata": {},
     "output_type": "execute_result"
    }
   ],
   "source": [
    "list_1"
   ]
  },
  {
   "cell_type": "code",
   "execution_count": 88,
   "id": "5505a81c-3b02-4bf9-a402-be9329f21baa",
   "metadata": {},
   "outputs": [
    {
     "data": {
      "text/plain": [
       "<filter at 0x7f44c935e500>"
      ]
     },
     "execution_count": 88,
     "metadata": {},
     "output_type": "execute_result"
    }
   ],
   "source": [
    "filter(lambda x : x % 2==0 ,list_1)"
   ]
  },
  {
   "cell_type": "code",
   "execution_count": 89,
   "id": "37386fc5-d5eb-480d-a22e-bca42e53a697",
   "metadata": {},
   "outputs": [
    {
     "data": {
      "text/plain": [
       "[2, 4]"
      ]
     },
     "execution_count": 89,
     "metadata": {},
     "output_type": "execute_result"
    }
   ],
   "source": [
    "list(filter(lambda x : x % 2==0 ,list_1))"
   ]
  },
  {
   "cell_type": "code",
   "execution_count": 91,
   "id": "9de3cf89-2d26-4f77-95ca-3449a778c629",
   "metadata": {},
   "outputs": [
    {
     "data": {
      "text/plain": [
       "[1, 3, 5]"
      ]
     },
     "execution_count": 91,
     "metadata": {},
     "output_type": "execute_result"
    }
   ],
   "source": [
    "list(filter(lambda x : x % 2 !=0 ,list_1))"
   ]
  },
  {
   "cell_type": "code",
   "execution_count": 94,
   "id": "cf28693a-f356-48aa-9060-6c59e5e2d713",
   "metadata": {},
   "outputs": [
    {
     "data": {
      "text/plain": [
       "[-1, -3, -5, -6, -8]"
      ]
     },
     "execution_count": 94,
     "metadata": {},
     "output_type": "execute_result"
    }
   ],
   "source": [
    "list_2 = [0,1,-1,3,-3,4,-5,-6,-8,4,5,6,7]\n",
    "list(filter(lambda x : x < 0 ,list_2))"
   ]
  },
  {
   "cell_type": "code",
   "execution_count": 96,
   "id": "bd33602b-f5fa-43a6-b171-e4d7454859b5",
   "metadata": {},
   "outputs": [
    {
     "data": {
      "text/plain": [
       "[0, 1, 3, 4, 4, 5, 6, 7]"
      ]
     },
     "execution_count": 96,
     "metadata": {},
     "output_type": "execute_result"
    }
   ],
   "source": [
    "list(filter(lambda x : x >= 0 ,list_2))"
   ]
  },
  {
   "cell_type": "code",
   "execution_count": 97,
   "id": "bacd501d-7ee7-4e64-ac86-004fffee59b8",
   "metadata": {},
   "outputs": [
    {
     "data": {
      "text/plain": [
       "['sudha', 'ajit', 'data']"
      ]
     },
     "execution_count": 97,
     "metadata": {},
     "output_type": "execute_result"
    }
   ],
   "source": [
    "list_3 = [\"sudha\",'ajit',\"data\",'science','master']\n",
    "list(filter(lambda x : len(x) < 6 ,list_3))"
   ]
  },
  {
   "cell_type": "code",
   "execution_count": null,
   "id": "4d1e72be-6afb-46bd-9258-037dfe297114",
   "metadata": {},
   "outputs": [],
   "source": []
  }
 ],
 "metadata": {
  "kernelspec": {
   "display_name": "Python 3 (ipykernel)",
   "language": "python",
   "name": "python3"
  },
  "language_info": {
   "codemirror_mode": {
    "name": "ipython",
    "version": 3
   },
   "file_extension": ".py",
   "mimetype": "text/x-python",
   "name": "python",
   "nbconvert_exporter": "python",
   "pygments_lexer": "ipython3",
   "version": "3.10.8"
  }
 },
 "nbformat": 4,
 "nbformat_minor": 5
}
