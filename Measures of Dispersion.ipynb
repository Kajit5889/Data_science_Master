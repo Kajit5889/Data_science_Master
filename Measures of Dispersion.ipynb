{
 "cells": [
  {
   "cell_type": "markdown",
   "id": "934c906f-7cf3-45e8-a478-879f48239752",
   "metadata": {},
   "source": [
    "## Measures of Dispersion"
   ]
  },
  {
   "cell_type": "code",
   "execution_count": 5,
   "id": "b5f1adc2-3979-490d-9167-964b90cb51d7",
   "metadata": {},
   "outputs": [],
   "source": [
    "## Variance\n",
    "\n",
    "ages_lst = [23,43,23,56,74,32,68,98,45,32]"
   ]
  },
  {
   "cell_type": "code",
   "execution_count": 11,
   "id": "37421722-5655-416a-b04b-f108fc8c1519",
   "metadata": {},
   "outputs": [],
   "source": [
    "import numpy as np"
   ]
  },
  {
   "cell_type": "code",
   "execution_count": 7,
   "id": "a0b3c90e-b151-4150-bed7-90fa1ea59774",
   "metadata": {},
   "outputs": [],
   "source": [
    "mean = np.mean(ages_lst)"
   ]
  },
  {
   "cell_type": "code",
   "execution_count": 8,
   "id": "b466cad1-c110-47cf-9a31-73c885b4a4eb",
   "metadata": {},
   "outputs": [
    {
     "data": {
      "text/plain": [
       "49.4"
      ]
     },
     "execution_count": 8,
     "metadata": {},
     "output_type": "execute_result"
    }
   ],
   "source": [
    "mean"
   ]
  },
  {
   "cell_type": "code",
   "execution_count": 10,
   "id": "0009b972-be76-430f-88fb-83ebf1ec052b",
   "metadata": {},
   "outputs": [
    {
     "data": {
      "text/plain": [
       "541.64"
      ]
     },
     "execution_count": 10,
     "metadata": {},
     "output_type": "execute_result"
    }
   ],
   "source": [
    "var = np.var(ages_lst)\n",
    "var"
   ]
  },
  {
   "cell_type": "code",
   "execution_count": 12,
   "id": "2a274215-798b-4419-b42f-07aeeb055bb3",
   "metadata": {},
   "outputs": [
    {
     "data": {
      "text/plain": [
       "23.273160507331188"
      ]
     },
     "execution_count": 12,
     "metadata": {},
     "output_type": "execute_result"
    }
   ],
   "source": [
    "Std = np.std(ages_lst)\n",
    "Std"
   ]
  },
  {
   "cell_type": "code",
   "execution_count": 14,
   "id": "1edc5934-f763-4374-949d-07cb43d7c5da",
   "metadata": {},
   "outputs": [],
   "source": [
    "import pandas as pd"
   ]
  },
  {
   "cell_type": "code",
   "execution_count": 13,
   "id": "a6e5cea7-e284-4ad5-ada3-b65758665864",
   "metadata": {},
   "outputs": [],
   "source": [
    "data = [[10,13,14], [12,12,43], [10,35,70]]"
   ]
  },
  {
   "cell_type": "code",
   "execution_count": 16,
   "id": "5611db6b-2943-451a-92ea-e4d90db2d565",
   "metadata": {},
   "outputs": [
    {
     "data": {
      "text/html": [
       "<div>\n",
       "<style scoped>\n",
       "    .dataframe tbody tr th:only-of-type {\n",
       "        vertical-align: middle;\n",
       "    }\n",
       "\n",
       "    .dataframe tbody tr th {\n",
       "        vertical-align: top;\n",
       "    }\n",
       "\n",
       "    .dataframe thead th {\n",
       "        text-align: right;\n",
       "    }\n",
       "</style>\n",
       "<table border=\"1\" class=\"dataframe\">\n",
       "  <thead>\n",
       "    <tr style=\"text-align: right;\">\n",
       "      <th></th>\n",
       "      <th>0</th>\n",
       "      <th>1</th>\n",
       "      <th>2</th>\n",
       "    </tr>\n",
       "  </thead>\n",
       "  <tbody>\n",
       "    <tr>\n",
       "      <th>0</th>\n",
       "      <td>10</td>\n",
       "      <td>13</td>\n",
       "      <td>14</td>\n",
       "    </tr>\n",
       "    <tr>\n",
       "      <th>1</th>\n",
       "      <td>12</td>\n",
       "      <td>12</td>\n",
       "      <td>43</td>\n",
       "    </tr>\n",
       "    <tr>\n",
       "      <th>2</th>\n",
       "      <td>10</td>\n",
       "      <td>35</td>\n",
       "      <td>70</td>\n",
       "    </tr>\n",
       "  </tbody>\n",
       "</table>\n",
       "</div>"
      ],
      "text/plain": [
       "    0   1   2\n",
       "0  10  13  14\n",
       "1  12  12  43\n",
       "2  10  35  70"
      ]
     },
     "execution_count": 16,
     "metadata": {},
     "output_type": "execute_result"
    }
   ],
   "source": [
    "data_1 = pd.DataFrame(data)\n",
    "data_1"
   ]
  },
  {
   "cell_type": "code",
   "execution_count": 17,
   "id": "e13e3674-4971-451f-8b89-70571b914c5c",
   "metadata": {},
   "outputs": [
    {
     "data": {
      "text/html": [
       "<div>\n",
       "<style scoped>\n",
       "    .dataframe tbody tr th:only-of-type {\n",
       "        vertical-align: middle;\n",
       "    }\n",
       "\n",
       "    .dataframe tbody tr th {\n",
       "        vertical-align: top;\n",
       "    }\n",
       "\n",
       "    .dataframe thead th {\n",
       "        text-align: right;\n",
       "    }\n",
       "</style>\n",
       "<table border=\"1\" class=\"dataframe\">\n",
       "  <thead>\n",
       "    <tr style=\"text-align: right;\">\n",
       "      <th></th>\n",
       "      <th>A</th>\n",
       "      <th>B</th>\n",
       "      <th>C</th>\n",
       "    </tr>\n",
       "  </thead>\n",
       "  <tbody>\n",
       "    <tr>\n",
       "      <th>0</th>\n",
       "      <td>10</td>\n",
       "      <td>13</td>\n",
       "      <td>14</td>\n",
       "    </tr>\n",
       "    <tr>\n",
       "      <th>1</th>\n",
       "      <td>12</td>\n",
       "      <td>12</td>\n",
       "      <td>43</td>\n",
       "    </tr>\n",
       "    <tr>\n",
       "      <th>2</th>\n",
       "      <td>10</td>\n",
       "      <td>35</td>\n",
       "      <td>70</td>\n",
       "    </tr>\n",
       "  </tbody>\n",
       "</table>\n",
       "</div>"
      ],
      "text/plain": [
       "    A   B   C\n",
       "0  10  13  14\n",
       "1  12  12  43\n",
       "2  10  35  70"
      ]
     },
     "execution_count": 17,
     "metadata": {},
     "output_type": "execute_result"
    }
   ],
   "source": [
    "data_1 = pd.DataFrame(data, columns=[\"A\",\"B\",\"C\"])\n",
    "data_1"
   ]
  },
  {
   "cell_type": "code",
   "execution_count": 18,
   "id": "f8df49ee-3165-4413-b0c8-f4bd84b32b91",
   "metadata": {},
   "outputs": [
    {
     "data": {
      "text/plain": [
       "A      1.333333\n",
       "B    169.000000\n",
       "C    784.333333\n",
       "dtype: float64"
      ]
     },
     "execution_count": 18,
     "metadata": {},
     "output_type": "execute_result"
    }
   ],
   "source": [
    "data_1.var()"
   ]
  },
  {
   "cell_type": "code",
   "execution_count": 20,
   "id": "a67fe1bd-b9f5-4c1c-82ac-4654663c5fdc",
   "metadata": {},
   "outputs": [
    {
     "data": {
      "text/plain": [
       "0      4.333333\n",
       "1    320.333333\n",
       "2    908.333333\n",
       "dtype: float64"
      ]
     },
     "execution_count": 20,
     "metadata": {},
     "output_type": "execute_result"
    }
   ],
   "source": [
    "## rowwise\n",
    "data_1.var(axis=1)"
   ]
  },
  {
   "cell_type": "code",
   "execution_count": 21,
   "id": "18448f1b-7e4d-42b9-b2e1-24233184952e",
   "metadata": {},
   "outputs": [
    {
     "data": {
      "text/plain": [
       "A      1.333333\n",
       "B    169.000000\n",
       "C    784.333333\n",
       "dtype: float64"
      ]
     },
     "execution_count": 21,
     "metadata": {},
     "output_type": "execute_result"
    }
   ],
   "source": [
    "## column wise\n",
    "data_1.var(axis=0)"
   ]
  },
  {
   "cell_type": "code",
   "execution_count": 22,
   "id": "a57e0210-e88f-4fa5-a3e4-ac642768e3ff",
   "metadata": {},
   "outputs": [
    {
     "data": {
      "text/plain": [
       "A      1.333333\n",
       "B    169.000000\n",
       "C    784.333333\n",
       "dtype: float64"
      ]
     },
     "execution_count": 22,
     "metadata": {},
     "output_type": "execute_result"
    }
   ],
   "source": [
    "data_1.var()"
   ]
  },
  {
   "cell_type": "code",
   "execution_count": null,
   "id": "27c97a2a-feeb-4503-8916-e10ab76aa30a",
   "metadata": {},
   "outputs": [],
   "source": []
  },
  {
   "cell_type": "code",
   "execution_count": null,
   "id": "dbd35c37-fa97-4806-b850-c1f26092f22c",
   "metadata": {},
   "outputs": [],
   "source": []
  },
  {
   "cell_type": "code",
   "execution_count": null,
   "id": "2da229c3-bc34-4b6d-8d53-80ee4738fc09",
   "metadata": {},
   "outputs": [],
   "source": []
  },
  {
   "cell_type": "code",
   "execution_count": null,
   "id": "ee843fce-8dd6-4ae5-99ec-804cce92c6c2",
   "metadata": {},
   "outputs": [],
   "source": []
  },
  {
   "cell_type": "code",
   "execution_count": null,
   "id": "1615b062-e490-4a0a-b960-0b4350e5776a",
   "metadata": {},
   "outputs": [],
   "source": []
  },
  {
   "cell_type": "code",
   "execution_count": null,
   "id": "a01cf1a7-5d3c-48d3-96ad-f8a5239be876",
   "metadata": {},
   "outputs": [],
   "source": []
  },
  {
   "cell_type": "code",
   "execution_count": null,
   "id": "f4369490-3434-44b1-a1cd-ac281267f125",
   "metadata": {},
   "outputs": [],
   "source": []
  },
  {
   "cell_type": "code",
   "execution_count": null,
   "id": "cff7cdb9-a1c0-4c3c-ab5b-48def18696df",
   "metadata": {},
   "outputs": [],
   "source": []
  },
  {
   "cell_type": "code",
   "execution_count": null,
   "id": "2dcb656e-837c-40b4-83d8-9199038ab204",
   "metadata": {},
   "outputs": [],
   "source": []
  },
  {
   "cell_type": "code",
   "execution_count": null,
   "id": "8d2abc1a-b59e-4365-808c-2541f581c7b2",
   "metadata": {},
   "outputs": [],
   "source": []
  },
  {
   "cell_type": "code",
   "execution_count": null,
   "id": "ad14879a-2a5c-4a9a-a621-32915529229f",
   "metadata": {},
   "outputs": [],
   "source": []
  },
  {
   "cell_type": "code",
   "execution_count": null,
   "id": "e6187346-ee9d-45d6-b1e9-85d711b8531a",
   "metadata": {},
   "outputs": [],
   "source": []
  },
  {
   "cell_type": "code",
   "execution_count": null,
   "id": "eb592c3b-b641-470c-938a-49d3d4b33edb",
   "metadata": {},
   "outputs": [],
   "source": []
  },
  {
   "cell_type": "code",
   "execution_count": null,
   "id": "d8e5ba3b-018a-47ca-bdfd-d6332d3ce0be",
   "metadata": {},
   "outputs": [],
   "source": []
  }
 ],
 "metadata": {
  "kernelspec": {
   "display_name": "Python 3 (ipykernel)",
   "language": "python",
   "name": "python3"
  },
  "language_info": {
   "codemirror_mode": {
    "name": "ipython",
    "version": 3
   },
   "file_extension": ".py",
   "mimetype": "text/x-python",
   "name": "python",
   "nbconvert_exporter": "python",
   "pygments_lexer": "ipython3",
   "version": "3.10.8"
  }
 },
 "nbformat": 4,
 "nbformat_minor": 5
}
