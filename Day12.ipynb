{
 "cells": [
  {
   "cell_type": "markdown",
   "id": "fb8d12fe-b40a-452c-914c-0dd6edaa4e79",
   "metadata": {},
   "source": [
    "## Exceptions Handling With Try Except"
   ]
  },
  {
   "cell_type": "code",
   "execution_count": 1,
   "id": "16111694-6e6e-45cf-b13a-53c5794bad7e",
   "metadata": {},
   "outputs": [
    {
     "ename": "ZeroDivisionError",
     "evalue": "division by zero",
     "output_type": "error",
     "traceback": [
      "\u001b[0;31m---------------------------------------------------------------------------\u001b[0m",
      "\u001b[0;31mZeroDivisionError\u001b[0m                         Traceback (most recent call last)",
      "Cell \u001b[0;32mIn[1], line 2\u001b[0m\n\u001b[1;32m      1\u001b[0m a \u001b[38;5;241m=\u001b[39m \u001b[38;5;241m1\u001b[39m\n\u001b[0;32m----> 2\u001b[0m \u001b[43ma\u001b[49m\u001b[38;5;241;43m/\u001b[39;49m\u001b[38;5;241;43m0\u001b[39;49m\n",
      "\u001b[0;31mZeroDivisionError\u001b[0m: division by zero"
     ]
    }
   ],
   "source": [
    "a = 1\n",
    "a/0"
   ]
  },
  {
   "cell_type": "code",
   "execution_count": 5,
   "id": "775d247f-7e88-449b-9a61-8ce9eafcd8e2",
   "metadata": {},
   "outputs": [
    {
     "ename": "FileNotFoundError",
     "evalue": "[Errno 2] No such file or directory: 'rewrite.txt'",
     "output_type": "error",
     "traceback": [
      "\u001b[0;31m---------------------------------------------------------------------------\u001b[0m",
      "\u001b[0;31mFileNotFoundError\u001b[0m                         Traceback (most recent call last)",
      "Cell \u001b[0;32mIn[5], line 1\u001b[0m\n\u001b[0;32m----> 1\u001b[0m f \u001b[38;5;241m=\u001b[39m \u001b[38;5;28;43mopen\u001b[39;49m\u001b[43m(\u001b[49m\u001b[38;5;124;43m\"\u001b[39;49m\u001b[38;5;124;43mrewrite.txt\u001b[39;49m\u001b[38;5;124;43m\"\u001b[39;49m\u001b[43m,\u001b[49m\u001b[43m \u001b[49m\u001b[38;5;124;43m'\u001b[39;49m\u001b[38;5;124;43mr\u001b[39;49m\u001b[38;5;124;43m'\u001b[39;49m\u001b[43m)\u001b[49m\n\u001b[1;32m      2\u001b[0m \u001b[38;5;28mprint\u001b[39m(\u001b[38;5;124m\"\u001b[39m\u001b[38;5;124mtesting prient\u001b[39m\u001b[38;5;124m\"\u001b[39m)\n",
      "File \u001b[0;32m/opt/conda/lib/python3.10/site-packages/IPython/core/interactiveshell.py:282\u001b[0m, in \u001b[0;36m_modified_open\u001b[0;34m(file, *args, **kwargs)\u001b[0m\n\u001b[1;32m    275\u001b[0m \u001b[38;5;28;01mif\u001b[39;00m file \u001b[38;5;129;01min\u001b[39;00m {\u001b[38;5;241m0\u001b[39m, \u001b[38;5;241m1\u001b[39m, \u001b[38;5;241m2\u001b[39m}:\n\u001b[1;32m    276\u001b[0m     \u001b[38;5;28;01mraise\u001b[39;00m \u001b[38;5;167;01mValueError\u001b[39;00m(\n\u001b[1;32m    277\u001b[0m         \u001b[38;5;124mf\u001b[39m\u001b[38;5;124m\"\u001b[39m\u001b[38;5;124mIPython won\u001b[39m\u001b[38;5;124m'\u001b[39m\u001b[38;5;124mt let you open fd=\u001b[39m\u001b[38;5;132;01m{\u001b[39;00mfile\u001b[38;5;132;01m}\u001b[39;00m\u001b[38;5;124m by default \u001b[39m\u001b[38;5;124m\"\u001b[39m\n\u001b[1;32m    278\u001b[0m         \u001b[38;5;124m\"\u001b[39m\u001b[38;5;124mas it is likely to crash IPython. If you know what you are doing, \u001b[39m\u001b[38;5;124m\"\u001b[39m\n\u001b[1;32m    279\u001b[0m         \u001b[38;5;124m\"\u001b[39m\u001b[38;5;124myou can use builtins\u001b[39m\u001b[38;5;124m'\u001b[39m\u001b[38;5;124m open.\u001b[39m\u001b[38;5;124m\"\u001b[39m\n\u001b[1;32m    280\u001b[0m     )\n\u001b[0;32m--> 282\u001b[0m \u001b[38;5;28;01mreturn\u001b[39;00m \u001b[43mio_open\u001b[49m\u001b[43m(\u001b[49m\u001b[43mfile\u001b[49m\u001b[43m,\u001b[49m\u001b[43m \u001b[49m\u001b[38;5;241;43m*\u001b[39;49m\u001b[43margs\u001b[49m\u001b[43m,\u001b[49m\u001b[43m \u001b[49m\u001b[38;5;241;43m*\u001b[39;49m\u001b[38;5;241;43m*\u001b[39;49m\u001b[43mkwargs\u001b[49m\u001b[43m)\u001b[49m\n",
      "\u001b[0;31mFileNotFoundError\u001b[0m: [Errno 2] No such file or directory: 'rewrite.txt'"
     ]
    }
   ],
   "source": [
    "f = open(\"rewrite.txt\", 'r')\n",
    "print(\"testing prient\")"
   ]
  },
  {
   "cell_type": "code",
   "execution_count": 6,
   "id": "2ea12395-d703-43d5-96ec-ed4d56facb01",
   "metadata": {},
   "outputs": [
    {
     "name": "stdout",
     "output_type": "stream",
     "text": [
      "identifying some issue [Errno 2] No such file or directory: 'rewrite.txt'\n"
     ]
    }
   ],
   "source": [
    "try : ### try block\n",
    "    f = open(\"rewrite.txt\", 'r')\n",
    "    f.write (\"this is my try\")\n",
    "except Exception as e: ## exception block\n",
    "    print (\"identifying some issue\" , e)\n",
    "    "
   ]
  },
  {
   "cell_type": "code",
   "execution_count": 7,
   "id": "ccdee0bd-f895-427b-8dbb-efef5e1c2c20",
   "metadata": {},
   "outputs": [
    {
     "name": "stdout",
     "output_type": "stream",
     "text": [
      "identifying some issue [Errno 2] No such file or directory: 'rewrite.txt'\n",
      "testing\n"
     ]
    },
    {
     "data": {
      "text/plain": [
       "10"
      ]
     },
     "execution_count": 7,
     "metadata": {},
     "output_type": "execute_result"
    }
   ],
   "source": [
    "try : ### try block\n",
    "    f = open(\"rewrite.txt\", 'r')\n",
    "    f.write (\"this is my try\")\n",
    "except Exception as e: ## exception block\n",
    "    print (\"identifying some issue\" , e)\n",
    "\n",
    "print (\"testing\")\n",
    "a = 10\n",
    "10"
   ]
  },
  {
   "cell_type": "code",
   "execution_count": 9,
   "id": "e3342420-429c-434d-9602-fbf4f86fd043",
   "metadata": {},
   "outputs": [
    {
     "name": "stdout",
     "output_type": "stream",
     "text": [
      "this block ll execute without any exception\n"
     ]
    }
   ],
   "source": [
    "try : ### try block\n",
    "    f = open(\"rewrite.txt\", 'w')\n",
    "    f.write (\"this is my try\")\n",
    "    \n",
    "except Exception as e: ## exception block\n",
    "    print (\"identifying some issue\" , e)\n",
    "else:\n",
    "    f.close ()\n",
    "    print(\"this block ll execute without any exception\")\n",
    "\n",
    "    "
   ]
  },
  {
   "cell_type": "code",
   "execution_count": 10,
   "id": "18668feb-a781-4a23-b005-41443a761ae8",
   "metadata": {},
   "outputs": [
    {
     "name": "stdout",
     "output_type": "stream",
     "text": [
      "identifying some issue [Errno 2] No such file or directory: 'rewrite1.txt'\n"
     ]
    }
   ],
   "source": [
    "try : ### try block\n",
    "    f = open(\"rewrite1.txt\", 'r')\n",
    "    f.write (\"this is my try\")\n",
    "    \n",
    "except Exception as e: ## exception block\n",
    "    print (\"identifying some issue\" , e)\n",
    "else:\n",
    "    f.close ()\n",
    "    print(\"this block ll execute without any exception\")"
   ]
  },
  {
   "cell_type": "code",
   "execution_count": 11,
   "id": "25323f65-2c3f-44fe-9be2-87ff34839ffc",
   "metadata": {},
   "outputs": [
    {
     "name": "stdout",
     "output_type": "stream",
     "text": [
      "identifying some issue [Errno 2] No such file or directory: 'rewrite1.txt'\n",
      "no matter what it will execute\n"
     ]
    }
   ],
   "source": [
    "try : ### try block\n",
    "    f = open(\"rewrite1.txt\", 'r')\n",
    "    f.write (\"this is my try\")\n",
    "    \n",
    "except Exception as e: ## exception block\n",
    "    print (\"identifying some issue\" , e)\n",
    "else:\n",
    "    f.close ()\n",
    "    print(\"this block ll execute without any exception\")\n",
    "\n",
    "finally:                 ## \"finally block\"\n",
    "    print(\"no matter what it will execute\")\n",
    "    "
   ]
  },
  {
   "cell_type": "code",
   "execution_count": null,
   "id": "3aa00d5a-2ee1-4849-b788-a7b6ff3a335e",
   "metadata": {},
   "outputs": [],
   "source": []
  },
  {
   "cell_type": "markdown",
   "id": "a031129e-1f99-4348-ae95-f9df4265808e",
   "metadata": {},
   "source": [
    "## Custom Exception Handling"
   ]
  },
  {
   "cell_type": "markdown",
   "id": "be660e70-1e64-48f2-a5f6-ed7d9aeefb54",
   "metadata": {},
   "source": []
  },
  {
   "cell_type": "code",
   "execution_count": 1,
   "id": "b0ab59d9-3a63-489c-a0c6-42230e47c1a6",
   "metadata": {},
   "outputs": [
    {
     "name": "stdin",
     "output_type": "stream",
     "text": [
      "enter your age:  20000\n"
     ]
    }
   ],
   "source": [
    "age = int(input(\"enter your age: \"))"
   ]
  },
  {
   "cell_type": "code",
   "execution_count": 2,
   "id": "b9194c6c-0f35-463a-9489-6b3814efb768",
   "metadata": {},
   "outputs": [],
   "source": [
    "class validateAGE(Exception):\n",
    "    def __init__(self, msg):\n",
    "        self.msg = msg\n",
    "    "
   ]
  },
  {
   "cell_type": "code",
   "execution_count": 3,
   "id": "1d45bc5c-4f20-4b1c-968d-09a98506a810",
   "metadata": {},
   "outputs": [],
   "source": [
    "def validate_age(age):\n",
    "    if age < 0:\n",
    "        print (\"age should not be lesser then zero\")\n",
    "    elif age > 200:\n",
    "        print (\"age is too high\")\n",
    "    else:\n",
    "        print (\"entred valid age\")\n",
    "    \n",
    "    "
   ]
  },
  {
   "cell_type": "code",
   "execution_count": 4,
   "id": "0060539f-29ca-4661-b0b5-3eb7a34425c3",
   "metadata": {},
   "outputs": [
    {
     "name": "stdin",
     "output_type": "stream",
     "text": [
      "enter your age:  45\n"
     ]
    },
    {
     "name": "stdout",
     "output_type": "stream",
     "text": [
      "entred valid age\n"
     ]
    }
   ],
   "source": [
    "try :\n",
    "    age = int(input(\"enter your age: \"))\n",
    "    validate_age(age)\n",
    "except validateAGE as e:\n",
    "    print(e)\n",
    "    "
   ]
  },
  {
   "cell_type": "code",
   "execution_count": null,
   "id": "57cad0b9-645c-4f38-bbdb-cda719bc8c54",
   "metadata": {},
   "outputs": [],
   "source": []
  },
  {
   "cell_type": "code",
   "execution_count": null,
   "id": "c8324d93-0626-4f83-a157-b313c4137992",
   "metadata": {},
   "outputs": [],
   "source": []
  },
  {
   "cell_type": "code",
   "execution_count": null,
   "id": "2c3d389c-9db4-46b0-ac05-9c8fbdb1349c",
   "metadata": {},
   "outputs": [],
   "source": []
  },
  {
   "cell_type": "code",
   "execution_count": null,
   "id": "f20658b0-94be-4cb7-af55-bed00c688991",
   "metadata": {},
   "outputs": [],
   "source": []
  },
  {
   "cell_type": "code",
   "execution_count": null,
   "id": "996eddf9-a1f8-44d3-825e-d78f88a19371",
   "metadata": {},
   "outputs": [],
   "source": []
  },
  {
   "cell_type": "code",
   "execution_count": null,
   "id": "de4cd135-33b2-4660-bdfa-3a9265c429ed",
   "metadata": {},
   "outputs": [],
   "source": []
  },
  {
   "cell_type": "code",
   "execution_count": null,
   "id": "3b8edaf4-472c-4809-90a3-880752d5a650",
   "metadata": {},
   "outputs": [],
   "source": []
  },
  {
   "cell_type": "code",
   "execution_count": null,
   "id": "956c5f9b-00fd-4651-b7ce-1b3810b1f64a",
   "metadata": {},
   "outputs": [],
   "source": []
  },
  {
   "cell_type": "code",
   "execution_count": null,
   "id": "5139f344-a67e-4767-a9e5-12db219c3ec0",
   "metadata": {},
   "outputs": [],
   "source": []
  },
  {
   "cell_type": "code",
   "execution_count": null,
   "id": "0f3d6de2-a93c-4a05-9e65-126be9156321",
   "metadata": {},
   "outputs": [],
   "source": []
  },
  {
   "cell_type": "code",
   "execution_count": null,
   "id": "31e27980-8c40-4fb9-a803-870c7e0fa16f",
   "metadata": {},
   "outputs": [],
   "source": []
  },
  {
   "cell_type": "code",
   "execution_count": null,
   "id": "71a9ca22-b733-4c0f-a70f-1e3caab456c3",
   "metadata": {},
   "outputs": [],
   "source": []
  },
  {
   "cell_type": "code",
   "execution_count": null,
   "id": "4631f2a2-f9e7-4865-8e4f-21190dbfc430",
   "metadata": {},
   "outputs": [],
   "source": []
  },
  {
   "cell_type": "code",
   "execution_count": null,
   "id": "3e48502f-9160-4104-b005-28a69fb08638",
   "metadata": {},
   "outputs": [],
   "source": []
  },
  {
   "cell_type": "code",
   "execution_count": null,
   "id": "18b1c860-5847-4122-9b5f-d212e356ea15",
   "metadata": {},
   "outputs": [],
   "source": []
  },
  {
   "cell_type": "code",
   "execution_count": null,
   "id": "ec553df7-a8a7-457d-af39-43ab370958b0",
   "metadata": {},
   "outputs": [],
   "source": []
  },
  {
   "cell_type": "code",
   "execution_count": null,
   "id": "e6f11b13-1d30-4ecd-8525-79f4ffa19088",
   "metadata": {},
   "outputs": [],
   "source": []
  },
  {
   "cell_type": "code",
   "execution_count": null,
   "id": "ae5bb955-26dd-4b2e-8b15-98f0e0ef85fe",
   "metadata": {},
   "outputs": [],
   "source": []
  },
  {
   "cell_type": "code",
   "execution_count": null,
   "id": "95b97a1f-17c6-475e-aab7-3911f990dc7a",
   "metadata": {},
   "outputs": [],
   "source": []
  },
  {
   "cell_type": "code",
   "execution_count": null,
   "id": "13bee75d-a585-42c9-a8f8-f58c7e888c5c",
   "metadata": {},
   "outputs": [],
   "source": []
  },
  {
   "cell_type": "code",
   "execution_count": null,
   "id": "c371ae81-f138-4c4e-98b0-d2dda9dc1588",
   "metadata": {},
   "outputs": [],
   "source": []
  },
  {
   "cell_type": "code",
   "execution_count": null,
   "id": "357e772d-3f73-4782-b316-707f95e87367",
   "metadata": {},
   "outputs": [],
   "source": []
  },
  {
   "cell_type": "code",
   "execution_count": null,
   "id": "4fe46df8-02a7-4e16-b344-8beebdb93b93",
   "metadata": {},
   "outputs": [],
   "source": []
  },
  {
   "cell_type": "code",
   "execution_count": null,
   "id": "22030354-3208-4828-8ae0-54e308e64820",
   "metadata": {},
   "outputs": [],
   "source": []
  },
  {
   "cell_type": "code",
   "execution_count": null,
   "id": "b177b635-845f-49e9-a648-3b8d6cfe4e17",
   "metadata": {},
   "outputs": [],
   "source": []
  },
  {
   "cell_type": "code",
   "execution_count": null,
   "id": "8ca1e6d9-c53f-4867-9a26-77bfcbef3f5f",
   "metadata": {},
   "outputs": [],
   "source": []
  },
  {
   "cell_type": "code",
   "execution_count": null,
   "id": "9a6c09b1-b294-4773-8755-03207d818d13",
   "metadata": {},
   "outputs": [],
   "source": []
  },
  {
   "cell_type": "code",
   "execution_count": null,
   "id": "5b31c7b4-76d2-4cb7-8ee7-4df3f0d5cc24",
   "metadata": {},
   "outputs": [],
   "source": []
  }
 ],
 "metadata": {
  "kernelspec": {
   "display_name": "Python 3 (ipykernel)",
   "language": "python",
   "name": "python3"
  },
  "language_info": {
   "codemirror_mode": {
    "name": "ipython",
    "version": 3
   },
   "file_extension": ".py",
   "mimetype": "text/x-python",
   "name": "python",
   "nbconvert_exporter": "python",
   "pygments_lexer": "ipython3",
   "version": "3.10.8"
  }
 },
 "nbformat": 4,
 "nbformat_minor": 5
}
