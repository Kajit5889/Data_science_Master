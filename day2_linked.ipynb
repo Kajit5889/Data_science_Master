{
 "cells": [
  {
   "cell_type": "markdown",
   "id": "c13b6bf5-fce2-40e0-8083-3b41030582ec",
   "metadata": {},
   "source": [
    "# For LOOP"
   ]
  },
  {
   "cell_type": "code",
   "execution_count": 3,
   "id": "0fa89c0f-7614-4106-b233-a74e059bdef9",
   "metadata": {},
   "outputs": [],
   "source": [
    "## It's basically an itteration process\n",
    "\n",
    "# ex :\n",
    "\n",
    "data = [\"India\",'Nepal','Bhutan',1,2,3,4,5,6,\"Japan\",\"Sri Lanka\"]"
   ]
  },
  {
   "cell_type": "code",
   "execution_count": 4,
   "id": "a5ca31a1-5131-40ae-b3b5-dc47aad7b8c8",
   "metadata": {},
   "outputs": [
    {
     "data": {
      "text/plain": [
       "['India', 'Nepal', 'Bhutan', 1, 2, 3, 4, 5, 6, 'Japan', 'Sri Lanka']"
      ]
     },
     "execution_count": 4,
     "metadata": {},
     "output_type": "execute_result"
    }
   ],
   "source": [
    "data\n",
    "\n"
   ]
  },
  {
   "cell_type": "code",
   "execution_count": 13,
   "id": "301f212d-0e67-405e-82dd-606716e4f2d0",
   "metadata": {},
   "outputs": [
    {
     "name": "stdout",
     "output_type": "stream",
     "text": [
      "India Nepal Bhutan 1 2 3 4 5 6 Japan Sri Lanka "
     ]
    }
   ],
   "source": [
    "for x in data:\n",
    "    print(x, end = \" \")"
   ]
  },
  {
   "cell_type": "code",
   "execution_count": 14,
   "id": "d0610935-0c51-4eeb-8f45-4781ead496bf",
   "metadata": {},
   "outputs": [
    {
     "data": {
      "text/plain": [
       "'Bhutan'"
      ]
     },
     "execution_count": 14,
     "metadata": {},
     "output_type": "execute_result"
    }
   ],
   "source": [
    "data[2]"
   ]
  },
  {
   "cell_type": "code",
   "execution_count": 15,
   "id": "c91116f9-650c-498d-955d-9ec36110f907",
   "metadata": {},
   "outputs": [
    {
     "data": {
      "text/plain": [
       "list"
      ]
     },
     "execution_count": 15,
     "metadata": {},
     "output_type": "execute_result"
    }
   ],
   "source": [
    "type(data)"
   ]
  },
  {
   "cell_type": "code",
   "execution_count": 4,
   "id": "604bd7c3-615a-4502-aec2-8c1a098e6ecb",
   "metadata": {},
   "outputs": [],
   "source": [
    "fruits = ['apples', 'orange', 'bananas', 'mangoes']"
   ]
  },
  {
   "cell_type": "code",
   "execution_count": 5,
   "id": "fd067cc1-3911-4eeb-b4a3-aaca31df3918",
   "metadata": {},
   "outputs": [
    {
     "name": "stdout",
     "output_type": "stream",
     "text": [
      "apples\n",
      "orange\n",
      "It's an orange\n",
      "bananas\n",
      "mangoes\n"
     ]
    }
   ],
   "source": [
    "for a in fruits :\n",
    "    print(a)\n",
    "    if a == \"orange\":\n",
    "        print(\"It's an {}\".format(a))\n",
    "        \n",
    "    "
   ]
  },
  {
   "cell_type": "code",
   "execution_count": 32,
   "id": "fd8c2c3d-eb74-446a-ad02-8578d7b3b08c",
   "metadata": {},
   "outputs": [
    {
     "name": "stdout",
     "output_type": "stream",
     "text": [
      "m\n",
      "a\n",
      "n\n",
      "g\n",
      "o\n"
     ]
    }
   ],
   "source": [
    "fruit='mango'\n",
    "for i in fruit:\n",
    "    print(i)\n",
    "    "
   ]
  },
  {
   "cell_type": "code",
   "execution_count": 7,
   "id": "0f354b15-7d1a-48f4-82c6-2341d3be1509",
   "metadata": {},
   "outputs": [
    {
     "name": "stdout",
     "output_type": "stream",
     "text": [
      "mango"
     ]
    }
   ],
   "source": [
    "fruit='mango'\n",
    "for i in fruit:\n",
    "    print(i,end='')"
   ]
  },
  {
   "cell_type": "code",
   "execution_count": null,
   "id": "89ff0159-52aa-4854-a488-097442a5dbd3",
   "metadata": {},
   "outputs": [],
   "source": [
    "## Nested Loop"
   ]
  },
  {
   "cell_type": "code",
   "execution_count": 37,
   "id": "28dd4871-587c-49a9-803d-a56d7201d6b4",
   "metadata": {},
   "outputs": [
    {
     "data": {
      "text/plain": [
       "range(1, 5)"
      ]
     },
     "execution_count": 37,
     "metadata": {},
     "output_type": "execute_result"
    }
   ],
   "source": [
    "#range()\n",
    "#it will give result from start to stop\n",
    "#ex :\n",
    "range(1,5)"
   ]
  },
  {
   "cell_type": "code",
   "execution_count": 40,
   "id": "fd6dbc2f-a5e2-45e4-be3b-bed892ed71bd",
   "metadata": {},
   "outputs": [
    {
     "name": "stdout",
     "output_type": "stream",
     "text": [
      "1\n",
      "2\n",
      "3\n",
      "4\n",
      "5\n"
     ]
    }
   ],
   "source": [
    "for i in range(1,6):\n",
    "    print(i)\n",
    "    "
   ]
  },
  {
   "cell_type": "code",
   "execution_count": 14,
   "id": "2a29b406-7ffb-413c-97d1-0ee4ffe26459",
   "metadata": {},
   "outputs": [
    {
     "name": "stdout",
     "output_type": "stream",
     "text": [
      "1\n",
      "3\n",
      "5\n",
      "7\n",
      "9\n"
     ]
    }
   ],
   "source": [
    "## \n",
    "for i in range(1,10,2):\n",
    "    print(i)"
   ]
  },
  {
   "cell_type": "code",
   "execution_count": 18,
   "id": "ad290afc-ab56-4c2e-b1a7-42dbd00ac872",
   "metadata": {},
   "outputs": [
    {
     "name": "stdout",
     "output_type": "stream",
     "text": [
      "2 4 6 8 "
     ]
    }
   ],
   "source": [
    "## \n",
    "for i in range(2,10,2):\n",
    "    print(i, end =\" \")"
   ]
  },
  {
   "cell_type": "code",
   "execution_count": 20,
   "id": "bc18b48b-d3e9-4c54-bc40-342d3fadf143",
   "metadata": {},
   "outputs": [
    {
     "name": "stdout",
     "output_type": "stream",
     "text": [
      "*\n",
      "**\n",
      "***\n",
      "****\n",
      "*****\n",
      "******\n",
      "*******\n"
     ]
    }
   ],
   "source": [
    "## Nested Loop\n",
    "\n",
    "n=7\n",
    "for i in range(0,n):\n",
    "    for j in range(0,i+1):\n",
    "        print(\"*\",end='')\n",
    "    print(\"\\r\")\n",
    " \n",
    "    \n",
    "    \n",
    "        \n",
    "    \n",
    "    \n",
    "    \n"
   ]
  },
  {
   "cell_type": "code",
   "execution_count": null,
   "id": "a3813b0a-907c-4f23-ba3d-0656b6b4e03f",
   "metadata": {},
   "outputs": [],
   "source": [
    "## break continue pass loop\n",
    "\n"
   ]
  },
  {
   "cell_type": "code",
   "execution_count": 59,
   "id": "1e085e76-d8be-44a7-a801-bea72017bd5c",
   "metadata": {},
   "outputs": [
    {
     "name": "stdout",
     "output_type": "stream",
     "text": [
      "These are apples\n"
     ]
    }
   ],
   "source": [
    "# break\n",
    "\n",
    "fruits = ['apples', 'oranges', 'bananas', 'mangoes']\n",
    "\n",
    "for i in fruits:\n",
    "    if i == \"apples\":\n",
    "        print(\"These are apples\")\n",
    "        break\n",
    "    print(i)"
   ]
  },
  {
   "cell_type": "code",
   "execution_count": 61,
   "id": "53c4fee0-2c3f-4d42-925e-bbdfda9705cd",
   "metadata": {},
   "outputs": [
    {
     "name": "stdout",
     "output_type": "stream",
     "text": [
      "These are apples\n",
      "oranges\n",
      "bananas\n",
      "mangoes\n"
     ]
    }
   ],
   "source": [
    "# continue ; it will skip the \"apples\" part\n",
    "for i in fruits:\n",
    "    if i == \"apples\":\n",
    "        print(\"These are apples\")\n",
    "        continue\n",
    "    print(i)"
   ]
  },
  {
   "cell_type": "code",
   "execution_count": 62,
   "id": "c319f2d5-0650-4082-995a-1af453fd419c",
   "metadata": {},
   "outputs": [
    {
     "name": "stdout",
     "output_type": "stream",
     "text": [
      "These are apples\n",
      "apples\n",
      "oranges\n",
      "bananas\n",
      "mangoes\n"
     ]
    }
   ],
   "source": [
    "## pass ; it will execute all ; without doing any change\n",
    "\n",
    "for i in fruits:\n",
    "    if i == \"apples\":\n",
    "        print(\"These are apples\")\n",
    "        pass\n",
    "    print(i)"
   ]
  },
  {
   "cell_type": "code",
   "execution_count": null,
   "id": "6f4d8987-8f8a-4b02-8aca-4e31d78659fd",
   "metadata": {},
   "outputs": [],
   "source": []
  },
  {
   "cell_type": "code",
   "execution_count": null,
   "id": "8879bd12-9814-4e76-9744-a4c76f2dbbda",
   "metadata": {},
   "outputs": [],
   "source": []
  },
  {
   "cell_type": "code",
   "execution_count": null,
   "id": "4c421074-f42e-4fee-9adc-f59c8e1baa1c",
   "metadata": {},
   "outputs": [],
   "source": []
  },
  {
   "cell_type": "code",
   "execution_count": null,
   "id": "f5d37485-f0d9-4398-8a06-bb8104f0c787",
   "metadata": {},
   "outputs": [],
   "source": []
  },
  {
   "cell_type": "code",
   "execution_count": null,
   "id": "5e694159-06a9-4513-bd9a-ff424c949ca9",
   "metadata": {},
   "outputs": [],
   "source": []
  },
  {
   "cell_type": "code",
   "execution_count": null,
   "id": "b8255d77-6aaa-4610-8cd8-7ba0e8691ca3",
   "metadata": {},
   "outputs": [],
   "source": []
  },
  {
   "cell_type": "code",
   "execution_count": null,
   "id": "a2caff1e-281c-436d-95f7-390ab84a4532",
   "metadata": {},
   "outputs": [],
   "source": []
  },
  {
   "cell_type": "code",
   "execution_count": null,
   "id": "5bf24f24-d64a-4d9d-ba59-2d138b9a31b4",
   "metadata": {},
   "outputs": [],
   "source": []
  },
  {
   "cell_type": "code",
   "execution_count": null,
   "id": "2e677ecd-0d48-452d-8029-98325eab3517",
   "metadata": {},
   "outputs": [],
   "source": []
  },
  {
   "cell_type": "code",
   "execution_count": null,
   "id": "98ef0406-7b1f-4f7b-a81b-329f23b51489",
   "metadata": {},
   "outputs": [],
   "source": []
  },
  {
   "cell_type": "code",
   "execution_count": null,
   "id": "a3a585df-5161-4a06-8e92-b063a59e0738",
   "metadata": {},
   "outputs": [],
   "source": []
  },
  {
   "cell_type": "code",
   "execution_count": null,
   "id": "1e587996-0541-4bd7-903c-0a2440b8d667",
   "metadata": {},
   "outputs": [],
   "source": []
  },
  {
   "cell_type": "code",
   "execution_count": null,
   "id": "a28a3318-0dfc-427c-b6e0-805a0bb025a9",
   "metadata": {},
   "outputs": [],
   "source": []
  },
  {
   "cell_type": "code",
   "execution_count": null,
   "id": "42cbbaaa-3333-4e51-82b9-0342f6347169",
   "metadata": {},
   "outputs": [],
   "source": []
  }
 ],
 "metadata": {
  "kernelspec": {
   "display_name": "Python 3 (ipykernel)",
   "language": "python",
   "name": "python3"
  },
  "language_info": {
   "codemirror_mode": {
    "name": "ipython",
    "version": 3
   },
   "file_extension": ".py",
   "mimetype": "text/x-python",
   "name": "python",
   "nbconvert_exporter": "python",
   "pygments_lexer": "ipython3",
   "version": "3.10.8"
  }
 },
 "nbformat": 4,
 "nbformat_minor": 5
}
