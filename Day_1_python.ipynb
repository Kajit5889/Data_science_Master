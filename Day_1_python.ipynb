{
 "cells": [
  {
   "cell_type": "markdown",
   "id": "fdd787a2-6194-4532-a01f-d53688b45184",
   "metadata": {},
   "source": [
    "##Python Objects, Number & Booleans, Strings."
   ]
  },
  {
   "cell_type": "markdown",
   "id": "9eb89174-328e-4cc6-98e5-0ee097e3d7f1",
   "metadata": {},
   "source": [
    "#Number"
   ]
  },
  {
   "cell_type": "code",
   "execution_count": 2,
   "id": "3358cbec-7fe9-4e53-8a3d-45c9f67c66b6",
   "metadata": {},
   "outputs": [
    {
     "data": {
      "text/plain": [
       "4"
      ]
     },
     "execution_count": 2,
     "metadata": {},
     "output_type": "execute_result"
    }
   ],
   "source": [
    "1+3"
   ]
  },
  {
   "cell_type": "markdown",
   "id": "ed9d1197-b9df-466c-9380-ee28b87ac041",
   "metadata": {},
   "source": [
    "#Variable"
   ]
  },
  {
   "cell_type": "code",
   "execution_count": 3,
   "id": "a0196e95-04b2-41ef-95c3-29b66fe13cd0",
   "metadata": {},
   "outputs": [
    {
     "name": "stdout",
     "output_type": "stream",
     "text": [
      "hello world\n"
     ]
    }
   ],
   "source": [
    "print(\"hello world\")"
   ]
  },
  {
   "cell_type": "code",
   "execution_count": 12,
   "id": "a99d3998-4c70-47a8-aab6-9d0cead0b9b1",
   "metadata": {},
   "outputs": [
    {
     "name": "stdout",
     "output_type": "stream",
     "text": [
      "hello \n",
      " world\n"
     ]
    }
   ],
   "source": [
    "print(\"hello \\n world\")"
   ]
  },
  {
   "cell_type": "code",
   "execution_count": 16,
   "id": "23ab4c7b-90b9-4361-9551-41618d60c795",
   "metadata": {},
   "outputs": [
    {
     "data": {
      "text/plain": [
       "'Variable'"
      ]
     },
     "execution_count": 16,
     "metadata": {},
     "output_type": "execute_result"
    }
   ],
   "source": [
    "V='Variable'\n",
    "V"
   ]
  },
  {
   "cell_type": "code",
   "execution_count": null,
   "id": "a70ba05f-a397-45d8-aff2-be818ecbb227",
   "metadata": {},
   "outputs": [],
   "source": [
    "Rj=\"Pocket FM\""
   ]
  },
  {
   "cell_type": "code",
   "execution_count": 17,
   "id": "f45014ef-44c5-4a87-a85a-61d2f91cd089",
   "metadata": {},
   "outputs": [
    {
     "data": {
      "text/plain": [
       "'Mumbai RJ ROADSIDE'"
      ]
     },
     "execution_count": 17,
     "metadata": {},
     "output_type": "execute_result"
    }
   ],
   "source": [
    "RJ=\"Mumbai RJ ROADSIDE\"\n",
    "RJ"
   ]
  },
  {
   "cell_type": "code",
   "execution_count": 18,
   "id": "e6ab2bda-fe06-4e6f-9ad1-e583560844d1",
   "metadata": {},
   "outputs": [
    {
     "data": {
      "text/plain": [
       "str"
      ]
     },
     "execution_count": 18,
     "metadata": {},
     "output_type": "execute_result"
    }
   ],
   "source": [
    "type(RJ)"
   ]
  },
  {
   "cell_type": "code",
   "execution_count": 19,
   "id": "bfd13493-ad7c-4c59-b877-18072fc63504",
   "metadata": {},
   "outputs": [
    {
     "data": {
      "text/plain": [
       "int"
      ]
     },
     "execution_count": 19,
     "metadata": {},
     "output_type": "execute_result"
    }
   ],
   "source": [
    "type(10000000000000)"
   ]
  },
  {
   "cell_type": "code",
   "execution_count": 20,
   "id": "d79e0690-00db-44cd-8b2f-2b19c9d9f637",
   "metadata": {},
   "outputs": [
    {
     "data": {
      "text/plain": [
       "float"
      ]
     },
     "execution_count": 20,
     "metadata": {},
     "output_type": "execute_result"
    }
   ],
   "source": [
    "type(1000.30000)"
   ]
  },
  {
   "cell_type": "code",
   "execution_count": 24,
   "id": "c5f08b67-9b54-421e-81c6-cd411fd4f6fe",
   "metadata": {},
   "outputs": [],
   "source": [
    "lovely=\"1+7j\""
   ]
  },
  {
   "cell_type": "code",
   "execution_count": 25,
   "id": "b8f4bd6b-19c1-4967-bfec-6df4130ddd8e",
   "metadata": {},
   "outputs": [
    {
     "name": "stdout",
     "output_type": "stream",
     "text": [
      "1+7j\n"
     ]
    }
   ],
   "source": [
    "print(lovely)"
   ]
  },
  {
   "cell_type": "code",
   "execution_count": 27,
   "id": "6606d71f-370e-48c9-a2c6-e5d3269e8508",
   "metadata": {},
   "outputs": [
    {
     "data": {
      "text/plain": [
       "complex"
      ]
     },
     "execution_count": 27,
     "metadata": {},
     "output_type": "execute_result"
    }
   ],
   "source": [
    "type(1+7j)"
   ]
  },
  {
   "cell_type": "code",
   "execution_count": 28,
   "id": "f06867c4-8c98-4b51-bb66-9ab234e89188",
   "metadata": {},
   "outputs": [
    {
     "data": {
      "text/plain": [
       "\"\\nDon't strat variable with Number\\n\\nex: 1a <Big NO>\\n\\n\""
      ]
     },
     "execution_count": 28,
     "metadata": {},
     "output_type": "execute_result"
    }
   ],
   "source": [
    "\n",
    "##### Important point to keep in your head\n",
    "\"\"\"\n",
    "Don't strat variable with Number\n",
    "\n",
    " ex: 1a <Big NO>\n",
    "\n",
    "\"\"\"\n",
    "\n"
   ]
  },
  {
   "cell_type": "code",
   "execution_count": 1,
   "id": "62555124-7da4-47a2-8a2e-529c1c3a0ff6",
   "metadata": {},
   "outputs": [
    {
     "name": "stdout",
     "output_type": "stream",
     "text": [
      "Hospital\n",
      "Host\n"
     ]
    }
   ],
   "source": [
    "## Variable are case censsitive\n",
    "\n",
    "Company='Host'\n",
    "company='Hospital'\n",
    "print(company)\n",
    "print(Company)"
   ]
  },
  {
   "cell_type": "markdown",
   "id": "3c93ed34-fb92-4dee-8ccd-4c5746ea12cf",
   "metadata": {},
   "source": [
    "#Reserve Keywords\n"
   ]
  },
  {
   "cell_type": "code",
   "execution_count": 30,
   "id": "5681d9e7-7ed8-4d33-9816-48aa7461576a",
   "metadata": {},
   "outputs": [
    {
     "data": {
      "text/plain": [
       "'\\nint,float,len,complex,str,return,yield\\n'"
      ]
     },
     "execution_count": 30,
     "metadata": {},
     "output_type": "execute_result"
    }
   ],
   "source": [
    "\"\"\"\n",
    "int,float,len,complex,str,return,yield etc.\n",
    "\"\"\""
   ]
  },
  {
   "cell_type": "code",
   "execution_count": 31,
   "id": "28820a00-1c6e-491f-9ddc-9e00a0566f7a",
   "metadata": {},
   "outputs": [
    {
     "data": {
      "text/plain": [
       "False"
      ]
     },
     "execution_count": 31,
     "metadata": {},
     "output_type": "execute_result"
    }
   ],
   "source": [
    "## Type Casting\n",
    "bool(0)"
   ]
  },
  {
   "cell_type": "code",
   "execution_count": 37,
   "id": "d863ad8e-e0a3-464a-9bab-c1ce4adc8aec",
   "metadata": {},
   "outputs": [
    {
     "name": "stdout",
     "output_type": "stream",
     "text": [
      "True\n"
     ]
    }
   ],
   "source": [
    "a=1 \n",
    "if bool(a)==True:\n",
    "    print(\"True\")\n"
   ]
  },
  {
   "cell_type": "code",
   "execution_count": 3,
   "id": "8b5fa9a0-f1d9-4797-ac86-78d0f62aa203",
   "metadata": {},
   "outputs": [
    {
     "name": "stdout",
     "output_type": "stream",
     "text": [
      "11\n"
     ]
    }
   ],
   "source": [
    "##Concatination\n",
    "\n",
    "print(str(\"1\") + (str(\"1\")))"
   ]
  },
  {
   "cell_type": "markdown",
   "id": "c2c280e1-01c7-475e-8067-055fa4bfa8a6",
   "metadata": {},
   "source": [
    "## Type casting\n",
    "\n",
    "\n",
    "int (\"123\")"
   ]
  },
  {
   "cell_type": "code",
   "execution_count": 4,
   "id": "466c1fc3-4618-490f-b28c-a220fc0775f0",
   "metadata": {},
   "outputs": [
    {
     "data": {
      "text/plain": [
       "123"
      ]
     },
     "execution_count": 4,
     "metadata": {},
     "output_type": "execute_result"
    }
   ],
   "source": [
    "int(\"123\")"
   ]
  },
  {
   "cell_type": "code",
   "execution_count": 5,
   "id": "bf68311e-a128-432e-9b09-ddaf5febf1c4",
   "metadata": {},
   "outputs": [
    {
     "data": {
      "text/plain": [
       "'Rajnanda'"
      ]
     },
     "execution_count": 5,
     "metadata": {},
     "output_type": "execute_result"
    }
   ],
   "source": [
    "str(\"Rajnanda\")"
   ]
  },
  {
   "cell_type": "code",
   "execution_count": 2,
   "id": "b60e31b9-5f0c-4d4c-a78d-e51380428abb",
   "metadata": {},
   "outputs": [
    {
     "data": {
      "text/plain": [
       "int"
      ]
     },
     "execution_count": 2,
     "metadata": {},
     "output_type": "execute_result"
    }
   ],
   "source": [
    "type(5)"
   ]
  },
  {
   "cell_type": "code",
   "execution_count": 3,
   "id": "011eef0c-bb62-420e-8f20-a827e2a47c6d",
   "metadata": {},
   "outputs": [
    {
     "data": {
      "text/plain": [
       "str"
      ]
     },
     "execution_count": 3,
     "metadata": {},
     "output_type": "execute_result"
    }
   ],
   "source": [
    "type(\"Value\")"
   ]
  },
  {
   "cell_type": "code",
   "execution_count": null,
   "id": "0f532de0-7115-4738-b623-956dfd62f0d5",
   "metadata": {},
   "outputs": [],
   "source": []
  }
 ],
 "metadata": {
  "kernelspec": {
   "display_name": "Python 3 (ipykernel)",
   "language": "python",
   "name": "python3"
  },
  "language_info": {
   "codemirror_mode": {
    "name": "ipython",
    "version": 3
   },
   "file_extension": ".py",
   "mimetype": "text/x-python",
   "name": "python",
   "nbconvert_exporter": "python",
   "pygments_lexer": "ipython3",
   "version": "3.10.8"
  }
 },
 "nbformat": 4,
 "nbformat_minor": 5
}
