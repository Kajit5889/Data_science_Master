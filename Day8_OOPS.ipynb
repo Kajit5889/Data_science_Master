{
 "cells": [
  {
   "cell_type": "code",
   "execution_count": 1,
   "id": "058ad256-6aa4-4460-bdea-d25c1d786769",
   "metadata": {},
   "outputs": [
    {
     "name": "stdout",
     "output_type": "stream",
     "text": [
      "<class 'int'>\n"
     ]
    }
   ],
   "source": [
    "a=1\n",
    "print(type(a))"
   ]
  },
  {
   "cell_type": "code",
   "execution_count": 2,
   "id": "4ac49d7b-8b4c-4813-8e79-5613bd332d9d",
   "metadata": {},
   "outputs": [
    {
     "name": "stdout",
     "output_type": "stream",
     "text": [
      "<class 'str'>\n"
     ]
    }
   ],
   "source": [
    "b='Data Science Master'\n",
    "print(type(b))"
   ]
  },
  {
   "cell_type": "code",
   "execution_count": 3,
   "id": "712dbf44-e72e-4769-a77d-6966cde7ca28",
   "metadata": {},
   "outputs": [
    {
     "ename": "SyntaxError",
     "evalue": "incomplete input (1236307212.py, line 2)",
     "output_type": "error",
     "traceback": [
      "\u001b[0;36m  Cell \u001b[0;32mIn[3], line 2\u001b[0;36m\u001b[0m\n\u001b[0;31m    \u001b[0m\n\u001b[0m    ^\u001b[0m\n\u001b[0;31mSyntaxError\u001b[0m\u001b[0;31m:\u001b[0m incomplete input\n"
     ]
    }
   ],
   "source": [
    "class test:\n",
    "    "
   ]
  },
  {
   "cell_type": "code",
   "execution_count": 4,
   "id": "3c1256e5-835b-4528-ae63-2c3aba0f448a",
   "metadata": {},
   "outputs": [],
   "source": [
    "class test:\n",
    "    pass     ## now it not throwing any error"
   ]
  },
  {
   "cell_type": "code",
   "execution_count": 5,
   "id": "679e94ee-11c7-4378-91ef-e371fe459f04",
   "metadata": {},
   "outputs": [],
   "source": [
    "a = test() ## a is na object of an variable"
   ]
  },
  {
   "cell_type": "code",
   "execution_count": 6,
   "id": "4e00244c-fdc2-489f-9f31-40167d7b39ce",
   "metadata": {},
   "outputs": [
    {
     "name": "stdout",
     "output_type": "stream",
     "text": [
      "<class '__main__.test'>\n"
     ]
    }
   ],
   "source": [
    "print(type(a))"
   ]
  },
  {
   "cell_type": "code",
   "execution_count": null,
   "id": "adba95bf-43a7-48ea-8164-503a5338ba55",
   "metadata": {},
   "outputs": [],
   "source": []
  },
  {
   "cell_type": "code",
   "execution_count": 10,
   "id": "9dd843d8-6652-4520-9327-cbc755d4e30a",
   "metadata": {},
   "outputs": [],
   "source": [
    "class pwskills:\n",
    "    def welcome_msg(self):                   # when ever declare a function inside class ; you have to give an pointer or reference \n",
    "        print(\"Welcome to pwskills\")"
   ]
  },
  {
   "cell_type": "code",
   "execution_count": 9,
   "id": "16532475-94cd-4786-8efb-72cc4eb484b6",
   "metadata": {},
   "outputs": [
    {
     "ename": "TypeError",
     "evalue": "pwskills.welcome_msg() takes 0 positional arguments but 1 was given",
     "output_type": "error",
     "traceback": [
      "\u001b[0;31m---------------------------------------------------------------------------\u001b[0m",
      "\u001b[0;31mTypeError\u001b[0m                                 Traceback (most recent call last)",
      "Cell \u001b[0;32mIn[9], line 1\u001b[0m\n\u001b[0;32m----> 1\u001b[0m \u001b[43mAjit\u001b[49m\u001b[38;5;241;43m.\u001b[39;49m\u001b[43mwelcome_msg\u001b[49m\u001b[43m(\u001b[49m\u001b[43m)\u001b[49m\n",
      "\u001b[0;31mTypeError\u001b[0m: pwskills.welcome_msg() takes 0 positional arguments but 1 was given"
     ]
    }
   ],
   "source": [
    "Ajit.welcome_msg()"
   ]
  },
  {
   "cell_type": "code",
   "execution_count": 12,
   "id": "a7777fad-7fdc-4951-9d5f-f998de120f39",
   "metadata": {},
   "outputs": [],
   "source": [
    "Ajit = pwskills()"
   ]
  },
  {
   "cell_type": "code",
   "execution_count": 13,
   "id": "caa2339e-e4ba-443a-b67a-678c10ef9dcd",
   "metadata": {},
   "outputs": [
    {
     "name": "stdout",
     "output_type": "stream",
     "text": [
      "Welcome to pwskills\n"
     ]
    }
   ],
   "source": [
    "Ajit.welcome_msg()"
   ]
  },
  {
   "cell_type": "code",
   "execution_count": null,
   "id": "723703d6-22cc-4d71-b3d3-bc45623b9970",
   "metadata": {},
   "outputs": [],
   "source": []
  },
  {
   "cell_type": "code",
   "execution_count": 14,
   "id": "57bdd06c-cb77-4545-a7c8-dc701e017d90",
   "metadata": {},
   "outputs": [],
   "source": [
    "tina = pwskills()"
   ]
  },
  {
   "cell_type": "code",
   "execution_count": 15,
   "id": "c8c8b17c-a7eb-49b6-a2fd-4c509af5d207",
   "metadata": {},
   "outputs": [
    {
     "name": "stdout",
     "output_type": "stream",
     "text": [
      "Welcome to pwskills\n"
     ]
    }
   ],
   "source": [
    "tina.welcome_msg()"
   ]
  },
  {
   "cell_type": "code",
   "execution_count": 16,
   "id": "0aae1e84-77a7-4091-bf7f-e952d02985e4",
   "metadata": {},
   "outputs": [],
   "source": [
    "a =1\n",
    "b =2"
   ]
  },
  {
   "cell_type": "code",
   "execution_count": 17,
   "id": "12a85f08-f87c-4aae-9535-9d0aadc89647",
   "metadata": {},
   "outputs": [
    {
     "data": {
      "text/plain": [
       "1"
      ]
     },
     "execution_count": 17,
     "metadata": {},
     "output_type": "execute_result"
    }
   ],
   "source": [
    "a"
   ]
  },
  {
   "cell_type": "code",
   "execution_count": 18,
   "id": "7c581a02-b461-4bbb-84d3-4bea33eae882",
   "metadata": {},
   "outputs": [
    {
     "data": {
      "text/plain": [
       "2"
      ]
     },
     "execution_count": 18,
     "metadata": {},
     "output_type": "execute_result"
    }
   ],
   "source": [
    "b"
   ]
  },
  {
   "cell_type": "code",
   "execution_count": 19,
   "id": "09763d29-395f-44de-b559-ca878b63e5b2",
   "metadata": {},
   "outputs": [],
   "source": [
    "## constructor used to take the data ....\n",
    "\n",
    "class pwskills1:\n",
    "    \n",
    "    def __init__(self,phone_number,email_id, student_id):              ## init is a constructor ; inbuilt function\n",
    "        \n",
    "        self.phone_number = phone_number\n",
    "        self.email_id = email_id\n",
    "        self.student_id = student_id\n",
    "        \n",
    "        \n",
    "    def return_student_details(self):\n",
    "        return self.phone_number,self.email_id,self.student_id"
   ]
  },
  {
   "cell_type": "code",
   "execution_count": 20,
   "id": "c915d27f-1120-4550-a756-1e8ec603baf5",
   "metadata": {},
   "outputs": [
    {
     "ename": "TypeError",
     "evalue": "pwskills1.__init__() missing 3 required positional arguments: 'phone_number', 'email_id', and 'student_id'",
     "output_type": "error",
     "traceback": [
      "\u001b[0;31m---------------------------------------------------------------------------\u001b[0m",
      "\u001b[0;31mTypeError\u001b[0m                                 Traceback (most recent call last)",
      "Cell \u001b[0;32mIn[20], line 1\u001b[0m\n\u001b[0;32m----> 1\u001b[0m Ajit \u001b[38;5;241m=\u001b[39m \u001b[43mpwskills1\u001b[49m\u001b[43m(\u001b[49m\u001b[43m)\u001b[49m\n",
      "\u001b[0;31mTypeError\u001b[0m: pwskills1.__init__() missing 3 required positional arguments: 'phone_number', 'email_id', and 'student_id'"
     ]
    }
   ],
   "source": [
    "Ajit = pwskills1()"
   ]
  },
  {
   "cell_type": "code",
   "execution_count": 21,
   "id": "1e92b668-528e-4529-9924-66e0c2925bc8",
   "metadata": {},
   "outputs": [],
   "source": [
    "Ajit = pwskills1(1234556,\"aj@gmail.com\",11)"
   ]
  },
  {
   "cell_type": "code",
   "execution_count": 22,
   "id": "cf05561c-c93f-42a9-ae18-8def5f828f1a",
   "metadata": {},
   "outputs": [
    {
     "data": {
      "text/plain": [
       "1234556"
      ]
     },
     "execution_count": 22,
     "metadata": {},
     "output_type": "execute_result"
    }
   ],
   "source": [
    "Ajit.phone_number"
   ]
  },
  {
   "cell_type": "code",
   "execution_count": 23,
   "id": "1041a04f-39d8-4f0f-bb95-34c197be9a93",
   "metadata": {},
   "outputs": [
    {
     "data": {
      "text/plain": [
       "'aj@gmail.com'"
      ]
     },
     "execution_count": 23,
     "metadata": {},
     "output_type": "execute_result"
    }
   ],
   "source": [
    "Ajit.email_id"
   ]
  },
  {
   "cell_type": "code",
   "execution_count": 25,
   "id": "9f555b79-24ba-437b-8a33-250797335b92",
   "metadata": {},
   "outputs": [
    {
     "data": {
      "text/plain": [
       "(1234556, 'aj@gmail.com', 11)"
      ]
     },
     "execution_count": 25,
     "metadata": {},
     "output_type": "execute_result"
    }
   ],
   "source": [
    "Ajit.return_student_details()"
   ]
  },
  {
   "cell_type": "code",
   "execution_count": 31,
   "id": "1e7b391b-dec6-4b0b-bb14-6c87ba3a4f6e",
   "metadata": {},
   "outputs": [],
   "source": [
    "class pwskills2:\n",
    "    \n",
    "    def __init__(ajit,phone_number,email_id, student_id):              ## init is a constructor ; inbuilt function\n",
    "        \n",
    "        ajit.phone_number = phone_number\n",
    "        ajit.email_id = email_id\n",
    "        ajit.student_id = student_id\n",
    "        \n",
    "        \n",
    "    def return_student_details(ajit):\n",
    "        return ajit.phone_number,ajit.email_id,ajit.student_id"
   ]
  },
  {
   "cell_type": "code",
   "execution_count": 32,
   "id": "731abd73-5660-4946-ae1a-5e50e555cd4d",
   "metadata": {},
   "outputs": [],
   "source": [
    "zit = pwskills2(1234556,\"aj@gmail.com\",11)"
   ]
  },
  {
   "cell_type": "code",
   "execution_count": 33,
   "id": "9520d2d3-b797-4f93-8d68-6d6629881845",
   "metadata": {},
   "outputs": [
    {
     "data": {
      "text/plain": [
       "1234556"
      ]
     },
     "execution_count": 33,
     "metadata": {},
     "output_type": "execute_result"
    }
   ],
   "source": [
    "zit.phone_number"
   ]
  },
  {
   "cell_type": "code",
   "execution_count": 34,
   "id": "98ceff56-954a-4c29-8a8f-8d6954883f23",
   "metadata": {},
   "outputs": [
    {
     "data": {
      "text/plain": [
       "(1234556, 'aj@gmail.com', 11)"
      ]
     },
     "execution_count": 34,
     "metadata": {},
     "output_type": "execute_result"
    }
   ],
   "source": [
    "zit.return_student_details()"
   ]
  },
  {
   "cell_type": "code",
   "execution_count": null,
   "id": "a3f6d3e8-2567-4354-a0da-3e64604cd21a",
   "metadata": {},
   "outputs": [],
   "source": []
  },
  {
   "cell_type": "code",
   "execution_count": null,
   "id": "fb66e7d2-1c71-46f6-a79e-91f2832bd8bc",
   "metadata": {},
   "outputs": [],
   "source": [
    "## reference :: ajit,self (convention): something you should use"
   ]
  },
  {
   "cell_type": "code",
   "execution_count": null,
   "id": "71242e93-7077-41b1-86ef-894fabade418",
   "metadata": {},
   "outputs": [],
   "source": [
    "## ot take left side from the reference variable"
   ]
  },
  {
   "cell_type": "code",
   "execution_count": 39,
   "id": "3072a00c-95f7-4dcc-a6c9-a51a7e5b64e1",
   "metadata": {},
   "outputs": [],
   "source": [
    "class pwskills3:\n",
    "    \n",
    "    def __init__(ajit,phone_number,email_id, student_id):              ## init is a constructor ; inbuilt function\n",
    "        \n",
    "        ajit.phone_number1 = phone_number\n",
    "        ajit.email_id = email_id\n",
    "        ajit.student_id = student_id\n",
    "        \n",
    "        \n",
    "    def return_student_details(ajit):\n",
    "        return ajit.phone_number1,ajit.email_id,ajit.student_id"
   ]
  },
  {
   "cell_type": "code",
   "execution_count": 41,
   "id": "5db52f17-453e-4063-a420-9492c2ce0135",
   "metadata": {},
   "outputs": [],
   "source": [
    "\n",
    "tina = pwskills3(1234556,\"tj@gmial.com\",111)"
   ]
  },
  {
   "cell_type": "code",
   "execution_count": 42,
   "id": "7e691a9c-a8bf-4fab-a25d-2a4cc1ddb8ed",
   "metadata": {},
   "outputs": [
    {
     "ename": "AttributeError",
     "evalue": "'pwskills3' object has no attribute 'phone_number'",
     "output_type": "error",
     "traceback": [
      "\u001b[0;31m---------------------------------------------------------------------------\u001b[0m",
      "\u001b[0;31mAttributeError\u001b[0m                            Traceback (most recent call last)",
      "Cell \u001b[0;32mIn[42], line 1\u001b[0m\n\u001b[0;32m----> 1\u001b[0m \u001b[43mtina\u001b[49m\u001b[38;5;241;43m.\u001b[39;49m\u001b[43mphone_number\u001b[49m\n",
      "\u001b[0;31mAttributeError\u001b[0m: 'pwskills3' object has no attribute 'phone_number'"
     ]
    }
   ],
   "source": [
    "tina.phone_number"
   ]
  },
  {
   "cell_type": "code",
   "execution_count": 43,
   "id": "3426cec7-0e90-4cb0-90b3-02d1c520dd83",
   "metadata": {},
   "outputs": [
    {
     "data": {
      "text/plain": [
       "1234556"
      ]
     },
     "execution_count": 43,
     "metadata": {},
     "output_type": "execute_result"
    }
   ],
   "source": [
    "tina.phone_number1"
   ]
  },
  {
   "cell_type": "code",
   "execution_count": 44,
   "id": "387525f4-0655-4b32-a280-3a81eded32be",
   "metadata": {},
   "outputs": [
    {
     "data": {
      "text/plain": [
       "(1234556, 'tj@gmial.com', 111)"
      ]
     },
     "execution_count": 44,
     "metadata": {},
     "output_type": "execute_result"
    }
   ],
   "source": [
    "tina.return_student_details()"
   ]
  },
  {
   "cell_type": "code",
   "execution_count": null,
   "id": "5c9c099c-f749-4d76-8805-4d21be047cf7",
   "metadata": {},
   "outputs": [],
   "source": []
  },
  {
   "cell_type": "markdown",
   "id": "d2647c67-d7af-4f2d-a0ea-3f0b728092b9",
   "metadata": {},
   "source": [
    "## Polymorphism"
   ]
  },
  {
   "cell_type": "code",
   "execution_count": null,
   "id": "c9814b1c-944a-49e9-ba3f-24fd89eea284",
   "metadata": {},
   "outputs": [],
   "source": [
    "## Multiple charactristic"
   ]
  },
  {
   "cell_type": "code",
   "execution_count": 1,
   "id": "529d1453-5fad-4d35-81ef-cf6986c417e1",
   "metadata": {},
   "outputs": [],
   "source": [
    "def test(a,b):\n",
    "    return a + b"
   ]
  },
  {
   "cell_type": "code",
   "execution_count": 2,
   "id": "df185678-b9fc-4ab9-b79c-094423a90f9f",
   "metadata": {},
   "outputs": [
    {
     "data": {
      "text/plain": [
       "9"
      ]
     },
     "execution_count": 2,
     "metadata": {},
     "output_type": "execute_result"
    }
   ],
   "source": [
    "test(4,5)"
   ]
  },
  {
   "cell_type": "code",
   "execution_count": 4,
   "id": "6c17f675-d5a3-444f-902e-06cf17797013",
   "metadata": {},
   "outputs": [
    {
     "data": {
      "text/plain": [
       "'ajit kumar'"
      ]
     },
     "execution_count": 4,
     "metadata": {},
     "output_type": "execute_result"
    }
   ],
   "source": [
    "test('ajit ', 'kumar')"
   ]
  },
  {
   "cell_type": "code",
   "execution_count": 5,
   "id": "aaa22369-9ad8-441e-8839-14990f72b058",
   "metadata": {},
   "outputs": [
    {
     "data": {
      "text/plain": [
       "[1, 2, 3, 4, 5, 6, 7, 9]"
      ]
     },
     "execution_count": 5,
     "metadata": {},
     "output_type": "execute_result"
    }
   ],
   "source": [
    "test([1,2,3,4] , [5,6,7,9]) # concatination"
   ]
  },
  {
   "cell_type": "code",
   "execution_count": null,
   "id": "8293426d-9e84-49c2-a398-59c484c7adf5",
   "metadata": {},
   "outputs": [],
   "source": [
    "## same fun behavior change based on the operation you perform\n",
    "                                        \n",
    "    "
   ]
  },
  {
   "cell_type": "code",
   "execution_count": 6,
   "id": "da7c4c90-746a-455e-a0c8-9550fe5724f5",
   "metadata": {},
   "outputs": [],
   "source": [
    "class data_science():\n",
    "    def syllabus(self):\n",
    "        print(\"data science\")"
   ]
  },
  {
   "cell_type": "code",
   "execution_count": 7,
   "id": "07d1ac82-fca6-4877-af17-1fc69e8be0bb",
   "metadata": {},
   "outputs": [],
   "source": [
    "class web_dev():\n",
    "    def syllabus(self):\n",
    "        print(\"web development\")"
   ]
  },
  {
   "cell_type": "code",
   "execution_count": 8,
   "id": "6aaf8852-1c0c-4762-8301-ae8f5c6a76ae",
   "metadata": {},
   "outputs": [],
   "source": [
    "def class_test(class_obj):\n",
    "    for i in class_obj:\n",
    "        i.syllabus()"
   ]
  },
  {
   "cell_type": "code",
   "execution_count": 9,
   "id": "db1e910b-a398-4df3-bf65-b69b2dd61e7d",
   "metadata": {},
   "outputs": [],
   "source": [
    "data_science_a = data_science()"
   ]
  },
  {
   "cell_type": "code",
   "execution_count": 10,
   "id": "8f1a1550-b5f9-4521-beab-42497e7070dc",
   "metadata": {},
   "outputs": [],
   "source": [
    "web_dev_b = web_dev()"
   ]
  },
  {
   "cell_type": "code",
   "execution_count": 11,
   "id": "292aac7a-864b-4a85-8082-a3fe36042f05",
   "metadata": {},
   "outputs": [],
   "source": [
    "class_obj = [data_science_a , web_dev_b]"
   ]
  },
  {
   "cell_type": "code",
   "execution_count": 12,
   "id": "97757065-02b3-401b-a366-d8200cc8559f",
   "metadata": {},
   "outputs": [
    {
     "name": "stdout",
     "output_type": "stream",
     "text": [
      "data science\n",
      "web development\n"
     ]
    }
   ],
   "source": [
    "class_test(class_obj)"
   ]
  },
  {
   "cell_type": "code",
   "execution_count": null,
   "id": "0ead6942-4ce4-454b-9235-2252d749b3ef",
   "metadata": {},
   "outputs": [],
   "source": []
  },
  {
   "cell_type": "markdown",
   "id": "256a445d-e5a8-4ce5-8e0b-3d881dbf34f9",
   "metadata": {},
   "source": [
    "## Encapsulation"
   ]
  },
  {
   "cell_type": "code",
   "execution_count": null,
   "id": "2579bb3b-f67d-45c7-947e-d22deedb26e2",
   "metadata": {},
   "outputs": [],
   "source": []
  },
  {
   "cell_type": "code",
   "execution_count": null,
   "id": "aa3ec4a9-b37a-4aad-a119-c183adbef3b8",
   "metadata": {},
   "outputs": [],
   "source": [
    "class car:\n",
    "    \n",
    "    def __init__(self, year, make, model, speed) :\n",
    "        self.__year = year\n",
    "        self.__make = make\n",
    "        self.__model = model\n",
    "        self.__speed = 0\n",
    "    \n",
    "    def set_speed(self, speed):\n",
    "        self.__speed = 0 if speed < 0 else speed\n",
    "        \n",
    "    def get_speed(self):\n",
    "        return self.__speed\n",
    "    \n",
    "    \n",
    "    ## hiding entier code...\n",
    "    ## hiding internal composition; hiding part"
   ]
  },
  {
   "cell_type": "code",
   "execution_count": null,
   "id": "357fcbcb-036b-423c-a2ec-1260eb98a02c",
   "metadata": {},
   "outputs": [],
   "source": []
  },
  {
   "cell_type": "code",
   "execution_count": null,
   "id": "0d974ef1-7d10-4bea-9ab7-eec3aa62d7ae",
   "metadata": {},
   "outputs": [],
   "source": []
  },
  {
   "cell_type": "code",
   "execution_count": 19,
   "id": "631fd89c-a2e0-4eb1-bfd8-11eed1a97d40",
   "metadata": {},
   "outputs": [],
   "source": [
    "class bank_amount:\n",
    "    \n",
    "    def __init__(self, balance):\n",
    "        self.__balance = balance\n",
    "        \n",
    "    def deposit(self, amount):\n",
    "        self.__balance = self.__balance + amount\n",
    "    \n",
    "    def withdraw(self, amount):\n",
    "        if self.__balance >= amount:\n",
    "            self.__balance = self.__balance - amount\n",
    "            return True\n",
    "        else:\n",
    "            return False\n",
    "        \n",
    "    def get_balance(self):\n",
    "        return self.__balance"
   ]
  },
  {
   "cell_type": "code",
   "execution_count": 20,
   "id": "06902a90-4991-430e-9ebb-042aa2ce503b",
   "metadata": {},
   "outputs": [],
   "source": [
    "bank_amount_aj = bank_amount(1000)"
   ]
  },
  {
   "cell_type": "code",
   "execution_count": 25,
   "id": "506b8335-531b-4570-a95d-21f3f0fa7595",
   "metadata": {},
   "outputs": [
    {
     "data": {
      "text/plain": [
       "1000"
      ]
     },
     "execution_count": 25,
     "metadata": {},
     "output_type": "execute_result"
    }
   ],
   "source": [
    "bank_amount_aj.get_balance()"
   ]
  },
  {
   "cell_type": "code",
   "execution_count": 26,
   "id": "67ce938e-aa59-4517-9e75-a31b62d34bf9",
   "metadata": {},
   "outputs": [],
   "source": [
    "bank_amount_aj.deposit(10000)"
   ]
  },
  {
   "cell_type": "code",
   "execution_count": 29,
   "id": "09230be8-fb71-4dfa-ba22-85099222af1a",
   "metadata": {},
   "outputs": [
    {
     "data": {
      "text/plain": [
       "True"
      ]
     },
     "execution_count": 29,
     "metadata": {},
     "output_type": "execute_result"
    }
   ],
   "source": [
    "bank_amount_aj.withdraw(7000)"
   ]
  },
  {
   "cell_type": "code",
   "execution_count": 30,
   "id": "6e5c7b71-5416-42de-a12f-31824e4e98ac",
   "metadata": {},
   "outputs": [
    {
     "data": {
      "text/plain": [
       "4000"
      ]
     },
     "execution_count": 30,
     "metadata": {},
     "output_type": "execute_result"
    }
   ],
   "source": [
    "bank_amount_aj.get_balance()"
   ]
  },
  {
   "cell_type": "code",
   "execution_count": null,
   "id": "f99d0ca8-b3be-487f-b042-326a0cdd3e6b",
   "metadata": {},
   "outputs": [],
   "source": []
  },
  {
   "cell_type": "markdown",
   "id": "9cd8eed3-38d3-4bca-b03a-326cf63e8b8f",
   "metadata": {},
   "source": [
    "## Inheritance"
   ]
  },
  {
   "cell_type": "code",
   "execution_count": null,
   "id": "da412b44-b405-4cd4-b0eb-86263a952e3a",
   "metadata": {},
   "outputs": [],
   "source": []
  },
  {
   "cell_type": "code",
   "execution_count": 1,
   "id": "61a604d1-f71d-4964-abb6-69bcaf17054f",
   "metadata": {},
   "outputs": [],
   "source": [
    "class parent:\n",
    "    def test_parent(self):\n",
    "        print(\"generate parent\")"
   ]
  },
  {
   "cell_type": "code",
   "execution_count": 2,
   "id": "80c2e19f-f860-4f83-b9d7-855cb5546d89",
   "metadata": {},
   "outputs": [],
   "source": [
    "class child(parent):   # CALL PARENT>\n",
    "    pass"
   ]
  },
  {
   "cell_type": "code",
   "execution_count": 3,
   "id": "0411baa7-ccc2-4fad-86f1-145fdc849851",
   "metadata": {},
   "outputs": [],
   "source": [
    "child_obj = child()"
   ]
  },
  {
   "cell_type": "code",
   "execution_count": 4,
   "id": "8baaddf1-8975-4e39-890f-43fe0737c51f",
   "metadata": {},
   "outputs": [
    {
     "name": "stdout",
     "output_type": "stream",
     "text": [
      "generate parent\n"
     ]
    }
   ],
   "source": [
    "child_obj.test_parent()"
   ]
  },
  {
   "cell_type": "code",
   "execution_count": null,
   "id": "a7d58640-bb60-490b-b138-780f79cc982b",
   "metadata": {},
   "outputs": [],
   "source": []
  },
  {
   "cell_type": "code",
   "execution_count": null,
   "id": "be7d3b9b-8ace-4f5a-901b-582d959e7542",
   "metadata": {},
   "outputs": [],
   "source": [
    "## multi level"
   ]
  },
  {
   "cell_type": "code",
   "execution_count": 36,
   "id": "044d2a13-0331-4019-9e2f-1a46c1be5499",
   "metadata": {},
   "outputs": [],
   "source": [
    "class class1:\n",
    "    def test_class1(self):\n",
    "        print(\"its class 1\")"
   ]
  },
  {
   "cell_type": "code",
   "execution_count": 37,
   "id": "5a35ae8b-f9d5-46b8-930b-92397593d45b",
   "metadata": {},
   "outputs": [],
   "source": [
    "class class2(class1):\n",
    "    def test_class2(self):\n",
    "        print(\"its class 2\")"
   ]
  },
  {
   "cell_type": "code",
   "execution_count": 38,
   "id": "82b404de-4a5d-49e8-966a-11f29f70044b",
   "metadata": {},
   "outputs": [],
   "source": [
    "class class3(class2):\n",
    "    def test_class3(self):\n",
    "        print(\"its class 3\")"
   ]
  },
  {
   "cell_type": "code",
   "execution_count": 39,
   "id": "3440cc94-d47e-4464-b937-e9f6b94c1e51",
   "metadata": {},
   "outputs": [],
   "source": [
    "class3_obj = class3()"
   ]
  },
  {
   "cell_type": "code",
   "execution_count": 40,
   "id": "663b3231-a840-46be-8afa-e6ec7301d10b",
   "metadata": {},
   "outputs": [
    {
     "name": "stdout",
     "output_type": "stream",
     "text": [
      "its class 1\n"
     ]
    }
   ],
   "source": [
    "class3_obj.test_class1()"
   ]
  },
  {
   "cell_type": "code",
   "execution_count": 41,
   "id": "3adadafe-915c-4a69-86a6-1273c70a51e4",
   "metadata": {},
   "outputs": [
    {
     "name": "stdout",
     "output_type": "stream",
     "text": [
      "its class 2\n"
     ]
    }
   ],
   "source": [
    "class3_obj.test_class2()"
   ]
  },
  {
   "cell_type": "code",
   "execution_count": 42,
   "id": "e9378a45-cff4-4966-bd2e-cca8e6877e49",
   "metadata": {},
   "outputs": [
    {
     "name": "stdout",
     "output_type": "stream",
     "text": [
      "its class 3\n"
     ]
    }
   ],
   "source": [
    "class3_obj.test_class3()"
   ]
  },
  {
   "cell_type": "code",
   "execution_count": null,
   "id": "ec26fa6e-49be-4ba6-b108-f26edca9faad",
   "metadata": {},
   "outputs": [],
   "source": []
  },
  {
   "cell_type": "code",
   "execution_count": null,
   "id": "6647fdc9-f3be-438a-a44a-c00a26aa906e",
   "metadata": {},
   "outputs": [],
   "source": [
    "## Multiple inheritance"
   ]
  },
  {
   "cell_type": "code",
   "execution_count": 44,
   "id": "a960d65f-5f2e-4b51-8541-4f04fe7ef1b7",
   "metadata": {},
   "outputs": [],
   "source": [
    "\n",
    "class class1:\n",
    "    def class1_as(self):\n",
    "        print(\"its class 1\")\n",
    "    "
   ]
  },
  {
   "cell_type": "code",
   "execution_count": 45,
   "id": "caac0994-6b33-44af-be7b-14b581cba46b",
   "metadata": {},
   "outputs": [],
   "source": [
    "class class2:\n",
    "    def class2_as(self):\n",
    "        print(\"its class 2\")"
   ]
  },
  {
   "cell_type": "code",
   "execution_count": 48,
   "id": "fa35a9df-3010-4661-8280-dfe23bb0a6ed",
   "metadata": {},
   "outputs": [],
   "source": [
    "class class3(class1, class2):  ## inherite two class\n",
    "    pass\n",
    "    "
   ]
  },
  {
   "cell_type": "code",
   "execution_count": 49,
   "id": "8d59f1a4-42e7-41af-bfe0-28affc113bbf",
   "metadata": {},
   "outputs": [],
   "source": [
    "obj_class =class3()"
   ]
  },
  {
   "cell_type": "code",
   "execution_count": 50,
   "id": "f354e753-7a15-4ce7-bcff-1690fc5b4485",
   "metadata": {},
   "outputs": [
    {
     "name": "stdout",
     "output_type": "stream",
     "text": [
      "its class 1\n"
     ]
    }
   ],
   "source": [
    "obj_class.class1_as()"
   ]
  },
  {
   "cell_type": "code",
   "execution_count": 51,
   "id": "e81b2b04-5787-40ad-85c3-c90fe7793066",
   "metadata": {},
   "outputs": [
    {
     "name": "stdout",
     "output_type": "stream",
     "text": [
      "its class 2\n"
     ]
    }
   ],
   "source": [
    "obj_class.class2_as()"
   ]
  },
  {
   "cell_type": "code",
   "execution_count": null,
   "id": "84e620da-ef45-44c2-9284-ccbea0f47f0d",
   "metadata": {},
   "outputs": [],
   "source": []
  },
  {
   "cell_type": "code",
   "execution_count": null,
   "id": "f4455eaf-7885-47b2-b5fc-9a30565e6920",
   "metadata": {},
   "outputs": [],
   "source": []
  },
  {
   "cell_type": "code",
   "execution_count": null,
   "id": "c7f6929d-1940-466f-b400-c6ebf8bd77cc",
   "metadata": {},
   "outputs": [],
   "source": []
  },
  {
   "cell_type": "code",
   "execution_count": null,
   "id": "bdb011b5-3b78-46eb-a090-0ebd8488d3d4",
   "metadata": {},
   "outputs": [],
   "source": []
  },
  {
   "cell_type": "code",
   "execution_count": null,
   "id": "28a5ab5e-8bc6-4da5-a8c6-a8a1a64d2290",
   "metadata": {},
   "outputs": [],
   "source": []
  },
  {
   "cell_type": "code",
   "execution_count": null,
   "id": "c62e1bd2-9fcd-4082-ba11-fe53cb12ce52",
   "metadata": {},
   "outputs": [],
   "source": []
  },
  {
   "cell_type": "code",
   "execution_count": null,
   "id": "af654353-6580-4c84-b96f-e951f7d55884",
   "metadata": {},
   "outputs": [],
   "source": []
  }
 ],
 "metadata": {
  "kernelspec": {
   "display_name": "Python 3 (ipykernel)",
   "language": "python",
   "name": "python3"
  },
  "language_info": {
   "codemirror_mode": {
    "name": "ipython",
    "version": 3
   },
   "file_extension": ".py",
   "mimetype": "text/x-python",
   "name": "python",
   "nbconvert_exporter": "python",
   "pygments_lexer": "ipython3",
   "version": "3.10.8"
  }
 },
 "nbformat": 4,
 "nbformat_minor": 5
}
