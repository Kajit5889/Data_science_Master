{
 "cells": [
  {
   "cell_type": "markdown",
   "id": "af710ec3-18a0-4ba1-b3af-0a361579f27c",
   "metadata": {},
   "source": [
    "# tuples"
   ]
  },
  {
   "cell_type": "code",
   "execution_count": 1,
   "id": "0359701a-97e6-4f24-817b-b2a47c267797",
   "metadata": {},
   "outputs": [],
   "source": [
    "t = ()"
   ]
  },
  {
   "cell_type": "code",
   "execution_count": 2,
   "id": "bee7d2b5-3e84-4202-87d5-7fd4087f7394",
   "metadata": {},
   "outputs": [
    {
     "data": {
      "text/plain": [
       "tuple"
      ]
     },
     "execution_count": 2,
     "metadata": {},
     "output_type": "execute_result"
    }
   ],
   "source": [
    "# generally for list it was square brack here for tuples parentheses\n",
    "type(t)"
   ]
  },
  {
   "cell_type": "code",
   "execution_count": 3,
   "id": "9ca7ca28-f7d3-4d50-8109-c420a80839a6",
   "metadata": {},
   "outputs": [],
   "source": [
    "list = []"
   ]
  },
  {
   "cell_type": "code",
   "execution_count": 4,
   "id": "16e0ec01-88b5-45b5-a3f7-0502220340ce",
   "metadata": {},
   "outputs": [
    {
     "data": {
      "text/plain": [
       "list"
      ]
     },
     "execution_count": 4,
     "metadata": {},
     "output_type": "execute_result"
    }
   ],
   "source": [
    "type(list)"
   ]
  },
  {
   "cell_type": "code",
   "execution_count": 15,
   "id": "1b8cbc45-7d69-44e8-8cf1-1401d769d29c",
   "metadata": {},
   "outputs": [],
   "source": [
    "t1 = (1, 2, 3, 4, 5, 6, 4.50, 7 + 5j, \"Ajit\", True, False )"
   ]
  },
  {
   "cell_type": "code",
   "execution_count": 16,
   "id": "b1ad3b90-7e75-408d-836e-d968822a5a39",
   "metadata": {},
   "outputs": [
    {
     "data": {
      "text/plain": [
       "(7+5j)"
      ]
     },
     "execution_count": 16,
     "metadata": {},
     "output_type": "execute_result"
    }
   ],
   "source": [
    "t1[7]"
   ]
  },
  {
   "cell_type": "code",
   "execution_count": 17,
   "id": "4c78cc6e-27ce-4efb-8a56-3223375fa84b",
   "metadata": {},
   "outputs": [
    {
     "data": {
      "text/plain": [
       "(False, True, 'Ajit', (7+5j), 4.5, 6, 5, 4, 3, 2, 1)"
      ]
     },
     "execution_count": 17,
     "metadata": {},
     "output_type": "execute_result"
    }
   ],
   "source": [
    "t1[::-1]  ##  reversed : These are temp change if you wanted to make it parmanet do the item reassignment ex: below"
   ]
  },
  {
   "cell_type": "markdown",
   "id": "e9fb0e34-7435-4ba8-a4f1-402834a21458",
   "metadata": {},
   "source": [
    "## item reassignment"
   ]
  },
  {
   "cell_type": "code",
   "execution_count": 23,
   "id": "2a1d9ad9-e4f9-4cd9-ae25-a75bf7710e2a",
   "metadata": {},
   "outputs": [],
   "source": [
    "t1 = t1[::-1] "
   ]
  },
  {
   "cell_type": "code",
   "execution_count": 24,
   "id": "313448ba-8d4c-4c13-b6a0-d2664f15b8d9",
   "metadata": {},
   "outputs": [
    {
     "data": {
      "text/plain": [
       "(False, True, 'Ajit', (7+5j), 4.5, 6, 5, 4, 3, 2, 1)"
      ]
     },
     "execution_count": 24,
     "metadata": {},
     "output_type": "execute_result"
    }
   ],
   "source": [
    "t1"
   ]
  },
  {
   "cell_type": "code",
   "execution_count": 25,
   "id": "7914e3cf-60a1-4414-a955-befb646d0455",
   "metadata": {},
   "outputs": [
    {
     "data": {
      "text/plain": [
       "(False, True, 'Ajit')"
      ]
     },
     "execution_count": 25,
     "metadata": {},
     "output_type": "execute_result"
    }
   ],
   "source": [
    "# slicing operation\n",
    "\n",
    "t1[0:3]"
   ]
  },
  {
   "cell_type": "code",
   "execution_count": 26,
   "id": "e06bc286-dec8-47a3-ac23-0164757c7507",
   "metadata": {},
   "outputs": [
    {
     "data": {
      "text/plain": [
       "(False, True, 'Ajit', (7+5j), 4.5, 6, 5, 4, 3, 2, 1)"
      ]
     },
     "execution_count": 26,
     "metadata": {},
     "output_type": "execute_result"
    }
   ],
   "source": [
    "t1"
   ]
  },
  {
   "cell_type": "code",
   "execution_count": 28,
   "id": "4d0e2a04-3306-4235-90b0-ef78abec93bb",
   "metadata": {},
   "outputs": [
    {
     "data": {
      "text/plain": [
       "2"
      ]
     },
     "execution_count": 28,
     "metadata": {},
     "output_type": "execute_result"
    }
   ],
   "source": [
    "t1.count(1) ## logic behind it consider bool "
   ]
  },
  {
   "cell_type": "code",
   "execution_count": 29,
   "id": "1318a343-fe9a-4757-b60e-a9cb89ef34a4",
   "metadata": {},
   "outputs": [
    {
     "data": {
      "text/plain": [
       "1"
      ]
     },
     "execution_count": 29,
     "metadata": {},
     "output_type": "execute_result"
    }
   ],
   "source": [
    "t1.count(\"Ajit\")"
   ]
  },
  {
   "cell_type": "code",
   "execution_count": 31,
   "id": "f356b7f8-e710-42dc-b863-f19345f39940",
   "metadata": {},
   "outputs": [
    {
     "data": {
      "text/plain": [
       "1"
      ]
     },
     "execution_count": 31,
     "metadata": {},
     "output_type": "execute_result"
    }
   ],
   "source": [
    "t1.count(0)"
   ]
  },
  {
   "cell_type": "code",
   "execution_count": 39,
   "id": "97bb7b24-707c-4c8c-9377-d59fbb7eebfc",
   "metadata": {},
   "outputs": [
    {
     "data": {
      "text/plain": [
       "2"
      ]
     },
     "execution_count": 39,
     "metadata": {},
     "output_type": "execute_result"
    }
   ],
   "source": [
    "t1.index(\"Ajit\")"
   ]
  },
  {
   "cell_type": "code",
   "execution_count": 40,
   "id": "f91cbcf2-6fa4-4509-ab0c-43151460fbba",
   "metadata": {},
   "outputs": [
    {
     "data": {
      "text/plain": [
       "7"
      ]
     },
     "execution_count": 40,
     "metadata": {},
     "output_type": "execute_result"
    }
   ],
   "source": [
    "t1.index(4)"
   ]
  },
  {
   "cell_type": "markdown",
   "id": "339197f4-bfe3-4054-917a-6498f6fced03",
   "metadata": {
    "tags": []
   },
   "source": [
    "### tuples not allow to do the item assignment ,immutability Consept here is an ex :"
   ]
  },
  {
   "cell_type": "code",
   "execution_count": 42,
   "id": "ed54e981-4db7-42e4-b9a5-4d9eed8a6646",
   "metadata": {},
   "outputs": [
    {
     "data": {
      "text/plain": [
       "False"
      ]
     },
     "execution_count": 42,
     "metadata": {},
     "output_type": "execute_result"
    }
   ],
   "source": [
    "t1[0]"
   ]
  },
  {
   "cell_type": "code",
   "execution_count": 43,
   "id": "4e8f53b1-745f-45a1-bd35-1e88033fdc67",
   "metadata": {},
   "outputs": [
    {
     "ename": "TypeError",
     "evalue": "'tuple' object does not support item assignment",
     "output_type": "error",
     "traceback": [
      "\u001b[0;31m---------------------------------------------------------------------------\u001b[0m",
      "\u001b[0;31mTypeError\u001b[0m                                 Traceback (most recent call last)",
      "Cell \u001b[0;32mIn[43], line 1\u001b[0m\n\u001b[0;32m----> 1\u001b[0m \u001b[43mt1\u001b[49m\u001b[43m[\u001b[49m\u001b[38;5;241;43m0\u001b[39;49m\u001b[43m]\u001b[49m \u001b[38;5;241m=\u001b[39m \u001b[38;5;28;01mTrue\u001b[39;00m\n",
      "\u001b[0;31mTypeError\u001b[0m: 'tuple' object does not support item assignment"
     ]
    }
   ],
   "source": [
    "t1[0] = True"
   ]
  },
  {
   "cell_type": "code",
   "execution_count": 44,
   "id": "7d2bdb15-59b6-4031-ae80-d055b6e992e0",
   "metadata": {},
   "outputs": [],
   "source": [
    "## same work with list\n",
    "\n",
    "list1= [1,2,3,4]"
   ]
  },
  {
   "cell_type": "code",
   "execution_count": 45,
   "id": "5f9c7602-9fb7-4c41-b812-4b15f40cebfd",
   "metadata": {},
   "outputs": [
    {
     "data": {
      "text/plain": [
       "1"
      ]
     },
     "execution_count": 45,
     "metadata": {},
     "output_type": "execute_result"
    }
   ],
   "source": [
    "list1[0]"
   ]
  },
  {
   "cell_type": "code",
   "execution_count": 46,
   "id": "7500e139-1861-4e8f-a4f2-470fb0d9eda7",
   "metadata": {},
   "outputs": [],
   "source": [
    "list1[0] = 100"
   ]
  },
  {
   "cell_type": "code",
   "execution_count": 48,
   "id": "43791755-c434-407c-8b9f-19a87b0112ab",
   "metadata": {},
   "outputs": [
    {
     "data": {
      "text/plain": [
       "[100, 2, 3, 4]"
      ]
     },
     "execution_count": 48,
     "metadata": {},
     "output_type": "execute_result"
    }
   ],
   "source": [
    "list1 # list > follows multable concept "
   ]
  },
  {
   "cell_type": "code",
   "execution_count": 49,
   "id": "675fc679-9a14-4a66-b32e-9abe09f120c7",
   "metadata": {},
   "outputs": [
    {
     "data": {
      "text/plain": [
       "(False, True, 'Ajit', (7+5j), 4.5, 6, 5, 4, 3, 2, 1)"
      ]
     },
     "execution_count": 49,
     "metadata": {},
     "output_type": "execute_result"
    }
   ],
   "source": [
    "t1"
   ]
  },
  {
   "cell_type": "code",
   "execution_count": null,
   "id": "ad73d343-5b93-4796-9292-626509efecbe",
   "metadata": {},
   "outputs": [],
   "source": [
    "#### lets do the itterate the tuples using  for loop"
   ]
  },
  {
   "cell_type": "code",
   "execution_count": 52,
   "id": "74945f78-c6f2-4f88-be7b-f03e311c7d40",
   "metadata": {},
   "outputs": [
    {
     "name": "stdout",
     "output_type": "stream",
     "text": [
      "False\n",
      "True\n",
      "Ajit\n",
      "(7+5j)\n",
      "4.5\n",
      "6\n",
      "5\n",
      "4\n",
      "3\n",
      "2\n",
      "1\n"
     ]
    }
   ],
   "source": [
    "for i in t1:\n",
    "    print(i)"
   ]
  },
  {
   "cell_type": "code",
   "execution_count": 53,
   "id": "77d42165-f07f-4120-9cef-8ae7d78b6c61",
   "metadata": {},
   "outputs": [
    {
     "name": "stdout",
     "output_type": "stream",
     "text": [
      "False <class 'bool'>\n",
      "True <class 'bool'>\n",
      "Ajit <class 'str'>\n",
      "(7+5j) <class 'complex'>\n",
      "4.5 <class 'float'>\n",
      "6 <class 'int'>\n",
      "5 <class 'int'>\n",
      "4 <class 'int'>\n",
      "3 <class 'int'>\n",
      "2 <class 'int'>\n",
      "1 <class 'int'>\n"
     ]
    }
   ],
   "source": [
    "for i in t1:\n",
    "    print(i , type(i)) ## use this type casting to view the data Type"
   ]
  },
  {
   "cell_type": "code",
   "execution_count": null,
   "id": "87426135-8031-4864-9677-0530ea6205dc",
   "metadata": {},
   "outputs": [],
   "source": []
  },
  {
   "cell_type": "code",
   "execution_count": null,
   "id": "3b2e8077-79c3-47ae-8d64-88aeeb772cfb",
   "metadata": {},
   "outputs": [],
   "source": [
    "## lets try a new example"
   ]
  },
  {
   "cell_type": "code",
   "execution_count": 55,
   "id": "8f9f9d7b-51ca-4050-a872-d8eb0df50cf7",
   "metadata": {},
   "outputs": [],
   "source": [
    "number = (1, 2, 3, 4, 5)"
   ]
  },
  {
   "cell_type": "code",
   "execution_count": 56,
   "id": "303fd665-958c-4a7e-9310-fa5f2f183bfa",
   "metadata": {},
   "outputs": [
    {
     "data": {
      "text/plain": [
       "(1, 2, 3, 4, 5)"
      ]
     },
     "execution_count": 56,
     "metadata": {},
     "output_type": "execute_result"
    }
   ],
   "source": [
    "number"
   ]
  },
  {
   "cell_type": "code",
   "execution_count": 58,
   "id": "31bce379-5ae0-4675-983c-15c7973fc4b8",
   "metadata": {},
   "outputs": [
    {
     "data": {
      "text/plain": [
       "(1, 2, 3, 4, 5, 1, 2, 3, 4, 5)"
      ]
     },
     "execution_count": 58,
     "metadata": {},
     "output_type": "execute_result"
    }
   ],
   "source": [
    "number * 2"
   ]
  },
  {
   "cell_type": "code",
   "execution_count": null,
   "id": "020bbc8e-a354-4576-b7af-5b6618ef6104",
   "metadata": {},
   "outputs": [],
   "source": [
    "## it replicate same data two times"
   ]
  },
  {
   "cell_type": "code",
   "execution_count": 59,
   "id": "aa05625e-9ce7-4563-959e-6b1d5ae02fac",
   "metadata": {},
   "outputs": [
    {
     "data": {
      "text/plain": [
       "5"
      ]
     },
     "execution_count": 59,
     "metadata": {},
     "output_type": "execute_result"
    }
   ],
   "source": [
    "\n",
    "max(number)"
   ]
  },
  {
   "cell_type": "code",
   "execution_count": 60,
   "id": "ab4e989f-b8e9-4e02-9182-1b124c059124",
   "metadata": {},
   "outputs": [
    {
     "data": {
      "text/plain": [
       "1"
      ]
     },
     "execution_count": 60,
     "metadata": {},
     "output_type": "execute_result"
    }
   ],
   "source": [
    "min(number)"
   ]
  },
  {
   "cell_type": "code",
   "execution_count": null,
   "id": "765ea4c8-6867-4a30-a1e8-68f1ec85d85f",
   "metadata": {},
   "outputs": [],
   "source": [
    "## real time scenario ; where can you use this tuples \n",
    "\n",
    "## hence it follow immutablity consept, it helpful for password storage"
   ]
  },
  {
   "cell_type": "code",
   "execution_count": null,
   "id": "d4f8e3b9-df06-40d3-9793-b6332abfd4c5",
   "metadata": {},
   "outputs": [],
   "source": []
  },
  {
   "cell_type": "code",
   "execution_count": null,
   "id": "45568bbb-59b3-4c85-9e12-faeeab888e60",
   "metadata": {},
   "outputs": [],
   "source": [
    "# you can create tuples inside tuples \n",
    "\n",
    "## lets see with an example"
   ]
  },
  {
   "cell_type": "code",
   "execution_count": 63,
   "id": "124a992b-a190-45d2-8005-734ce665c216",
   "metadata": {},
   "outputs": [],
   "source": [
    "t2 = (1,2,3,4,5)\n",
    "t4 = (6,7,8,9,10)"
   ]
  },
  {
   "cell_type": "code",
   "execution_count": 64,
   "id": "4e975349-9134-422a-9730-1f055a340f6f",
   "metadata": {},
   "outputs": [],
   "source": [
    "# declare a variable t5, store the data for t2 and t4\n",
    "\n",
    "t5 = (t2,t4)"
   ]
  },
  {
   "cell_type": "code",
   "execution_count": 65,
   "id": "3547412c-cb26-4e28-a7ba-23ca733936ff",
   "metadata": {},
   "outputs": [
    {
     "data": {
      "text/plain": [
       "((1, 2, 3, 4, 5), (6, 7, 8, 9, 10))"
      ]
     },
     "execution_count": 65,
     "metadata": {},
     "output_type": "execute_result"
    }
   ],
   "source": [
    "t5"
   ]
  },
  {
   "cell_type": "code",
   "execution_count": null,
   "id": "f7a637c8-3bca-4aff-addb-2e69c99780ac",
   "metadata": {},
   "outputs": [],
   "source": [
    "# also we can add list inside tuples\n",
    "\n"
   ]
  },
  {
   "cell_type": "code",
   "execution_count": 66,
   "id": "5c5642f6-c7ec-4b1c-b696-aee4ee7077a7",
   "metadata": {},
   "outputs": [],
   "source": [
    "l2 = [1,3,\"tuples\", 6]"
   ]
  },
  {
   "cell_type": "code",
   "execution_count": 67,
   "id": "a7d12a88-7c42-4eb2-a039-89ee098b31d9",
   "metadata": {},
   "outputs": [
    {
     "data": {
      "text/plain": [
       "[1, 3, 'tuples', 6]"
      ]
     },
     "execution_count": 67,
     "metadata": {},
     "output_type": "execute_result"
    }
   ],
   "source": [
    "l2"
   ]
  },
  {
   "cell_type": "code",
   "execution_count": 70,
   "id": "d4fcd94b-f1e0-4a1c-a713-55b2fd211c17",
   "metadata": {},
   "outputs": [],
   "source": [
    "t5 = (t2,t4,l2)"
   ]
  },
  {
   "cell_type": "code",
   "execution_count": 71,
   "id": "534e54f3-db97-4650-856b-d33b3a935eed",
   "metadata": {},
   "outputs": [
    {
     "data": {
      "text/plain": [
       "((1, 2, 3, 4, 5), (6, 7, 8, 9, 10), [1, 3, 'tuples', 6])"
      ]
     },
     "execution_count": 71,
     "metadata": {},
     "output_type": "execute_result"
    }
   ],
   "source": [
    "t5"
   ]
  },
  {
   "cell_type": "code",
   "execution_count": null,
   "id": "e52aff62-700a-4ba5-8b9e-0cb453deefb7",
   "metadata": {},
   "outputs": [],
   "source": [
    "# we can delete tuples using this below functionality"
   ]
  },
  {
   "cell_type": "code",
   "execution_count": 72,
   "id": "144281bf-1d21-4180-be81-a6389a9cd338",
   "metadata": {},
   "outputs": [],
   "source": [
    "del t5"
   ]
  },
  {
   "cell_type": "code",
   "execution_count": 73,
   "id": "053ea3e0-c990-46ec-b5db-f7c34de37503",
   "metadata": {},
   "outputs": [
    {
     "ename": "NameError",
     "evalue": "name 't5' is not defined",
     "output_type": "error",
     "traceback": [
      "\u001b[0;31m---------------------------------------------------------------------------\u001b[0m",
      "\u001b[0;31mNameError\u001b[0m                                 Traceback (most recent call last)",
      "Cell \u001b[0;32mIn[73], line 1\u001b[0m\n\u001b[0;32m----> 1\u001b[0m \u001b[43mt5\u001b[49m\n",
      "\u001b[0;31mNameError\u001b[0m: name 't5' is not defined"
     ]
    }
   ],
   "source": [
    "t5  ## it becasue of avaible command tuple removed from the data"
   ]
  },
  {
   "cell_type": "code",
   "execution_count": 74,
   "id": "58f5d7b8-0647-40b2-be18-d3dde406b9be",
   "metadata": {},
   "outputs": [
    {
     "data": {
      "text/plain": [
       "[1, 3, 'tuples', 6]"
      ]
     },
     "execution_count": 74,
     "metadata": {},
     "output_type": "execute_result"
    }
   ],
   "source": [
    "l2"
   ]
  },
  {
   "cell_type": "code",
   "execution_count": 75,
   "id": "de631d4f-abcc-4476-af96-b312e01f2006",
   "metadata": {},
   "outputs": [],
   "source": [
    "del l2 # list also removed"
   ]
  },
  {
   "cell_type": "code",
   "execution_count": 76,
   "id": "4232e58b-0cb5-4ceb-95e0-46083f940f93",
   "metadata": {},
   "outputs": [
    {
     "ename": "NameError",
     "evalue": "name 'l2' is not defined",
     "output_type": "error",
     "traceback": [
      "\u001b[0;31m---------------------------------------------------------------------------\u001b[0m",
      "\u001b[0;31mNameError\u001b[0m                                 Traceback (most recent call last)",
      "Cell \u001b[0;32mIn[76], line 1\u001b[0m\n\u001b[0;32m----> 1\u001b[0m \u001b[43ml2\u001b[49m\n",
      "\u001b[0;31mNameError\u001b[0m: name 'l2' is not defined"
     ]
    }
   ],
   "source": [
    "l2"
   ]
  },
  {
   "cell_type": "code",
   "execution_count": 77,
   "id": "c89f1e98-caea-417a-8f5a-ff378d33393d",
   "metadata": {},
   "outputs": [
    {
     "data": {
      "text/plain": [
       "(False, True, 'Ajit', (7+5j), 4.5, 6, 5, 4, 3, 2, 1)"
      ]
     },
     "execution_count": 77,
     "metadata": {},
     "output_type": "execute_result"
    }
   ],
   "source": [
    "t1"
   ]
  },
  {
   "cell_type": "code",
   "execution_count": 78,
   "id": "9b7a0bc8-1316-4006-ab1f-eef951492d56",
   "metadata": {},
   "outputs": [
    {
     "data": {
      "text/plain": [
       "11"
      ]
     },
     "execution_count": 78,
     "metadata": {},
     "output_type": "execute_result"
    }
   ],
   "source": [
    "len (t1)  ## give result of total eliment from the tuples"
   ]
  },
  {
   "cell_type": "code",
   "execution_count": 80,
   "id": "82436e82-8955-4f77-be01-2faeaa5d169c",
   "metadata": {},
   "outputs": [
    {
     "data": {
      "text/plain": [
       "True"
      ]
     },
     "execution_count": 80,
     "metadata": {},
     "output_type": "execute_result"
    }
   ],
   "source": [
    "True in t1"
   ]
  },
  {
   "cell_type": "code",
   "execution_count": 83,
   "id": "5aaa691b-b3e7-45ba-80c4-8cd83370a048",
   "metadata": {},
   "outputs": [
    {
     "data": {
      "text/plain": [
       "True"
      ]
     },
     "execution_count": 83,
     "metadata": {},
     "output_type": "execute_result"
    }
   ],
   "source": [
    "'Ajit' in t1 ## string should be '' or \"\" quotation"
   ]
  },
  {
   "cell_type": "code",
   "execution_count": 84,
   "id": "23c49e4a-7292-4804-bdd0-8438fb2b6be5",
   "metadata": {},
   "outputs": [
    {
     "ename": "NameError",
     "evalue": "name 'Ajit' is not defined",
     "output_type": "error",
     "traceback": [
      "\u001b[0;31m---------------------------------------------------------------------------\u001b[0m",
      "\u001b[0;31mNameError\u001b[0m                                 Traceback (most recent call last)",
      "Cell \u001b[0;32mIn[84], line 1\u001b[0m\n\u001b[0;32m----> 1\u001b[0m \u001b[43mAjit\u001b[49m \u001b[38;5;129;01min\u001b[39;00m t1\n",
      "\u001b[0;31mNameError\u001b[0m: name 'Ajit' is not defined"
     ]
    }
   ],
   "source": [
    "Ajit in t1"
   ]
  },
  {
   "cell_type": "code",
   "execution_count": null,
   "id": "e3e4e5c8-4ce9-4353-9c4a-7c067ee9a375",
   "metadata": {},
   "outputs": [],
   "source": []
  },
  {
   "cell_type": "markdown",
   "id": "55e8c255-a66a-49df-b2cf-e60623347d3e",
   "metadata": {},
   "source": [
    "## sets"
   ]
  },
  {
   "cell_type": "code",
   "execution_count": null,
   "id": "7a469ee1-e32b-4d49-a176-051cb198830c",
   "metadata": {},
   "outputs": [],
   "source": [
    "\n",
    "# list , tuples , sets :: all these are collection"
   ]
  },
  {
   "cell_type": "code",
   "execution_count": 86,
   "id": "fe3dad78-e790-4a18-af98-47aa5b0243f7",
   "metadata": {},
   "outputs": [],
   "source": [
    "\n",
    "s = {}"
   ]
  },
  {
   "cell_type": "code",
   "execution_count": 87,
   "id": "1dfd41e3-ca67-40dd-a805-04bf77c8b726",
   "metadata": {},
   "outputs": [
    {
     "data": {
      "text/plain": [
       "dict"
      ]
     },
     "execution_count": 87,
     "metadata": {},
     "output_type": "execute_result"
    }
   ],
   "source": [
    "type(s)"
   ]
  },
  {
   "cell_type": "code",
   "execution_count": 88,
   "id": "daf5da90-d425-4a66-aba7-615c6805082a",
   "metadata": {},
   "outputs": [],
   "source": [
    "s1 = {1,2,3,4} ## without eliment it call as dict;;  with eliment it call > set"
   ]
  },
  {
   "cell_type": "code",
   "execution_count": 89,
   "id": "d46bc44f-2929-48c9-828a-ed93642ac51b",
   "metadata": {},
   "outputs": [
    {
     "data": {
      "text/plain": [
       "{1, 2, 3, 4}"
      ]
     },
     "execution_count": 89,
     "metadata": {},
     "output_type": "execute_result"
    }
   ],
   "source": [
    "s1"
   ]
  },
  {
   "cell_type": "code",
   "execution_count": 90,
   "id": "dd8b18fb-3526-4053-9f96-2fcbd52cb5e5",
   "metadata": {},
   "outputs": [
    {
     "data": {
      "text/plain": [
       "set"
      ]
     },
     "execution_count": 90,
     "metadata": {},
     "output_type": "execute_result"
    }
   ],
   "source": [
    "type(s1)"
   ]
  },
  {
   "cell_type": "code",
   "execution_count": 91,
   "id": "736c1639-9c34-4748-bf72-12b16e1a9967",
   "metadata": {},
   "outputs": [],
   "source": [
    "s2 = {1,1,1,1,2,3,4,5,5,5,7,7,8,9,10,12,12,45} ## it will give the unique eliments ; remove all duplicate"
   ]
  },
  {
   "cell_type": "code",
   "execution_count": 92,
   "id": "780ce90c-59f2-42df-b001-9acafed1cf83",
   "metadata": {},
   "outputs": [
    {
     "data": {
      "text/plain": [
       "{1, 2, 3, 4, 5, 7, 8, 9, 10, 12, 45}"
      ]
     },
     "execution_count": 92,
     "metadata": {},
     "output_type": "execute_result"
    }
   ],
   "source": [
    "s2"
   ]
  },
  {
   "cell_type": "code",
   "execution_count": 94,
   "id": "e460c1c1-487b-42c8-8585-87e3b6e50542",
   "metadata": {},
   "outputs": [],
   "source": [
    "l2 = [1,3,5,6]"
   ]
  },
  {
   "cell_type": "code",
   "execution_count": 95,
   "id": "226db932-1fd2-4c04-b4aa-e0c8274711ea",
   "metadata": {},
   "outputs": [
    {
     "data": {
      "text/plain": [
       "[1, 3, 5, 6]"
      ]
     },
     "execution_count": 95,
     "metadata": {},
     "output_type": "execute_result"
    }
   ],
   "source": [
    "l2"
   ]
  },
  {
   "cell_type": "code",
   "execution_count": 96,
   "id": "d1e45410-ab9b-4650-92c4-baa238008cf8",
   "metadata": {},
   "outputs": [
    {
     "ename": "TypeError",
     "evalue": "unhashable type: 'set'",
     "output_type": "error",
     "traceback": [
      "\u001b[0;31m---------------------------------------------------------------------------\u001b[0m",
      "\u001b[0;31mTypeError\u001b[0m                                 Traceback (most recent call last)",
      "Cell \u001b[0;32mIn[96], line 1\u001b[0m\n\u001b[0;32m----> 1\u001b[0m s3\u001b[38;5;241m=\u001b[39m{s2,l2}\n",
      "\u001b[0;31mTypeError\u001b[0m: unhashable type: 'set'"
     ]
    }
   ],
   "source": [
    "s3={s2,l2}"
   ]
  },
  {
   "cell_type": "code",
   "execution_count": 97,
   "id": "509cd164-88a4-4a48-a39a-ddce72b2f644",
   "metadata": {},
   "outputs": [
    {
     "data": {
      "text/plain": [
       "(False, True, 'Ajit', (7+5j), 4.5, 6, 5, 4, 3, 2, 1)"
      ]
     },
     "execution_count": 97,
     "metadata": {},
     "output_type": "execute_result"
    }
   ],
   "source": [
    "t1"
   ]
  },
  {
   "cell_type": "code",
   "execution_count": 98,
   "id": "ec3602a2-f9df-42d2-8f0a-07e2dda5ae01",
   "metadata": {},
   "outputs": [
    {
     "ename": "TypeError",
     "evalue": "unhashable type: 'set'",
     "output_type": "error",
     "traceback": [
      "\u001b[0;31m---------------------------------------------------------------------------\u001b[0m",
      "\u001b[0;31mTypeError\u001b[0m                                 Traceback (most recent call last)",
      "Cell \u001b[0;32mIn[98], line 1\u001b[0m\n\u001b[0;32m----> 1\u001b[0m s3\u001b[38;5;241m=\u001b[39m{s2,t1}\n",
      "\u001b[0;31mTypeError\u001b[0m: unhashable type: 'set'"
     ]
    }
   ],
   "source": [
    "s3={s2,t1}"
   ]
  },
  {
   "cell_type": "code",
   "execution_count": 103,
   "id": "3f46ad6e-95ec-4e5c-8650-55e3fdb67a10",
   "metadata": {},
   "outputs": [
    {
     "data": {
      "text/plain": [
       "{1, 2, 3, 4, 5, 7, 8, 9, 10, 12, 45}"
      ]
     },
     "execution_count": 103,
     "metadata": {},
     "output_type": "execute_result"
    }
   ],
   "source": [
    "s2"
   ]
  },
  {
   "cell_type": "code",
   "execution_count": 106,
   "id": "d397bf34-5cc1-4f6c-8fe4-7ec3516dfbc7",
   "metadata": {},
   "outputs": [],
   "source": [
    "s2 = {1, 2, 3, 4, 5, 7, 8, 9, 10, 12, 45}\n"
   ]
  },
  {
   "cell_type": "code",
   "execution_count": 109,
   "id": "441a9fd6-d96d-41f9-846f-a5d5553473ad",
   "metadata": {},
   "outputs": [
    {
     "data": {
      "text/plain": [
       "(1, 2, 3, 4, 5, 7, 8, 9, 10, 12, 45)"
      ]
     },
     "execution_count": 109,
     "metadata": {},
     "output_type": "execute_result"
    }
   ],
   "source": [
    "tuple(s2)"
   ]
  },
  {
   "cell_type": "code",
   "execution_count": 111,
   "id": "01a6f723-53da-4623-937a-63d9a409d16e",
   "metadata": {},
   "outputs": [],
   "source": [
    "A1= {1,2,3,4}"
   ]
  },
  {
   "cell_type": "code",
   "execution_count": 117,
   "id": "26b380ee-1f35-4d3e-9313-49cd6bb2191e",
   "metadata": {},
   "outputs": [
    {
     "data": {
      "text/plain": [
       "{1, 2, 3, 4}"
      ]
     },
     "execution_count": 117,
     "metadata": {},
     "output_type": "execute_result"
    }
   ],
   "source": [
    "A1"
   ]
  },
  {
   "cell_type": "code",
   "execution_count": 113,
   "id": "d0e8858d-d169-4074-92b3-ac0b7966cee0",
   "metadata": {},
   "outputs": [
    {
     "data": {
      "text/plain": [
       "(1, 2, 3, 4)"
      ]
     },
     "execution_count": 113,
     "metadata": {},
     "output_type": "execute_result"
    }
   ],
   "source": [
    "tuple(A1)"
   ]
  },
  {
   "cell_type": "code",
   "execution_count": 120,
   "id": "8b125464-6648-4367-a4f2-7690dc068f69",
   "metadata": {},
   "outputs": [
    {
     "ename": "TypeError",
     "evalue": "'list' object is not callable",
     "output_type": "error",
     "traceback": [
      "\u001b[0;31m---------------------------------------------------------------------------\u001b[0m",
      "\u001b[0;31mTypeError\u001b[0m                                 Traceback (most recent call last)",
      "Cell \u001b[0;32mIn[120], line 1\u001b[0m\n\u001b[0;32m----> 1\u001b[0m l\u001b[38;5;241m=\u001b[39m \u001b[38;5;28;43mlist\u001b[39;49m\u001b[43m(\u001b[49m\u001b[43mA1\u001b[49m\u001b[43m)\u001b[49m\n",
      "\u001b[0;31mTypeError\u001b[0m: 'list' object is not callable"
     ]
    }
   ],
   "source": [
    "l= list(A1)"
   ]
  },
  {
   "cell_type": "code",
   "execution_count": 121,
   "id": "43ca071d-7c28-4e52-8485-b5a07cd9c984",
   "metadata": {},
   "outputs": [],
   "source": [
    "a = {1,3,4,5,6}"
   ]
  },
  {
   "cell_type": "code",
   "execution_count": 122,
   "id": "f7ab5638-9f9b-4062-8178-c4929e21a0a4",
   "metadata": {},
   "outputs": [
    {
     "ename": "TypeError",
     "evalue": "'list' object is not callable",
     "output_type": "error",
     "traceback": [
      "\u001b[0;31m---------------------------------------------------------------------------\u001b[0m",
      "\u001b[0;31mTypeError\u001b[0m                                 Traceback (most recent call last)",
      "Cell \u001b[0;32mIn[122], line 1\u001b[0m\n\u001b[0;32m----> 1\u001b[0m \u001b[38;5;28;43mlist\u001b[39;49m\u001b[43m(\u001b[49m\u001b[43ma\u001b[49m\u001b[43m)\u001b[49m\n",
      "\u001b[0;31mTypeError\u001b[0m: 'list' object is not callable"
     ]
    }
   ],
   "source": [
    "list(a)"
   ]
  },
  {
   "cell_type": "code",
   "execution_count": 123,
   "id": "06db31c1-0ea8-43bd-b574-63bfc3ce42d3",
   "metadata": {},
   "outputs": [],
   "source": [
    "a1 = {1,3,4,5,6, (1,2,3,5)}"
   ]
  },
  {
   "cell_type": "code",
   "execution_count": 124,
   "id": "7692eb10-7cec-46d2-a39e-1dd5a9f0d179",
   "metadata": {},
   "outputs": [
    {
     "data": {
      "text/plain": [
       "{(1, 2, 3, 5), 1, 3, 4, 5, 6}"
      ]
     },
     "execution_count": 124,
     "metadata": {},
     "output_type": "execute_result"
    }
   ],
   "source": [
    "a1"
   ]
  },
  {
   "cell_type": "code",
   "execution_count": 125,
   "id": "f53fc54c-f1a5-4ce1-becf-d7d799807fdb",
   "metadata": {},
   "outputs": [
    {
     "ename": "TypeError",
     "evalue": "unhashable type: 'list'",
     "output_type": "error",
     "traceback": [
      "\u001b[0;31m---------------------------------------------------------------------------\u001b[0m",
      "\u001b[0;31mTypeError\u001b[0m                                 Traceback (most recent call last)",
      "Cell \u001b[0;32mIn[125], line 1\u001b[0m\n\u001b[0;32m----> 1\u001b[0m a3 \u001b[38;5;241m=\u001b[39m {\u001b[38;5;241m1\u001b[39m,\u001b[38;5;241m3\u001b[39m,\u001b[38;5;241m4\u001b[39m,\u001b[38;5;241m5\u001b[39m,\u001b[38;5;241m6\u001b[39m, (\u001b[38;5;241m1\u001b[39m,\u001b[38;5;241m2\u001b[39m,\u001b[38;5;241m3\u001b[39m,\u001b[38;5;241m5\u001b[39m),[\u001b[38;5;241m1\u001b[39m,\u001b[38;5;241m2\u001b[39m,\u001b[38;5;241m3\u001b[39m,\u001b[38;5;241m4\u001b[39m,\u001b[38;5;241m5\u001b[39m,\u001b[38;5;241m6\u001b[39m]}\n",
      "\u001b[0;31mTypeError\u001b[0m: unhashable type: 'list'"
     ]
    }
   ],
   "source": [
    "a3 = {1,3,4,5,6, (1,2,3,5),[1,2,3,4,5,6]}"
   ]
  },
  {
   "cell_type": "code",
   "execution_count": 129,
   "id": "4211e8b3-9596-4e0c-b531-25645080264f",
   "metadata": {},
   "outputs": [
    {
     "ename": "TypeError",
     "evalue": "'list' object is not callable",
     "output_type": "error",
     "traceback": [
      "\u001b[0;31m---------------------------------------------------------------------------\u001b[0m",
      "\u001b[0;31mTypeError\u001b[0m                                 Traceback (most recent call last)",
      "Cell \u001b[0;32mIn[129], line 2\u001b[0m\n\u001b[1;32m      1\u001b[0m my_set \u001b[38;5;241m=\u001b[39m {\u001b[38;5;241m1\u001b[39m, \u001b[38;5;241m2\u001b[39m, \u001b[38;5;241m3\u001b[39m, \u001b[38;5;241m4\u001b[39m, \u001b[38;5;241m5\u001b[39m, \u001b[38;5;241m6\u001b[39m, \u001b[38;5;241m7\u001b[39m, \u001b[38;5;241m8\u001b[39m}\n\u001b[0;32m----> 2\u001b[0m my_list \u001b[38;5;241m=\u001b[39m \u001b[38;5;28;43mlist\u001b[39;49m\u001b[43m(\u001b[49m\u001b[43mmy_set\u001b[49m\u001b[43m)\u001b[49m\n\u001b[1;32m      3\u001b[0m \u001b[38;5;28mprint\u001b[39m(my_list)\n",
      "\u001b[0;31mTypeError\u001b[0m: 'list' object is not callable"
     ]
    }
   ],
   "source": [
    "my_set = {1, 2, 3, 4, 5, 6, 7, 8}\n",
    "my_list = list(my_set)\n",
    "print(my_list)"
   ]
  },
  {
   "cell_type": "code",
   "execution_count": 128,
   "id": "29522460-6526-4e16-8a79-ba6f59eb8458",
   "metadata": {},
   "outputs": [
    {
     "ename": "TypeError",
     "evalue": "'list' object is not callable",
     "output_type": "error",
     "traceback": [
      "\u001b[0;31m---------------------------------------------------------------------------\u001b[0m",
      "\u001b[0;31mTypeError\u001b[0m                                 Traceback (most recent call last)",
      "Cell \u001b[0;32mIn[128], line 1\u001b[0m\n\u001b[0;32m----> 1\u001b[0m my_list \u001b[38;5;241m=\u001b[39m \u001b[38;5;28;43mlist\u001b[39;49m\u001b[43m(\u001b[49m\u001b[43mmy_set\u001b[49m\u001b[43m)\u001b[49m\n",
      "\u001b[0;31mTypeError\u001b[0m: 'list' object is not callable"
     ]
    }
   ],
   "source": []
  },
  {
   "cell_type": "code",
   "execution_count": 130,
   "id": "50fbf8db-9095-454b-b642-78ba55a6f5f1",
   "metadata": {},
   "outputs": [],
   "source": [
    "my_set = {1, 2, 3, 4, 5, 6, 7, 8}"
   ]
  },
  {
   "cell_type": "code",
   "execution_count": 131,
   "id": "9f314dcf-ab6e-4d53-8634-4e6d25ce789d",
   "metadata": {},
   "outputs": [
    {
     "data": {
      "text/plain": [
       "{1, 2, 3, 4, 5, 6, 7, 8}"
      ]
     },
     "execution_count": 131,
     "metadata": {},
     "output_type": "execute_result"
    }
   ],
   "source": [
    "my_set"
   ]
  },
  {
   "cell_type": "code",
   "execution_count": 132,
   "id": "e0437e19-c979-4aa5-954e-1e1c8d4c6f0d",
   "metadata": {},
   "outputs": [
    {
     "ename": "TypeError",
     "evalue": "'set' object is not subscriptable",
     "output_type": "error",
     "traceback": [
      "\u001b[0;31m---------------------------------------------------------------------------\u001b[0m",
      "\u001b[0;31mTypeError\u001b[0m                                 Traceback (most recent call last)",
      "Cell \u001b[0;32mIn[132], line 1\u001b[0m\n\u001b[0;32m----> 1\u001b[0m \u001b[43mmy_set\u001b[49m\u001b[43m[\u001b[49m\u001b[38;5;241;43m0\u001b[39;49m\u001b[43m]\u001b[49m\n",
      "\u001b[0;31mTypeError\u001b[0m: 'set' object is not subscriptable"
     ]
    }
   ],
   "source": [
    "my_set[0]  ## slicing operation not work in set"
   ]
  },
  {
   "cell_type": "code",
   "execution_count": null,
   "id": "be0d1763-4c1b-4e7b-a110-8dfc69b32c19",
   "metadata": {},
   "outputs": [],
   "source": []
  },
  {
   "cell_type": "code",
   "execution_count": 133,
   "id": "aebc9727-b3b4-4aa8-9e32-7f22e31ff97b",
   "metadata": {},
   "outputs": [
    {
     "data": {
      "text/plain": [
       "{1, 2, 3, 4, 5, 6, 7, 8}"
      ]
     },
     "execution_count": 133,
     "metadata": {},
     "output_type": "execute_result"
    }
   ],
   "source": [
    "my_set"
   ]
  },
  {
   "cell_type": "code",
   "execution_count": 134,
   "id": "9e8e75a3-8b5e-405b-bb52-4510bc08867e",
   "metadata": {},
   "outputs": [],
   "source": [
    "my_set.add(35)"
   ]
  },
  {
   "cell_type": "code",
   "execution_count": 135,
   "id": "4c3baafc-7661-4c5f-94e2-decde032e3fe",
   "metadata": {},
   "outputs": [
    {
     "data": {
      "text/plain": [
       "{1, 2, 3, 4, 5, 6, 7, 8, 35}"
      ]
     },
     "execution_count": 135,
     "metadata": {},
     "output_type": "execute_result"
    }
   ],
   "source": [
    "my_set"
   ]
  },
  {
   "cell_type": "code",
   "execution_count": 136,
   "id": "b245b9e5-ba92-4bdd-9cee-4ee921923e85",
   "metadata": {},
   "outputs": [],
   "source": [
    "my_set.remove(6)"
   ]
  },
  {
   "cell_type": "code",
   "execution_count": 137,
   "id": "0d804cd1-612a-4f45-abc1-e3a3519ebfab",
   "metadata": {},
   "outputs": [
    {
     "data": {
      "text/plain": [
       "{1, 2, 3, 4, 5, 7, 8, 35}"
      ]
     },
     "execution_count": 137,
     "metadata": {},
     "output_type": "execute_result"
    }
   ],
   "source": [
    "my_set"
   ]
  },
  {
   "cell_type": "code",
   "execution_count": 138,
   "id": "16077277-7dcf-44b0-adfe-39c0b44e1b1a",
   "metadata": {},
   "outputs": [
    {
     "data": {
      "text/plain": [
       "1"
      ]
     },
     "execution_count": 138,
     "metadata": {},
     "output_type": "execute_result"
    }
   ],
   "source": [
    "my_set.pop()"
   ]
  },
  {
   "cell_type": "code",
   "execution_count": 140,
   "id": "92b32b43-1a23-4715-a66b-5e8c8d02b142",
   "metadata": {},
   "outputs": [
    {
     "data": {
      "text/plain": [
       "{2, 3, 4, 5, 7, 8, 35}"
      ]
     },
     "execution_count": 140,
     "metadata": {},
     "output_type": "execute_result"
    }
   ],
   "source": [
    "my_set.union()"
   ]
  },
  {
   "cell_type": "code",
   "execution_count": 141,
   "id": "730da7bc-12aa-4b72-9232-14534c068fea",
   "metadata": {},
   "outputs": [
    {
     "data": {
      "text/plain": [
       "7"
      ]
     },
     "execution_count": 141,
     "metadata": {},
     "output_type": "execute_result"
    }
   ],
   "source": [
    "len(my_set)"
   ]
  },
  {
   "cell_type": "code",
   "execution_count": 142,
   "id": "5559fc34-2aa0-464d-85b9-e326c9677844",
   "metadata": {},
   "outputs": [],
   "source": [
    "my_set.clear() ## cleared everything"
   ]
  },
  {
   "cell_type": "code",
   "execution_count": 143,
   "id": "60bd7e76-7dce-4437-bd64-2f807cac0229",
   "metadata": {},
   "outputs": [
    {
     "data": {
      "text/plain": [
       "set()"
      ]
     },
     "execution_count": 143,
     "metadata": {},
     "output_type": "execute_result"
    }
   ],
   "source": [
    "my_set"
   ]
  },
  {
   "cell_type": "code",
   "execution_count": 146,
   "id": "da1f2bca-b54b-4f78-a92a-e8e931de09c1",
   "metadata": {},
   "outputs": [],
   "source": [
    "## comparision using diff\n",
    "\n",
    "\n",
    "my_set1 = {1, 2, 3, 4, 5, 7, 8, 35,25}\n",
    "my_set2 = {1, 2, 3, 4, 5, 7, 8, 35,2,3,4,5,6,7,20}"
   ]
  },
  {
   "cell_type": "code",
   "execution_count": 147,
   "id": "ca3102e8-a0ce-4619-ac14-632236240a3a",
   "metadata": {},
   "outputs": [
    {
     "data": {
      "text/plain": [
       "{25}"
      ]
     },
     "execution_count": 147,
     "metadata": {},
     "output_type": "execute_result"
    }
   ],
   "source": [
    "my_set1.difference(my_set2)"
   ]
  },
  {
   "cell_type": "code",
   "execution_count": 148,
   "id": "dcf95937-9cce-4ca1-8a7d-d9e71db423cc",
   "metadata": {},
   "outputs": [
    {
     "data": {
      "text/plain": [
       "{6, 20}"
      ]
     },
     "execution_count": 148,
     "metadata": {},
     "output_type": "execute_result"
    }
   ],
   "source": [
    "my_set2.difference(my_set1)"
   ]
  },
  {
   "cell_type": "markdown",
   "id": "5e71ef26-47e5-49b4-b4fc-25437e4c2f71",
   "metadata": {},
   "source": [
    "## Dictionary"
   ]
  },
  {
   "cell_type": "code",
   "execution_count": 149,
   "id": "331454ae-265f-4f5a-9911-056276d4a436",
   "metadata": {},
   "outputs": [],
   "source": [
    "d={}"
   ]
  },
  {
   "cell_type": "code",
   "execution_count": 150,
   "id": "8cfcec61-b2f3-40f8-a8d7-bb17e6eeae4a",
   "metadata": {},
   "outputs": [
    {
     "data": {
      "text/plain": [
       "dict"
      ]
     },
     "execution_count": 150,
     "metadata": {},
     "output_type": "execute_result"
    }
   ],
   "source": [
    "type(d)"
   ]
  },
  {
   "cell_type": "code",
   "execution_count": 151,
   "id": "83ceecf5-e3bf-45f1-9f87-51d2f1745ac6",
   "metadata": {},
   "outputs": [],
   "source": [
    "## key and value\n",
    "\n",
    "d1={\"name\":\"Ajit\",\"email\":\"@ypmail.com\",\"mobile\":1234}"
   ]
  },
  {
   "cell_type": "code",
   "execution_count": 152,
   "id": "80d083dc-bdc0-47b1-9a50-09ac3a31528f",
   "metadata": {},
   "outputs": [
    {
     "data": {
      "text/plain": [
       "{'name': 'Ajit', 'email': '@ypmail.com', 'mobile': 1234}"
      ]
     },
     "execution_count": 152,
     "metadata": {},
     "output_type": "execute_result"
    }
   ],
   "source": [
    "d1"
   ]
  },
  {
   "cell_type": "code",
   "execution_count": 153,
   "id": "3d02f4f4-c5cb-409e-b26f-9a413ad7921e",
   "metadata": {},
   "outputs": [
    {
     "ename": "SyntaxError",
     "evalue": "invalid syntax (1376681127.py, line 1)",
     "output_type": "error",
     "traceback": [
      "\u001b[0;36m  Cell \u001b[0;32mIn[153], line 1\u001b[0;36m\u001b[0m\n\u001b[0;31m    d2={@:\"Ajit\",\"email\":\"@ypmail.com\",\"mobile\":1234}\u001b[0m\n\u001b[0m        ^\u001b[0m\n\u001b[0;31mSyntaxError\u001b[0m\u001b[0;31m:\u001b[0m invalid syntax\n"
     ]
    }
   ],
   "source": [
    "d2={@:\"Ajit\",\"email\":\"@ypmail.com\",\"mobile\":1234}"
   ]
  },
  {
   "cell_type": "code",
   "execution_count": 157,
   "id": "ac32fcfa-b331-44b4-b91b-134770acf6d5",
   "metadata": {},
   "outputs": [],
   "source": [
    "d2={\"name\":\"Ajit\",\"email\":\"@ypmail.com\",\"mobile\":1234, (1,2,3,4): \"mobile\"}"
   ]
  },
  {
   "cell_type": "code",
   "execution_count": 158,
   "id": "60ffb64a-d49a-4088-8d2e-614728df782e",
   "metadata": {},
   "outputs": [
    {
     "data": {
      "text/plain": [
       "{'name': 'Ajit',\n",
       " 'email': '@ypmail.com',\n",
       " 'mobile': 1234,\n",
       " (1, 2, 3, 4): 'mobile'}"
      ]
     },
     "execution_count": 158,
     "metadata": {},
     "output_type": "execute_result"
    }
   ],
   "source": [
    "d2"
   ]
  },
  {
   "cell_type": "code",
   "execution_count": 159,
   "id": "c2c113de-5a23-4e48-a3cd-5443e05292a0",
   "metadata": {},
   "outputs": [],
   "source": [
    "# list, set not allowed because of unhashable type in key"
   ]
  },
  {
   "cell_type": "code",
   "execution_count": 161,
   "id": "86b527f4-d966-4191-acfb-40178397ee98",
   "metadata": {},
   "outputs": [],
   "source": [
    "Dictionary = {'Product': 'Mobile', 'Model': 'XUT', 'Units': 120, 'Available': 'Yes'}\n"
   ]
  },
  {
   "cell_type": "code",
   "execution_count": 162,
   "id": "a9d4b6a7-8182-4325-a9b7-c9d609c74c82",
   "metadata": {},
   "outputs": [
    {
     "data": {
      "text/plain": [
       "{'Product': 'Mobile', 'Model': 'XUT', 'Units': 120, 'Available': 'Yes'}"
      ]
     },
     "execution_count": 162,
     "metadata": {},
     "output_type": "execute_result"
    }
   ],
   "source": [
    "Dictionary"
   ]
  },
  {
   "cell_type": "code",
   "execution_count": 163,
   "id": "e8df63dc-59ee-4a31-b904-88b3086f43a5",
   "metadata": {},
   "outputs": [],
   "source": [
    "D2 = Dictionary.copy() # Simple way to copy it, also you can use the equal siqn to do so, \n",
    "# but major fault if you do change primary file change occured on the seconday."
   ]
  },
  {
   "cell_type": "code",
   "execution_count": 165,
   "id": "a1afb1a6-e514-48bb-929b-28f74e5e3820",
   "metadata": {},
   "outputs": [],
   "source": [
    "#\n",
    "\n",
    "D2={'Product': {'Mobile','Laptop','mouse','keyboard','tablet'}, 'Model': ('XUT','hp','mi','lenovo','asus'), 'Units': [120,200,30,40], 'Available': 'Yes'}\n",
    "\n",
    "# you can use set, tuples, list , variable ; in the value but vise-versa not possible it means in key.."
   ]
  },
  {
   "cell_type": "code",
   "execution_count": 166,
   "id": "97e57407-08c7-4f79-a6e3-513249ec42cc",
   "metadata": {},
   "outputs": [
    {
     "data": {
      "text/plain": [
       "{'Product': {'Laptop', 'Mobile', 'keyboard', 'mouse', 'tablet'},\n",
       " 'Model': ('XUT', 'hp', 'mi', 'lenovo', 'asus'),\n",
       " 'Units': [120, 200, 30, 40],\n",
       " 'Available': 'Yes'}"
      ]
     },
     "execution_count": 166,
     "metadata": {},
     "output_type": "execute_result"
    }
   ],
   "source": [
    "D2"
   ]
  },
  {
   "cell_type": "code",
   "execution_count": 169,
   "id": "83d8968c-ded1-4d53-956c-7434b4aff207",
   "metadata": {},
   "outputs": [
    {
     "ename": "TypeError",
     "evalue": "list indices must be integers or slices, not dict",
     "output_type": "error",
     "traceback": [
      "\u001b[0;31m---------------------------------------------------------------------------\u001b[0m",
      "\u001b[0;31mTypeError\u001b[0m                                 Traceback (most recent call last)",
      "Cell \u001b[0;32mIn[169], line 1\u001b[0m\n\u001b[0;32m----> 1\u001b[0m \u001b[38;5;28;43mlist\u001b[39;49m\u001b[43m[\u001b[49m\u001b[43mD2\u001b[49m\u001b[43m]\u001b[49m\n",
      "\u001b[0;31mTypeError\u001b[0m: list indices must be integers or slices, not dict"
     ]
    }
   ],
   "source": [
    "list D2[]"
   ]
  },
  {
   "cell_type": "code",
   "execution_count": 172,
   "id": "127ab463-1f52-4baa-9044-3028c1dc154c",
   "metadata": {},
   "outputs": [],
   "source": [
    "D4= {\"Product\" : {'Mobile', 'Model', 'XUT', 'Units', 'Available'}}"
   ]
  },
  {
   "cell_type": "code",
   "execution_count": 173,
   "id": "1b742649-10dd-4331-9bc9-369f6fb8e379",
   "metadata": {},
   "outputs": [
    {
     "data": {
      "text/plain": [
       "{'Product': {'Available', 'Mobile', 'Model', 'Units', 'XUT'}}"
      ]
     },
     "execution_count": 173,
     "metadata": {},
     "output_type": "execute_result"
    }
   ],
   "source": [
    "D4 # POSSIBLE DICTIONARY INSIDE DICTO..........\n"
   ]
  },
  {
   "cell_type": "code",
   "execution_count": 174,
   "id": "8f894160-fe3c-4af5-b9ec-5669d325207b",
   "metadata": {},
   "outputs": [
    {
     "data": {
      "text/plain": [
       "{'Product': {'Laptop', 'Mobile', 'keyboard', 'mouse', 'tablet'},\n",
       " 'Model': ('XUT', 'hp', 'mi', 'lenovo', 'asus'),\n",
       " 'Units': [120, 200, 30, 40],\n",
       " 'Available': 'Yes'}"
      ]
     },
     "execution_count": 174,
     "metadata": {},
     "output_type": "execute_result"
    }
   ],
   "source": [
    "D2"
   ]
  },
  {
   "cell_type": "code",
   "execution_count": 178,
   "id": "87ab604a-b708-427f-b157-220429778569",
   "metadata": {},
   "outputs": [],
   "source": [
    "D2[\"new_prod\"] = (1000)"
   ]
  },
  {
   "cell_type": "code",
   "execution_count": 179,
   "id": "8c545e06-49e9-4a3e-94b3-c2be164ffb9a",
   "metadata": {},
   "outputs": [
    {
     "data": {
      "text/plain": [
       "{'Product': {'Laptop', 'Mobile', 'keyboard', 'mouse', 'tablet'},\n",
       " 'Model': ('XUT', 'hp', 'mi', 'lenovo', 'asus'),\n",
       " 'Units': [120, 200, 30, 40],\n",
       " 'Available': 'Yes',\n",
       " 'new_prod': 1000}"
      ]
     },
     "execution_count": 179,
     "metadata": {},
     "output_type": "execute_result"
    }
   ],
   "source": [
    "D2"
   ]
  },
  {
   "cell_type": "code",
   "execution_count": 180,
   "id": "494f7461-78f2-4321-b18f-d3372200cc0b",
   "metadata": {},
   "outputs": [
    {
     "data": {
      "text/plain": [
       "{'Laptop', 'Mobile', 'keyboard', 'mouse', 'tablet'}"
      ]
     },
     "execution_count": 180,
     "metadata": {},
     "output_type": "execute_result"
    }
   ],
   "source": [
    "D2['Product']"
   ]
  },
  {
   "cell_type": "code",
   "execution_count": 181,
   "id": "12a68c8b-7397-4b11-b599-2fb86595ef87",
   "metadata": {},
   "outputs": [
    {
     "data": {
      "text/plain": [
       "set"
      ]
     },
     "execution_count": 181,
     "metadata": {},
     "output_type": "execute_result"
    }
   ],
   "source": [
    "type(D2['Product'])"
   ]
  },
  {
   "cell_type": "code",
   "execution_count": 182,
   "id": "a4d4e316-39da-4d4b-8576-7e8420c8e10f",
   "metadata": {},
   "outputs": [
    {
     "data": {
      "text/plain": [
       "tuple"
      ]
     },
     "execution_count": 182,
     "metadata": {},
     "output_type": "execute_result"
    }
   ],
   "source": [
    "type(D2['Model'])"
   ]
  },
  {
   "cell_type": "code",
   "execution_count": 183,
   "id": "b7a0b928-bb4e-4452-b03f-fd036bcc0fae",
   "metadata": {},
   "outputs": [
    {
     "data": {
      "text/plain": [
       "list"
      ]
     },
     "execution_count": 183,
     "metadata": {},
     "output_type": "execute_result"
    }
   ],
   "source": [
    "type(D2['Units'])"
   ]
  },
  {
   "cell_type": "code",
   "execution_count": 184,
   "id": "7b8f14b6-0b92-4c94-8976-72af75e208c6",
   "metadata": {},
   "outputs": [
    {
     "data": {
      "text/plain": [
       "int"
      ]
     },
     "execution_count": 184,
     "metadata": {},
     "output_type": "execute_result"
    }
   ],
   "source": [
    "type(D2['new_prod'])"
   ]
  },
  {
   "cell_type": "code",
   "execution_count": 185,
   "id": "fb89b7a4-36ee-46c2-8d81-76c245c85b9a",
   "metadata": {},
   "outputs": [
    {
     "data": {
      "text/plain": [
       "str"
      ]
     },
     "execution_count": 185,
     "metadata": {},
     "output_type": "execute_result"
    }
   ],
   "source": [
    "type(D2['Available'])"
   ]
  },
  {
   "cell_type": "code",
   "execution_count": 186,
   "id": "e2c0a756-a232-4c91-9908-f11c287174cb",
   "metadata": {},
   "outputs": [
    {
     "ename": "KeyError",
     "evalue": "'test'",
     "output_type": "error",
     "traceback": [
      "\u001b[0;31m---------------------------------------------------------------------------\u001b[0m",
      "\u001b[0;31mKeyError\u001b[0m                                  Traceback (most recent call last)",
      "Cell \u001b[0;32mIn[186], line 1\u001b[0m\n\u001b[0;32m----> 1\u001b[0m \u001b[43mD2\u001b[49m\u001b[43m[\u001b[49m\u001b[38;5;124;43m'\u001b[39;49m\u001b[38;5;124;43mtest\u001b[39;49m\u001b[38;5;124;43m'\u001b[39;49m\u001b[43m]\u001b[49m\n",
      "\u001b[0;31mKeyError\u001b[0m: 'test'"
     ]
    }
   ],
   "source": [
    "D2['test']"
   ]
  },
  {
   "cell_type": "code",
   "execution_count": 189,
   "id": "cdd475f4-c7aa-49fb-a0d2-84b427e99f28",
   "metadata": {},
   "outputs": [
    {
     "data": {
      "text/plain": [
       "'YES'"
      ]
     },
     "execution_count": 189,
     "metadata": {},
     "output_type": "execute_result"
    }
   ],
   "source": [
    "D2['Available'].upper()"
   ]
  },
  {
   "cell_type": "code",
   "execution_count": 190,
   "id": "f1471105-10bf-4d94-b4eb-4fdf2eb40ec7",
   "metadata": {},
   "outputs": [],
   "source": [
    "data = {'key':{'name':'Avc','class':'test'}}"
   ]
  },
  {
   "cell_type": "code",
   "execution_count": 191,
   "id": "ea84ec16-d304-43f7-af43-dd50a6e7f9b6",
   "metadata": {},
   "outputs": [
    {
     "data": {
      "text/plain": [
       "{'key': {'name': 'Avc', 'class': 'test'}}"
      ]
     },
     "execution_count": 191,
     "metadata": {},
     "output_type": "execute_result"
    }
   ],
   "source": [
    "data"
   ]
  },
  {
   "cell_type": "code",
   "execution_count": 192,
   "id": "fd74d6b8-d962-4122-ba4b-2648c1168bf5",
   "metadata": {},
   "outputs": [
    {
     "data": {
      "text/plain": [
       "dict"
      ]
     },
     "execution_count": 192,
     "metadata": {},
     "output_type": "execute_result"
    }
   ],
   "source": [
    "type(data)  ## type casting"
   ]
  },
  {
   "cell_type": "code",
   "execution_count": 193,
   "id": "d703ee62-6dbc-4f2a-8e7b-9f0da2f95d93",
   "metadata": {},
   "outputs": [
    {
     "data": {
      "text/plain": [
       "'test'"
      ]
     },
     "execution_count": 193,
     "metadata": {},
     "output_type": "execute_result"
    }
   ],
   "source": [
    "data['key']['class'] # list the data /find"
   ]
  },
  {
   "cell_type": "code",
   "execution_count": 194,
   "id": "65ba662d-b5ee-42e2-912e-830e9ff1feba",
   "metadata": {},
   "outputs": [],
   "source": [
    "data['key1']= 'class6' ## add values"
   ]
  },
  {
   "cell_type": "code",
   "execution_count": 195,
   "id": "c3c1ae4b-377b-4d21-afad-e1e8079dbf94",
   "metadata": {},
   "outputs": [
    {
     "data": {
      "text/plain": [
       "{'key': {'name': 'Avc', 'class': 'test'}, 'key1': 'class6'}"
      ]
     },
     "execution_count": 195,
     "metadata": {},
     "output_type": "execute_result"
    }
   ],
   "source": [
    "data"
   ]
  },
  {
   "cell_type": "code",
   "execution_count": 196,
   "id": "e6c6a846-1f48-4905-8d7f-562500e97bf6",
   "metadata": {},
   "outputs": [],
   "source": [
    "# delete \n",
    "\n",
    "del data['key1']\n"
   ]
  },
  {
   "cell_type": "code",
   "execution_count": 197,
   "id": "c7d053a2-0546-4922-9bc8-dcefa5fcbe26",
   "metadata": {},
   "outputs": [
    {
     "data": {
      "text/plain": [
       "{'key': {'name': 'Avc', 'class': 'test'}}"
      ]
     },
     "execution_count": 197,
     "metadata": {},
     "output_type": "execute_result"
    }
   ],
   "source": [
    "data"
   ]
  },
  {
   "cell_type": "code",
   "execution_count": 198,
   "id": "b56b39c3-43c6-4c22-9c5c-807cf2a73e6b",
   "metadata": {},
   "outputs": [],
   "source": [
    "data.clear() ## everything cleared"
   ]
  },
  {
   "cell_type": "code",
   "execution_count": 199,
   "id": "0c526b92-e9b8-48ab-82b8-c359bfc3ed77",
   "metadata": {},
   "outputs": [
    {
     "data": {
      "text/plain": [
       "{}"
      ]
     },
     "execution_count": 199,
     "metadata": {},
     "output_type": "execute_result"
    }
   ],
   "source": [
    "data"
   ]
  },
  {
   "cell_type": "code",
   "execution_count": 200,
   "id": "3d6afe6c-5b81-490a-a51f-f719088f0a2b",
   "metadata": {},
   "outputs": [],
   "source": [
    "data={'key': {'name': 'Avc', 'class': 'test'}, 'key1': 'class6'}"
   ]
  },
  {
   "cell_type": "code",
   "execution_count": 201,
   "id": "7a27dab6-0947-483c-8c0a-f1203bfb61f0",
   "metadata": {},
   "outputs": [
    {
     "data": {
      "text/plain": [
       "{'key': {'name': 'Avc', 'class': 'test'}, 'key1': 'class6'}"
      ]
     },
     "execution_count": 201,
     "metadata": {},
     "output_type": "execute_result"
    }
   ],
   "source": [
    "data"
   ]
  },
  {
   "cell_type": "code",
   "execution_count": 202,
   "id": "5d4b6aa9-a73f-4e91-afdd-6eacfd449f1c",
   "metadata": {},
   "outputs": [
    {
     "data": {
      "text/plain": [
       "2"
      ]
     },
     "execution_count": 202,
     "metadata": {},
     "output_type": "execute_result"
    }
   ],
   "source": [
    "len(data)"
   ]
  },
  {
   "cell_type": "code",
   "execution_count": 203,
   "id": "b753ab3c-4763-45c7-b0e1-bf51073733d1",
   "metadata": {},
   "outputs": [
    {
     "data": {
      "text/plain": [
       "{'Product': {'Laptop', 'Mobile', 'keyboard', 'mouse', 'tablet'},\n",
       " 'Model': ('XUT', 'hp', 'mi', 'lenovo', 'asus'),\n",
       " 'Units': [120, 200, 30, 40],\n",
       " 'Available': 'Yes',\n",
       " 'new_prod': 1000}"
      ]
     },
     "execution_count": 203,
     "metadata": {},
     "output_type": "execute_result"
    }
   ],
   "source": [
    "D2"
   ]
  },
  {
   "cell_type": "code",
   "execution_count": 204,
   "id": "a8f74884-6056-4111-84fd-9861b7a753a8",
   "metadata": {},
   "outputs": [
    {
     "data": {
      "text/plain": [
       "dict_keys(['Product', 'Model', 'Units', 'Available', 'new_prod'])"
      ]
     },
     "execution_count": 204,
     "metadata": {},
     "output_type": "execute_result"
    }
   ],
   "source": [
    "D2.keys()"
   ]
  },
  {
   "cell_type": "code",
   "execution_count": 205,
   "id": "62d6c116-7dc8-4b5d-8c0e-9a468ce78411",
   "metadata": {},
   "outputs": [
    {
     "data": {
      "text/plain": [
       "dict_values([{'tablet', 'keyboard', 'Mobile', 'mouse', 'Laptop'}, ('XUT', 'hp', 'mi', 'lenovo', 'asus'), [120, 200, 30, 40], 'Yes', 1000])"
      ]
     },
     "execution_count": 205,
     "metadata": {},
     "output_type": "execute_result"
    }
   ],
   "source": [
    "D2.values()"
   ]
  },
  {
   "cell_type": "code",
   "execution_count": 207,
   "id": "147f9078-831b-4fe6-b6cc-83ff5461f58e",
   "metadata": {},
   "outputs": [],
   "source": [
    "D1= D2.items()"
   ]
  },
  {
   "cell_type": "code",
   "execution_count": 208,
   "id": "be2b4c44-1096-489b-a335-adc3afa9ef47",
   "metadata": {},
   "outputs": [
    {
     "data": {
      "text/plain": [
       "dict_items([('Product', {'tablet', 'keyboard', 'Mobile', 'mouse', 'Laptop'}), ('Model', ('XUT', 'hp', 'mi', 'lenovo', 'asus')), ('Units', [120, 200, 30, 40]), ('Available', 'Yes'), ('new_prod', 1000)])"
      ]
     },
     "execution_count": 208,
     "metadata": {},
     "output_type": "execute_result"
    }
   ],
   "source": [
    "D1"
   ]
  },
  {
   "cell_type": "code",
   "execution_count": 210,
   "id": "31723e41-1023-44ea-9deb-aa9b5798daee",
   "metadata": {},
   "outputs": [
    {
     "data": {
      "text/plain": [
       "dict_values([{'tablet', 'keyboard', 'Mobile', 'mouse', 'Laptop'}, ('XUT', 'hp', 'mi', 'lenovo', 'asus'), [120, 200, 30, 40], 'Yes', 1000])"
      ]
     },
     "execution_count": 210,
     "metadata": {},
     "output_type": "execute_result"
    }
   ],
   "source": [
    "D2.values()"
   ]
  },
  {
   "cell_type": "code",
   "execution_count": 211,
   "id": "0d65cdb4-7be8-42ab-b9b2-c31ee9b5dd23",
   "metadata": {},
   "outputs": [
    {
     "ename": "TypeError",
     "evalue": "'list' object is not callable",
     "output_type": "error",
     "traceback": [
      "\u001b[0;31m---------------------------------------------------------------------------\u001b[0m",
      "\u001b[0;31mTypeError\u001b[0m                                 Traceback (most recent call last)",
      "Cell \u001b[0;32mIn[211], line 1\u001b[0m\n\u001b[0;32m----> 1\u001b[0m \u001b[38;5;28;43mlist\u001b[39;49m\u001b[43m(\u001b[49m\u001b[43mD2\u001b[49m\u001b[38;5;241;43m.\u001b[39;49m\u001b[43mvalues\u001b[49m\u001b[43m(\u001b[49m\u001b[43m)\u001b[49m\u001b[43m)\u001b[49m\n",
      "\u001b[0;31mTypeError\u001b[0m: 'list' object is not callable"
     ]
    }
   ],
   "source": [
    "list(D2.values())"
   ]
  },
  {
   "cell_type": "code",
   "execution_count": 212,
   "id": "d58b5a24-8319-422b-b9c5-a8ace77b17f3",
   "metadata": {},
   "outputs": [
    {
     "data": {
      "text/plain": [
       "{'Product': {'Laptop', 'Mobile', 'keyboard', 'mouse', 'tablet'},\n",
       " 'Model': ('XUT', 'hp', 'mi', 'lenovo', 'asus'),\n",
       " 'Units': [120, 200, 30, 40],\n",
       " 'Available': 'Yes',\n",
       " 'new_prod': 1000}"
      ]
     },
     "execution_count": 212,
     "metadata": {},
     "output_type": "execute_result"
    }
   ],
   "source": [
    "D2"
   ]
  },
  {
   "cell_type": "code",
   "execution_count": 213,
   "id": "cf585393-fed4-4742-ac17-6682dd937f02",
   "metadata": {},
   "outputs": [
    {
     "ename": "TypeError",
     "evalue": "pop expected at least 1 argument, got 0",
     "output_type": "error",
     "traceback": [
      "\u001b[0;31m---------------------------------------------------------------------------\u001b[0m",
      "\u001b[0;31mTypeError\u001b[0m                                 Traceback (most recent call last)",
      "Cell \u001b[0;32mIn[213], line 1\u001b[0m\n\u001b[0;32m----> 1\u001b[0m \u001b[43mD2\u001b[49m\u001b[38;5;241;43m.\u001b[39;49m\u001b[43mpop\u001b[49m\u001b[43m(\u001b[49m\u001b[43m)\u001b[49m\n",
      "\u001b[0;31mTypeError\u001b[0m: pop expected at least 1 argument, got 0"
     ]
    }
   ],
   "source": [
    "D2.pop()"
   ]
  },
  {
   "cell_type": "code",
   "execution_count": 214,
   "id": "d6c72954-afdc-40fc-9655-810edbbc205e",
   "metadata": {},
   "outputs": [
    {
     "data": {
      "text/plain": [
       "[120, 200, 30, 40]"
      ]
     },
     "execution_count": 214,
     "metadata": {},
     "output_type": "execute_result"
    }
   ],
   "source": [
    "D2.pop('Units')"
   ]
  },
  {
   "cell_type": "code",
   "execution_count": 215,
   "id": "b37f5fc6-1b80-4c7a-ac69-e4a3eca32424",
   "metadata": {},
   "outputs": [
    {
     "data": {
      "text/plain": [
       "{'Product': {'Laptop', 'Mobile', 'keyboard', 'mouse', 'tablet'},\n",
       " 'Model': ('XUT', 'hp', 'mi', 'lenovo', 'asus'),\n",
       " 'Available': 'Yes',\n",
       " 'new_prod': 1000}"
      ]
     },
     "execution_count": 215,
     "metadata": {},
     "output_type": "execute_result"
    }
   ],
   "source": [
    "D2"
   ]
  },
  {
   "cell_type": "code",
   "execution_count": 220,
   "id": "129ee104-93ef-48c9-ab83-96a821b9b692",
   "metadata": {},
   "outputs": [
    {
     "data": {
      "text/plain": [
       "{1: ('A', 'V', 'C'), 2: ('A', 'V', 'C'), 3: ('A', 'V', 'C')}"
      ]
     },
     "execution_count": 220,
     "metadata": {},
     "output_type": "execute_result"
    }
   ],
   "source": [
    "D2.fromkeys((1,2,3),('A','V','C'))"
   ]
  },
  {
   "cell_type": "code",
   "execution_count": 229,
   "id": "4076f7ac-729f-41d0-b647-a17e9940c0ed",
   "metadata": {},
   "outputs": [],
   "source": [
    "Dictionary = {'Product': 'Mobile', 'Model': 'XUT', 'Units': 120, 'Available': 'Yes','new_Available': 'Yes'}\n",
    "Updated_Dictionary = {'Product': 'Mobile', 'Model': 'XUT', 'Units': 120, 'Available': 'Yes', 'Rating': 'A'}"
   ]
  },
  {
   "cell_type": "code",
   "execution_count": 225,
   "id": "9f8bad96-8bb7-4ad5-86eb-cc62b5661d4d",
   "metadata": {},
   "outputs": [],
   "source": [
    "Dictionary.update(Updated_Dictionary)"
   ]
  },
  {
   "cell_type": "code",
   "execution_count": 226,
   "id": "75fd6b3d-de25-4076-b97d-869de377ba11",
   "metadata": {},
   "outputs": [
    {
     "data": {
      "text/plain": [
       "{'Product': 'Mobile',\n",
       " 'Model': 'XUT',\n",
       " 'Units': 120,\n",
       " 'Available': 'Yes',\n",
       " 'Rating': 'A'}"
      ]
     },
     "execution_count": 226,
     "metadata": {},
     "output_type": "execute_result"
    }
   ],
   "source": [
    "Dictionary"
   ]
  },
  {
   "cell_type": "code",
   "execution_count": 230,
   "id": "62e1d1c7-d32f-4a66-83bf-e7b127c4b736",
   "metadata": {},
   "outputs": [],
   "source": [
    "Updated_Dictionary.update(Dictionary)"
   ]
  },
  {
   "cell_type": "code",
   "execution_count": 231,
   "id": "f38a4a6f-0ef2-469d-8a17-1f0b69e5f339",
   "metadata": {},
   "outputs": [
    {
     "data": {
      "text/plain": [
       "{'Product': 'Mobile',\n",
       " 'Model': 'XUT',\n",
       " 'Units': 120,\n",
       " 'Available': 'Yes',\n",
       " 'Rating': 'A',\n",
       " 'new_Available': 'Yes'}"
      ]
     },
     "execution_count": 231,
     "metadata": {},
     "output_type": "execute_result"
    }
   ],
   "source": [
    "Updated_Dictionary"
   ]
  },
  {
   "cell_type": "code",
   "execution_count": 232,
   "id": "7e54c94b-fd28-41e7-9b34-e3b61e66f956",
   "metadata": {},
   "outputs": [
    {
     "data": {
      "text/plain": [
       "'Mobile'"
      ]
     },
     "execution_count": 232,
     "metadata": {},
     "output_type": "execute_result"
    }
   ],
   "source": [
    "Updated_Dictionary[\"Product\"]"
   ]
  },
  {
   "cell_type": "code",
   "execution_count": 233,
   "id": "3ab891ba-6682-450c-a473-58c0b26b2eba",
   "metadata": {},
   "outputs": [
    {
     "data": {
      "text/plain": [
       "'Mobile'"
      ]
     },
     "execution_count": 233,
     "metadata": {},
     "output_type": "execute_result"
    }
   ],
   "source": [
    "Updated_Dictionary.get(\"Product\")"
   ]
  },
  {
   "cell_type": "code",
   "execution_count": 239,
   "id": "a1e07da8-2a7a-4cbc-a8b3-54051367c59d",
   "metadata": {},
   "outputs": [
    {
     "data": {
      "text/plain": [
       "{1: 1, 2: 4, 3: 9, 4: 16, 5: 25, 6: 36, 7: 49, 8: 64, 9: 81, 10: 100}"
      ]
     },
     "execution_count": 239,
     "metadata": {},
     "output_type": "execute_result"
    }
   ],
   "source": [
    "{i: i**2 for i in range(1,11)}\n",
    "    "
   ]
  },
  {
   "cell_type": "code",
   "execution_count": 242,
   "id": "9c8b1316-2381-43b4-a328-86f3ae1ea089",
   "metadata": {},
   "outputs": [
    {
     "data": {
      "text/plain": [
       "{1: 11, 2: 12, 3: 13, 4: 14, 5: 15, 6: 16, 7: 17, 8: 18, 9: 19, 10: 20}"
      ]
     },
     "execution_count": 242,
     "metadata": {},
     "output_type": "execute_result"
    }
   ],
   "source": [
    "{i: i+10 for i in range(1,11)}\n",
    "    "
   ]
  },
  {
   "cell_type": "code",
   "execution_count": 247,
   "id": "8b82de19-f678-4089-8624-eb1a36e9ce61",
   "metadata": {},
   "outputs": [],
   "source": [
    "import math\n",
    "D11={i: math.log10(i) for i in range(1,11)}\n",
    "    "
   ]
  },
  {
   "cell_type": "code",
   "execution_count": 249,
   "id": "04ffede3-bf4d-4d7e-be69-9183a4d9867d",
   "metadata": {},
   "outputs": [
    {
     "data": {
      "text/plain": [
       "{1: 0.0,\n",
       " 2: 0.3010299956639812,\n",
       " 3: 0.47712125471966244,\n",
       " 4: 0.6020599913279624,\n",
       " 5: 0.6989700043360189,\n",
       " 6: 0.7781512503836436,\n",
       " 7: 0.8450980400142568,\n",
       " 8: 0.9030899869919435,\n",
       " 9: 0.9542425094393249,\n",
       " 10: 1.0}"
      ]
     },
     "execution_count": 249,
     "metadata": {},
     "output_type": "execute_result"
    }
   ],
   "source": [
    "D11"
   ]
  },
  {
   "cell_type": "code",
   "execution_count": 244,
   "id": "26a7bb55-dcf3-4c18-bfe2-6fbf2aed2d08",
   "metadata": {},
   "outputs": [
    {
     "data": {
      "text/plain": [
       "{'Product': {'Laptop', 'Mobile', 'keyboard', 'mouse', 'tablet'},\n",
       " 'Model': ('XUT', 'hp', 'mi', 'lenovo', 'asus'),\n",
       " 'Available': 'Yes',\n",
       " 'new_prod': 1000}"
      ]
     },
     "execution_count": 244,
     "metadata": {},
     "output_type": "execute_result"
    }
   ],
   "source": [
    "D2"
   ]
  },
  {
   "cell_type": "code",
   "execution_count": 245,
   "id": "1b041fdf-3a8a-40e5-b373-bc469b52bb21",
   "metadata": {},
   "outputs": [
    {
     "data": {
      "text/plain": [
       "True"
      ]
     },
     "execution_count": 245,
     "metadata": {},
     "output_type": "execute_result"
    }
   ],
   "source": [
    "'Product' in D2"
   ]
  },
  {
   "cell_type": "code",
   "execution_count": 246,
   "id": "0aaaf0e0-945d-43d6-9eeb-e2978271311d",
   "metadata": {},
   "outputs": [
    {
     "data": {
      "text/plain": [
       "False"
      ]
     },
     "execution_count": 246,
     "metadata": {},
     "output_type": "execute_result"
    }
   ],
   "source": [
    "'Laptop' in d2 ## key value result"
   ]
  },
  {
   "cell_type": "code",
   "execution_count": 248,
   "id": "5d799689-c254-497d-977e-f99e38a34a7a",
   "metadata": {},
   "outputs": [
    {
     "data": {
      "text/plain": [
       "{1: 0.0,\n",
       " 2: 0.3010299956639812,\n",
       " 3: 0.47712125471966244,\n",
       " 4: 0.6020599913279624,\n",
       " 5: 0.6989700043360189,\n",
       " 6: 0.7781512503836436,\n",
       " 7: 0.8450980400142568,\n",
       " 8: 0.9030899869919435,\n",
       " 9: 0.9542425094393249,\n",
       " 10: 1.0}"
      ]
     },
     "execution_count": 248,
     "metadata": {},
     "output_type": "execute_result"
    }
   ],
   "source": [
    "D11"
   ]
  },
  {
   "cell_type": "code",
   "execution_count": 251,
   "id": "55f321f8-fe66-4d4f-bbf6-50138243e2df",
   "metadata": {},
   "outputs": [
    {
     "name": "stdout",
     "output_type": "stream",
     "text": [
      "2\n",
      "4\n",
      "6\n",
      "8\n",
      "10\n"
     ]
    }
   ],
   "source": [
    "for i in D11.keys():\n",
    "    if  i % 2 == 0:\n",
    "        print(i)\n",
    "        \n",
    "        ### always remeber where can you use condition to get the data"
   ]
  },
  {
   "cell_type": "code",
   "execution_count": null,
   "id": "bcdffc00-1412-4086-8623-3f37f2eeae2a",
   "metadata": {},
   "outputs": [],
   "source": []
  }
 ],
 "metadata": {
  "kernelspec": {
   "display_name": "Python 3 (ipykernel)",
   "language": "python",
   "name": "python3"
  },
  "language_info": {
   "codemirror_mode": {
    "name": "ipython",
    "version": 3
   },
   "file_extension": ".py",
   "mimetype": "text/x-python",
   "name": "python",
   "nbconvert_exporter": "python",
   "pygments_lexer": "ipython3",
   "version": "3.10.8"
  }
 },
 "nbformat": 4,
 "nbformat_minor": 5
}
