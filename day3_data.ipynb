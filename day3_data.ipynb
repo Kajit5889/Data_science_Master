{
 "cells": [
  {
   "cell_type": "markdown",
   "id": "6dde8e9f-125d-4e12-a627-ef673758a5c6",
   "metadata": {},
   "source": [
    "# lOGICAL OPERATOR\n",
    "1. AND\n",
    "2. OR\n",
    "3. NOT"
   ]
  },
  {
   "cell_type": "code",
   "execution_count": 2,
   "id": "988ab04c-9b5e-4ca1-8720-d1e15fc1a7e8",
   "metadata": {},
   "outputs": [
    {
     "data": {
      "text/plain": [
       "False"
      ]
     },
     "execution_count": 2,
     "metadata": {},
     "output_type": "execute_result"
    }
   ],
   "source": [
    "bool(0)"
   ]
  },
  {
   "cell_type": "code",
   "execution_count": 3,
   "id": "c4260d1a-68cc-4317-afa0-7fd7d87a2267",
   "metadata": {},
   "outputs": [
    {
     "data": {
      "text/plain": [
       "True"
      ]
     },
     "execution_count": 3,
     "metadata": {},
     "output_type": "execute_result"
    }
   ],
   "source": [
    "bool(1)"
   ]
  },
  {
   "cell_type": "code",
   "execution_count": 5,
   "id": "0d1ead86-9de0-472e-a1e3-4e079b4d720b",
   "metadata": {},
   "outputs": [
    {
     "data": {
      "text/plain": [
       "False"
      ]
     },
     "execution_count": 5,
     "metadata": {},
     "output_type": "execute_result"
    }
   ],
   "source": [
    "not True"
   ]
  },
  {
   "cell_type": "code",
   "execution_count": 7,
   "id": "911a9b22-52e4-499a-9d48-c7279de81aed",
   "metadata": {},
   "outputs": [
    {
     "data": {
      "text/plain": [
       "True"
      ]
     },
     "execution_count": 7,
     "metadata": {},
     "output_type": "execute_result"
    }
   ],
   "source": [
    "not False"
   ]
  },
  {
   "cell_type": "code",
   "execution_count": 8,
   "id": "886ee0d7-ca17-4fba-a906-62f9d3d1d3e9",
   "metadata": {},
   "outputs": [
    {
     "data": {
      "text/plain": [
       "True"
      ]
     },
     "execution_count": 8,
     "metadata": {},
     "output_type": "execute_result"
    }
   ],
   "source": [
    "not bool(0)"
   ]
  },
  {
   "cell_type": "code",
   "execution_count": 9,
   "id": "744058d8-8f67-451f-84c6-19e17de1a13e",
   "metadata": {},
   "outputs": [
    {
     "data": {
      "text/plain": [
       "False"
      ]
     },
     "execution_count": 9,
     "metadata": {},
     "output_type": "execute_result"
    }
   ],
   "source": [
    "not bool(1)"
   ]
  },
  {
   "cell_type": "code",
   "execution_count": 10,
   "id": "7f874f0d-1bf3-47d7-93ce-03bd5b3df2e4",
   "metadata": {},
   "outputs": [
    {
     "data": {
      "text/plain": [
       "True"
      ]
     },
     "execution_count": 10,
     "metadata": {},
     "output_type": "execute_result"
    }
   ],
   "source": [
    "not int(bool(0))"
   ]
  },
  {
   "cell_type": "code",
   "execution_count": 11,
   "id": "904dc6a0-bdc1-42f0-b315-5f1a588b33cb",
   "metadata": {},
   "outputs": [
    {
     "data": {
      "text/plain": [
       "False"
      ]
     },
     "execution_count": 11,
     "metadata": {},
     "output_type": "execute_result"
    }
   ],
   "source": [
    "not int(bool(1))"
   ]
  },
  {
   "cell_type": "code",
   "execution_count": 12,
   "id": "7e2bdecc-2b1b-475a-9c4b-c4308dc573fe",
   "metadata": {},
   "outputs": [
    {
     "data": {
      "text/plain": [
       "True"
      ]
     },
     "execution_count": 12,
     "metadata": {},
     "output_type": "execute_result"
    }
   ],
   "source": [
    "bool(5)"
   ]
  },
  {
   "cell_type": "code",
   "execution_count": 13,
   "id": "60bc8879-aac7-44bf-a177-bfa8a44bbd0d",
   "metadata": {},
   "outputs": [
    {
     "data": {
      "text/plain": [
       "True"
      ]
     },
     "execution_count": 13,
     "metadata": {},
     "output_type": "execute_result"
    }
   ],
   "source": [
    "bool(-5)"
   ]
  },
  {
   "cell_type": "code",
   "execution_count": 14,
   "id": "2841ea17-1473-465e-848d-cc745854c0dd",
   "metadata": {},
   "outputs": [
    {
     "data": {
      "text/plain": [
       "True"
      ]
     },
     "execution_count": 14,
     "metadata": {},
     "output_type": "execute_result"
    }
   ],
   "source": [
    "bool(1000)"
   ]
  },
  {
   "cell_type": "code",
   "execution_count": 15,
   "id": "b238cdcf-d2ee-496e-a33c-87ca74195260",
   "metadata": {},
   "outputs": [
    {
     "data": {
      "text/plain": [
       "True"
      ]
     },
     "execution_count": 15,
     "metadata": {},
     "output_type": "execute_result"
    }
   ],
   "source": [
    "bool(-1000)"
   ]
  },
  {
   "cell_type": "code",
   "execution_count": 16,
   "id": "d9ba709a-239e-4fc9-9740-61251191ab42",
   "metadata": {},
   "outputs": [
    {
     "data": {
      "text/plain": [
       "False"
      ]
     },
     "execution_count": 16,
     "metadata": {},
     "output_type": "execute_result"
    }
   ],
   "source": [
    "bool(0)"
   ]
  },
  {
   "cell_type": "code",
   "execution_count": 17,
   "id": "52c623c8-5035-49a1-86e0-d17ed69c2aec",
   "metadata": {},
   "outputs": [
    {
     "data": {
      "text/plain": [
       "True"
      ]
     },
     "execution_count": 17,
     "metadata": {},
     "output_type": "execute_result"
    }
   ],
   "source": [
    "bool(10000)"
   ]
  },
  {
   "cell_type": "code",
   "execution_count": 18,
   "id": "eda8961d-1946-48fb-a9f1-179dd3567da9",
   "metadata": {},
   "outputs": [
    {
     "data": {
      "text/plain": [
       "True"
      ]
     },
     "execution_count": 18,
     "metadata": {},
     "output_type": "execute_result"
    }
   ],
   "source": [
    "bool(999)"
   ]
  },
  {
   "cell_type": "code",
   "execution_count": 19,
   "id": "780737b8-7b96-4397-9555-d87d3a9b793d",
   "metadata": {},
   "outputs": [
    {
     "data": {
      "text/plain": [
       "True"
      ]
     },
     "execution_count": 19,
     "metadata": {},
     "output_type": "execute_result"
    }
   ],
   "source": [
    "bool(-999)"
   ]
  },
  {
   "cell_type": "code",
   "execution_count": 22,
   "id": "4f19519f-8774-4361-ba8c-9802683c55b6",
   "metadata": {},
   "outputs": [
    {
     "name": "stdout",
     "output_type": "stream",
     "text": [
      "you are making False\n",
      "complete your True\n",
      "Indain always happy when they get False\n"
     ]
    }
   ],
   "source": [
    "\n",
    "###Logical operator\n",
    "\n",
    "Sambar = True\n",
    "Rice = False\n",
    "Extra = Sambar and Rice\n",
    "\n",
    "print(f\"you are making {Rice}\")\n",
    "print(f\"complete your {Sambar}\")\n",
    "print(f\"Indain always happy when they get {Extra}\")\n"
   ]
  },
  {
   "cell_type": "code",
   "execution_count": 25,
   "id": "78e04fca-24d2-4e8d-a944-41367f8ecca2",
   "metadata": {},
   "outputs": [
    {
     "name": "stdout",
     "output_type": "stream",
     "text": [
      "you are making 1 and give more rice : False\n",
      "complete your 0 and give more rice : True\n",
      "Indain always happy when they get 1\n"
     ]
    }
   ],
   "source": [
    "Sambar = 0\n",
    "Rice = 1\n",
    "Extra = 1\n",
    "\n",
    "print(f\"you are making {Rice} and give more rice : {not bool(Rice)}\")\n",
    "print(f\"complete your {Sambar} and give more rice : {not bool(Sambar)}\")\n",
    "print(f\"Indain always happy when they get {Extra}\")\n"
   ]
  },
  {
   "cell_type": "code",
   "execution_count": null,
   "id": "ece4cf05-6682-4a48-bc10-be3a162329b7",
   "metadata": {},
   "outputs": [],
   "source": []
  },
  {
   "cell_type": "code",
   "execution_count": 26,
   "id": "3dcf9d3f-288b-4c39-8ee8-eabb5b9378b3",
   "metadata": {},
   "outputs": [
    {
     "data": {
      "text/plain": [
       "True"
      ]
     },
     "execution_count": 26,
     "metadata": {},
     "output_type": "execute_result"
    }
   ],
   "source": [
    "not (False) * False\n",
    "#not (0) * 0"
   ]
  },
  {
   "cell_type": "code",
   "execution_count": 30,
   "id": "9e3a8b86-a06c-4b37-b1f7-2ce89716c630",
   "metadata": {},
   "outputs": [
    {
     "data": {
      "text/plain": [
       "True"
      ]
     },
     "execution_count": 30,
     "metadata": {},
     "output_type": "execute_result"
    }
   ],
   "source": [
    "#not (True and False)\n",
    "not (1 * 0)"
   ]
  },
  {
   "cell_type": "code",
   "execution_count": 31,
   "id": "a90ed40d-b5ee-4d55-8545-952d6b4c8a77",
   "metadata": {},
   "outputs": [
    {
     "data": {
      "text/plain": [
       "False"
      ]
     },
     "execution_count": 31,
     "metadata": {},
     "output_type": "execute_result"
    }
   ],
   "source": [
    "not (True) * True "
   ]
  },
  {
   "cell_type": "code",
   "execution_count": 32,
   "id": "c0ec85a6-8bfb-4135-846f-b7ccde30d275",
   "metadata": {},
   "outputs": [
    {
     "data": {
      "text/plain": [
       "True"
      ]
     },
     "execution_count": 32,
     "metadata": {},
     "output_type": "execute_result"
    }
   ],
   "source": [
    "not (False) * True\n",
    "# not (0) * 1"
   ]
  },
  {
   "cell_type": "markdown",
   "id": "07aaff9e-ce13-4c58-a5f2-7208ee4d2912",
   "metadata": {},
   "source": [
    "# List"
   ]
  },
  {
   "cell_type": "code",
   "execution_count": 47,
   "id": "f8b29508-c5ee-4b57-b544-c9f5f865fe05",
   "metadata": {},
   "outputs": [
    {
     "name": "stdout",
     "output_type": "stream",
     "text": [
      "140641188847808\n",
      "140640823643904\n"
     ]
    },
    {
     "data": {
      "text/plain": [
       "False"
      ]
     },
     "execution_count": 47,
     "metadata": {},
     "output_type": "execute_result"
    }
   ],
   "source": [
    "Date_v = [1,2,3,4,5,6,7,8,9,0]\n",
    "data_v2 = [1,2,3,4,5,6,7,8,9,0]\n",
    "print(id(Date_v))\n",
    "print(id(data_v2))\n",
    "Date_v is data_v2"
   ]
  },
  {
   "cell_type": "code",
   "execution_count": 48,
   "id": "0511ef15-073d-4f7c-b7d0-0dc0f17976dd",
   "metadata": {},
   "outputs": [
    {
     "data": {
      "text/plain": [
       "True"
      ]
     },
     "execution_count": 48,
     "metadata": {},
     "output_type": "execute_result"
    }
   ],
   "source": [
    "Date_v = [1,2,3,4,5,6,7,8,9,0]\n",
    "data_v2 = [1,2,3,4,5,6,7,8,9,0]\n",
    "\n",
    "Date_v is not data_v2"
   ]
  },
  {
   "cell_type": "code",
   "execution_count": 50,
   "id": "7c8a23a6-5b26-44ea-b716-6a8314ada25b",
   "metadata": {},
   "outputs": [
    {
     "name": "stdout",
     "output_type": "stream",
     "text": [
      "140640823319040\n",
      "140640823319040\n"
     ]
    }
   ],
   "source": [
    "Date_v = [1,2,3,4,5,6,7,8,9,0]\n",
    "Data_v = data_v2\n",
    "print(id(data_v2))\n",
    "print(id(Data_v))"
   ]
  },
  {
   "cell_type": "code",
   "execution_count": null,
   "id": "b3cac83e-e378-41db-b51a-31a189d5d121",
   "metadata": {},
   "outputs": [],
   "source": [
    "\\\\### string is immutable \n",
    "\n",
    "# you can replace this value; from the list\n",
    "\n"
   ]
  },
  {
   "cell_type": "code",
   "execution_count": 52,
   "id": "dadc8eba-8b42-47d5-afcd-2571257f273a",
   "metadata": {},
   "outputs": [
    {
     "data": {
      "text/plain": [
       "[1, 2, 3, 4, 5, 6, 7, 8, 9, 0]"
      ]
     },
     "execution_count": 52,
     "metadata": {},
     "output_type": "execute_result"
    }
   ],
   "source": [
    "Date_v"
   ]
  },
  {
   "cell_type": "code",
   "execution_count": 53,
   "id": "f9ca939f-4cf7-40c2-86c5-2abf632688b5",
   "metadata": {},
   "outputs": [
    {
     "data": {
      "text/plain": [
       "1"
      ]
     },
     "execution_count": 53,
     "metadata": {},
     "output_type": "execute_result"
    }
   ],
   "source": [
    "Date_v[0]"
   ]
  },
  {
   "cell_type": "code",
   "execution_count": 56,
   "id": "b7516181-7bb7-4925-981d-62631533db69",
   "metadata": {},
   "outputs": [],
   "source": [
    "Date_v[0]=1000"
   ]
  },
  {
   "cell_type": "code",
   "execution_count": 57,
   "id": "7c6361a6-c932-40ab-a5b8-c6c9cc06dbbf",
   "metadata": {},
   "outputs": [
    {
     "data": {
      "text/plain": [
       "[1000, 2, 3, 4, 5, 6, 7, 8, 9, 0]"
      ]
     },
     "execution_count": 57,
     "metadata": {},
     "output_type": "execute_result"
    }
   ],
   "source": [
    "Date_v"
   ]
  },
  {
   "cell_type": "code",
   "execution_count": null,
   "id": "1e5e0530-fa98-4e8c-b6c0-ebcf827b2329",
   "metadata": {},
   "outputs": [],
   "source": [
    "Comp=\"Computer\""
   ]
  },
  {
   "cell_type": "code",
   "execution_count": 66,
   "id": "d19f609d-d5a2-4c08-8b4e-ad7739b99903",
   "metadata": {},
   "outputs": [
    {
     "data": {
      "text/plain": [
       "'retsaM ecneicS ataD'"
      ]
     },
     "execution_count": 66,
     "metadata": {},
     "output_type": "execute_result"
    }
   ],
   "source": [
    "\n",
    "Course= \"Data Science Master\"\n",
    "Course[::-1]\n"
   ]
  },
  {
   "cell_type": "code",
   "execution_count": 67,
   "id": "016a1b62-906c-4270-b149-4023702ee027",
   "metadata": {},
   "outputs": [
    {
     "data": {
      "text/plain": [
       "'Data Science Master'"
      ]
     },
     "execution_count": 67,
     "metadata": {},
     "output_type": "execute_result"
    }
   ],
   "source": [
    "Course[::1]"
   ]
  },
  {
   "cell_type": "code",
   "execution_count": 68,
   "id": "7b04f099-edc9-4fde-beb0-a289703b1493",
   "metadata": {},
   "outputs": [
    {
     "data": {
      "text/plain": [
       "'rta cec tD'"
      ]
     },
     "execution_count": 68,
     "metadata": {},
     "output_type": "execute_result"
    }
   ],
   "source": [
    "# result displays every 2 elemet\n",
    "Course[::-2]"
   ]
  },
  {
   "cell_type": "code",
   "execution_count": 72,
   "id": "fb6f840e-905a-4c37-bdcd-3590abdd0fbf",
   "metadata": {},
   "outputs": [
    {
     "data": {
      "text/plain": [
       "'SineMse'"
      ]
     },
     "execution_count": 72,
     "metadata": {},
     "output_type": "execute_result"
    }
   ],
   "source": [
    "# it will go first 5 list; print the 6th eliment; calcualte 2 value after that; -1 eliminate the last value\n",
    "Course[5:-1:2]"
   ]
  },
  {
   "cell_type": "code",
   "execution_count": 2,
   "id": "b1dc2f7a-4207-43bf-87a7-ec84b7d06594",
   "metadata": {},
   "outputs": [],
   "source": [
    "Course_Name= \"Data Science Master\""
   ]
  },
  {
   "cell_type": "code",
   "execution_count": 16,
   "id": "c63ba357-37d3-44d5-8901-75a54f776c92",
   "metadata": {},
   "outputs": [
    {
     "data": {
      "text/plain": [
       "13"
      ]
     },
     "execution_count": 16,
     "metadata": {},
     "output_type": "execute_result"
    }
   ],
   "source": [
    "Course_Name= \"Data Science Master\"\n",
    "Course_Name.find(\"Master\")"
   ]
  },
  {
   "cell_type": "code",
   "execution_count": null,
   "id": "ddda0f55-c623-4cb3-87cc-bf019c1752ae",
   "metadata": {},
   "outputs": [],
   "source": []
  },
  {
   "cell_type": "code",
   "execution_count": null,
   "id": "b9fd9f73-990c-414d-ab0a-7f6166d4408f",
   "metadata": {},
   "outputs": [],
   "source": []
  },
  {
   "cell_type": "code",
   "execution_count": null,
   "id": "ba046c0c-302d-449e-abd8-b14b67871615",
   "metadata": {},
   "outputs": [],
   "source": []
  },
  {
   "cell_type": "code",
   "execution_count": null,
   "id": "e193e97a-415f-44b8-b191-f803c079ac0d",
   "metadata": {},
   "outputs": [],
   "source": []
  },
  {
   "cell_type": "code",
   "execution_count": null,
   "id": "90898778-0585-4125-9983-2940ef0905ff",
   "metadata": {},
   "outputs": [],
   "source": []
  },
  {
   "cell_type": "code",
   "execution_count": null,
   "id": "b558509e-f584-4e15-8015-6770475b553b",
   "metadata": {},
   "outputs": [],
   "source": []
  },
  {
   "cell_type": "code",
   "execution_count": null,
   "id": "72a96ec0-6124-42fb-b1e2-7e43ea748106",
   "metadata": {},
   "outputs": [],
   "source": []
  },
  {
   "cell_type": "code",
   "execution_count": null,
   "id": "0acf8e3c-45b1-4f78-a1ed-8f0fe9e300da",
   "metadata": {},
   "outputs": [],
   "source": []
  },
  {
   "cell_type": "code",
   "execution_count": null,
   "id": "d75f4a34-0d60-4e0f-8015-01caa943a513",
   "metadata": {},
   "outputs": [],
   "source": []
  },
  {
   "cell_type": "code",
   "execution_count": null,
   "id": "dee18240-67fc-402d-b92c-6393e655f08d",
   "metadata": {},
   "outputs": [],
   "source": []
  },
  {
   "cell_type": "code",
   "execution_count": null,
   "id": "741ec70e-bc69-42cf-9f78-a8c374488be9",
   "metadata": {},
   "outputs": [],
   "source": []
  },
  {
   "cell_type": "code",
   "execution_count": null,
   "id": "b1132ccf-02bf-44c8-aa64-685a7a0a0138",
   "metadata": {},
   "outputs": [],
   "source": []
  },
  {
   "cell_type": "code",
   "execution_count": null,
   "id": "b3d4ee3f-33c4-4bb3-b046-623d366a732d",
   "metadata": {},
   "outputs": [],
   "source": []
  },
  {
   "cell_type": "code",
   "execution_count": null,
   "id": "167f7c3f-388c-4e30-ae47-9bbd8626db8d",
   "metadata": {},
   "outputs": [],
   "source": []
  },
  {
   "cell_type": "code",
   "execution_count": null,
   "id": "12b29bec-939d-48cf-b752-48b992ed27b8",
   "metadata": {},
   "outputs": [],
   "source": []
  },
  {
   "cell_type": "code",
   "execution_count": null,
   "id": "c5dbde6a-8fef-46f9-9740-b170b9aedd38",
   "metadata": {},
   "outputs": [],
   "source": []
  },
  {
   "cell_type": "code",
   "execution_count": null,
   "id": "812f3af9-215c-4314-80a4-14a02ae414a4",
   "metadata": {},
   "outputs": [],
   "source": []
  },
  {
   "cell_type": "code",
   "execution_count": null,
   "id": "67dc4a10-8404-48fb-80f7-a33fed462771",
   "metadata": {},
   "outputs": [],
   "source": []
  },
  {
   "cell_type": "code",
   "execution_count": null,
   "id": "fae4be4f-f052-4c75-804e-8d6b51f9427f",
   "metadata": {},
   "outputs": [],
   "source": []
  },
  {
   "cell_type": "code",
   "execution_count": null,
   "id": "1f53a226-4dc9-49f2-a731-1a295f3d3bf0",
   "metadata": {},
   "outputs": [],
   "source": []
  },
  {
   "cell_type": "code",
   "execution_count": null,
   "id": "6b935119-a031-4023-9c1a-4bc8189a597e",
   "metadata": {},
   "outputs": [],
   "source": []
  }
 ],
 "metadata": {
  "kernelspec": {
   "display_name": "Python 3 (ipykernel)",
   "language": "python",
   "name": "python3"
  },
  "language_info": {
   "codemirror_mode": {
    "name": "ipython",
    "version": 3
   },
   "file_extension": ".py",
   "mimetype": "text/x-python",
   "name": "python",
   "nbconvert_exporter": "python",
   "pygments_lexer": "ipython3",
   "version": "3.10.8"
  }
 },
 "nbformat": 4,
 "nbformat_minor": 5
}
