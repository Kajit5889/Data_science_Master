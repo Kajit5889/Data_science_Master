{
 "cells": [
  {
   "cell_type": "code",
   "execution_count": 1,
   "id": "94c0d5a2-df41-46ca-a97c-3f3d74c45e06",
   "metadata": {},
   "outputs": [],
   "source": [
    "def test():\n",
    "    print(\"strat of this function\")\n",
    "    print(5 + 9)\n",
    "    print(\"end of this function\")\n"
   ]
  },
  {
   "cell_type": "code",
   "execution_count": 2,
   "id": "efea346d-7413-454f-8e0c-5533f3584650",
   "metadata": {},
   "outputs": [
    {
     "name": "stdout",
     "output_type": "stream",
     "text": [
      "strat of this function\n",
      "14\n",
      "end of this function\n"
     ]
    }
   ],
   "source": [
    "test()"
   ]
  },
  {
   "cell_type": "code",
   "execution_count": 3,
   "id": "e4d8342d-d3b4-4fc0-b363-a62065ab359b",
   "metadata": {},
   "outputs": [],
   "source": [
    "def deco(func):\n",
    "    def inner_deco():\n",
    "        print(\"this is the start\")\n",
    "        func()\n",
    "        print(\"this is the end\")\n",
    "    return inner_deco"
   ]
  },
  {
   "cell_type": "code",
   "execution_count": 4,
   "id": "676902d5-6ac0-4748-8fe3-517fa31bed6d",
   "metadata": {},
   "outputs": [],
   "source": [
    "@deco\n",
    "def test1():\n",
    "    print()\n"
   ]
  },
  {
   "cell_type": "code",
   "execution_count": 6,
   "id": "3f5afd7f-b4a9-4b8c-aed2-c92d59645b4e",
   "metadata": {},
   "outputs": [
    {
     "name": "stdout",
     "output_type": "stream",
     "text": [
      "this is the start\n",
      "\n",
      "this is the end\n"
     ]
    }
   ],
   "source": [
    "test1()  ## achive and remove repetativeness "
   ]
  },
  {
   "cell_type": "code",
   "execution_count": null,
   "id": "087be6e4-453d-40c6-a4cb-1a12dc1f315a",
   "metadata": {},
   "outputs": [],
   "source": []
  },
  {
   "cell_type": "code",
   "execution_count": 7,
   "id": "82319545-7234-49cc-b340-a67e557fe05e",
   "metadata": {},
   "outputs": [],
   "source": [
    "##How much time this function going to take\n",
    "\n",
    "import time\n",
    "def timer_test(func):\n",
    "    def time_test_inner():\n",
    "        start = time.time()\n",
    "        func()\n",
    "        end = time.time()\n",
    "        print(end-start)\n",
    "    return time_test_inner\n",
    "\n"
   ]
  },
  {
   "cell_type": "code",
   "execution_count": 12,
   "id": "a8df57f7-4033-4dde-a328-bb4d9b29bb10",
   "metadata": {},
   "outputs": [],
   "source": [
    "@timer_test\n",
    "def test1():\n",
    "    print(4)"
   ]
  },
  {
   "cell_type": "code",
   "execution_count": 13,
   "id": "3b58d370-6314-4083-b248-0867f1cc935d",
   "metadata": {},
   "outputs": [
    {
     "name": "stdout",
     "output_type": "stream",
     "text": [
      "4\n",
      "5.054473876953125e-05\n"
     ]
    }
   ],
   "source": [
    "test1()"
   ]
  },
  {
   "cell_type": "code",
   "execution_count": 14,
   "id": "8a35803f-ad21-4a77-ae75-98f81f887c71",
   "metadata": {},
   "outputs": [],
   "source": [
    "@timer_test\n",
    "def test3():\n",
    "    for i in range(10000):\n",
    "        pass"
   ]
  },
  {
   "cell_type": "code",
   "execution_count": 15,
   "id": "b964de8b-380b-463b-a2fa-59aa30befa94",
   "metadata": {},
   "outputs": [
    {
     "name": "stdout",
     "output_type": "stream",
     "text": [
      "0.0001957416534423828\n"
     ]
    }
   ],
   "source": [
    "test3()"
   ]
  },
  {
   "cell_type": "code",
   "execution_count": null,
   "id": "f06c85b1-4331-43b0-b264-292320d739b6",
   "metadata": {},
   "outputs": [],
   "source": [
    "## work for repetative work..........."
   ]
  },
  {
   "cell_type": "code",
   "execution_count": null,
   "id": "4a16beaf-62c1-494b-aeaf-949f646e984e",
   "metadata": {},
   "outputs": [],
   "source": []
  },
  {
   "cell_type": "markdown",
   "id": "a3a6669b-62a2-41eb-88f7-f1cd6f1e3680",
   "metadata": {},
   "source": [
    "##### class methods"
   ]
  },
  {
   "cell_type": "code",
   "execution_count": 8,
   "id": "dbafea27-3304-48c3-bd9e-a2f23d9d35aa",
   "metadata": {},
   "outputs": [],
   "source": [
    "class pwskills:\n",
    "    def __init__(self, name, email):\n",
    "        self.name = name\n",
    "        self.email = email\n",
    "    \n",
    "    def student_details(self):\n",
    "        print (self.name, self.email)"
   ]
  },
  {
   "cell_type": "code",
   "execution_count": 9,
   "id": "6b8a430c-88da-48f6-aa8e-5387e0d167eb",
   "metadata": {},
   "outputs": [],
   "source": [
    "pw = pwskills(\"aj\" , 'aj@gmail.com')"
   ]
  },
  {
   "cell_type": "code",
   "execution_count": 10,
   "id": "a6186478-ef25-44ec-a381-3c60e87e2f95",
   "metadata": {},
   "outputs": [
    {
     "data": {
      "text/plain": [
       "'aj'"
      ]
     },
     "execution_count": 10,
     "metadata": {},
     "output_type": "execute_result"
    }
   ],
   "source": [
    "pw.name"
   ]
  },
  {
   "cell_type": "code",
   "execution_count": 11,
   "id": "214b0fa3-637f-4880-b3aa-193fc9a22c06",
   "metadata": {},
   "outputs": [
    {
     "data": {
      "text/plain": [
       "'aj@gmail.com'"
      ]
     },
     "execution_count": 11,
     "metadata": {},
     "output_type": "execute_result"
    }
   ],
   "source": [
    "pw.email"
   ]
  },
  {
   "cell_type": "code",
   "execution_count": 15,
   "id": "470dd0f4-c299-4c68-986a-0203b6dcea75",
   "metadata": {},
   "outputs": [
    {
     "name": "stdout",
     "output_type": "stream",
     "text": [
      "aj aj@gmail.com\n"
     ]
    }
   ],
   "source": [
    "pw.student_details()"
   ]
  },
  {
   "cell_type": "code",
   "execution_count": null,
   "id": "599836c7-d5f3-45fa-8a15-baf4d3b4118b",
   "metadata": {},
   "outputs": [],
   "source": []
  },
  {
   "cell_type": "code",
   "execution_count": 16,
   "id": "715b8fc8-aad2-49e5-8d86-8448a4aa33ca",
   "metadata": {},
   "outputs": [],
   "source": [
    "class pwskills:\n",
    "    def __init__(self, name, email):\n",
    "        self.name = name\n",
    "        self.email = email\n",
    "    @classmethod # inbuild decor method    \n",
    "    def details (cls, name, email):\n",
    "        return cls(name, email) \n",
    "    \n",
    "    def student_details(self):\n",
    "        print (self.name, self.email)"
   ]
  },
  {
   "cell_type": "code",
   "execution_count": 18,
   "id": "b9a8d77a-7a83-4b49-80d2-f2b503a7d225",
   "metadata": {},
   "outputs": [],
   "source": [
    "pw = pwskills(\"arun\" , \"arn@gmail.com\")"
   ]
  },
  {
   "cell_type": "code",
   "execution_count": 19,
   "id": "a3399a00-89f7-4a32-8345-3b774ccdd4a8",
   "metadata": {},
   "outputs": [],
   "source": [
    "pw = pwskills.details('aa', 'aa@gmail.com')"
   ]
  },
  {
   "cell_type": "code",
   "execution_count": 23,
   "id": "1274453f-587d-4315-bc03-ff8c6ab96eca",
   "metadata": {},
   "outputs": [
    {
     "data": {
      "text/plain": [
       "'aa'"
      ]
     },
     "execution_count": 23,
     "metadata": {},
     "output_type": "execute_result"
    }
   ],
   "source": [
    "pw.name\n"
   ]
  },
  {
   "cell_type": "code",
   "execution_count": 24,
   "id": "8f22ec2a-beac-49cd-a9bd-28311b9e0192",
   "metadata": {},
   "outputs": [
    {
     "data": {
      "text/plain": [
       "'aa@gmail.com'"
      ]
     },
     "execution_count": 24,
     "metadata": {},
     "output_type": "execute_result"
    }
   ],
   "source": [
    "pw.email"
   ]
  },
  {
   "cell_type": "code",
   "execution_count": 26,
   "id": "15e150a1-f2a4-4fb6-936d-b8bde82e00d9",
   "metadata": {},
   "outputs": [
    {
     "name": "stdout",
     "output_type": "stream",
     "text": [
      "aa aa@gmail.com\n"
     ]
    }
   ],
   "source": [
    "pw.student_details()"
   ]
  },
  {
   "cell_type": "code",
   "execution_count": null,
   "id": "b0da8c24-ea95-4bf8-821e-a296fb1246d4",
   "metadata": {},
   "outputs": [],
   "source": [
    "if object is in a class variable then; not need to define ...\n",
    "\n"
   ]
  },
  {
   "cell_type": "code",
   "execution_count": 37,
   "id": "e5723d6f-0251-4a07-94a8-546bb1e41a5c",
   "metadata": {},
   "outputs": [],
   "source": [
    "class pwskills2:\n",
    "    \n",
    "    mobile = 777777777 ##if object is in a class variable then; not need to define ...\n",
    "    def __init__(self, name, email):\n",
    "        self.name = name\n",
    "        self.email = email\n",
    "    @classmethod # inbuild decor method    \n",
    "    def details (cls, name, email):\n",
    "        return cls(name, email) \n",
    "    \n",
    "    def student_details(self):\n",
    "        print (self.name, self.email, pwskills2.mobile)"
   ]
  },
  {
   "cell_type": "code",
   "execution_count": 38,
   "id": "1f41fe3e-a0a0-49c6-89c5-35e76925f9c1",
   "metadata": {},
   "outputs": [
    {
     "data": {
      "text/plain": [
       "777777777"
      ]
     },
     "execution_count": 38,
     "metadata": {},
     "output_type": "execute_result"
    }
   ],
   "source": [
    "pwskills2.mobile"
   ]
  },
  {
   "cell_type": "code",
   "execution_count": null,
   "id": "0b483859-c8fd-43bc-b2d2-8fecf9b76913",
   "metadata": {},
   "outputs": [],
   "source": [
    "## external function can be added to the existing class"
   ]
  },
  {
   "cell_type": "code",
   "execution_count": 39,
   "id": "2d8a952c-3b9b-4b30-838b-dbb9cd9c54b6",
   "metadata": {},
   "outputs": [],
   "source": [
    "\n",
    "def coursedetails(cls, course):\n",
    "    print (\"coursedetails \",course)"
   ]
  },
  {
   "cell_type": "code",
   "execution_count": 40,
   "id": "33b467e1-ae88-47ee-92a7-4c8cd88b5e55",
   "metadata": {},
   "outputs": [],
   "source": [
    "pwskills2.coursedetails = classmethod(coursedetails)"
   ]
  },
  {
   "cell_type": "code",
   "execution_count": 41,
   "id": "046e8695-601a-42f8-937c-f117cfa08679",
   "metadata": {},
   "outputs": [
    {
     "name": "stdout",
     "output_type": "stream",
     "text": [
      "coursedetails  spiritual learning\n"
     ]
    }
   ],
   "source": [
    "pwskills2.coursedetails(\"spiritual learning\")"
   ]
  },
  {
   "cell_type": "code",
   "execution_count": null,
   "id": "30bf4d30-83a3-44f0-8908-938e36f59fc3",
   "metadata": {},
   "outputs": [],
   "source": [
    "## delete methode can use to remove function"
   ]
  },
  {
   "cell_type": "code",
   "execution_count": 44,
   "id": "d12bb75a-111e-4616-b320-f58a20f847da",
   "metadata": {},
   "outputs": [],
   "source": [
    "del pwskills2.coursedetails"
   ]
  },
  {
   "cell_type": "code",
   "execution_count": 45,
   "id": "bce3880f-5aba-4313-93e7-71e436cc4f47",
   "metadata": {},
   "outputs": [
    {
     "ename": "AttributeError",
     "evalue": "type object 'pwskills2' has no attribute 'coursedetails'",
     "output_type": "error",
     "traceback": [
      "\u001b[0;31m---------------------------------------------------------------------------\u001b[0m",
      "\u001b[0;31mAttributeError\u001b[0m                            Traceback (most recent call last)",
      "Cell \u001b[0;32mIn[45], line 1\u001b[0m\n\u001b[0;32m----> 1\u001b[0m \u001b[43mpwskills2\u001b[49m\u001b[38;5;241;43m.\u001b[39;49m\u001b[43mcoursedetails\u001b[49m\n",
      "\u001b[0;31mAttributeError\u001b[0m: type object 'pwskills2' has no attribute 'coursedetails'"
     ]
    }
   ],
   "source": [
    "pwskills2.coursedetails"
   ]
  },
  {
   "cell_type": "code",
   "execution_count": null,
   "id": "1d28fbef-a6cc-4c81-ac29-5f4bd26f9f19",
   "metadata": {},
   "outputs": [],
   "source": []
  },
  {
   "cell_type": "code",
   "execution_count": 47,
   "id": "ec7417d1-6f13-4f99-840b-a75fc3d477ea",
   "metadata": {},
   "outputs": [],
   "source": [
    "delattr (pwskills2, 'details')"
   ]
  },
  {
   "cell_type": "code",
   "execution_count": null,
   "id": "2e272b36-9759-4dc5-9730-b5a60c9a0690",
   "metadata": {},
   "outputs": [],
   "source": [
    "pwskills2."
   ]
  },
  {
   "cell_type": "markdown",
   "id": "7025df21-70c9-4acc-80c1-4540248e87a6",
   "metadata": {},
   "source": [
    "## static method"
   ]
  },
  {
   "cell_type": "code",
   "execution_count": null,
   "id": "ab199867-eefe-43ff-a6bd-ccdf3a93564f",
   "metadata": {},
   "outputs": [],
   "source": [
    "## static method basic use for reduce the over memory utilization...."
   ]
  },
  {
   "cell_type": "code",
   "execution_count": null,
   "id": "f73a2a88-862c-4d66-b885-383cc70716a5",
   "metadata": {},
   "outputs": [],
   "source": []
  },
  {
   "cell_type": "code",
   "execution_count": 1,
   "id": "895ae6e9-a681-4549-bcae-1da934fab2d1",
   "metadata": {},
   "outputs": [],
   "source": [
    "class data:\n",
    "    \n",
    "    \n",
    "    def students(self, name, email, mobile):\n",
    "        print(name, email, mobile)\n",
    "        \n",
    "    @staticmethod\n",
    "    def mentor(mentor_lists):\n",
    "        print(mentor_lists)\n",
    "    \n",
    "    @staticmethod\n",
    "    \n",
    "    def  mobile(mobile_num):\n",
    "        print(mobile_num)\n",
    "        \n",
    "    @classmethod\n",
    "    def addin(addin_user):\n",
    "        print(addin_user)\n",
    "        \n",
    "    def mentor_class(self, mentor_list) :\n",
    "        print(mentor_list)\n"
   ]
  },
  {
   "cell_type": "code",
   "execution_count": null,
   "id": "86c85f52-505e-4c7b-b7c1-10141493edd8",
   "metadata": {},
   "outputs": [],
   "source": []
  },
  {
   "cell_type": "code",
   "execution_count": 49,
   "id": "b9fdc383-41f1-42c8-90aa-68c7d8298183",
   "metadata": {},
   "outputs": [
    {
     "name": "stdout",
     "output_type": "stream",
     "text": [
      "['aj', 'zsss', 'aaaa']\n"
     ]
    }
   ],
   "source": [
    "data.mentor(['aj','zsss' , 'aaaa'])"
   ]
  },
  {
   "cell_type": "code",
   "execution_count": 54,
   "id": "340c1c9a-0814-458f-b42b-8eb340bd1503",
   "metadata": {},
   "outputs": [],
   "source": [
    "ment1 = data()"
   ]
  },
  {
   "cell_type": "code",
   "execution_count": 55,
   "id": "d850c15f-a192-4c28-971d-a0c9ced9ec0c",
   "metadata": {},
   "outputs": [
    {
     "data": {
      "text/plain": [
       "<bound method data.mentor_class of <__main__.data object at 0x7f0f0c22d3f0>>"
      ]
     },
     "execution_count": 55,
     "metadata": {},
     "output_type": "execute_result"
    }
   ],
   "source": [
    "ment1.mentor_class"
   ]
  },
  {
   "cell_type": "code",
   "execution_count": 57,
   "id": "77a56851-17b6-4269-866e-9b0ffa128fc8",
   "metadata": {},
   "outputs": [
    {
     "name": "stdout",
     "output_type": "stream",
     "text": [
      "['aj', 'zsss', 'aaaa']\n"
     ]
    }
   ],
   "source": [
    "ment1.mentor_class(['aj','zsss' , 'aaaa'])"
   ]
  },
  {
   "cell_type": "code",
   "execution_count": null,
   "id": "d97fb955-333c-450c-a51b-9f1c15696443",
   "metadata": {},
   "outputs": [],
   "source": [
    "## it will be available all the object in similarway"
   ]
  },
  {
   "cell_type": "code",
   "execution_count": null,
   "id": "715a7a07-f37f-4e70-bcce-db592f457ace",
   "metadata": {},
   "outputs": [],
   "source": []
  },
  {
   "cell_type": "markdown",
   "id": "a3bb555a-f847-446e-ba81-095402d21232",
   "metadata": {},
   "source": [
    "####  Special (Magic Dunder) Methods"
   ]
  },
  {
   "cell_type": "code",
   "execution_count": 4,
   "id": "75ef49fc-b5f5-4982-8827-cec9b00a2f81",
   "metadata": {},
   "outputs": [
    {
     "data": {
      "text/plain": [
       "['__abs__',\n",
       " '__add__',\n",
       " '__and__',\n",
       " '__bool__',\n",
       " '__ceil__',\n",
       " '__class__',\n",
       " '__delattr__',\n",
       " '__dir__',\n",
       " '__divmod__',\n",
       " '__doc__',\n",
       " '__eq__',\n",
       " '__float__',\n",
       " '__floor__',\n",
       " '__floordiv__',\n",
       " '__format__',\n",
       " '__ge__',\n",
       " '__getattribute__',\n",
       " '__getnewargs__',\n",
       " '__gt__',\n",
       " '__hash__',\n",
       " '__index__',\n",
       " '__init__',\n",
       " '__init_subclass__',\n",
       " '__int__',\n",
       " '__invert__',\n",
       " '__le__',\n",
       " '__lshift__',\n",
       " '__lt__',\n",
       " '__mod__',\n",
       " '__mul__',\n",
       " '__ne__',\n",
       " '__neg__',\n",
       " '__new__',\n",
       " '__or__',\n",
       " '__pos__',\n",
       " '__pow__',\n",
       " '__radd__',\n",
       " '__rand__',\n",
       " '__rdivmod__',\n",
       " '__reduce__',\n",
       " '__reduce_ex__',\n",
       " '__repr__',\n",
       " '__rfloordiv__',\n",
       " '__rlshift__',\n",
       " '__rmod__',\n",
       " '__rmul__',\n",
       " '__ror__',\n",
       " '__round__',\n",
       " '__rpow__',\n",
       " '__rrshift__',\n",
       " '__rshift__',\n",
       " '__rsub__',\n",
       " '__rtruediv__',\n",
       " '__rxor__',\n",
       " '__setattr__',\n",
       " '__sizeof__',\n",
       " '__str__',\n",
       " '__sub__',\n",
       " '__subclasshook__',\n",
       " '__truediv__',\n",
       " '__trunc__',\n",
       " '__xor__',\n",
       " 'as_integer_ratio',\n",
       " 'bit_count',\n",
       " 'bit_length',\n",
       " 'conjugate',\n",
       " 'denominator',\n",
       " 'from_bytes',\n",
       " 'imag',\n",
       " 'numerator',\n",
       " 'real',\n",
       " 'to_bytes']"
      ]
     },
     "execution_count": 4,
     "metadata": {},
     "output_type": "execute_result"
    }
   ],
   "source": [
    "dir(int)"
   ]
  },
  {
   "cell_type": "code",
   "execution_count": null,
   "id": "32257634-d886-4a24-973c-72793fd941fa",
   "metadata": {},
   "outputs": [],
   "source": []
  },
  {
   "cell_type": "code",
   "execution_count": 5,
   "id": "5b73c5ce-593a-49d8-a116-db2e9839c037",
   "metadata": {},
   "outputs": [
    {
     "data": {
      "text/plain": [
       "16"
      ]
     },
     "execution_count": 5,
     "metadata": {},
     "output_type": "execute_result"
    }
   ],
   "source": [
    "a = 10\n",
    "a + 6"
   ]
  },
  {
   "cell_type": "code",
   "execution_count": null,
   "id": "3a1b0247-51fd-45db-9d77-74aa203b6484",
   "metadata": {},
   "outputs": [],
   "source": []
  },
  {
   "cell_type": "code",
   "execution_count": 7,
   "id": "3f6a2414-e98d-4944-bf61-1add9e9c2413",
   "metadata": {},
   "outputs": [
    {
     "data": {
      "text/plain": [
       "16"
      ]
     },
     "execution_count": 7,
     "metadata": {},
     "output_type": "execute_result"
    }
   ],
   "source": [
    "a.__add__(6)"
   ]
  },
  {
   "cell_type": "code",
   "execution_count": 8,
   "id": "a38393ad-3087-4524-9260-2e86999305eb",
   "metadata": {},
   "outputs": [
    {
     "data": {
      "text/plain": [
       "['__add__',\n",
       " '__class__',\n",
       " '__contains__',\n",
       " '__delattr__',\n",
       " '__dir__',\n",
       " '__doc__',\n",
       " '__eq__',\n",
       " '__format__',\n",
       " '__ge__',\n",
       " '__getattribute__',\n",
       " '__getitem__',\n",
       " '__getnewargs__',\n",
       " '__gt__',\n",
       " '__hash__',\n",
       " '__init__',\n",
       " '__init_subclass__',\n",
       " '__iter__',\n",
       " '__le__',\n",
       " '__len__',\n",
       " '__lt__',\n",
       " '__mod__',\n",
       " '__mul__',\n",
       " '__ne__',\n",
       " '__new__',\n",
       " '__reduce__',\n",
       " '__reduce_ex__',\n",
       " '__repr__',\n",
       " '__rmod__',\n",
       " '__rmul__',\n",
       " '__setattr__',\n",
       " '__sizeof__',\n",
       " '__str__',\n",
       " '__subclasshook__',\n",
       " 'capitalize',\n",
       " 'casefold',\n",
       " 'center',\n",
       " 'count',\n",
       " 'encode',\n",
       " 'endswith',\n",
       " 'expandtabs',\n",
       " 'find',\n",
       " 'format',\n",
       " 'format_map',\n",
       " 'index',\n",
       " 'isalnum',\n",
       " 'isalpha',\n",
       " 'isascii',\n",
       " 'isdecimal',\n",
       " 'isdigit',\n",
       " 'isidentifier',\n",
       " 'islower',\n",
       " 'isnumeric',\n",
       " 'isprintable',\n",
       " 'isspace',\n",
       " 'istitle',\n",
       " 'isupper',\n",
       " 'join',\n",
       " 'ljust',\n",
       " 'lower',\n",
       " 'lstrip',\n",
       " 'maketrans',\n",
       " 'partition',\n",
       " 'removeprefix',\n",
       " 'removesuffix',\n",
       " 'replace',\n",
       " 'rfind',\n",
       " 'rindex',\n",
       " 'rjust',\n",
       " 'rpartition',\n",
       " 'rsplit',\n",
       " 'rstrip',\n",
       " 'split',\n",
       " 'splitlines',\n",
       " 'startswith',\n",
       " 'strip',\n",
       " 'swapcase',\n",
       " 'title',\n",
       " 'translate',\n",
       " 'upper',\n",
       " 'zfill']"
      ]
     },
     "execution_count": 8,
     "metadata": {},
     "output_type": "execute_result"
    }
   ],
   "source": [
    "dir(str)"
   ]
  },
  {
   "cell_type": "code",
   "execution_count": 9,
   "id": "7e33db30-83ed-4b1b-b57b-64e45e9d803b",
   "metadata": {},
   "outputs": [],
   "source": [
    "class pwskill:\n",
    "    def __init__(self) :\n",
    "        print(\"testing records\")"
   ]
  },
  {
   "cell_type": "code",
   "execution_count": 10,
   "id": "d4448942-adbf-449d-a106-e97bcd564608",
   "metadata": {},
   "outputs": [
    {
     "name": "stdout",
     "output_type": "stream",
     "text": [
      "testing records\n"
     ]
    }
   ],
   "source": [
    "pw = pwskill()"
   ]
  },
  {
   "cell_type": "code",
   "execution_count": null,
   "id": "9ff49e5b-24f4-4341-8f00-af3ff6d722ea",
   "metadata": {},
   "outputs": [],
   "source": []
  },
  {
   "cell_type": "code",
   "execution_count": 37,
   "id": "1e3abbe2-57a7-4784-ad59-f01eae046100",
   "metadata": {},
   "outputs": [],
   "source": [
    "class pwskill6:\n",
    "    def __init__ (self) :\n",
    "        self.mobile = 7777777\n",
    "        \n",
    "    def __Str__ (self):\n",
    "        return \"Magic testing\""
   ]
  },
  {
   "cell_type": "code",
   "execution_count": 40,
   "id": "6bb9f747-3fbc-4a1f-a687-e0e2e0d7dd93",
   "metadata": {},
   "outputs": [
    {
     "name": "stdout",
     "output_type": "stream",
     "text": [
      "<__main__.pwskill6 object at 0x7f9e50b97670>\n"
     ]
    }
   ],
   "source": [
    "test1 = pwskill6()\n",
    "print (test1)"
   ]
  },
  {
   "cell_type": "code",
   "execution_count": 39,
   "id": "4ec6e0b5-b939-4332-a337-adcaf55acf27",
   "metadata": {},
   "outputs": [
    {
     "data": {
      "text/plain": [
       "<__main__.pwskill6 at 0x7f9e2e878370>"
      ]
     },
     "execution_count": 39,
     "metadata": {},
     "output_type": "execute_result"
    }
   ],
   "source": [
    "test1"
   ]
  },
  {
   "cell_type": "raw",
   "id": "a96ab2ae-0432-4392-87a2-4216d584773f",
   "metadata": {},
   "source": []
  },
  {
   "cell_type": "code",
   "execution_count": null,
   "id": "05d02a75-9036-43a5-943b-9e36a98ddfc2",
   "metadata": {},
   "outputs": [],
   "source": []
  },
  {
   "cell_type": "code",
   "execution_count": null,
   "id": "ef891c55-e790-4700-93e0-65b3090ac88a",
   "metadata": {},
   "outputs": [],
   "source": []
  },
  {
   "cell_type": "raw",
   "id": "30a03198-7492-49e7-ad24-657ac687d674",
   "metadata": {},
   "source": []
  },
  {
   "cell_type": "code",
   "execution_count": null,
   "id": "83b9ab56-d31d-47a6-b9f5-b2b8643fa16b",
   "metadata": {},
   "outputs": [],
   "source": []
  },
  {
   "cell_type": "code",
   "execution_count": null,
   "id": "b313e655-15a4-4662-a7ef-9600bef2aa0b",
   "metadata": {},
   "outputs": [],
   "source": []
  },
  {
   "cell_type": "code",
   "execution_count": null,
   "id": "1fef87f5-606a-462f-9c82-e296c4fa69bc",
   "metadata": {},
   "outputs": [],
   "source": []
  },
  {
   "cell_type": "code",
   "execution_count": null,
   "id": "7ce299ba-c565-4138-a550-b93fa5c454de",
   "metadata": {},
   "outputs": [],
   "source": []
  },
  {
   "cell_type": "code",
   "execution_count": null,
   "id": "dceac2f6-5622-4baa-801e-7ecaac5f52c5",
   "metadata": {},
   "outputs": [],
   "source": []
  },
  {
   "cell_type": "code",
   "execution_count": null,
   "id": "5edc7728-4224-42da-9d8b-6d43e4c8d534",
   "metadata": {},
   "outputs": [],
   "source": []
  },
  {
   "cell_type": "code",
   "execution_count": null,
   "id": "5059e6ee-d9bf-4c89-ba7b-784e3cfc7578",
   "metadata": {},
   "outputs": [],
   "source": []
  },
  {
   "cell_type": "code",
   "execution_count": null,
   "id": "9a0b523a-3478-426e-9bc9-243a4664a83e",
   "metadata": {},
   "outputs": [],
   "source": []
  },
  {
   "cell_type": "code",
   "execution_count": null,
   "id": "e9840333-bc57-4f13-be2f-d41de70eeeb4",
   "metadata": {},
   "outputs": [],
   "source": []
  }
 ],
 "metadata": {
  "kernelspec": {
   "display_name": "Python 3 (ipykernel)",
   "language": "python",
   "name": "python3"
  },
  "language_info": {
   "codemirror_mode": {
    "name": "ipython",
    "version": 3
   },
   "file_extension": ".py",
   "mimetype": "text/x-python",
   "name": "python",
   "nbconvert_exporter": "python",
   "pygments_lexer": "ipython3",
   "version": "3.10.8"
  }
 },
 "nbformat": 4,
 "nbformat_minor": 5
}
