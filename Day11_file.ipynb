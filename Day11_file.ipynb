{
 "cells": [
  {
   "cell_type": "markdown",
   "id": "bdaf5d79-1c3a-4d07-b79e-2b6a49b82cc7",
   "metadata": {},
   "source": [
    "## file "
   ]
  },
  {
   "cell_type": "code",
   "execution_count": 28,
   "id": "02ef7f4a-3819-401c-928e-5fad4aff8bfa",
   "metadata": {},
   "outputs": [],
   "source": [
    "f = open(\"test.txt\",'a')"
   ]
  },
  {
   "cell_type": "code",
   "execution_count": 14,
   "id": "e8506e50-4152-477d-9eb5-58debc14e427",
   "metadata": {},
   "outputs": [
    {
     "data": {
      "text/plain": [
       "'/home/jovyan/work'"
      ]
     },
     "execution_count": 14,
     "metadata": {},
     "output_type": "execute_result"
    }
   ],
   "source": [
    "pwd"
   ]
  },
  {
   "cell_type": "code",
   "execution_count": 15,
   "id": "4017f234-9e5d-484a-b193-721434cd82be",
   "metadata": {},
   "outputs": [
    {
     "name": "stdout",
     "output_type": "stream",
     "text": [
      "Day10_Prod_dec.ipynb    day7_Lambda_Functions_mpa.ipynb\n",
      "Day11_file.ipynb        Day8_OOPS.ipynb\n",
      "Day_1_python.ipynb      Day9_decorator.ipynb\n",
      "Day2_File_Broken.ipynb  \u001b[0m\u001b[01;34mPython_29Jan\u001b[0m/\n",
      "day2_linked.ipynb       Quiz_2.ipynb\n",
      "day3_data.ipynb         Quiz.ipynb\n",
      "day4_broken.ipynb       README.md\n",
      "Day4_python.ipynb       sample-code.ipynb\n",
      "day5_tuples.ipynb       String_manipulation_and_methods.ipynb\n",
      "Day6_function.ipynb     test.txt\n"
     ]
    }
   ],
   "source": [
    "ls"
   ]
  },
  {
   "cell_type": "code",
   "execution_count": 24,
   "id": "87c91312-d405-4cf2-aed4-76309b4d86b5",
   "metadata": {},
   "outputs": [
    {
     "data": {
      "text/plain": [
       "22"
      ]
     },
     "execution_count": 24,
     "metadata": {},
     "output_type": "execute_result"
    }
   ],
   "source": [
    "f.write(\"How many bytes written\") ## when we update ; unless you close it will not added to the created file (data)"
   ]
  },
  {
   "cell_type": "code",
   "execution_count": 17,
   "id": "7eb7f7c5-418b-4885-969b-73e227d051d2",
   "metadata": {},
   "outputs": [],
   "source": [
    "f.close()"
   ]
  },
  {
   "cell_type": "code",
   "execution_count": null,
   "id": "5726549e-8df4-4dff-89c3-65d6f1991f31",
   "metadata": {},
   "outputs": [],
   "source": [
    "Danielle Wyatt\n"
   ]
  },
  {
   "cell_type": "code",
   "execution_count": 21,
   "id": "89787f2e-d4c7-4550-a151-6452f6a4abb6",
   "metadata": {},
   "outputs": [
    {
     "data": {
      "text/plain": [
       "42"
      ]
     },
     "execution_count": 21,
     "metadata": {},
     "output_type": "execute_result"
    }
   ],
   "source": [
    "f.write(\"This is going to be an interesting subject\")"
   ]
  },
  {
   "cell_type": "code",
   "execution_count": 22,
   "id": "f207fdae-70ae-4777-83cb-dab255af4d19",
   "metadata": {},
   "outputs": [],
   "source": [
    "f.close()"
   ]
  },
  {
   "cell_type": "code",
   "execution_count": 29,
   "id": "7f61f2cb-d2c7-4f8b-8636-e669e796d7c3",
   "metadata": {},
   "outputs": [],
   "source": [
    "data = open(\"test.txt\",'r')"
   ]
  },
  {
   "cell_type": "code",
   "execution_count": 31,
   "id": "12483045-1332-4653-9fb8-5ae287890c7f",
   "metadata": {},
   "outputs": [
    {
     "data": {
      "text/plain": [
       "'This is going to be an interesting subjectHow many bytes written'"
      ]
     },
     "execution_count": 31,
     "metadata": {},
     "output_type": "execute_result"
    }
   ],
   "source": [
    "data.read()"
   ]
  },
  {
   "cell_type": "code",
   "execution_count": 32,
   "id": "2283b76c-e649-4bee-ae49-8fd5f6f2283f",
   "metadata": {},
   "outputs": [
    {
     "data": {
      "text/plain": [
       "''"
      ]
     },
     "execution_count": 32,
     "metadata": {},
     "output_type": "execute_result"
    }
   ],
   "source": [
    "data.read()"
   ]
  },
  {
   "cell_type": "code",
   "execution_count": 34,
   "id": "aa045525-d954-4a4a-8777-2a269453f241",
   "metadata": {},
   "outputs": [
    {
     "data": {
      "text/plain": [
       "0"
      ]
     },
     "execution_count": 34,
     "metadata": {},
     "output_type": "execute_result"
    }
   ],
   "source": [
    "data.seek(0) ## reseting data"
   ]
  },
  {
   "cell_type": "code",
   "execution_count": 35,
   "id": "9bc37614-364b-49af-99ff-e01a8679970b",
   "metadata": {},
   "outputs": [
    {
     "data": {
      "text/plain": [
       "'This is going to be an interesting subjectHow many bytes written'"
      ]
     },
     "execution_count": 35,
     "metadata": {},
     "output_type": "execute_result"
    }
   ],
   "source": [
    "data.read()"
   ]
  },
  {
   "cell_type": "code",
   "execution_count": 36,
   "id": "e2c75a60-fc3f-4a68-b414-ca66483e4933",
   "metadata": {},
   "outputs": [
    {
     "data": {
      "text/plain": [
       "''"
      ]
     },
     "execution_count": 36,
     "metadata": {},
     "output_type": "execute_result"
    }
   ],
   "source": [
    "data.read()"
   ]
  },
  {
   "cell_type": "code",
   "execution_count": 37,
   "id": "29ef3869-e6dd-44e5-b0f5-dc354d7fac94",
   "metadata": {},
   "outputs": [
    {
     "data": {
      "text/plain": [
       "10"
      ]
     },
     "execution_count": 37,
     "metadata": {},
     "output_type": "execute_result"
    }
   ],
   "source": [
    "data.seek(10)"
   ]
  },
  {
   "cell_type": "code",
   "execution_count": 38,
   "id": "a6138ea8-b6d8-4290-81f4-38a2be0754e1",
   "metadata": {},
   "outputs": [
    {
     "data": {
      "text/plain": [
       "'ing to be an interesting subjectHow many bytes written'"
      ]
     },
     "execution_count": 38,
     "metadata": {},
     "output_type": "execute_result"
    }
   ],
   "source": [
    "data.read() ## strating after the 10th word; not complete work\n"
   ]
  },
  {
   "cell_type": "code",
   "execution_count": 39,
   "id": "07491d66-307e-4ea2-8b10-f0833a9b7ee3",
   "metadata": {},
   "outputs": [],
   "source": [
    "data1 = open(\"test.txt\",'r')"
   ]
  },
  {
   "cell_type": "code",
   "execution_count": 40,
   "id": "91a73814-6ba6-45de-a0a2-3c9bef226fd0",
   "metadata": {},
   "outputs": [
    {
     "name": "stdout",
     "output_type": "stream",
     "text": [
      "This is going to be an interesting subjectHow many bytes written\n"
     ]
    }
   ],
   "source": [
    "for i in data1:\n",
    "    print(i)  ## even with the for loop we can deal with this req"
   ]
  },
  {
   "cell_type": "code",
   "execution_count": null,
   "id": "dd2e8887-6f1b-4667-a129-92ad83240c3b",
   "metadata": {},
   "outputs": [],
   "source": []
  },
  {
   "cell_type": "code",
   "execution_count": 41,
   "id": "9fd9bf7a-74f4-4111-8bd1-b8bdd13a114e",
   "metadata": {},
   "outputs": [],
   "source": [
    "import os   ## inbuild function; os module"
   ]
  },
  {
   "cell_type": "code",
   "execution_count": 42,
   "id": "acfb4563-cd6e-430e-b681-e064359386c7",
   "metadata": {},
   "outputs": [
    {
     "data": {
      "text/plain": [
       "64"
      ]
     },
     "execution_count": 42,
     "metadata": {},
     "output_type": "execute_result"
    }
   ],
   "source": [
    "os.path.getsize(\"test.txt\")"
   ]
  },
  {
   "cell_type": "code",
   "execution_count": 43,
   "id": "ef53ae42-e7d7-4937-a1de-8261c7a83793",
   "metadata": {},
   "outputs": [],
   "source": [
    "import shutil"
   ]
  },
  {
   "cell_type": "code",
   "execution_count": 44,
   "id": "b0e490d5-b818-454d-9a25-d3116b35525c",
   "metadata": {},
   "outputs": [
    {
     "data": {
      "text/plain": [
       "'new_test.txt'"
      ]
     },
     "execution_count": 44,
     "metadata": {},
     "output_type": "execute_result"
    }
   ],
   "source": [
    "shutil.copy(\"test.txt\",\"new_test.txt\")"
   ]
  },
  {
   "cell_type": "code",
   "execution_count": 45,
   "id": "3c13405a-ca69-4402-b224-6a1eecff3183",
   "metadata": {},
   "outputs": [],
   "source": [
    "os.remove(\"test.txt\")"
   ]
  },
  {
   "cell_type": "code",
   "execution_count": null,
   "id": "3f685672-45fd-446f-af3f-204e62d58673",
   "metadata": {},
   "outputs": [],
   "source": []
  },
  {
   "cell_type": "code",
   "execution_count": 46,
   "id": "ade2e8fa-45f6-4755-9322-95183955c98d",
   "metadata": {},
   "outputs": [
    {
     "name": "stdout",
     "output_type": "stream",
     "text": [
      "This is going to be an interesting subjectHow many bytes written\n"
     ]
    }
   ],
   "source": [
    "with open(\"new_test.txt\", \"r\") as f :\n",
    "    print(f.read())"
   ]
  },
  {
   "cell_type": "code",
   "execution_count": null,
   "id": "0a3d149d-96e0-464a-a563-80125e53b8a1",
   "metadata": {},
   "outputs": [],
   "source": []
  },
  {
   "cell_type": "code",
   "execution_count": 47,
   "id": "1cd505a2-a382-477b-b7b9-17e93ce2e632",
   "metadata": {},
   "outputs": [],
   "source": [
    "os.rename(\"new_test.txt\", \"test1.txt\" )"
   ]
  },
  {
   "cell_type": "code",
   "execution_count": null,
   "id": "8fac2cd7-7a9d-47be-becb-0c5f11883c51",
   "metadata": {},
   "outputs": [],
   "source": []
  },
  {
   "cell_type": "markdown",
   "id": "3bead478-21d3-4225-a0f5-c1ae1f2a014d",
   "metadata": {},
   "source": [
    "##  Reading And Writing Files"
   ]
  },
  {
   "cell_type": "code",
   "execution_count": 48,
   "id": "0cf574d1-38e8-4b93-ac0e-4407db89d6cc",
   "metadata": {},
   "outputs": [],
   "source": [
    "Data3 = {\n",
    "    \"subject\" : \"Math\",\n",
    "    \"language\": \"Englist\",\n",
    "    \"teacher\" : [\"An\" , \"jimmi\", \"alen\", \"alex\"]\n",
    "}"
   ]
  },
  {
   "cell_type": "code",
   "execution_count": 51,
   "id": "2c238844-45e6-4dbe-ac4a-8fc5a65d007f",
   "metadata": {},
   "outputs": [],
   "source": [
    "import json"
   ]
  },
  {
   "cell_type": "code",
   "execution_count": 55,
   "id": "b4581e94-3a6d-41b3-ba69-d8a55db335a7",
   "metadata": {},
   "outputs": [],
   "source": [
    "with open(\"test2.json\", \"w\") as f: ## here f is an allies \n",
    "    json.dump(Data3, f) ## dump , to create a file"
   ]
  },
  {
   "cell_type": "code",
   "execution_count": 58,
   "id": "53e43360-a250-4801-8542-00dc51273bb0",
   "metadata": {},
   "outputs": [],
   "source": [
    "with open(\"test2.json\", \"r\") as f: ## here f is an allies \n",
    "    Data4 = json.load(f) ## read the existing file records << load >>"
   ]
  },
  {
   "cell_type": "code",
   "execution_count": 59,
   "id": "9b77e86d-37eb-4e4a-8c92-d862986a081c",
   "metadata": {},
   "outputs": [
    {
     "data": {
      "text/plain": [
       "{'subject': 'Math',\n",
       " 'language': 'Englist',\n",
       " 'teacher': ['An', 'jimmi', 'alen', 'alex']}"
      ]
     },
     "execution_count": 59,
     "metadata": {},
     "output_type": "execute_result"
    }
   ],
   "source": [
    "Data4"
   ]
  },
  {
   "cell_type": "code",
   "execution_count": 60,
   "id": "7cb204f0-1b62-469d-82f2-639acd3adf98",
   "metadata": {},
   "outputs": [
    {
     "data": {
      "text/plain": [
       "['An', 'jimmi', 'alen', 'alex']"
      ]
     },
     "execution_count": 60,
     "metadata": {},
     "output_type": "execute_result"
    }
   ],
   "source": [
    "Data4[\"teacher\"]"
   ]
  },
  {
   "cell_type": "code",
   "execution_count": 61,
   "id": "a1e848c0-401e-4827-877d-c4375eb81432",
   "metadata": {},
   "outputs": [
    {
     "data": {
      "text/plain": [
       "'jimmi'"
      ]
     },
     "execution_count": 61,
     "metadata": {},
     "output_type": "execute_result"
    }
   ],
   "source": [
    "Data4[\"teacher\"][1]"
   ]
  },
  {
   "cell_type": "code",
   "execution_count": null,
   "id": "8e2b5f8c-6101-4fa9-b027-4c8a3ea47b33",
   "metadata": {},
   "outputs": [],
   "source": []
  },
  {
   "cell_type": "code",
   "execution_count": 62,
   "id": "b97e799a-606a-4da9-bea3-159ddc7c55bc",
   "metadata": {},
   "outputs": [],
   "source": [
    "records = [[\"emp_id\",\"emp_name\",\"email\"],\n",
    "           [1,\"azzz\",\"az@gmail.com\"],\n",
    "           [2,\"bccc\",\"vc@gmail.com\"]\n",
    "          ]"
   ]
  },
  {
   "cell_type": "code",
   "execution_count": 64,
   "id": "400a8f9c-72e6-4ee3-9082-96576435d23b",
   "metadata": {},
   "outputs": [],
   "source": [
    "import csv"
   ]
  },
  {
   "cell_type": "code",
   "execution_count": 68,
   "id": "3efb1aae-2832-4fd1-9442-9db89e136777",
   "metadata": {},
   "outputs": [],
   "source": [
    "with open(\"emp.csv\", \"w\") as f:\n",
    "    rc = csv.writer(f)\n",
    "    for i in records:\n",
    "        rc.writerow(i)"
   ]
  },
  {
   "cell_type": "code",
   "execution_count": 69,
   "id": "16934386-98cb-4df0-8c37-d0939832ce82",
   "metadata": {},
   "outputs": [
    {
     "name": "stdout",
     "output_type": "stream",
     "text": [
      "['emp_id', 'emp_name', 'email']\n",
      "[1, 'azzz', 'az@gmail.com']\n",
      "[2, 'bccc', 'vc@gmail.com']\n"
     ]
    }
   ],
   "source": [
    "with open(\"emp.csv\", \"r\") as f:\n",
    "    rc = csv.reader(f)\n",
    "    for i in records:\n",
    "        print(i)"
   ]
  },
  {
   "cell_type": "code",
   "execution_count": null,
   "id": "98b32b44-563e-4006-a068-1b96db8c41a6",
   "metadata": {},
   "outputs": [],
   "source": [
    "## lets start learning binary readable file"
   ]
  },
  {
   "cell_type": "code",
   "execution_count": 71,
   "id": "f685a4b6-ce60-455f-ad2f-7ff453163b70",
   "metadata": {},
   "outputs": [],
   "source": [
    "with open(\"test3.bin\", \"wb\") as f:\n",
    "    f.write(b\"\\x01\\x03\\x04\")"
   ]
  },
  {
   "cell_type": "code",
   "execution_count": 72,
   "id": "043ef252-21e9-48a1-8f7c-5c2f44549e54",
   "metadata": {},
   "outputs": [
    {
     "name": "stdout",
     "output_type": "stream",
     "text": [
      "b'\\x01\\x03\\x04'\n"
     ]
    }
   ],
   "source": [
    "with open(\"test3.bin\", \"rb\") as f:\n",
    "    print(f.read())\n"
   ]
  },
  {
   "cell_type": "code",
   "execution_count": null,
   "id": "bd6d6a26-e09a-4dcc-b240-94b4361deedc",
   "metadata": {},
   "outputs": [],
   "source": []
  },
  {
   "cell_type": "markdown",
   "id": "50ecaf0b-d321-4978-a929-142a52dd323a",
   "metadata": {},
   "source": [
    "##  Buffered Read And Write Other File Methods"
   ]
  },
  {
   "cell_type": "code",
   "execution_count": null,
   "id": "a2c5f14d-84db-4be0-88c7-7cd0693d668c",
   "metadata": {},
   "outputs": [],
   "source": [
    "## helpful for data writing operation in chunk "
   ]
  },
  {
   "cell_type": "code",
   "execution_count": 73,
   "id": "845db4f9-685b-43b7-a5d3-6bf1bca18e01",
   "metadata": {},
   "outputs": [],
   "source": [
    "import io ## input/output fun"
   ]
  },
  {
   "cell_type": "code",
   "execution_count": 77,
   "id": "a889a473-3025-41a0-aed0-2dc6ede6d2b4",
   "metadata": {},
   "outputs": [],
   "source": [
    "with open(\"ttest.txt\", \"wb\") as f:\n",
    "    file = io.BufferedWriter(f)\n",
    "    file.write(b\"test this proj\\n\")\n",
    "    file.write(b\"looks all good to do\")\n",
    "    file.flush()"
   ]
  },
  {
   "cell_type": "code",
   "execution_count": 81,
   "id": "d3831fbb-1e4c-4845-b914-68e2546dc1f6",
   "metadata": {},
   "outputs": [
    {
     "name": "stdout",
     "output_type": "stream",
     "text": [
      "b'test this proj\\nlooks all good to do'\n"
     ]
    }
   ],
   "source": [
    "with open(\"ttest.txt\", \"rb\") as f:\n",
    "    file = io.BufferedReader(f)\n",
    "    data4 = file.read()  # inside this read opearation; we can control the char \n",
    "    print(data4)\n",
    "        "
   ]
  },
  {
   "cell_type": "code",
   "execution_count": 82,
   "id": "d7d65c61-7c25-4a7e-a1d0-464f4e2f32a4",
   "metadata": {},
   "outputs": [
    {
     "name": "stdout",
     "output_type": "stream",
     "text": [
      "b'test'\n"
     ]
    }
   ],
   "source": [
    "with open(\"ttest.txt\", \"rb\") as f:\n",
    "    file = io.BufferedReader(f)\n",
    "    data4 = file.read(4)  # inside this read opearation; we can control the char ; just first 4 char from the text\n",
    "    print(data4)"
   ]
  },
  {
   "cell_type": "code",
   "execution_count": null,
   "id": "0e005b89-c889-4355-804c-a0ad7472fab5",
   "metadata": {},
   "outputs": [],
   "source": []
  },
  {
   "cell_type": "markdown",
   "id": "52eb176b-7c7b-4f70-a7a9-13c54ec81403",
   "metadata": {},
   "source": [
    "## Logging Debugger\n"
   ]
  },
  {
   "cell_type": "code",
   "execution_count": null,
   "id": "165938b6-1a13-4e70-a7fd-c7fa63c6d1de",
   "metadata": {},
   "outputs": [],
   "source": []
  },
  {
   "cell_type": "code",
   "execution_count": null,
   "id": "bd7d243a-7f49-467b-8e46-3fc42e703cba",
   "metadata": {},
   "outputs": [],
   "source": [
    "#####permanent storgate"
   ]
  },
  {
   "cell_type": "code",
   "execution_count": 17,
   "id": "ba51a187-9c51-44b2-966d-dbeeac980256",
   "metadata": {},
   "outputs": [],
   "source": [
    "import logging"
   ]
  },
  {
   "cell_type": "code",
   "execution_count": 3,
   "id": "ed5559d4-86a3-4ce6-81ad-e30235846d25",
   "metadata": {},
   "outputs": [],
   "source": [
    "logging.basicConfig(filename = \"test.log\", level = logging.INFO)"
   ]
  },
  {
   "cell_type": "code",
   "execution_count": 4,
   "id": "7fe4d728-cf23-4972-a5ac-2b5421a89d9d",
   "metadata": {},
   "outputs": [],
   "source": [
    "logging.info(\"testing for exec\")"
   ]
  },
  {
   "cell_type": "code",
   "execution_count": 5,
   "id": "d7ceddc1-cfd1-4563-98ff-cc45cfd6646d",
   "metadata": {},
   "outputs": [],
   "source": [
    "logging.error(\"look at the error\")"
   ]
  },
  {
   "cell_type": "code",
   "execution_count": 6,
   "id": "48886d8f-7383-4ea7-ac63-9f38be8285e2",
   "metadata": {},
   "outputs": [],
   "source": [
    "logging.critical(\"test for critical\")"
   ]
  },
  {
   "cell_type": "code",
   "execution_count": 7,
   "id": "35a191e6-8d13-42bf-b128-bdf353579d81",
   "metadata": {},
   "outputs": [],
   "source": [
    "logging.warning(\"test for warning\")"
   ]
  },
  {
   "cell_type": "code",
   "execution_count": 9,
   "id": "2726c359-569a-43bb-8d8c-3d440c7a7182",
   "metadata": {},
   "outputs": [],
   "source": [
    "logging.debug(\"test for debug\")"
   ]
  },
  {
   "cell_type": "code",
   "execution_count": 11,
   "id": "54443e64-64e2-45e4-a942-41267277011b",
   "metadata": {},
   "outputs": [
    {
     "ename": "AttributeError",
     "evalue": "module 'logging' has no attribute 'noset'",
     "output_type": "error",
     "traceback": [
      "\u001b[0;31m---------------------------------------------------------------------------\u001b[0m",
      "\u001b[0;31mAttributeError\u001b[0m                            Traceback (most recent call last)",
      "Cell \u001b[0;32mIn[11], line 1\u001b[0m\n\u001b[0;32m----> 1\u001b[0m \u001b[43mlogging\u001b[49m\u001b[38;5;241;43m.\u001b[39;49m\u001b[43mnoset\u001b[49m(\u001b[38;5;124m\"\u001b[39m\u001b[38;5;124mtest\u001b[39m\u001b[38;5;124m\"\u001b[39m)\n",
      "\u001b[0;31mAttributeError\u001b[0m: module 'logging' has no attribute 'noset'"
     ]
    }
   ],
   "source": [
    "logging.noset(\"test\")"
   ]
  },
  {
   "cell_type": "code",
   "execution_count": 12,
   "id": "96dde978-adc2-46f1-a9c1-426c5460ab5a",
   "metadata": {},
   "outputs": [],
   "source": [
    "## stop login\n",
    "logging.shutdown()"
   ]
  },
  {
   "cell_type": "code",
   "execution_count": null,
   "id": "6a9b8f4e-fe24-4e7f-9eee-7e70acd1e659",
   "metadata": {},
   "outputs": [],
   "source": [
    "1. NOSET\n",
    "2. DEBUG\n",
    "3. INFO\n",
    "4. WARNING\n",
    "5. ERROR\n",
    "6. CRITICAL\n"
   ]
  },
  {
   "cell_type": "code",
   "execution_count": 21,
   "id": "b6666c16-9951-4429-9ed1-15d688060d2f",
   "metadata": {},
   "outputs": [],
   "source": [
    "import logging"
   ]
  },
  {
   "cell_type": "code",
   "execution_count": 23,
   "id": "a8e1c073-abbe-40ec-a7ac-330c2f5d9df2",
   "metadata": {},
   "outputs": [],
   "source": [
    "logging.basicConfig ( filename = \"test1.log\" , level = logging.DEBUG, format ='%(asctime)s %(message)s')"
   ]
  },
  {
   "cell_type": "code",
   "execution_count": null,
   "id": "67c74140-7aeb-443e-a97b-477b3dad4596",
   "metadata": {},
   "outputs": [],
   "source": []
  },
  {
   "cell_type": "code",
   "execution_count": null,
   "id": "d33ddc0b-5873-448b-91b2-145530d98929",
   "metadata": {},
   "outputs": [],
   "source": []
  },
  {
   "cell_type": "code",
   "execution_count": null,
   "id": "96cdabe7-7a06-4e23-9c77-9aabc625e99a",
   "metadata": {},
   "outputs": [],
   "source": []
  },
  {
   "cell_type": "code",
   "execution_count": null,
   "id": "c9f1193e-191b-4a70-a9ac-31724e69cfde",
   "metadata": {},
   "outputs": [],
   "source": []
  },
  {
   "cell_type": "code",
   "execution_count": null,
   "id": "e852aa83-f8d2-4a4b-9a66-0ec2c7714238",
   "metadata": {},
   "outputs": [],
   "source": []
  },
  {
   "cell_type": "code",
   "execution_count": null,
   "id": "fd1493af-e839-44ed-9fc3-d778f44be6d3",
   "metadata": {},
   "outputs": [],
   "source": []
  },
  {
   "cell_type": "code",
   "execution_count": null,
   "id": "e612dfa5-5662-428a-91a8-47b0cf93df38",
   "metadata": {},
   "outputs": [],
   "source": []
  },
  {
   "cell_type": "code",
   "execution_count": null,
   "id": "524e2838-8088-4cb6-a20d-e2f6f3ed6336",
   "metadata": {},
   "outputs": [],
   "source": []
  },
  {
   "cell_type": "code",
   "execution_count": null,
   "id": "3af14554-27bf-4de0-a555-ae2ec70dc5fa",
   "metadata": {},
   "outputs": [],
   "source": []
  },
  {
   "cell_type": "code",
   "execution_count": null,
   "id": "3c5bb7d2-b8e7-42a5-a44f-9f446cc0b0ce",
   "metadata": {},
   "outputs": [],
   "source": []
  },
  {
   "cell_type": "code",
   "execution_count": null,
   "id": "f6ca7e01-a923-4eb7-b41b-0bd1ee541873",
   "metadata": {},
   "outputs": [],
   "source": []
  },
  {
   "cell_type": "code",
   "execution_count": null,
   "id": "8b06aa24-7513-44cd-be7d-f1a35196b505",
   "metadata": {},
   "outputs": [],
   "source": []
  },
  {
   "cell_type": "code",
   "execution_count": null,
   "id": "ec4b328e-a35a-4d87-9fbd-eeef3f858976",
   "metadata": {},
   "outputs": [],
   "source": []
  },
  {
   "cell_type": "code",
   "execution_count": null,
   "id": "ea2b732b-6d92-4eb8-856d-50c4b448a0d3",
   "metadata": {},
   "outputs": [],
   "source": []
  },
  {
   "cell_type": "code",
   "execution_count": null,
   "id": "3f1641d7-2284-4070-b9e7-fbb553c2ed05",
   "metadata": {},
   "outputs": [],
   "source": []
  },
  {
   "cell_type": "code",
   "execution_count": null,
   "id": "67f21e4f-f319-4569-be37-04a9d4ee5200",
   "metadata": {},
   "outputs": [],
   "source": []
  },
  {
   "cell_type": "code",
   "execution_count": null,
   "id": "4006e5bd-29dc-4170-aece-70d1ef714f3f",
   "metadata": {},
   "outputs": [],
   "source": []
  },
  {
   "cell_type": "code",
   "execution_count": null,
   "id": "da482257-4602-49ef-b6bc-40cf6481977d",
   "metadata": {},
   "outputs": [],
   "source": []
  },
  {
   "cell_type": "code",
   "execution_count": null,
   "id": "983b6905-bdcd-4d45-bb79-ba20ec920da9",
   "metadata": {},
   "outputs": [],
   "source": []
  },
  {
   "cell_type": "code",
   "execution_count": null,
   "id": "1145bfcb-85e9-4e65-9cfa-d1d75987b5fe",
   "metadata": {},
   "outputs": [],
   "source": []
  },
  {
   "cell_type": "code",
   "execution_count": null,
   "id": "91518b88-ca8f-425f-9be5-5c01edc122c1",
   "metadata": {},
   "outputs": [],
   "source": []
  },
  {
   "cell_type": "code",
   "execution_count": null,
   "id": "369e5c8f-5c7f-4c28-b29f-53732d1091a1",
   "metadata": {},
   "outputs": [],
   "source": []
  },
  {
   "cell_type": "code",
   "execution_count": null,
   "id": "703608b3-e1d4-4983-8a27-900c8d6db318",
   "metadata": {},
   "outputs": [],
   "source": []
  },
  {
   "cell_type": "code",
   "execution_count": null,
   "id": "6463437b-fb53-4e47-ab19-c7e1ac1ed29d",
   "metadata": {},
   "outputs": [],
   "source": []
  },
  {
   "cell_type": "code",
   "execution_count": null,
   "id": "4a2a6232-362d-4e52-9f0d-7195748553b1",
   "metadata": {},
   "outputs": [],
   "source": []
  },
  {
   "cell_type": "code",
   "execution_count": null,
   "id": "abf6d932-4a18-410b-a776-d71568bfd1c4",
   "metadata": {},
   "outputs": [],
   "source": []
  },
  {
   "cell_type": "code",
   "execution_count": null,
   "id": "fbd2a12e-0d09-4914-9a3d-339546a6df93",
   "metadata": {},
   "outputs": [],
   "source": []
  },
  {
   "cell_type": "code",
   "execution_count": null,
   "id": "3432279b-c476-4dcd-acee-4786366719f5",
   "metadata": {},
   "outputs": [],
   "source": []
  },
  {
   "cell_type": "code",
   "execution_count": null,
   "id": "4c07c2e1-b8ff-454a-a185-37d24f12a7a9",
   "metadata": {},
   "outputs": [],
   "source": []
  },
  {
   "cell_type": "code",
   "execution_count": null,
   "id": "fe131830-e962-41f4-8c7b-f4172773f3e0",
   "metadata": {},
   "outputs": [],
   "source": []
  },
  {
   "cell_type": "code",
   "execution_count": null,
   "id": "cb4bbe4b-0a48-4aa1-89dc-0174b8257d7f",
   "metadata": {},
   "outputs": [],
   "source": []
  },
  {
   "cell_type": "code",
   "execution_count": null,
   "id": "f3dab74d-21a7-4e28-b58e-92be7b10dd9c",
   "metadata": {},
   "outputs": [],
   "source": []
  },
  {
   "cell_type": "code",
   "execution_count": null,
   "id": "e7914c37-f422-45eb-8cde-589011866b89",
   "metadata": {},
   "outputs": [],
   "source": []
  },
  {
   "cell_type": "code",
   "execution_count": null,
   "id": "de6ae845-169e-4e4f-9045-e3df40bae3ca",
   "metadata": {},
   "outputs": [],
   "source": []
  },
  {
   "cell_type": "code",
   "execution_count": null,
   "id": "5155802c-f538-4959-b699-a38d4c85296f",
   "metadata": {},
   "outputs": [],
   "source": []
  },
  {
   "cell_type": "code",
   "execution_count": null,
   "id": "8c94b81e-8725-4eab-b589-114ab728610c",
   "metadata": {},
   "outputs": [],
   "source": []
  },
  {
   "cell_type": "code",
   "execution_count": null,
   "id": "811186ff-ee29-4e2e-ae03-1fe25d1c018f",
   "metadata": {},
   "outputs": [],
   "source": []
  }
 ],
 "metadata": {
  "kernelspec": {
   "display_name": "Python 3 (ipykernel)",
   "language": "python",
   "name": "python3"
  },
  "language_info": {
   "codemirror_mode": {
    "name": "ipython",
    "version": 3
   },
   "file_extension": ".py",
   "mimetype": "text/x-python",
   "name": "python",
   "nbconvert_exporter": "python",
   "pygments_lexer": "ipython3",
   "version": "3.10.8"
  }
 },
 "nbformat": 4,
 "nbformat_minor": 5
}
