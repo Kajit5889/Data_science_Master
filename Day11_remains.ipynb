{
 "cells": [
  {
   "cell_type": "code",
   "execution_count": 7,
   "id": "b74a2061-b167-43f0-aa24-055269526d55",
   "metadata": {},
   "outputs": [],
   "source": [
    "import logging"
   ]
  },
  {
   "cell_type": "code",
   "execution_count": 2,
   "id": "368f6d5b-7945-4f4b-9fd8-c32d6dbfde74",
   "metadata": {},
   "outputs": [],
   "source": [
    "logging.basicConfig ( filename = \"datatest.log\" , level = logging.DEBUG, format ='%(asctime)s %(message)s')"
   ]
  },
  {
   "cell_type": "code",
   "execution_count": 3,
   "id": "8bcb60a6-872f-484f-811e-19869ba6818f",
   "metadata": {},
   "outputs": [],
   "source": [
    "logging.debug(\"test for debug\")"
   ]
  },
  {
   "cell_type": "code",
   "execution_count": 4,
   "id": "8b35f02f-8734-4012-a770-86e7dd4633dd",
   "metadata": {},
   "outputs": [],
   "source": [
    "logging.warning(\"test for debug\")"
   ]
  },
  {
   "cell_type": "code",
   "execution_count": 5,
   "id": "01083037-af4d-4314-94a0-63312d031608",
   "metadata": {},
   "outputs": [],
   "source": [
    "logging.error(\"test for error\")"
   ]
  },
  {
   "cell_type": "code",
   "execution_count": 6,
   "id": "c358a1f3-33e7-403b-9e60-16b5e0a6d582",
   "metadata": {
    "tags": []
   },
   "outputs": [
    {
     "ename": "AttributeError",
     "evalue": "module 'logging' has no attribute 'noset'",
     "output_type": "error",
     "traceback": [
      "\u001b[0;31m---------------------------------------------------------------------------\u001b[0m",
      "\u001b[0;31mAttributeError\u001b[0m                            Traceback (most recent call last)",
      "Cell \u001b[0;32mIn[6], line 1\u001b[0m\n\u001b[0;32m----> 1\u001b[0m \u001b[43mlogging\u001b[49m\u001b[38;5;241;43m.\u001b[39;49m\u001b[43mnoset\u001b[49m(\u001b[38;5;124m\"\u001b[39m\u001b[38;5;124mtest for debug\u001b[39m\u001b[38;5;124m\"\u001b[39m)\n",
      "\u001b[0;31mAttributeError\u001b[0m: module 'logging' has no attribute 'noset'"
     ]
    }
   ],
   "source": [
    "logging.noset(\"test for debug\")"
   ]
  },
  {
   "cell_type": "code",
   "execution_count": null,
   "id": "2806cafe-c58e-4905-a978-f5a04d99e57e",
   "metadata": {},
   "outputs": [],
   "source": [
    "logging.critical(\"test for critical\")"
   ]
  },
  {
   "cell_type": "code",
   "execution_count": null,
   "id": "efc626da-3b75-4276-ad30-f64a43552286",
   "metadata": {},
   "outputs": [],
   "source": [
    "# based on the level, we will get the records in the log ...."
   ]
  },
  {
   "cell_type": "code",
   "execution_count": null,
   "id": "cf602cf1-9c48-4304-99ed-258fd117c5cb",
   "metadata": {},
   "outputs": [],
   "source": [
    "logging.shutdown()"
   ]
  },
  {
   "cell_type": "code",
   "execution_count": 1,
   "id": "439b47d1-5a62-4827-be9f-92bb145fa8c8",
   "metadata": {},
   "outputs": [],
   "source": [
    "import logging"
   ]
  },
  {
   "cell_type": "code",
   "execution_count": 2,
   "id": "4c983cbd-726f-48f0-b37a-4bc6997abc09",
   "metadata": {},
   "outputs": [],
   "source": [
    "logging.basicConfig (filename = \"test4.log\" , level = logging.DEBUG, format = '%(asctime)s %(name)s %(levelname)s %(message)s' )"
   ]
  },
  {
   "cell_type": "code",
   "execution_count": 3,
   "id": "acf0cd5f-d9ed-4b3c-a255-85bfcc73f550",
   "metadata": {},
   "outputs": [],
   "source": [
    "logging.error(\"data master\")"
   ]
  },
  {
   "cell_type": "code",
   "execution_count": 4,
   "id": "d3538f90-269c-4bd0-be20-e4ca69ef8ff7",
   "metadata": {},
   "outputs": [],
   "source": [
    "logging.warning(\"data master 1\")"
   ]
  },
  {
   "cell_type": "code",
   "execution_count": 6,
   "id": "b5359983-f1cf-43a5-904a-a8e01ad33b90",
   "metadata": {},
   "outputs": [],
   "source": [
    "logging.debug(\"data master3\")"
   ]
  },
  {
   "cell_type": "code",
   "execution_count": 7,
   "id": "dc0c5971-cf70-40bd-85d9-34da1c7a9087",
   "metadata": {},
   "outputs": [],
   "source": [
    "logging.info(\"data info\")"
   ]
  },
  {
   "cell_type": "code",
   "execution_count": 8,
   "id": "c797865c-d185-43d4-b5b5-8e34de767e10",
   "metadata": {},
   "outputs": [],
   "source": [
    "logging.critical(\"data critical\")"
   ]
  },
  {
   "cell_type": "code",
   "execution_count": null,
   "id": "a7353a90-c28b-4a12-9858-b71d9424aac3",
   "metadata": {},
   "outputs": [],
   "source": []
  },
  {
   "cell_type": "code",
   "execution_count": 9,
   "id": "19b2463d-da2f-4c6b-98ad-9ff64fe3e0a7",
   "metadata": {},
   "outputs": [],
   "source": [
    "l = [1,2,4,5,[4,5,7,6], \"ajit\", \"kumar\"]"
   ]
  },
  {
   "cell_type": "raw",
   "id": "87c090aa-568c-4f21-8726-a8d9babbdc01",
   "metadata": {},
   "source": [
    "for i in l:\n"
   ]
  },
  {
   "cell_type": "code",
   "execution_count": null,
   "id": "2a6554ce-81e4-4222-9870-304bb235917e",
   "metadata": {},
   "outputs": [],
   "source": []
  },
  {
   "cell_type": "code",
   "execution_count": null,
   "id": "73833218-ef59-4205-933f-557fbbbe8cb0",
   "metadata": {},
   "outputs": [],
   "source": []
  },
  {
   "cell_type": "code",
   "execution_count": null,
   "id": "006193e9-18e1-41d0-b19c-9bf80aa5b13f",
   "metadata": {},
   "outputs": [],
   "source": []
  },
  {
   "cell_type": "code",
   "execution_count": null,
   "id": "a81d850b-554f-4537-861f-e51075ce2695",
   "metadata": {},
   "outputs": [],
   "source": []
  },
  {
   "cell_type": "code",
   "execution_count": null,
   "id": "3c9b2b6b-666d-4c45-bccc-8b67e9689353",
   "metadata": {},
   "outputs": [],
   "source": []
  },
  {
   "cell_type": "code",
   "execution_count": null,
   "id": "bff00737-dad0-4eb7-bc87-09b1a382fed5",
   "metadata": {},
   "outputs": [],
   "source": []
  },
  {
   "cell_type": "code",
   "execution_count": null,
   "id": "2325c25e-81a5-4f68-ad14-0f7893193f36",
   "metadata": {},
   "outputs": [],
   "source": []
  }
 ],
 "metadata": {
  "kernelspec": {
   "display_name": "Python 3 (ipykernel)",
   "language": "python",
   "name": "python3"
  },
  "language_info": {
   "codemirror_mode": {
    "name": "ipython",
    "version": 3
   },
   "file_extension": ".py",
   "mimetype": "text/x-python",
   "name": "python",
   "nbconvert_exporter": "python",
   "pygments_lexer": "ipython3",
   "version": "3.10.8"
  }
 },
 "nbformat": 4,
 "nbformat_minor": 5
}
