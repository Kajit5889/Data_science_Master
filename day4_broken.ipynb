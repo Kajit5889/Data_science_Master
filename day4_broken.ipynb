{
 "cells": [
  {
   "cell_type": "code",
   "execution_count": 4,
   "id": "26b3176a-37af-42e2-8db4-3b71a0d5c0cb",
   "metadata": {},
   "outputs": [],
   "source": [
    "name = \"Data Science Master\""
   ]
  },
  {
   "cell_type": "code",
   "execution_count": 5,
   "id": "7b742586-d122-4544-8373-f7c30f991da0",
   "metadata": {},
   "outputs": [
    {
     "data": {
      "text/plain": [
       "'dATA sCIENCE mASTER'"
      ]
     },
     "execution_count": 5,
     "metadata": {},
     "output_type": "execute_result"
    }
   ],
   "source": [
    "name.swapcase()"
   ]
  },
  {
   "cell_type": "markdown",
   "id": "46ae8790-be8e-4db7-b56f-fc104a383066",
   "metadata": {},
   "source": [
    "# Reversing a String\n"
   ]
  },
  {
   "cell_type": "code",
   "execution_count": 8,
   "id": "4789a63a-bdef-46c1-a20f-34ea97bda4a3",
   "metadata": {},
   "outputs": [
    {
     "data": {
      "text/plain": [
       "'retsaM ecneicS ataD'"
      ]
     },
     "execution_count": 8,
     "metadata": {},
     "output_type": "execute_result"
    }
   ],
   "source": [
    "name[::-1]"
   ]
  },
  {
   "cell_type": "code",
   "execution_count": 9,
   "id": "0e780308-4e15-4f22-a369-5893599c8350",
   "metadata": {},
   "outputs": [
    {
     "data": {
      "text/plain": [
       "<reversed at 0x7f16df6a6110>"
      ]
     },
     "execution_count": 9,
     "metadata": {},
     "output_type": "execute_result"
    }
   ],
   "source": [
    "reversed(name)"
   ]
  },
  {
   "cell_type": "code",
   "execution_count": 10,
   "id": "47bf0538-bed0-4a89-b40d-85051fdd76ce",
   "metadata": {},
   "outputs": [
    {
     "data": {
      "text/plain": [
       "'a n t'"
      ]
     },
     "execution_count": 10,
     "metadata": {},
     "output_type": "execute_result"
    }
   ],
   "source": [
    "' '.join(\"ant\")"
   ]
  },
  {
   "cell_type": "code",
   "execution_count": 11,
   "id": "3d9fac7e-b7a8-4778-8572-bb714081f9a3",
   "metadata": {},
   "outputs": [
    {
     "data": {
      "text/plain": [
       "'t n a'"
      ]
     },
     "execution_count": 11,
     "metadata": {},
     "output_type": "execute_result"
    }
   ],
   "source": [
    "' '.join(reversed(\"ant\"))"
   ]
  },
  {
   "cell_type": "code",
   "execution_count": 12,
   "id": "4af60d9b-d3ee-4140-bd15-b0aa8ea228b0",
   "metadata": {},
   "outputs": [
    {
     "data": {
      "text/plain": [
       "['t', 'n', 'a']"
      ]
     },
     "execution_count": 12,
     "metadata": {},
     "output_type": "execute_result"
    }
   ],
   "source": [
    "# type casting .. Done\n",
    "\n",
    "list(reversed(\"ant\"))"
   ]
  },
  {
   "cell_type": "code",
   "execution_count": 13,
   "id": "4ee98a12-75b4-469a-ace0-6451ba94e345",
   "metadata": {},
   "outputs": [
    {
     "name": "stdout",
     "output_type": "stream",
     "text": [
      "retsaM ecneicS ataD"
     ]
    }
   ],
   "source": [
    "\n",
    "for i in list(reversed(name)):\n",
    "    print(i, end='')"
   ]
  },
  {
   "cell_type": "code",
   "execution_count": 7,
   "id": "c2e374d2-0354-4edb-a6e3-783b684bd8f4",
   "metadata": {},
   "outputs": [],
   "source": [
    "string_a = \"skills dekho\""
   ]
  },
  {
   "cell_type": "code",
   "execution_count": 9,
   "id": "233ec119-b1c0-43ad-9c0f-3f8f818a6fa5",
   "metadata": {},
   "outputs": [
    {
     "data": {
      "text/plain": [
       "'skills dekho'"
      ]
     },
     "execution_count": 9,
     "metadata": {},
     "output_type": "execute_result"
    }
   ],
   "source": [
    "string_a.strip(\"  \")"
   ]
  },
  {
   "cell_type": "code",
   "execution_count": 15,
   "id": "f1fa2f26-3a7d-4207-95be-7cf96af9d81f",
   "metadata": {},
   "outputs": [
    {
     "data": {
      "text/plain": [
       "'ills dekho'"
      ]
     },
     "execution_count": 15,
     "metadata": {},
     "output_type": "execute_result"
    }
   ],
   "source": [
    "string_a.lstrip('sk')"
   ]
  },
  {
   "cell_type": "code",
   "execution_count": 13,
   "id": "eb35103b-e2ea-465f-bbdc-c0c26c5d90c3",
   "metadata": {},
   "outputs": [
    {
     "data": {
      "text/plain": [
       "'skills '"
      ]
     },
     "execution_count": 13,
     "metadata": {},
     "output_type": "execute_result"
    }
   ],
   "source": [
    "\n",
    "string_a.rstrip('dekho')"
   ]
  },
  {
   "cell_type": "code",
   "execution_count": 5,
   "id": "8589273b-74fc-4144-8697-212c8d2b4123",
   "metadata": {},
   "outputs": [
    {
     "data": {
      "text/plain": [
       "'lets Enjoy the world'"
      ]
     },
     "execution_count": 5,
     "metadata": {},
     "output_type": "execute_result"
    }
   ],
   "source": [
    "string_n = \"lets visit the world\"\n",
    "string_n.replace(\"visit\" , \"Enjoy\")"
   ]
  },
  {
   "cell_type": "code",
   "execution_count": 25,
   "id": "2613ef6f-1505-4119-be01-2595e3974364",
   "metadata": {},
   "outputs": [],
   "source": [
    "string_n = \"lets visit your world\"\n",
    "val2=string_n.replace(\"lets visit your world\" , \"I love this world\")"
   ]
  },
  {
   "cell_type": "code",
   "execution_count": 26,
   "id": "651852b9-f45b-4d34-9da0-39041b313629",
   "metadata": {},
   "outputs": [
    {
     "name": "stdout",
     "output_type": "stream",
     "text": [
      "139736628248240\n",
      "139736212180704\n"
     ]
    }
   ],
   "source": [
    "print(id(string_n))\n",
    "print(id(val2))"
   ]
  },
  {
   "cell_type": "code",
   "execution_count": 27,
   "id": "af6c3cf8-5bed-483a-9a1b-04c220d24598",
   "metadata": {},
   "outputs": [
    {
     "data": {
      "text/plain": [
       "'hello    world'"
      ]
     },
     "execution_count": 27,
     "metadata": {},
     "output_type": "execute_result"
    }
   ],
   "source": [
    "\"hello \\t world\".expandtabs() ## extra space"
   ]
  },
  {
   "cell_type": "code",
   "execution_count": 28,
   "id": "79dbfd15-ca95-4cea-a9d1-fa0753db0e7d",
   "metadata": {},
   "outputs": [
    {
     "data": {
      "text/plain": [
       "'Welcome to pwskills.Welcome to Data Science Masters'"
      ]
     },
     "execution_count": 28,
     "metadata": {},
     "output_type": "execute_result"
    }
   ],
   "source": [
    "str1=\"Welcome to pwskills.Welcome to Dat cience Masters\"\n",
    "str1.replace(\"Dat cience\" , \"Data Science\")"
   ]
  },
  {
   "cell_type": "code",
   "execution_count": null,
   "id": "e6d9be37-3188-4b80-936f-711c273dc2c1",
   "metadata": {},
   "outputs": [],
   "source": [
    "## To count the number of character in the strings"
   ]
  },
  {
   "cell_type": "code",
   "execution_count": 31,
   "id": "ed339e95-4ce0-4000-aec9-e4ea9385a4d6",
   "metadata": {},
   "outputs": [
    {
     "data": {
      "text/plain": [
       "49"
      ]
     },
     "execution_count": 31,
     "metadata": {},
     "output_type": "execute_result"
    }
   ],
   "source": [
    "str1=(\"Welcome to pwskills.Welcome to Dat cience Masters\")\n",
    "len(str1)"
   ]
  },
  {
   "cell_type": "code",
   "execution_count": 32,
   "id": "020b7e0b-3970-4e7f-9247-ffa7a87cb9ed",
   "metadata": {
    "tags": []
   },
   "outputs": [
    {
     "data": {
      "text/plain": [
       "10"
      ]
     },
     "execution_count": 32,
     "metadata": {},
     "output_type": "execute_result"
    }
   ],
   "source": [
    "str1=(\"Ajit Nahak\")\n",
    "len(str1)"
   ]
  },
  {
   "cell_type": "code",
   "execution_count": 2,
   "id": "d9f484c6-99c9-47fc-b7f1-5b413b4296a1",
   "metadata": {},
   "outputs": [
    {
     "name": "stdout",
     "output_type": "stream",
     "text": [
      "6\n"
     ]
    }
   ],
   "source": [
    "str1=\"abcdef\"\n",
    "count = 0\n",
    "for i in str1:\n",
    "    count = count + 1\n",
    "print(count)\n",
    " "
   ]
  },
  {
   "cell_type": "code",
   "execution_count": 4,
   "id": "a7ede1a5-d54c-48db-9ff1-bf8aaef539b6",
   "metadata": {},
   "outputs": [
    {
     "name": "stdout",
     "output_type": "stream",
     "text": [
      "fedcba"
     ]
    }
   ],
   "source": [
    "for i in list(reversed(str1)):\n",
    "    print(i, end ='')"
   ]
  },
  {
   "cell_type": "code",
   "execution_count": 6,
   "id": "5e18caf8-20be-498b-b2a4-2bf4b54abda9",
   "metadata": {},
   "outputs": [
    {
     "data": {
      "text/plain": [
       "'dATA sCIENCE mASTER'"
      ]
     },
     "execution_count": 6,
     "metadata": {},
     "output_type": "execute_result"
    }
   ],
   "source": [
    "name = \"Data Science Master\"\n",
    "name.swapcase()"
   ]
  },
  {
   "cell_type": "code",
   "execution_count": null,
   "id": "f6d45441-1cf6-4722-aa7a-6c46574f6d79",
   "metadata": {},
   "outputs": [],
   "source": []
  }
 ],
 "metadata": {
  "kernelspec": {
   "display_name": "Python 3 (ipykernel)",
   "language": "python",
   "name": "python3"
  },
  "language_info": {
   "codemirror_mode": {
    "name": "ipython",
    "version": 3
   },
   "file_extension": ".py",
   "mimetype": "text/x-python",
   "name": "python",
   "nbconvert_exporter": "python",
   "pygments_lexer": "ipython3",
   "version": "3.10.8"
  }
 },
 "nbformat": 4,
 "nbformat_minor": 5
}
