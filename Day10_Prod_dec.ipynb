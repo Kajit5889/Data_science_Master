{
 "cells": [
  {
   "cell_type": "code",
   "execution_count": 1,
   "id": "7788ccb2-f9e3-4434-8b1a-a2aaca45314e",
   "metadata": {},
   "outputs": [],
   "source": [
    "class program :\n",
    "    def __init__ (self, course_price, course): ## __init__ ; double ' __ ' private\n",
    "        self.__course_price = course_price\n",
    "        self.course = course\n",
    "        \n",
    "    @property ## declare a variable to give access to public\n",
    "    \n",
    "    def course_price_access (self):\n",
    "        return self.__course_price\n",
    "    \n",
    "    ## to set a price\n",
    "    @course_price_access.setter\n",
    "    \n",
    "    def course_price_set (self , price):\n",
    "        if price <= 4000:\n",
    "            pass\n",
    "        else:\n",
    "            self.__course_price = price\n",
    "    \n",
    "    ## to delete\n",
    "    @course_price_access.deleter\n",
    "    \n",
    "    def course_price_del(self):\n",
    "        del self.__course_price"
   ]
  },
  {
   "cell_type": "code",
   "execution_count": 2,
   "id": "d57d56ac-1d51-47d3-9bb1-42d21b8ff883",
   "metadata": {},
   "outputs": [],
   "source": [
    "p1 = program(3500 , \"data_Science\")"
   ]
  },
  {
   "cell_type": "code",
   "execution_count": 4,
   "id": "0564679f-417f-4e02-8ba1-4487d75cd4db",
   "metadata": {},
   "outputs": [
    {
     "data": {
      "text/plain": [
       "'data_Science'"
      ]
     },
     "execution_count": 4,
     "metadata": {},
     "output_type": "execute_result"
    }
   ],
   "source": [
    "p1.course"
   ]
  },
  {
   "cell_type": "code",
   "execution_count": 9,
   "id": "e2b88d25-3ea0-461b-a79b-ad2d96291f95",
   "metadata": {
    "jp-MarkdownHeadingCollapsed": true,
    "tags": []
   },
   "outputs": [
    {
     "data": {
      "text/plain": [
       "3500"
      ]
     },
     "execution_count": 9,
     "metadata": {},
     "output_type": "execute_result"
    }
   ],
   "source": [
    "p1.course_price_access"
   ]
  },
  {
   "cell_type": "code",
   "execution_count": 12,
   "id": "a028002a-e00c-4cc6-aa63-23bd30a6122a",
   "metadata": {},
   "outputs": [],
   "source": [
    "p1.course_price_set = 7000"
   ]
  },
  {
   "cell_type": "code",
   "execution_count": 13,
   "id": "f89df60a-3175-432b-af8e-da6059313a28",
   "metadata": {},
   "outputs": [
    {
     "data": {
      "text/plain": [
       "7000"
      ]
     },
     "execution_count": 13,
     "metadata": {},
     "output_type": "execute_result"
    }
   ],
   "source": [
    "p1.course_price_access"
   ]
  },
  {
   "cell_type": "code",
   "execution_count": 14,
   "id": "924972cf-304f-4a56-9cb8-637d55c4df08",
   "metadata": {},
   "outputs": [],
   "source": [
    "del p1.course"
   ]
  },
  {
   "cell_type": "code",
   "execution_count": 15,
   "id": "22e82f55-a42a-42bb-a9d3-d825ed672630",
   "metadata": {},
   "outputs": [
    {
     "ename": "AttributeError",
     "evalue": "'program' object has no attribute 'course'",
     "output_type": "error",
     "traceback": [
      "\u001b[0;31m---------------------------------------------------------------------------\u001b[0m",
      "\u001b[0;31mAttributeError\u001b[0m                            Traceback (most recent call last)",
      "Cell \u001b[0;32mIn[15], line 1\u001b[0m\n\u001b[0;32m----> 1\u001b[0m \u001b[43mp1\u001b[49m\u001b[38;5;241;43m.\u001b[39;49m\u001b[43mcourse\u001b[49m\n",
      "\u001b[0;31mAttributeError\u001b[0m: 'program' object has no attribute 'course'"
     ]
    }
   ],
   "source": [
    "p1.course"
   ]
  },
  {
   "cell_type": "code",
   "execution_count": null,
   "id": "01f29f56-51e0-4ea9-93bc-1bd6bb892db9",
   "metadata": {},
   "outputs": [],
   "source": [
    "## \"_\" protected , \" __\" private \n",
    "\n",
    "## property is a decorator ; available inside python\n",
    "\n",
    "## setter is used to modify and change \n",
    "\n",
    "## watned to delete using del \n"
   ]
  },
  {
   "cell_type": "code",
   "execution_count": null,
   "id": "435395d3-f047-4fa4-b252-c71bf67b2d0c",
   "metadata": {},
   "outputs": [],
   "source": []
  },
  {
   "cell_type": "code",
   "execution_count": null,
   "id": "01b23f98-3372-4f48-b034-c893792dc171",
   "metadata": {},
   "outputs": [],
   "source": []
  }
 ],
 "metadata": {
  "kernelspec": {
   "display_name": "Python 3 (ipykernel)",
   "language": "python",
   "name": "python3"
  },
  "language_info": {
   "codemirror_mode": {
    "name": "ipython",
    "version": 3
   },
   "file_extension": ".py",
   "mimetype": "text/x-python",
   "name": "python",
   "nbconvert_exporter": "python",
   "pygments_lexer": "ipython3",
   "version": "3.10.8"
  }
 },
 "nbformat": 4,
 "nbformat_minor": 5
}
