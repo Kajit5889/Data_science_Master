{
 "cells": [
  {
   "cell_type": "code",
   "execution_count": 2,
   "id": "e1de3364-5098-4811-ada4-3c418196e9e9",
   "metadata": {},
   "outputs": [
    {
     "name": "stdout",
     "output_type": "stream",
     "text": [
      "abc AND 20 yr old , xyz\n"
     ]
    }
   ],
   "source": [
    "Name=\"xyz\"\n",
    "age=20\n",
    "Degree=\"abc\"\n",
    "\n",
    "print(\"{} AND {} yr old , {}\".format(Degree,age,Name))"
   ]
  },
  {
   "cell_type": "code",
   "execution_count": 3,
   "id": "08b16d3b-c876-4185-9474-fadb9af5b738",
   "metadata": {},
   "outputs": [
    {
     "name": "stdout",
     "output_type": "stream",
     "text": [
      "you have completed your abc and you are 20 yr old , i am xyz\n"
     ]
    }
   ],
   "source": [
    "\n",
    "#### formating \n",
    "\n",
    "print(\"you have completed your {d} and you are {a} yr old , i am {n}\".format(n=Name,a=age,d=Degree))"
   ]
  },
  {
   "cell_type": "code",
   "execution_count": 4,
   "id": "c2da705c-830e-4b01-82d5-860c0d07706e",
   "metadata": {},
   "outputs": [
    {
     "name": "stdout",
     "output_type": "stream",
     "text": [
      "you have completed your abc and you are 20 yr old , i am xyz\n"
     ]
    }
   ],
   "source": [
    "##### f string value\n",
    "\n",
    "print(f\"you have completed your {Degree} and you are {age} yr old , i am {Name}\")"
   ]
  },
  {
   "cell_type": "code",
   "execution_count": null,
   "id": "01a03109-7fcf-4ef8-9f2b-03e3744cdbaa",
   "metadata": {},
   "outputs": [],
   "source": [
    "## Task\n",
    "\n",
    "##Take a input of age\n",
    "##check age >=18 and age <=45\n",
    "### display a message you are young blood\n",
    "\n",
    "\n",
    "    \n"
   ]
  },
  {
   "cell_type": "code",
   "execution_count": 46,
   "id": "9d46cc47-f87f-459c-907a-935e16be98e1",
   "metadata": {},
   "outputs": [
    {
     "name": "stdin",
     "output_type": "stream",
     "text": [
      "please enter your age : 32\n"
     ]
    },
    {
     "name": "stdout",
     "output_type": "stream",
     "text": [
      "you are a young blood\n"
     ]
    }
   ],
   "source": [
    "Age=int(input(\"please enter your age :\"))\n",
    "if Age >=18 and Age <=45:\n",
    "    print (\"you are a young blood\")"
   ]
  },
  {
   "cell_type": "code",
   "execution_count": null,
   "id": "158793b7-2a02-4567-99ed-14ed1fdbccad",
   "metadata": {},
   "outputs": [],
   "source": []
  },
  {
   "cell_type": "code",
   "execution_count": null,
   "id": "a6ac18b7-6709-4880-93b5-1329ceff3c68",
   "metadata": {},
   "outputs": [],
   "source": [
    "#### mall input a product\n",
    "### Product price >=1000 rs got 10% off\n",
    "# Print the price\n",
    "### product price <= 1000 rs got 30 % off\n",
    "# print the price"
   ]
  },
  {
   "cell_type": "code",
   "execution_count": 21,
   "id": "85de94be-a4d9-497d-b138-19e41d0d0cb8",
   "metadata": {},
   "outputs": [
    {
     "name": "stdin",
     "output_type": "stream",
     "text": [
      "Your selcted item Price : 800\n"
     ]
    },
    {
     "name": "stdout",
     "output_type": "stream",
     "text": [
      "You final price is 560.0\n"
     ]
    }
   ],
   "source": [
    "\n",
    "Product_price = int(input(\"Your selcted item Price :\"))\n",
    "if Product_price >= 1000:\n",
    "    print(\"You final price is {}\".format(Product_price*0.8))\n",
    "else:\n",
    "    print(\"You final price is {}\".format(Product_price*0.7))\n",
    "    \n",
    "    "
   ]
  },
  {
   "cell_type": "code",
   "execution_count": null,
   "id": "68357f5a-cb30-474f-b167-678f7801d84a",
   "metadata": {},
   "outputs": [],
   "source": [
    "#### mall input a product\n",
    "### Product price >=3000 rs got 20% off\n",
    "# Print the price\n",
    "### product price >= 2000 rs and <=3000 got 30 % off\n",
    "# print the price\n",
    "### product price <= 2000 rs and <=3000 got 40 % off\n",
    "# print the price"
   ]
  },
  {
   "cell_type": "code",
   "execution_count": 25,
   "id": "5a81f209-002c-4f09-99a2-0459c0ecf932",
   "metadata": {},
   "outputs": [
    {
     "name": "stdin",
     "output_type": "stream",
     "text": [
      "Your selcted item Price : 1999\n"
     ]
    },
    {
     "name": "stdout",
     "output_type": "stream",
     "text": [
      "You final price is 1199.3999999999999\n"
     ]
    }
   ],
   "source": [
    "Product_price = int(input(\"Your selcted item Price :\"))\n",
    "if Product_price > 3000:\n",
    "    print(\"You final price is {}\".format(Product_price*0.8))\n",
    "elif Product_price >= 2000 and Product_price <=3000:\n",
    "    print(\"You final price is {}\".format(Product_price*0.7))\n",
    "else:\n",
    "    print(\"You final price is {}\".format(Product_price*0.6))        \n"
   ]
  },
  {
   "cell_type": "code",
   "execution_count": null,
   "id": "1e81c88f-3ca9-45b5-a79d-84e911cc7038",
   "metadata": {},
   "outputs": [],
   "source": [
    "## Nested IF ; its a if condition inside there is if condition :\n"
   ]
  },
  {
   "cell_type": "code",
   "execution_count": 27,
   "id": "edf88827-2f1c-4539-8600-e81c1d003946",
   "metadata": {},
   "outputs": [
    {
     "name": "stdin",
     "output_type": "stream",
     "text": [
      "Your selcted item Price : 2699\n"
     ]
    },
    {
     "name": "stdout",
     "output_type": "stream",
     "text": [
      "Get and checkout our luckydraw coupoun center and win a surprize gift\n",
      "You final price is 1889.3\n"
     ]
    }
   ],
   "source": [
    "Product_price = int(input(\"Your selcted item Price :\"))\n",
    "if Product_price > 3000:\n",
    "    if Product_price==4000:\n",
    "        print(\"Congratulation you won a Dhamaka offer for this upcoming festival\")\n",
    "    print(\"You final price is {}\".format(Product_price*0.8))\n",
    "elif Product_price >= 2000 and Product_price <=3000:\n",
    "    if Product_price >=2500 and Product_price <=3000:\n",
    "        print(\"Get and checkout our luckydraw coupoun center and win a surprize gift\")\n",
    "    print(\"You final price is {}\".format(Product_price*0.7))\n",
    "else:\n",
    "    print(\"You final price is {}\".format(Product_price*0.6))        \n"
   ]
  },
  {
   "cell_type": "code",
   "execution_count": 37,
   "id": "27196b74-53f7-4c8a-ae38-53a4869df38c",
   "metadata": {},
   "outputs": [
    {
     "data": {
      "text/plain": [
       "True"
      ]
     },
     "execution_count": 37,
     "metadata": {},
     "output_type": "execute_result"
    }
   ],
   "source": [
    "## Comparision operator\n",
    "True==True"
   ]
  },
  {
   "cell_type": "code",
   "execution_count": 4,
   "id": "71f444dc-fc23-4e77-b61d-d6e8c90e2f58",
   "metadata": {},
   "outputs": [
    {
     "name": "stdin",
     "output_type": "stream",
     "text": [
      "Your selcted item Price : 1000\n"
     ]
    },
    {
     "name": "stdout",
     "output_type": "stream",
     "text": [
      "Value is 1000 or more\n"
     ]
    }
   ],
   "source": [
    "## Single Statement shutes\n",
    "\n",
    "Product_price = int(input(\"Your selcted item Price :\"))\n",
    "if (Product_price<=999):print(\"Value is 999 or less\")\n",
    "else:\n",
    "    print(\"Value is 1000 or more\")\n"
   ]
  },
  {
   "cell_type": "markdown",
   "id": "cb344307-6790-4685-8255-c640f04a76ef",
   "metadata": {},
   "source": [
    "## LOOP Statment\n",
    "\n",
    "### While loop\n",
    "### for loop\n",
    "### nested loop\n",
    "### loop control(Break, continue, Pass)"
   ]
  },
  {
   "cell_type": "code",
   "execution_count": 9,
   "id": "2dde97fb-332d-43fd-ac79-46e44c9b0efb",
   "metadata": {},
   "outputs": [
    {
     "name": "stdout",
     "output_type": "stream",
     "text": [
      "21 22 23 24 25 26 27 28 29 30 31 32 33 34 35 36 37 38 39 40 41 42 43 44 45 46 47 48 49 50 51 52 53 54 55 56 57 58 59 60 Retiered\n"
     ]
    }
   ],
   "source": [
    "\n",
    "## While loop ; while - else \n",
    "\n",
    "joining_age = 21\n",
    "while joining_age <= 60:\n",
    "    print(joining_age,end= \" \")\n",
    "    joining_age = joining_age+1\n",
    "    \n",
    "else:\n",
    "    print(\"Retiered\")\n",
    "\n"
   ]
  },
  {
   "cell_type": "code",
   "execution_count": null,
   "id": "bc172171-cafa-4018-92d1-11e96af50ae1",
   "metadata": {},
   "outputs": [],
   "source": []
  },
  {
   "cell_type": "code",
   "execution_count": 10,
   "id": "7d6186ab-944e-477d-b825-acc7604d42fd",
   "metadata": {},
   "outputs": [
    {
     "name": "stdout",
     "output_type": "stream",
     "text": [
      "100\n",
      "200\n",
      "300\n",
      "400\n",
      "500\n",
      "600\n",
      "700\n",
      "800\n",
      "900\n",
      "1000\n",
      "Running out off cash reach out later\n"
     ]
    }
   ],
   "source": [
    "Money = 100\n",
    "while Money <=1000:\n",
    "    print(Money)\n",
    "    Money = Money + 100\n",
    "    \n",
    "else :\n",
    "    print(\"Running out off cash reach out later\")\n"
   ]
  },
  {
   "cell_type": "code",
   "execution_count": 19,
   "id": "335c24e1-ae8f-45f8-9128-ecbf5aef3f12",
   "metadata": {},
   "outputs": [
    {
     "name": "stdout",
     "output_type": "stream",
     "text": [
      "1000\n",
      "900\n",
      "800\n",
      "700\n",
      "600\n",
      "500\n",
      "400\n",
      "300\n",
      "200\n",
      "100\n",
      "Reach out later, OUT OF SERVIE\n"
     ]
    }
   ],
   "source": [
    "## Atm machine\n",
    "## having 1000 rupees\n",
    "## each transaction  100, out from machine\n",
    "## end of the day if money is over ; final update as its over reach out later\n",
    "\n",
    "\n",
    "total_amount = 1000\n",
    "\n",
    "while total_amount != 0:   \n",
    "    print (total_amount)\n",
    "    total_amount= (total_amount -100)\n",
    "else :\n",
    "    print(\"Reach out later, OUT OF SERVIE\")"
   ]
  },
  {
   "cell_type": "code",
   "execution_count": null,
   "id": "9134b4b6-bad4-4cb1-81b7-72cd6e06077e",
   "metadata": {},
   "outputs": [],
   "source": []
  },
  {
   "cell_type": "code",
   "execution_count": null,
   "id": "fa767ae2-4fe5-44cf-b9e9-74669341e6ea",
   "metadata": {},
   "outputs": [],
   "source": []
  },
  {
   "cell_type": "code",
   "execution_count": null,
   "id": "7ee3f46f-0d93-4b9c-92af-bf722ed0e442",
   "metadata": {},
   "outputs": [],
   "source": []
  },
  {
   "cell_type": "code",
   "execution_count": null,
   "id": "845da817-0bd6-4cea-adec-086d83309406",
   "metadata": {},
   "outputs": [],
   "source": []
  },
  {
   "cell_type": "code",
   "execution_count": null,
   "id": "49097ad7-54c3-4410-a3a0-f5c534bcd13d",
   "metadata": {},
   "outputs": [],
   "source": []
  },
  {
   "cell_type": "code",
   "execution_count": null,
   "id": "11756d0d-bf1d-4c58-a0c3-5c2d42f04835",
   "metadata": {},
   "outputs": [],
   "source": []
  },
  {
   "cell_type": "code",
   "execution_count": null,
   "id": "a7a8b4cb-8488-4b51-8486-b5df46bafea4",
   "metadata": {},
   "outputs": [],
   "source": []
  },
  {
   "cell_type": "code",
   "execution_count": null,
   "id": "660507d0-df1b-4201-be2b-232bcd3f4a3d",
   "metadata": {},
   "outputs": [],
   "source": []
  },
  {
   "cell_type": "code",
   "execution_count": null,
   "id": "3a8c4391-df0b-4cdf-9dfa-c31e95f728db",
   "metadata": {},
   "outputs": [],
   "source": []
  },
  {
   "cell_type": "code",
   "execution_count": null,
   "id": "b6983986-cf8f-4f24-9bc8-7bf7b24efcf9",
   "metadata": {},
   "outputs": [],
   "source": []
  },
  {
   "cell_type": "code",
   "execution_count": null,
   "id": "6cf6ccdd-0a77-4bdc-abb9-3a4644fd3699",
   "metadata": {},
   "outputs": [],
   "source": []
  },
  {
   "cell_type": "code",
   "execution_count": null,
   "id": "f3af38e3-3537-476d-a0b9-04b0b076382b",
   "metadata": {},
   "outputs": [],
   "source": []
  },
  {
   "cell_type": "code",
   "execution_count": null,
   "id": "68c1f950-cd78-472b-99ce-adab5d63b9ef",
   "metadata": {},
   "outputs": [],
   "source": []
  },
  {
   "cell_type": "code",
   "execution_count": null,
   "id": "41cfe35a-339f-4eda-899e-a12075ca7bf9",
   "metadata": {},
   "outputs": [],
   "source": []
  },
  {
   "cell_type": "code",
   "execution_count": null,
   "id": "998067d9-9e40-420c-a0fd-a57d9090f67a",
   "metadata": {},
   "outputs": [],
   "source": []
  },
  {
   "cell_type": "code",
   "execution_count": null,
   "id": "99d268c1-b790-46ea-afe8-838fa5c3ca0c",
   "metadata": {},
   "outputs": [],
   "source": []
  },
  {
   "cell_type": "code",
   "execution_count": null,
   "id": "1c571302-6e94-4da5-95d8-7f07c51a43e6",
   "metadata": {},
   "outputs": [],
   "source": []
  },
  {
   "cell_type": "code",
   "execution_count": null,
   "id": "9ccc4414-c59f-46e1-a4cf-53e215ed2d87",
   "metadata": {},
   "outputs": [],
   "source": []
  },
  {
   "cell_type": "code",
   "execution_count": null,
   "id": "b42d27fc-75e4-41ac-a834-ef3934342347",
   "metadata": {},
   "outputs": [],
   "source": []
  },
  {
   "cell_type": "code",
   "execution_count": null,
   "id": "a8b9b2f5-f8f5-47ab-961e-7071db5afeea",
   "metadata": {},
   "outputs": [],
   "source": []
  },
  {
   "cell_type": "code",
   "execution_count": null,
   "id": "fda73e76-fb4b-4b71-9fb3-95c3ba9dbaf7",
   "metadata": {},
   "outputs": [],
   "source": []
  },
  {
   "cell_type": "code",
   "execution_count": null,
   "id": "ca715a69-ddee-4a91-b7bb-8f84d3bd0874",
   "metadata": {},
   "outputs": [],
   "source": []
  },
  {
   "cell_type": "code",
   "execution_count": null,
   "id": "46505be6-a75b-40a2-922e-02bec916e021",
   "metadata": {},
   "outputs": [],
   "source": []
  },
  {
   "cell_type": "code",
   "execution_count": null,
   "id": "d8d3ebd3-115f-4321-a33b-cd8fba1bf938",
   "metadata": {},
   "outputs": [],
   "source": []
  },
  {
   "cell_type": "code",
   "execution_count": null,
   "id": "e016abb9-9f30-4d11-a61d-c57988ab43de",
   "metadata": {},
   "outputs": [],
   "source": []
  },
  {
   "cell_type": "code",
   "execution_count": null,
   "id": "9044c01c-78b8-4718-834c-31785d6ca114",
   "metadata": {},
   "outputs": [],
   "source": []
  },
  {
   "cell_type": "code",
   "execution_count": null,
   "id": "29f38029-4fbd-4ac5-ae41-688cb3f72f19",
   "metadata": {},
   "outputs": [],
   "source": []
  },
  {
   "cell_type": "code",
   "execution_count": null,
   "id": "a7320c24-8ed6-4c02-85bc-68ea25f7d484",
   "metadata": {},
   "outputs": [],
   "source": []
  },
  {
   "cell_type": "code",
   "execution_count": null,
   "id": "0dad86d8-bc0c-4f33-ba74-34d5e44522c3",
   "metadata": {},
   "outputs": [],
   "source": []
  },
  {
   "cell_type": "code",
   "execution_count": null,
   "id": "2be9517f-0656-492f-978f-ec970051dbd9",
   "metadata": {},
   "outputs": [],
   "source": []
  },
  {
   "cell_type": "code",
   "execution_count": null,
   "id": "ee00200b-7bb8-40c4-b492-36709322a0ef",
   "metadata": {},
   "outputs": [],
   "source": []
  },
  {
   "cell_type": "code",
   "execution_count": null,
   "id": "679384d8-7337-45ea-8932-3ae613fc8e0b",
   "metadata": {},
   "outputs": [],
   "source": []
  },
  {
   "cell_type": "code",
   "execution_count": null,
   "id": "57d5cfcc-d32a-42ab-881d-32735113437d",
   "metadata": {},
   "outputs": [],
   "source": []
  },
  {
   "cell_type": "code",
   "execution_count": null,
   "id": "6b122fa0-1ef0-4948-9e21-24e45ffba060",
   "metadata": {},
   "outputs": [],
   "source": []
  },
  {
   "cell_type": "code",
   "execution_count": null,
   "id": "7770b97a-6f07-4e86-bbb5-a93b7348a379",
   "metadata": {},
   "outputs": [],
   "source": []
  },
  {
   "cell_type": "code",
   "execution_count": null,
   "id": "38291eef-7ce4-4e8d-aa48-e65209468af7",
   "metadata": {},
   "outputs": [],
   "source": []
  },
  {
   "cell_type": "code",
   "execution_count": null,
   "id": "58b87004-0413-4091-8225-ceaafbe986ed",
   "metadata": {},
   "outputs": [],
   "source": []
  },
  {
   "cell_type": "code",
   "execution_count": null,
   "id": "2a052cd9-d931-4017-bcd5-0f2f8031146b",
   "metadata": {},
   "outputs": [],
   "source": []
  },
  {
   "cell_type": "code",
   "execution_count": null,
   "id": "aa6102a9-9bf4-4093-9aea-981dbc46322a",
   "metadata": {},
   "outputs": [],
   "source": []
  },
  {
   "cell_type": "code",
   "execution_count": null,
   "id": "6f260774-545d-4304-a3f1-0df87681bcf3",
   "metadata": {},
   "outputs": [],
   "source": []
  },
  {
   "cell_type": "code",
   "execution_count": null,
   "id": "2bc17b19-3257-4279-83c3-eec45cae2b93",
   "metadata": {},
   "outputs": [],
   "source": []
  },
  {
   "cell_type": "code",
   "execution_count": null,
   "id": "19303782-7956-4402-8aae-b5a0957e0520",
   "metadata": {},
   "outputs": [],
   "source": []
  },
  {
   "cell_type": "code",
   "execution_count": null,
   "id": "582d6947-e927-4ea5-8cee-6593fa91cd56",
   "metadata": {},
   "outputs": [],
   "source": []
  },
  {
   "cell_type": "code",
   "execution_count": null,
   "id": "7c44bd5c-1003-4e93-8bb0-35901c007cf0",
   "metadata": {},
   "outputs": [],
   "source": []
  },
  {
   "cell_type": "code",
   "execution_count": null,
   "id": "af290466-e06e-435c-96d8-c8580581c756",
   "metadata": {},
   "outputs": [],
   "source": []
  },
  {
   "cell_type": "code",
   "execution_count": null,
   "id": "812a4f11-ea60-477e-a0bb-9af4b1479a86",
   "metadata": {},
   "outputs": [],
   "source": []
  },
  {
   "cell_type": "code",
   "execution_count": null,
   "id": "303b1438-7d8f-4530-85f7-511fe7dd8925",
   "metadata": {},
   "outputs": [],
   "source": []
  },
  {
   "cell_type": "code",
   "execution_count": null,
   "id": "375c68d6-3317-4351-8071-b87244c3c38c",
   "metadata": {},
   "outputs": [],
   "source": []
  },
  {
   "cell_type": "code",
   "execution_count": null,
   "id": "0cd3a024-663e-4ec3-803d-eb050b74fd6d",
   "metadata": {},
   "outputs": [],
   "source": []
  },
  {
   "cell_type": "code",
   "execution_count": null,
   "id": "bc50aeb5-b503-4be5-8467-379422e0b89f",
   "metadata": {},
   "outputs": [],
   "source": []
  },
  {
   "cell_type": "code",
   "execution_count": null,
   "id": "0d43fbe4-49bf-4fc0-a2af-e87475d182b4",
   "metadata": {},
   "outputs": [],
   "source": []
  },
  {
   "cell_type": "code",
   "execution_count": null,
   "id": "b8f52389-9283-4b0c-9add-9f782d2d4d7d",
   "metadata": {},
   "outputs": [],
   "source": []
  },
  {
   "cell_type": "code",
   "execution_count": null,
   "id": "c4ef07e4-8646-4687-b14d-d7c45da0413f",
   "metadata": {},
   "outputs": [],
   "source": []
  },
  {
   "cell_type": "code",
   "execution_count": null,
   "id": "1dda615a-e32d-4238-bae9-7122cef01b66",
   "metadata": {},
   "outputs": [],
   "source": []
  }
 ],
 "metadata": {
  "kernelspec": {
   "display_name": "Python 3 (ipykernel)",
   "language": "python",
   "name": "python3"
  },
  "language_info": {
   "codemirror_mode": {
    "name": "ipython",
    "version": 3
   },
   "file_extension": ".py",
   "mimetype": "text/x-python",
   "name": "python",
   "nbconvert_exporter": "python",
   "pygments_lexer": "ipython3",
   "version": "3.10.8"
  }
 },
 "nbformat": 4,
 "nbformat_minor": 5
}
