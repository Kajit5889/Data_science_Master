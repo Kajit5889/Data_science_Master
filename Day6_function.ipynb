{
 "cells": [
  {
   "cell_type": "markdown",
   "id": "79cb917a-c756-4158-b5c1-c47fcce6007b",
   "metadata": {},
   "source": [
    "## function"
   ]
  },
  {
   "cell_type": "code",
   "execution_count": 3,
   "id": "5b136425-c33a-416c-a3c9-a13225c24735",
   "metadata": {},
   "outputs": [],
   "source": [
    "## it declar with def\n",
    "## it initialize the function\n",
    "def test():\n",
    "    pass"
   ]
  },
  {
   "cell_type": "code",
   "execution_count": 4,
   "id": "55e6101b-ee8e-4c36-b67a-fcb3f51f06cc",
   "metadata": {},
   "outputs": [],
   "source": [
    "def test1():\n",
    "    print('this is my first fun')"
   ]
  },
  {
   "cell_type": "code",
   "execution_count": 5,
   "id": "baddf446-9c0e-4762-99c5-53d6e14c64c1",
   "metadata": {},
   "outputs": [
    {
     "name": "stdout",
     "output_type": "stream",
     "text": [
      "this is my first fun\n"
     ]
    }
   ],
   "source": [
    "test1()"
   ]
  },
  {
   "cell_type": "code",
   "execution_count": 9,
   "id": "040e4365-69ff-4768-bb89-7a6d248da649",
   "metadata": {},
   "outputs": [
    {
     "name": "stdout",
     "output_type": "stream",
     "text": [
      "this is my first fun\n"
     ]
    },
    {
     "ename": "TypeError",
     "evalue": "unsupported operand type(s) for +: 'NoneType' and 'str'",
     "output_type": "error",
     "traceback": [
      "\u001b[0;31m---------------------------------------------------------------------------\u001b[0m",
      "\u001b[0;31mTypeError\u001b[0m                                 Traceback (most recent call last)",
      "Cell \u001b[0;32mIn[9], line 1\u001b[0m\n\u001b[0;32m----> 1\u001b[0m \u001b[43mtest1\u001b[49m\u001b[43m(\u001b[49m\u001b[43m)\u001b[49m\u001b[43m \u001b[49m\u001b[38;5;241;43m+\u001b[39;49m\u001b[43m \u001b[49m\u001b[38;5;124;43m\"\u001b[39;49m\u001b[38;5;124;43mabc\u001b[39;49m\u001b[38;5;124;43m\"\u001b[39;49m\n",
      "\u001b[0;31mTypeError\u001b[0m: unsupported operand type(s) for +: 'NoneType' and 'str'"
     ]
    }
   ],
   "source": [
    "test1() + \"abc\""
   ]
  },
  {
   "cell_type": "code",
   "execution_count": 17,
   "id": "63c460b9-c9ab-4dd3-aa73-466505454456",
   "metadata": {},
   "outputs": [],
   "source": [
    "def test1():\n",
    "    return \"lets try \"\n"
   ]
  },
  {
   "cell_type": "code",
   "execution_count": 18,
   "id": "b2e06ea1-2e78-4dfa-826d-6c4f6992a739",
   "metadata": {},
   "outputs": [
    {
     "data": {
      "text/plain": [
       "'lets try '"
      ]
     },
     "execution_count": 18,
     "metadata": {},
     "output_type": "execute_result"
    }
   ],
   "source": [
    "test1()\n"
   ]
  },
  {
   "cell_type": "code",
   "execution_count": 19,
   "id": "b37390e4-5a8f-4dd4-9184-c4c5a05b9401",
   "metadata": {},
   "outputs": [
    {
     "data": {
      "text/plain": [
       "'lets try abc'"
      ]
     },
     "execution_count": 19,
     "metadata": {},
     "output_type": "execute_result"
    }
   ],
   "source": [
    "test1()  +  \"abc\""
   ]
  },
  {
   "cell_type": "code",
   "execution_count": 20,
   "id": "d25bceb4-60a5-4c03-aafa-2197eac241a9",
   "metadata": {},
   "outputs": [],
   "source": [
    "def test5():\n",
    "    return 1,4,6,7,\"avb\",45.45\n",
    "\n",
    "## mutliple return from function"
   ]
  },
  {
   "cell_type": "code",
   "execution_count": 21,
   "id": "dd43a272-1f3b-4c37-a08b-e7ec638c5692",
   "metadata": {},
   "outputs": [
    {
     "data": {
      "text/plain": [
       "(1, 4, 6, 7, 'avb', 45.45)"
      ]
     },
     "execution_count": 21,
     "metadata": {},
     "output_type": "execute_result"
    }
   ],
   "source": [
    "test5()"
   ]
  },
  {
   "cell_type": "code",
   "execution_count": 23,
   "id": "c4c3b04f-8f9a-4b37-aec2-eaf6c7f56a30",
   "metadata": {},
   "outputs": [],
   "source": [
    "a = 1,3,4,7,8,9,9"
   ]
  },
  {
   "cell_type": "code",
   "execution_count": 24,
   "id": "a6baec60-ff1d-4f64-a8db-415afad8a4d8",
   "metadata": {},
   "outputs": [
    {
     "data": {
      "text/plain": [
       "(1, 3, 4, 7, 8, 9, 9)"
      ]
     },
     "execution_count": 24,
     "metadata": {},
     "output_type": "execute_result"
    }
   ],
   "source": [
    "a"
   ]
  },
  {
   "cell_type": "code",
   "execution_count": 25,
   "id": "c5dd8877-95ff-4bd4-9e89-e154c734a18e",
   "metadata": {},
   "outputs": [],
   "source": [
    "a,b,c,d,e = 1,2,4,True,\"Avc\""
   ]
  },
  {
   "cell_type": "code",
   "execution_count": 26,
   "id": "8722da28-3636-4e4d-a04b-6000634cebc3",
   "metadata": {},
   "outputs": [
    {
     "data": {
      "text/plain": [
       "'Avc'"
      ]
     },
     "execution_count": 26,
     "metadata": {},
     "output_type": "execute_result"
    }
   ],
   "source": [
    "e"
   ]
  },
  {
   "cell_type": "code",
   "execution_count": 27,
   "id": "c82168e9-6e89-444f-a352-8abbae8d8457",
   "metadata": {},
   "outputs": [
    {
     "data": {
      "text/plain": [
       "True"
      ]
     },
     "execution_count": 27,
     "metadata": {},
     "output_type": "execute_result"
    }
   ],
   "source": [
    "d"
   ]
  },
  {
   "cell_type": "code",
   "execution_count": 28,
   "id": "d95bbd95-6b33-4ff1-97a8-e339a2e5a448",
   "metadata": {},
   "outputs": [
    {
     "data": {
      "text/plain": [
       "1"
      ]
     },
     "execution_count": 28,
     "metadata": {},
     "output_type": "execute_result"
    }
   ],
   "source": [
    "a"
   ]
  },
  {
   "cell_type": "code",
   "execution_count": 29,
   "id": "d0f1040c-f57e-4691-bce2-810d86f92ff4",
   "metadata": {},
   "outputs": [
    {
     "data": {
      "text/plain": [
       "(1, 4, 6, 7, 'avb', 45.45)"
      ]
     },
     "execution_count": 29,
     "metadata": {},
     "output_type": "execute_result"
    }
   ],
   "source": [
    "test5() ## always in tuples"
   ]
  },
  {
   "cell_type": "code",
   "execution_count": 30,
   "id": "5a3bea27-e892-4a0e-b909-59dfa070e618",
   "metadata": {},
   "outputs": [
    {
     "data": {
      "text/plain": [
       "1"
      ]
     },
     "execution_count": 30,
     "metadata": {},
     "output_type": "execute_result"
    }
   ],
   "source": [
    "test5()[0]"
   ]
  },
  {
   "cell_type": "code",
   "execution_count": 31,
   "id": "374b2d12-4f34-4b1d-a3e0-49cdedc39b85",
   "metadata": {},
   "outputs": [
    {
     "data": {
      "text/plain": [
       "(1, 4, 6, 7, 'avb', 45.45)"
      ]
     },
     "execution_count": 31,
     "metadata": {},
     "output_type": "execute_result"
    }
   ],
   "source": [
    "test5()"
   ]
  },
  {
   "cell_type": "code",
   "execution_count": 33,
   "id": "72d23204-3767-4c5b-b984-8cc3b404a5f5",
   "metadata": {},
   "outputs": [],
   "source": [
    "a,b,c,d,e,f=test5()"
   ]
  },
  {
   "cell_type": "code",
   "execution_count": 34,
   "id": "60f6bc45-675b-4fa4-b9d9-3ff5e4f73dee",
   "metadata": {},
   "outputs": [
    {
     "data": {
      "text/plain": [
       "1"
      ]
     },
     "execution_count": 34,
     "metadata": {},
     "output_type": "execute_result"
    }
   ],
   "source": [
    "a"
   ]
  },
  {
   "cell_type": "code",
   "execution_count": 35,
   "id": "766493d3-4337-4adb-b68c-a0e05b9b993c",
   "metadata": {},
   "outputs": [
    {
     "data": {
      "text/plain": [
       "'avb'"
      ]
     },
     "execution_count": 35,
     "metadata": {},
     "output_type": "execute_result"
    }
   ],
   "source": [
    "e"
   ]
  },
  {
   "cell_type": "code",
   "execution_count": null,
   "id": "204cdaa1-2e10-4bae-ab53-571d04e40ac3",
   "metadata": {},
   "outputs": [],
   "source": []
  },
  {
   "cell_type": "code",
   "execution_count": 36,
   "id": "f57321e9-a06e-4949-9a57-9cd2378804f0",
   "metadata": {},
   "outputs": [],
   "source": [
    "def test4():\n",
    "    a = 3*4 +5\n",
    "    return a"
   ]
  },
  {
   "cell_type": "code",
   "execution_count": 38,
   "id": "584569f1-1ab1-4ed4-a2fd-e8052358d032",
   "metadata": {},
   "outputs": [
    {
     "data": {
      "text/plain": [
       "int"
      ]
     },
     "execution_count": 38,
     "metadata": {},
     "output_type": "execute_result"
    }
   ],
   "source": [
    "type(test4())"
   ]
  },
  {
   "cell_type": "code",
   "execution_count": 39,
   "id": "d10849fe-7c47-4ed7-b00b-3537342c8eaa",
   "metadata": {},
   "outputs": [],
   "source": [
    "def test5(a,b):\n",
    "    c = a + b\n",
    "    return c"
   ]
  },
  {
   "cell_type": "code",
   "execution_count": 45,
   "id": "e8d4b204-932d-4503-912f-b35da117b821",
   "metadata": {},
   "outputs": [
    {
     "ename": "TypeError",
     "evalue": "test5() missing 2 required positional arguments: 'a' and 'b'",
     "output_type": "error",
     "traceback": [
      "\u001b[0;31m---------------------------------------------------------------------------\u001b[0m",
      "\u001b[0;31mTypeError\u001b[0m                                 Traceback (most recent call last)",
      "Cell \u001b[0;32mIn[45], line 1\u001b[0m\n\u001b[0;32m----> 1\u001b[0m \u001b[43mtest5\u001b[49m\u001b[43m(\u001b[49m\u001b[43m)\u001b[49m\n",
      "\u001b[0;31mTypeError\u001b[0m: test5() missing 2 required positional arguments: 'a' and 'b'"
     ]
    }
   ],
   "source": [
    "test5()"
   ]
  },
  {
   "cell_type": "code",
   "execution_count": 46,
   "id": "fe2a0458-7636-4a07-931e-ed80e8214959",
   "metadata": {},
   "outputs": [
    {
     "data": {
      "text/plain": [
       "3"
      ]
     },
     "execution_count": 46,
     "metadata": {},
     "output_type": "execute_result"
    }
   ],
   "source": [
    "test5(1,2) # passing value"
   ]
  },
  {
   "cell_type": "code",
   "execution_count": 47,
   "id": "6777fca7-b5cd-4046-8d0b-b8b2939f06bb",
   "metadata": {},
   "outputs": [
    {
     "data": {
      "text/plain": [
       "'Ajitkumar'"
      ]
     },
     "execution_count": 47,
     "metadata": {},
     "output_type": "execute_result"
    }
   ],
   "source": [
    "test5(\"Ajit\", \"kumar\") # concatination"
   ]
  },
  {
   "cell_type": "code",
   "execution_count": 48,
   "id": "c2206a95-9979-4fa9-9f7e-ac487d1631b8",
   "metadata": {},
   "outputs": [
    {
     "data": {
      "text/plain": [
       "[1, 2, 3, 4, 5, 6, 7, 8]"
      ]
     },
     "execution_count": 48,
     "metadata": {},
     "output_type": "execute_result"
    }
   ],
   "source": [
    "test5([1,2,3,4],[5,6,7,8]) # concatination"
   ]
  },
  {
   "cell_type": "code",
   "execution_count": 50,
   "id": "e6599afd-83ea-4f44-9d42-3163e1df9079",
   "metadata": {},
   "outputs": [
    {
     "data": {
      "text/plain": [
       "'Ajitkumar'"
      ]
     },
     "execution_count": 50,
     "metadata": {},
     "output_type": "execute_result"
    }
   ],
   "source": [
    "test5(a = \"Ajit\", b =\"kumar\")"
   ]
  },
  {
   "cell_type": "code",
   "execution_count": 51,
   "id": "6adcefb9-26cb-4aeb-8594-10ecfae15d76",
   "metadata": {},
   "outputs": [],
   "source": [
    "l = [1,2,3,4,5,6,[12,3,4,5,7],\"test\",\"checkng\"]"
   ]
  },
  {
   "cell_type": "code",
   "execution_count": 52,
   "id": "e6c46ec9-c696-4db2-a5c3-697779917d80",
   "metadata": {},
   "outputs": [
    {
     "data": {
      "text/plain": [
       "[1, 2, 3, 4, 5, 6, [12, 3, 4, 5, 7], 'test', 'checkng']"
      ]
     },
     "execution_count": 52,
     "metadata": {},
     "output_type": "execute_result"
    }
   ],
   "source": [
    "l"
   ]
  },
  {
   "cell_type": "code",
   "execution_count": null,
   "id": "91c230b4-3933-4401-ae55-cdd991c05440",
   "metadata": {},
   "outputs": [],
   "source": [
    "## create a function which will take list as a input and give me a final list with all the numeric value"
   ]
  },
  {
   "cell_type": "code",
   "execution_count": 63,
   "id": "4a03df51-176d-407e-b823-310f9a827215",
   "metadata": {},
   "outputs": [],
   "source": [
    "l = [1,2,3,4,5,6,[12,3,4,5,7],\"test\",\"checkng\"]\n",
    "def test6(A):\n",
    "    n = []\n",
    "    for i in l :\n",
    "        if type(i) == int or type(i) == float :\n",
    "            n.append(i)\n",
    "    return n\n",
    "    "
   ]
  },
  {
   "cell_type": "code",
   "execution_count": 64,
   "id": "bcdbb95e-67af-4f85-bb07-b1735bbcb85b",
   "metadata": {},
   "outputs": [
    {
     "data": {
      "text/plain": [
       "[1, 2, 3, 4, 5, 6]"
      ]
     },
     "execution_count": 64,
     "metadata": {},
     "output_type": "execute_result"
    }
   ],
   "source": [
    "test6(l)"
   ]
  },
  {
   "cell_type": "code",
   "execution_count": 68,
   "id": "13a450cb-9c6e-4350-9fa2-4cc7c2c742a3",
   "metadata": {},
   "outputs": [
    {
     "data": {
      "text/plain": [
       "[1, 2, 3, 4, 5, 6]"
      ]
     },
     "execution_count": 68,
     "metadata": {},
     "output_type": "execute_result"
    }
   ],
   "source": [
    "\n",
    "    test6(l)"
   ]
  },
  {
   "cell_type": "code",
   "execution_count": 69,
   "id": "10e3049a-c668-442b-8bc2-5d30097d8a74",
   "metadata": {},
   "outputs": [
    {
     "data": {
      "text/plain": [
       "[1, 2, 3, 4, 5, 6, [12, 3, 4, 5, 7], 'test', 'checkng']"
      ]
     },
     "execution_count": 69,
     "metadata": {},
     "output_type": "execute_result"
    }
   ],
   "source": [
    "l"
   ]
  },
  {
   "cell_type": "code",
   "execution_count": 70,
   "id": "aa1c561e-b2af-4a2c-a507-d3dd258eab74",
   "metadata": {},
   "outputs": [],
   "source": [
    "def test7(a):\n",
    "    n = []\n",
    "    for i in a :\n",
    "        if type(i) == list:\n",
    "            for j in i:\n",
    "                if type(j) == int or type(j)==float:\n",
    "                    n.append(j)\n",
    "        else:\n",
    "            if type(i) == int or type(i) == float:\n",
    "                n.append(i)\n",
    "    return n"
   ]
  },
  {
   "cell_type": "code",
   "execution_count": 72,
   "id": "97599bd9-bb82-4ba2-b425-e2dbd4495fec",
   "metadata": {},
   "outputs": [
    {
     "data": {
      "text/plain": [
       "[1, 2, 3, 4, 5, 6, 12, 3, 4, 5, 7]"
      ]
     },
     "execution_count": 72,
     "metadata": {},
     "output_type": "execute_result"
    }
   ],
   "source": [
    "test7(l)"
   ]
  },
  {
   "cell_type": "code",
   "execution_count": null,
   "id": "cc240f11-75a5-4a0d-8b76-a331885dc7d9",
   "metadata": {},
   "outputs": [],
   "source": [
    "\n",
    "\n",
    "## function -2"
   ]
  },
  {
   "cell_type": "code",
   "execution_count": 73,
   "id": "f5f12606-f2dc-42ef-9a1c-c6fc2018c563",
   "metadata": {},
   "outputs": [],
   "source": [
    "def test(a,b,d,e):\n",
    "    pass"
   ]
  },
  {
   "cell_type": "code",
   "execution_count": 74,
   "id": "d8a94db6-a609-464c-8e5c-87e24937e971",
   "metadata": {},
   "outputs": [
    {
     "ename": "TypeError",
     "evalue": "test() takes 4 positional arguments but 8 were given",
     "output_type": "error",
     "traceback": [
      "\u001b[0;31m---------------------------------------------------------------------------\u001b[0m",
      "\u001b[0;31mTypeError\u001b[0m                                 Traceback (most recent call last)",
      "Cell \u001b[0;32mIn[74], line 1\u001b[0m\n\u001b[0;32m----> 1\u001b[0m \u001b[43mtest\u001b[49m\u001b[43m(\u001b[49m\u001b[38;5;241;43m1\u001b[39;49m\u001b[43m,\u001b[49m\u001b[38;5;241;43m2\u001b[39;49m\u001b[43m,\u001b[49m\u001b[38;5;241;43m3\u001b[39;49m\u001b[43m,\u001b[49m\u001b[38;5;241;43m4\u001b[39;49m\u001b[43m,\u001b[49m\u001b[38;5;241;43m5\u001b[39;49m\u001b[43m,\u001b[49m\u001b[38;5;241;43m6\u001b[39;49m\u001b[43m,\u001b[49m\u001b[38;5;241;43m7\u001b[39;49m\u001b[43m,\u001b[49m\u001b[38;5;241;43m8\u001b[39;49m\u001b[43m)\u001b[49m\n",
      "\u001b[0;31mTypeError\u001b[0m: test() takes 4 positional arguments but 8 were given"
     ]
    }
   ],
   "source": [
    "test(1,2,3,4,5,6,7,8)"
   ]
  },
  {
   "cell_type": "code",
   "execution_count": null,
   "id": "37d847f2-8bc6-4437-b08e-0c881b15c3ae",
   "metadata": {},
   "outputs": [],
   "source": []
  },
  {
   "cell_type": "code",
   "execution_count": 75,
   "id": "2fe539a0-ecc0-492d-8d72-16e374015185",
   "metadata": {},
   "outputs": [],
   "source": [
    "## * will give n number of data \n",
    "\n",
    "def test1(*args):\n",
    "    return args"
   ]
  },
  {
   "cell_type": "code",
   "execution_count": 76,
   "id": "6da86ac7-bf1e-43ef-9710-c77e697c1b95",
   "metadata": {},
   "outputs": [
    {
     "data": {
      "text/plain": [
       "(2,)"
      ]
     },
     "execution_count": 76,
     "metadata": {},
     "output_type": "execute_result"
    }
   ],
   "source": [
    "test1(2)"
   ]
  },
  {
   "cell_type": "code",
   "execution_count": 77,
   "id": "3b8853b0-5226-488f-ade4-e0e7aff072a8",
   "metadata": {},
   "outputs": [
    {
     "data": {
      "text/plain": [
       "(1, 2, 3, 4, 5, 6, 7)"
      ]
     },
     "execution_count": 77,
     "metadata": {},
     "output_type": "execute_result"
    }
   ],
   "source": [
    "test1(1,2,3,4,5,6,7)"
   ]
  },
  {
   "cell_type": "code",
   "execution_count": 78,
   "id": "92f81cd6-e2f5-4fc0-affb-6890264408d6",
   "metadata": {},
   "outputs": [
    {
     "data": {
      "text/plain": [
       "('sudha', [1, 2, 4, 5, 6], (3, 4, 5, 7, 8))"
      ]
     },
     "execution_count": 78,
     "metadata": {},
     "output_type": "execute_result"
    }
   ],
   "source": [
    "test1(\"sudha\", [1,2,4,5,6],(3,4,5,7,8))"
   ]
  },
  {
   "cell_type": "code",
   "execution_count": 83,
   "id": "b201f347-4948-42cd-9893-5d036eb08c83",
   "metadata": {},
   "outputs": [],
   "source": [
    "def test2(*sudha):\n",
    "    return sudha"
   ]
  },
  {
   "cell_type": "code",
   "execution_count": 84,
   "id": "cf336f31-0706-4b18-87ea-bec8cdfff862",
   "metadata": {},
   "outputs": [
    {
     "data": {
      "text/plain": [
       "(3, 4, 5, 6)"
      ]
     },
     "execution_count": 84,
     "metadata": {},
     "output_type": "execute_result"
    }
   ],
   "source": [
    "test2(3,4,5,6)"
   ]
  },
  {
   "cell_type": "code",
   "execution_count": 85,
   "id": "59abf6f9-24a5-4e73-ab23-988628242200",
   "metadata": {},
   "outputs": [],
   "source": [
    "def test2(*args, a):\n",
    "    return args, a"
   ]
  },
  {
   "cell_type": "code",
   "execution_count": 86,
   "id": "2b82e931-1a93-40a9-a823-8ed97b065515",
   "metadata": {},
   "outputs": [
    {
     "ename": "TypeError",
     "evalue": "test2() missing 1 required keyword-only argument: 'a'",
     "output_type": "error",
     "traceback": [
      "\u001b[0;31m---------------------------------------------------------------------------\u001b[0m",
      "\u001b[0;31mTypeError\u001b[0m                                 Traceback (most recent call last)",
      "Cell \u001b[0;32mIn[86], line 1\u001b[0m\n\u001b[0;32m----> 1\u001b[0m \u001b[43mtest2\u001b[49m\u001b[43m(\u001b[49m\u001b[38;5;241;43m1\u001b[39;49m\u001b[43m,\u001b[49m\u001b[38;5;241;43m2\u001b[39;49m\u001b[43m,\u001b[49m\u001b[38;5;241;43m3\u001b[39;49m\u001b[43m,\u001b[49m\u001b[38;5;241;43m4\u001b[39;49m\u001b[43m)\u001b[49m\n",
      "\u001b[0;31mTypeError\u001b[0m: test2() missing 1 required keyword-only argument: 'a'"
     ]
    }
   ],
   "source": [
    "test2(1,2,3,4) ## a also need to define"
   ]
  },
  {
   "cell_type": "code",
   "execution_count": 87,
   "id": "eb1122be-ff80-43e6-b42d-95af4f6fc697",
   "metadata": {},
   "outputs": [
    {
     "data": {
      "text/plain": [
       "((1, 2, 3, 4), 5)"
      ]
     },
     "execution_count": 87,
     "metadata": {},
     "output_type": "execute_result"
    }
   ],
   "source": [
    "test2(1,2,3,4, a=5 )"
   ]
  },
  {
   "cell_type": "code",
   "execution_count": 1,
   "id": "2110d4d8-03ab-4bc5-8588-0316b1953cbe",
   "metadata": {},
   "outputs": [],
   "source": [
    "def test4(*args):\n",
    "    l=[]\n",
    "    for i in args:\n",
    "        if type(i) == list:\n",
    "            l.append(i)\n",
    "    return l\n",
    "        \n",
    "    ## here the logic is simple . you are getting list from the function"
   ]
  },
  {
   "cell_type": "code",
   "execution_count": 5,
   "id": "1dc27c34-5b88-4738-8484-e1b536e85da0",
   "metadata": {},
   "outputs": [
    {
     "data": {
      "text/plain": [
       "[[6, 57, 7, 1, 3], [6, 57, 7], [1, 24, 6, 57, 7]]"
      ]
     },
     "execution_count": 5,
     "metadata": {},
     "output_type": "execute_result"
    }
   ],
   "source": [
    "test4(1,(2,4),5,6, [6,57,7,1,3],[6,57,7],[1,24,6,57,7],\"ajit\",\"sudha\")"
   ]
  },
  {
   "cell_type": "code",
   "execution_count": null,
   "id": "ceb9771c-9508-47d5-ad9f-2a404b4e7fc3",
   "metadata": {},
   "outputs": [],
   "source": [
    "## n number of key and value pair"
   ]
  },
  {
   "cell_type": "code",
   "execution_count": 4,
   "id": "6461b0a5-6ac5-4ba3-83d6-a70756394b0d",
   "metadata": {},
   "outputs": [],
   "source": [
    "def test5(**kwargs):\n",
    "    return kwargs"
   ]
  },
  {
   "cell_type": "code",
   "execution_count": 5,
   "id": "5c7b7fff-db7a-4396-adc2-6845066dee48",
   "metadata": {},
   "outputs": [
    {
     "data": {
      "text/plain": [
       "{}"
      ]
     },
     "execution_count": 5,
     "metadata": {},
     "output_type": "execute_result"
    }
   ],
   "source": [
    "test5()"
   ]
  },
  {
   "cell_type": "code",
   "execution_count": 6,
   "id": "2d875383-f3a2-407d-a041-35f18c3cfa02",
   "metadata": {},
   "outputs": [
    {
     "data": {
      "text/plain": [
       "dict"
      ]
     },
     "execution_count": 6,
     "metadata": {},
     "output_type": "execute_result"
    }
   ],
   "source": [
    "type(test5())"
   ]
  },
  {
   "cell_type": "code",
   "execution_count": 7,
   "id": "b2c05353-8d48-4a72-9e90-25aaea23c7dc",
   "metadata": {},
   "outputs": [
    {
     "data": {
      "text/plain": [
       "{'a': 34, 'b': 23, 'c': 35, 'd': ('sudha', 'ajit'), 'e': [1, 2, 4, 6]}"
      ]
     },
     "execution_count": 7,
     "metadata": {},
     "output_type": "execute_result"
    }
   ],
   "source": [
    "test5( a = 34, b = 23, c=35 , d = (\"sudha\",\"ajit\"), e =[1,2,4,6])"
   ]
  },
  {
   "cell_type": "code",
   "execution_count": 16,
   "id": "f613b5d5-d1c6-44d5-87eb-6637d3b905bf",
   "metadata": {},
   "outputs": [],
   "source": [
    "def test6(**kwargs):\n",
    "    for i in kwargs.keys():\n",
    "        if type(kwargs[i]) == list:\n",
    "            return i, kwargs[i]"
   ]
  },
  {
   "cell_type": "code",
   "execution_count": 17,
   "id": "7b72a469-4485-42ad-ba2a-0dd4c33e8972",
   "metadata": {},
   "outputs": [
    {
     "data": {
      "text/plain": [
       "('e', [1, 2, 4, 6])"
      ]
     },
     "execution_count": 17,
     "metadata": {},
     "output_type": "execute_result"
    }
   ],
   "source": [
    "test6( a = 34, b = 23, c=35 , d = (\"sudha\",\"ajit\"), e =[1,2,4,6])"
   ]
  },
  {
   "cell_type": "markdown",
   "id": "cfafcd57-0024-4165-9c7a-300333853476",
   "metadata": {},
   "source": [
    "###### "
   ]
  },
  {
   "cell_type": "code",
   "execution_count": 18,
   "id": "4074e3c9-3aea-449d-9e54-686ff2ad864c",
   "metadata": {},
   "outputs": [],
   "source": [
    "## **kwargs > return values in key value pair\n",
    "\n",
    "def test10(*args, **kwargs): #*args in tuples , **kwargs # key and value pair\n",
    "    return args, kwargs"
   ]
  },
  {
   "cell_type": "code",
   "execution_count": 19,
   "id": "963bf200-6e2a-4b13-892e-f9b0dd74f997",
   "metadata": {},
   "outputs": [
    {
     "data": {
      "text/plain": [
       "((1, 2, 3, 4, 5, 6), {'a': 5, 'b': 53})"
      ]
     },
     "execution_count": 19,
     "metadata": {},
     "output_type": "execute_result"
    }
   ],
   "source": [
    "test10(1,2,3,4,5,6, a=5,b=53)"
   ]
  },
  {
   "cell_type": "code",
   "execution_count": null,
   "id": "f0a46245-7331-4150-91b1-a3d7f71326e7",
   "metadata": {},
   "outputs": [],
   "source": []
  },
  {
   "cell_type": "markdown",
   "id": "9730167d-78da-42f4-853d-67679bd0760f",
   "metadata": {},
   "source": [
    "## generator function"
   ]
  },
  {
   "cell_type": "code",
   "execution_count": 20,
   "id": "81d0d224-d931-4e30-9462-b8e63249e7c4",
   "metadata": {},
   "outputs": [
    {
     "data": {
      "text/plain": [
       "range(1, 10)"
      ]
     },
     "execution_count": 20,
     "metadata": {},
     "output_type": "execute_result"
    }
   ],
   "source": [
    "range(1,10)"
   ]
  },
  {
   "cell_type": "code",
   "execution_count": 24,
   "id": "c023d3bb-eadb-4ef6-a211-0acad765e868",
   "metadata": {},
   "outputs": [
    {
     "name": "stdout",
     "output_type": "stream",
     "text": [
      "1\n",
      "2\n",
      "3\n",
      "4\n",
      "5\n",
      "6\n",
      "7\n",
      "8\n",
      "9\n"
     ]
    }
   ],
   "source": [
    "for i in range(1,10):\n",
    "    print(i)"
   ]
  },
  {
   "cell_type": "code",
   "execution_count": 31,
   "id": "eb875fff-3cbd-435e-909d-fb13326bc011",
   "metadata": {},
   "outputs": [],
   "source": [
    "## unless you call though for loop, it will not return"
   ]
  },
  {
   "cell_type": "code",
   "execution_count": 29,
   "id": "b85290f7-9644-4d89-b782-dd9581a4c62f",
   "metadata": {},
   "outputs": [],
   "source": [
    "l = [1,2,4,5,\"avc\",\"tpc\"]"
   ]
  },
  {
   "cell_type": "code",
   "execution_count": 30,
   "id": "a7da8db7-a475-4aa3-8525-4c98f9b8a4b0",
   "metadata": {},
   "outputs": [
    {
     "data": {
      "text/plain": [
       "[1, 2, 4, 5, 'avc', 'tpc']"
      ]
     },
     "execution_count": 30,
     "metadata": {},
     "output_type": "execute_result"
    }
   ],
   "source": [
    "l"
   ]
  },
  {
   "cell_type": "code",
   "execution_count": 32,
   "id": "3a5e2e5e-d8e6-404a-82e6-0e3416748dce",
   "metadata": {},
   "outputs": [],
   "source": [
    "def test1(a):\n",
    "    n=[]\n",
    "    for i in a :\n",
    "        if type(i) == int:\n",
    "            n.append(i)\n",
    "    return n"
   ]
  },
  {
   "cell_type": "code",
   "execution_count": 33,
   "id": "46197266-f3a3-430f-9de2-dc86250d9f0e",
   "metadata": {},
   "outputs": [
    {
     "data": {
      "text/plain": [
       "[1, 2, 4, 5]"
      ]
     },
     "execution_count": 33,
     "metadata": {},
     "output_type": "execute_result"
    }
   ],
   "source": [
    "test1(l)"
   ]
  },
  {
   "cell_type": "code",
   "execution_count": 1,
   "id": "a16f9bfe-a516-461b-b4bd-661fd46fa2fa",
   "metadata": {},
   "outputs": [
    {
     "name": "stdout",
     "output_type": "stream",
     "text": [
      "1\n",
      "2\n",
      "3\n",
      "4\n",
      "5\n",
      "6\n",
      "7\n",
      "8\n",
      "9\n"
     ]
    }
   ],
   "source": [
    "for i in range(1,10):\n",
    "    print(i)"
   ]
  },
  {
   "cell_type": "code",
   "execution_count": 2,
   "id": "be027ce7-d17d-40ec-9a51-2aa53349846f",
   "metadata": {},
   "outputs": [],
   "source": [
    "def feb_test(n):\n",
    "    a,b=0,1\n",
    "    for i in range(n):\n",
    "        yield a\n",
    "        a,b =b, a+b\n",
    "        "
   ]
  },
  {
   "cell_type": "code",
   "execution_count": 3,
   "id": "83b3021a-7d2f-4b99-90de-85938fbc9d25",
   "metadata": {},
   "outputs": [
    {
     "name": "stdout",
     "output_type": "stream",
     "text": [
      "0\n",
      "1\n",
      "1\n",
      "2\n",
      "3\n",
      "5\n",
      "8\n",
      "13\n",
      "21\n",
      "34\n"
     ]
    }
   ],
   "source": [
    "feb_test(10)\n",
    "for i in feb_test(10):\n",
    "    print(i)"
   ]
  },
  {
   "cell_type": "code",
   "execution_count": null,
   "id": "e7dab358-9f27-4dcf-a4c4-1d3bfe2e6ece",
   "metadata": {},
   "outputs": [],
   "source": [
    "\n",
    "\n",
    "### to perform activity quickly and get result ; very effective rather range() : fibonacci serice"
   ]
  }
 ],
 "metadata": {
  "kernelspec": {
   "display_name": "Python 3 (ipykernel)",
   "language": "python",
   "name": "python3"
  },
  "language_info": {
   "codemirror_mode": {
    "name": "ipython",
    "version": 3
   },
   "file_extension": ".py",
   "mimetype": "text/x-python",
   "name": "python",
   "nbconvert_exporter": "python",
   "pygments_lexer": "ipython3",
   "version": "3.10.8"
  }
 },
 "nbformat": 4,
 "nbformat_minor": 5
}
